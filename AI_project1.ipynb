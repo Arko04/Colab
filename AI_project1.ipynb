{
  "nbformat": 4,
  "nbformat_minor": 0,
  "metadata": {
    "colab": {
      "provenance": [],
      "gpuType": "T4",
      "toc_visible": true,
      "include_colab_link": true
    },
    "kernelspec": {
      "name": "python3",
      "display_name": "Python 3"
    },
    "language_info": {
      "name": "python"
    },
    "accelerator": "GPU"
  },
  "cells": [
    {
      "cell_type": "markdown",
      "metadata": {
        "id": "view-in-github",
        "colab_type": "text"
      },
      "source": [
        "<a href=\"https://colab.research.google.com/github/Arko04/Colab/blob/main/AI_project1.ipynb\" target=\"_parent\"><img src=\"https://colab.research.google.com/assets/colab-badge.svg\" alt=\"Open In Colab\"/></a>"
      ]
    },
    {
      "cell_type": "markdown",
      "source": [
        "<div style=\"display:block;width:100%;margin:auto;\" direction=rtl align=center><br><br>\n",
        "    <div  style=\"width:100%;margin:100;display:block;background-color:#fff0;\"  display=block align=center>\n",
        "        <table style=\"border-style:hidden;border-collapse:collapse;\">\n",
        "            <tr>\n",
        "                <td  style=\"border: none!important;\">\n",
        "        <img width=230 align=right src=\"https://i.ibb.co/yXKQmtZ/logo1.png\" style=\"margin:0;\" />\n",
        "                </td>\n",
        "                <td style=\"text-align:center;border: none!important;\">\n",
        "                <h1 align=center><font size=5 color=\"#045F5F\"> <b>Project 1</b><br><br>Alireza Karimi</i></font></h1>\n",
        "                </td>\n",
        "                <td style=\"border: none!important;\">\n",
        "        <img width=300 align=left  src=\"https://i.ibb.co/wLjqFkw/logo2.png\" style=\"margin:0;\" />\n",
        "                </td>\n",
        "            </tr>\n",
        "        </table>\n",
        "\n"
      ],
      "metadata": {
        "id": "j91ntS4__yar"
      }
    },
    {
      "cell_type": "markdown",
      "source": [
        "### Mount my google drive"
      ],
      "metadata": {
        "id": "AaH-IbVyAqFf"
      }
    },
    {
      "cell_type": "code",
      "source": [
        "from google.colab import drive\n",
        "drive.mount('/content/grive')"
      ],
      "metadata": {
        "colab": {
          "base_uri": "https://localhost:8080/"
        },
        "id": "_vQ8Nl-fA1Vw",
        "outputId": "c5442d2a-b067-4e1a-aeb9-d2cbfed315bc"
      },
      "execution_count": 36,
      "outputs": [
        {
          "output_type": "stream",
          "name": "stdout",
          "text": [
            "Drive already mounted at /content/grive; to attempt to forcibly remount, call drive.mount(\"/content/grive\", force_remount=True).\n"
          ]
        }
      ]
    },
    {
      "cell_type": "markdown",
      "source": [
        "###   Import \"Image\" class to display image"
      ],
      "metadata": {
        "id": "mdpPdzpH4uX0"
      }
    },
    {
      "cell_type": "code",
      "source": [
        "from IPython.display import Image"
      ],
      "metadata": {
        "id": "iWtXMVwOkiXG"
      },
      "execution_count": 37,
      "outputs": []
    },
    {
      "cell_type": "markdown",
      "source": [
        "### Import necessary libraries to work with models (use tensorflow)"
      ],
      "metadata": {
        "id": "i4vip19Z-uPI"
      }
    },
    {
      "cell_type": "code",
      "source": [
        "import tensorflow as tf\n",
        "from tensorflow import keras"
      ],
      "metadata": {
        "id": "En2JxV2D-2PD"
      },
      "execution_count": 38,
      "outputs": []
    },
    {
      "cell_type": "markdown",
      "source": [
        "# <b><font color='green'>Part 1:</font></b>"
      ],
      "metadata": {
        "id": "DGFXL0UYAD4H"
      }
    },
    {
      "cell_type": "markdown",
      "source": [
        "## **1_1: VGG16 & ResNet50 Explanation**"
      ],
      "metadata": {
        "id": "gthz5Di_0AXq"
      }
    },
    {
      "cell_type": "markdown",
      "source": [
        "### **1_1_1: VGG16**"
      ],
      "metadata": {
        "id": "lZyK3Dzp0PRS"
      }
    },
    {
      "cell_type": "markdown",
      "source": [
        "#### **1_1_1_1 : Brief Explaination**"
      ],
      "metadata": {
        "id": "FY0k0gIc20MD"
      }
    },
    {
      "cell_type": "markdown",
      "source": [
        "A convolutional neural network (CNN) architecture that is widely used for image classification tasks."
      ],
      "metadata": {
        "id": "xupGgZrp27TD"
      }
    },
    {
      "cell_type": "markdown",
      "source": [
        "#### **1_1_1_2: Introduced by**"
      ],
      "metadata": {
        "id": "zpqJOr8L3B-N"
      }
    },
    {
      "cell_type": "markdown",
      "source": [
        "Visual Geometry Group at the University of Oxford"
      ],
      "metadata": {
        "id": "ZgeZHGLk3lkE"
      }
    },
    {
      "cell_type": "markdown",
      "source": [
        "#### **1_1_1_3: Paper**"
      ],
      "metadata": {
        "id": "62olzB2h3Tbb"
      }
    },
    {
      "cell_type": "markdown",
      "source": [
        "[\"Very Deep Convolutional Networks for Large-Scale Image Recognition\"](https://arxiv.org/abs/1409.1556)"
      ],
      "metadata": {
        "id": "01VT4CqM3SCj"
      }
    },
    {
      "cell_type": "markdown",
      "source": [
        "#### **1_1_1_4: Event**"
      ],
      "metadata": {
        "id": "KU_ZJ91W3ou_"
      }
    },
    {
      "cell_type": "markdown",
      "source": [
        "ImageNet Large Scale Visual Recognition Challenge (ILSVRC) in 2014."
      ],
      "metadata": {
        "id": "J0LsSSRv3sGN"
      }
    },
    {
      "cell_type": "markdown",
      "source": [
        "#### **1_1_1_5: Dataset**"
      ],
      "metadata": {
        "id": "tFbiydVZ7XXM"
      }
    },
    {
      "cell_type": "markdown",
      "source": [
        "The original VGG16 model was trained on the **ImageNet** dataset.\n",
        "\n",
        "##### **About ImageNet:**\n",
        "\n",
        "ImageNet is a large-scale dataset that contains\n",
        "\n",
        "* over 14 million labeled images\n",
        "\n",
        "* across more than 20,000 categories.\n",
        "\n",
        "For the ImageNet Large Scale Visual Recognition Challenge (ILSVRC), a subset of the dataset is used, which includes\n",
        "\n",
        "* 1.2 million images for training,\n",
        "\n",
        "* 50,000 for validation,\n",
        "\n",
        "* 100,000 for testing,\n",
        "\n",
        "* across 1,000 classes (categories)."
      ],
      "metadata": {
        "id": "wwu9OZ-c7clB"
      }
    },
    {
      "cell_type": "markdown",
      "source": [
        "#### **1_1_1_6: Architecture**"
      ],
      "metadata": {
        "id": "6pwgTiTi35rU"
      }
    },
    {
      "cell_type": "markdown",
      "source": [
        "It consists of 16 layers, including 13 convolutional layers and 3 fully connected layers.\n",
        "\n",
        "Each convolutional layer is followed by a ReLU activation function,\n",
        "\n",
        "and some convolutional layers are followed by max-pooling layers."
      ],
      "metadata": {
        "id": "jb9Iwqfx4HfU"
      }
    },
    {
      "cell_type": "markdown",
      "source": [
        "1. **Input Layer**:\n",
        "    - **Dimensions**: The input layer expects images with a size of **224x224 pixels** and **3 color channels (RGB).**\n",
        "\n",
        "2. **First Convolutional Block (64 filters)**:\n",
        "    * **Layers**: Two convolutional layers, each with **64 filters** and a filter size of **3x3**.\n",
        "    * **Padding**: Same padding is applied to preserve the spatial dimensions of the image.\n",
        "    * **Activation**: **ReLU** activation function is applied after each convolution.\n",
        "\n",
        "3. **First Max Pooling Layer**:\n",
        "    * **Pooling**: Max-pooling layer with a pool size of **2x2** and a stride of **2** to reduce the spatial dimensions.\n",
        "\n",
        "4. **Second Convolutional Block (128 filters)**:\n",
        "    * **Layers**: Two consecutive convolutional layers, each with **128 filters** and a filter size of **3x3**.\n",
        "    * **Padding**: Same padding to maintain spatial dimensions.\n",
        "    * **Activation**: **ReLU** activation function after each convolution.\n",
        "\n",
        "5. **Second Max Pooling Layer**:\n",
        "    * **Pooling**: Max-pooling layer with a pool size of **2x2** and a stride of **2** for spatial reduction.\n",
        "\n",
        "6. **Third Convolutional Block (256 filters)**:\n",
        "    * **Layers**: Three consecutive convolutional layers, each with **256 filters** and a filter size of **3x3**.\n",
        "    * **Padding**: Same padding to retain spatial dimensions.\n",
        "    * **Activation**: **ReLU** activation function follows each convolution.\n",
        "\n",
        "7. **Third Max Pooling Layer**:\n",
        "    * **Pooling**: Max-pooling layer with a pool size of **2x2** and a stride of **2**.\n",
        "\n",
        "8. **Fourth Convolutional Block (512 filters)**:\n",
        "    * **Layers**: Three consecutive convolutional layers, each with **512 filters** and a filter size of **3x3**.\n",
        "    * **Padding**: Same padding for consistent dimensions.\n",
        "    * **Activation**: **ReLU** activation function follows each convolution.\n",
        "\n",
        "9. **Fourth Max Pooling Layer**:\n",
        "    * **Pooling**: Max-pooling layer with a pool size of **2x2** and a stride of **2**.\n",
        "\n",
        "10. **Fifth Convolutional Block (512 filters)**:\n",
        "    * **Layers**: Three consecutive convolutional layers, each with **512 filters** and a filter size of **3x3**.\n",
        "    * **Padding**: Same padding for consistent dimensions.\n",
        "    * **Activation**: **ReLU** activation function follows each convolution.\n",
        "\n",
        "11. **Fifth Max Pooling Layer**:\n",
        "    * **Pooling**: Max-pooling layer with a pool size of **2x2** and a stride of **2**.\n",
        "\n",
        "12. **Flattening**:\n",
        "    * **Process**: The output feature map (**7x7x512**) is flattened into a single vector of length **25,088**.\n",
        "\n",
        "13. **Fully Connected Layers**:\n",
        "    * **First Layer**: Fully connected layer with **4,096 units** and **ReLU** activation.\n",
        "    * **Second Layer**: Another fully connected layer with **4,096 units** and **ReLU** activation.\n",
        "    * **Third Layer**: Fully connected layer with **1,000 units** (representing the **1,000 classes** in the ImageNet dataset) and **softmax** activation for classification.\n"
      ],
      "metadata": {
        "id": "qq1Cr63eBQn6"
      }
    },
    {
      "cell_type": "markdown",
      "source": [
        "#### **1_1_1_7: Implementation from scratch**"
      ],
      "metadata": {
        "id": "WGerFoJoLoli"
      }
    },
    {
      "cell_type": "code",
      "source": [
        "# import necessary layers\n",
        "from tensorflow.keras.layers import Input, Conv2D\n",
        "from tensorflow.keras.layers import MaxPool2D, Flatten, Dense\n",
        "from tensorflow.keras import Model\n",
        "\n",
        "# input\n",
        "\n",
        "input = Input(shape =(224,224,3))\n",
        "\n",
        "# 1st Conv Block\n",
        "\n",
        "x = Conv2D (filters =64, kernel_size =3, padding ='same', activation='relu')(input)\n",
        "x = Conv2D (filters =64, kernel_size =3, padding ='same', activation='relu')(x)\n",
        "x = MaxPool2D(pool_size =2, strides =2, padding ='same')(x)\n",
        "\n",
        "# 2nd Conv Block\n",
        "\n",
        "x = Conv2D (filters =128, kernel_size =3, padding ='same', activation='relu')(x)\n",
        "x = Conv2D (filters =128, kernel_size =3, padding ='same', activation='relu')(x)\n",
        "x = MaxPool2D(pool_size =2, strides =2, padding ='same')(x)\n",
        "\n",
        "# 3rd Conv block\n",
        "\n",
        "x = Conv2D (filters =256, kernel_size =3, padding ='same', activation='relu')(x)\n",
        "x = Conv2D (filters =256, kernel_size =3, padding ='same', activation='relu')(x)\n",
        "x = Conv2D (filters =256, kernel_size =3, padding ='same', activation='relu')(x)\n",
        "x = MaxPool2D(pool_size =2, strides =2, padding ='same')(x)\n",
        "\n",
        "# 4th Conv block\n",
        "\n",
        "x = Conv2D (filters =512, kernel_size =3, padding ='same', activation='relu')(x)\n",
        "x = Conv2D (filters =512, kernel_size =3, padding ='same', activation='relu')(x)\n",
        "x = Conv2D (filters =512, kernel_size =3, padding ='same', activation='relu')(x)\n",
        "x = MaxPool2D(pool_size =2, strides =2, padding ='same')(x)\n",
        "\n",
        "# 5th Conv block\n",
        "\n",
        "x = Conv2D (filters =512, kernel_size =3, padding ='same', activation='relu')(x)\n",
        "x = Conv2D (filters =512, kernel_size =3, padding ='same', activation='relu')(x)\n",
        "x = Conv2D (filters =512, kernel_size =3, padding ='same', activation='relu')(x)\n",
        "x = MaxPool2D(pool_size =2, strides =2, padding ='same')(x)\n",
        "\n",
        "# Fully connected layers\n",
        "\n",
        "x = Flatten()(x)\n",
        "x = Dense(units = 4096, activation ='relu')(x)\n",
        "x = Dense(units = 4096, activation ='relu')(x)\n",
        "output = Dense(units = 1000, activation ='softmax')(x)\n",
        "\n",
        "# creating the model\n",
        "\n",
        "model_ = Model (inputs=input, outputs =output)\n",
        "model_.summary()"
      ],
      "metadata": {
        "colab": {
          "base_uri": "https://localhost:8080/"
        },
        "id": "gxouru7cHq3e",
        "outputId": "79d2b47f-b89a-439f-c1ef-6a18984bc2cd"
      },
      "execution_count": 39,
      "outputs": [
        {
          "output_type": "stream",
          "name": "stdout",
          "text": [
            "Model: \"model_1\"\n",
            "_________________________________________________________________\n",
            " Layer (type)                Output Shape              Param #   \n",
            "=================================================================\n",
            " input_4 (InputLayer)        [(None, 224, 224, 3)]     0         \n",
            "                                                                 \n",
            " conv2d_13 (Conv2D)          (None, 224, 224, 64)      1792      \n",
            "                                                                 \n",
            " conv2d_14 (Conv2D)          (None, 224, 224, 64)      36928     \n",
            "                                                                 \n",
            " max_pooling2d_5 (MaxPoolin  (None, 112, 112, 64)      0         \n",
            " g2D)                                                            \n",
            "                                                                 \n",
            " conv2d_15 (Conv2D)          (None, 112, 112, 128)     73856     \n",
            "                                                                 \n",
            " conv2d_16 (Conv2D)          (None, 112, 112, 128)     147584    \n",
            "                                                                 \n",
            " max_pooling2d_6 (MaxPoolin  (None, 56, 56, 128)       0         \n",
            " g2D)                                                            \n",
            "                                                                 \n",
            " conv2d_17 (Conv2D)          (None, 56, 56, 256)       295168    \n",
            "                                                                 \n",
            " conv2d_18 (Conv2D)          (None, 56, 56, 256)       590080    \n",
            "                                                                 \n",
            " conv2d_19 (Conv2D)          (None, 56, 56, 256)       590080    \n",
            "                                                                 \n",
            " max_pooling2d_7 (MaxPoolin  (None, 28, 28, 256)       0         \n",
            " g2D)                                                            \n",
            "                                                                 \n",
            " conv2d_20 (Conv2D)          (None, 28, 28, 512)       1180160   \n",
            "                                                                 \n",
            " conv2d_21 (Conv2D)          (None, 28, 28, 512)       2359808   \n",
            "                                                                 \n",
            " conv2d_22 (Conv2D)          (None, 28, 28, 512)       2359808   \n",
            "                                                                 \n",
            " max_pooling2d_8 (MaxPoolin  (None, 14, 14, 512)       0         \n",
            " g2D)                                                            \n",
            "                                                                 \n",
            " conv2d_23 (Conv2D)          (None, 14, 14, 512)       2359808   \n",
            "                                                                 \n",
            " conv2d_24 (Conv2D)          (None, 14, 14, 512)       2359808   \n",
            "                                                                 \n",
            " conv2d_25 (Conv2D)          (None, 14, 14, 512)       2359808   \n",
            "                                                                 \n",
            " max_pooling2d_9 (MaxPoolin  (None, 7, 7, 512)         0         \n",
            " g2D)                                                            \n",
            "                                                                 \n",
            " flatten_1 (Flatten)         (None, 25088)             0         \n",
            "                                                                 \n",
            " dense_3 (Dense)             (None, 4096)              102764544 \n",
            "                                                                 \n",
            " dense_4 (Dense)             (None, 4096)              16781312  \n",
            "                                                                 \n",
            " dense_5 (Dense)             (None, 1000)              4097000   \n",
            "                                                                 \n",
            "=================================================================\n",
            "Total params: 138357544 (527.79 MB)\n",
            "Trainable params: 138357544 (527.79 MB)\n",
            "Non-trainable params: 0 (0.00 Byte)\n",
            "_________________________________________________________________\n"
          ]
        }
      ]
    },
    {
      "cell_type": "code",
      "source": [
        "Image(filename='/content/grive/MyDrive/Slides/Project1/vgg16.png', width=800,height=500)"
      ],
      "metadata": {
        "colab": {
          "base_uri": "https://localhost:8080/",
          "height": 517
        },
        "id": "RzLQr44iNM9G",
        "outputId": "c06cf603-524a-4843-c81f-a3f8e01fc73c"
      },
      "execution_count": 40,
      "outputs": [
        {
          "output_type": "execute_result",
          "data": {
            "image/png": "[encoded data removed]",
            "text/plain": [
              "<IPython.core.display.Image object>"
            ]
          },
          "metadata": {
            "image/png": {
              "width": 800,
              "height": 500
            }
          },
          "execution_count": 40
        }
      ]
    },
    {
      "cell_type": "markdown",
      "source": [
        "#### **1_1_1_8: Instantiate in code using built-in class**"
      ],
      "metadata": {
        "id": "hLt6m1699-WK"
      }
    },
    {
      "cell_type": "markdown",
      "source": [
        "##### **Import necessary library and class**"
      ],
      "metadata": {
        "id": "X8gIaYub-Ww2"
      }
    },
    {
      "cell_type": "code",
      "source": [
        "from tensorflow.keras.applications.vgg16 import VGG16"
      ],
      "metadata": {
        "id": "ZeHZnKvY97hE"
      },
      "execution_count": 41,
      "outputs": []
    },
    {
      "cell_type": "markdown",
      "source": [
        "##### **Instantiate the VGG16 base model**"
      ],
      "metadata": {
        "id": "4tRpvpxb-cpY"
      }
    },
    {
      "cell_type": "code",
      "source": [
        "keras.applications.VGG16(\n",
        "    include_top=True,\n",
        "    weights=\"imagenet\",\n",
        "    input_tensor=None,\n",
        "    input_shape=None,\n",
        "    pooling=None,\n",
        "    classes=1000,\n",
        "    classifier_activation=\"softmax\",\n",
        ")"
      ],
      "metadata": {
        "colab": {
          "base_uri": "https://localhost:8080/"
        },
        "id": "EsNF31Ns-hvs",
        "outputId": "b57636c9-4654-4bca-b3a6-671af7b27f03"
      },
      "execution_count": 42,
      "outputs": [
        {
          "output_type": "execute_result",
          "data": {
            "text/plain": [
              "<keras.src.engine.functional.Functional at 0x7a0be9736950>"
            ]
          },
          "metadata": {},
          "execution_count": 42
        }
      ]
    },
    {
      "cell_type": "markdown",
      "source": [
        "##### **Important Arguments**\n",
        "\n",
        "**include_top:**\n",
        "\n",
        "> Whether to include the 3 fully-connected layers at the top of the network.\n",
        "\n",
        "\n",
        "**weights:**\n",
        "\n",
        "\n",
        "> One of None (random initialization), \"imagenet\" (pre-training on ImageNet), or the path to the weights file to be loaded.\n",
        "\n",
        "**input_shape:**\n",
        "\n",
        "> Optional shape tuple, only to be specified if include_top is False, otherwise the input shape has to be (224, 224, 3) (with channels_last data format) or (3, 224, 224) (with \"channels_first\" data format). It should have exactly 3 input channels, and width and height should be no smaller than 32. E.g. (200, 200, 3) would be one valid value.\n",
        "\n",
        "**classes:**\n",
        "\n",
        "\n",
        "\n",
        "> Optional number of classes to classify images into, only to be specified if include_top is True, and if no weights argument is specified.\n",
        "\n",
        "\n"
      ],
      "metadata": {
        "id": "JYilVqqH950y"
      }
    },
    {
      "cell_type": "markdown",
      "source": [
        "### **1_1_2: ResNet50**"
      ],
      "metadata": {
        "id": "WJ1RkPq5Wh08"
      }
    },
    {
      "cell_type": "markdown",
      "source": [
        "#### **1_1_2_0: Background**"
      ],
      "metadata": {
        "id": "AOyV3xKVYdTE"
      }
    },
    {
      "cell_type": "markdown",
      "source": [
        "**Challenges with Deep Convolutional Architectures**:\n",
        "\n",
        "1. **Loss of Information**:\n",
        "    - As networks become deeper, random initialization of weights and biases can introduce random noise in the layers, resulting in the loss of important signals and information as the data flows forward through the network.\n",
        "\n",
        "2. **Challenges with Backpropagation**:\n",
        "    - When performing backpropagation, the partial derivatives of the random noise are calculated. This can lead to less meaningful gradients and may impede the training process.\n",
        "\n",
        "3. **Vanishing Gradient Problem**:\n",
        "    - The use of the chain rule in deep networks can lead to the vanishing gradient problem, where the gradients become very small after being multiplied across many layers. This can slow down or stall the learning process.\n",
        "\n",
        "The use of **skip connections** in ResNet addresses these issues. By creating shortcuts that allow data to bypass certain layers, skip connections help preserve information and maintain meaningful gradients throughout the network. This innovation enhances the training of very deep networks and improves overall performance."
      ],
      "metadata": {
        "id": "AaHuW49vYjKQ"
      }
    },
    {
      "cell_type": "code",
      "source": [
        "Image(filename='/content/grive/MyDrive/Slides/Project1/skip-connections.png', width=300,height=500)"
      ],
      "metadata": {
        "colab": {
          "base_uri": "https://localhost:8080/",
          "height": 517
        },
        "id": "vZRdZYADbVMF",
        "outputId": "0859f2ef-a1cf-4de7-e839-df8443656288"
      },
      "execution_count": 43,
      "outputs": [
        {
          "output_type": "execute_result",
          "data": {
            "image/png": "[encoded data removed]",
            "text/plain": [
              "<IPython.core.display.Image object>"
            ]
          },
          "metadata": {
            "image/png": {
              "width": 300,
              "height": 500
            }
          },
          "execution_count": 43
        }
      ]
    },
    {
      "cell_type": "markdown",
      "source": [
        "#### **1_1_2_1: Brief Explaination**"
      ],
      "metadata": {
        "id": "VyGqBT8kWoPF"
      }
    },
    {
      "cell_type": "markdown",
      "source": [
        "ResNet50, short for Residual Network with 50 layers, is a popular deep convolutional neural network architecture, known for its use of residual connections or skip connections."
      ],
      "metadata": {
        "id": "5qQlEeQFWuSr"
      }
    },
    {
      "cell_type": "markdown",
      "source": [
        "#### **1_1_2_2: Introduced by**"
      ],
      "metadata": {
        "id": "uPmet79ZXcZ9"
      }
    },
    {
      "cell_type": "markdown",
      "source": [
        "Kaiming He, Xiangyu Zhang, Shaoqing Ren, and Jian Sun"
      ],
      "metadata": {
        "id": "FyNrFtYUXfGh"
      }
    },
    {
      "cell_type": "markdown",
      "source": [
        "#### **1_1_2_3: Paper**"
      ],
      "metadata": {
        "id": "Gq1ZaHh9XcZ9"
      }
    },
    {
      "cell_type": "markdown",
      "source": [
        "[\"Deep Residual Learning for Image Recognition\"](https://arxiv.org/abs/1512.03385)"
      ],
      "metadata": {
        "id": "4vO2-SJQXiSh"
      }
    },
    {
      "cell_type": "markdown",
      "source": [
        "#### **1_1_2_4: Dataset**"
      ],
      "metadata": {
        "id": "MOruzY_jXcZ-"
      }
    },
    {
      "cell_type": "markdown",
      "source": [
        "The original ResNet50 model was trained on the **ImageNet** dataset."
      ],
      "metadata": {
        "id": "VDor6DmRfvHb"
      }
    },
    {
      "cell_type": "markdown",
      "source": [
        "#### **1_1_2_5: Architecture**"
      ],
      "metadata": {
        "id": "mEBfYqc6XcZ9"
      }
    },
    {
      "cell_type": "markdown",
      "source": [
        "Architecture:\n",
        "\n",
        "* ResNet50 is composed of 50 layers, including convolutional layers, pooling layers, and fully connected layers.\n",
        "* It contains four stages of convolutional layers, with each stage consisting of several residual blocks.\n",
        "* The architecture uses **residual connections**, which add the input of a block directly to its output. This helps mitigate the problem of vanishing gradients and enables training much deeper networks."
      ],
      "metadata": {
        "id": "oFo2MiR4YDwV"
      }
    },
    {
      "cell_type": "markdown",
      "source": [
        "1. **Input Layer**:\n",
        "    - **Dimensions**: The input layer expects images with a size of **224x224 pixels** and **3 color channels (RGB)**.\n",
        "\n",
        "2. **Convolutional Blocks**:\n",
        "    - **First Convolutional Block**:\n",
        "        * **Layers**: The first convolutional block consists of several layers, including convolutional layers, batch normalization, and ReLU activation.\n",
        "        * **Convolutional Layers**: The block starts with a 7x7 convolutional layer with 64 filters and a stride of 2.\n",
        "        * **Max Pooling**: After the first convolutional layer, a max-pooling layer with a 3x3 kernel and a stride of 2 is applied to reduce the spatial dimensions.\n",
        "\n",
        "3. **Residual Blocks**:\n",
        "    - **Stage 1**:\n",
        "        - The first stage of ResNet50 contains three identity blocks.\n",
        "    - **Stage 2**:\n",
        "        - The second stage contains a bottleneck block followed by three identity blocks.\n",
        "    - **Stage 3**:\n",
        "        - The third stage contains a bottleneck block followed by five identity blocks.\n",
        "    - **Stage 4**:\n",
        "        - The fourth stage contains a bottleneck block followed by two identity blocks.\n",
        "\n",
        "4. **Global Average Pooling**:\n",
        "    - After the last convolutional stage, global average pooling is applied to reduce the spatial dimensions of the feature maps to a single vector.\n",
        "\n",
        "5. **Fully Connected Layer**:\n",
        "    - Following global average pooling, a fully connected layer with 1000 units is added, representing the output classes of the model (e.g., 1000 classes in the ImageNet dataset).\n",
        "    - The final layer typically employs softmax activation for classification.\n"
      ],
      "metadata": {
        "id": "5feJY_XQdbei"
      }
    },
    {
      "cell_type": "code",
      "source": [
        "Image(filename='/content/grive/MyDrive/Slides/Project1/ResNet50_architecture-1.png', width=500,height=3000)"
      ],
      "metadata": {
        "colab": {
          "base_uri": "https://localhost:8080/",
          "height": 1000
        },
        "id": "yJ0epZZNXiAs",
        "outputId": "ff733826-8ce5-4f06-a9a1-08ad82474362"
      },
      "execution_count": 44,
      "outputs": [
        {
          "output_type": "execute_result",
          "data": {
            "image/png": "[encoded data removed]",
            "text/plain": [
              "<IPython.core.display.Image object>"
            ]
          },
          "metadata": {
            "image/png": {
              "width": 500,
              "height": 3000
            }
          },
          "execution_count": 44
        }
      ]
    },
    {
      "cell_type": "markdown",
      "source": [
        "source: https://cv-tricks.com/keras/understand-implement-resnets/"
      ],
      "metadata": {
        "id": "YwZC0DKQZ_eC"
      }
    },
    {
      "cell_type": "markdown",
      "source": [
        "#### **1_1_2_6: Kinds of Skip Connections**"
      ],
      "metadata": {
        "id": "7oFrvpu7anFw"
      }
    },
    {
      "cell_type": "markdown",
      "source": [
        "##### **Identity Block:**\n",
        "when:\n",
        "$$ inputSize == outputSize $$\n",
        "\n",
        "##### **Concolutional(bottleneck) Block:**\n",
        "when:\n",
        "$$ inputSize != outputSize $$"
      ],
      "metadata": {
        "id": "qs97LTesax6O"
      }
    },
    {
      "cell_type": "code",
      "source": [
        "Image(filename='/content/grive/MyDrive/Slides/Project1/ResNet50-Identity-Block-and-Conv-Block.png', width=500,height=600)"
      ],
      "metadata": {
        "colab": {
          "base_uri": "https://localhost:8080/",
          "height": 617
        },
        "id": "cqrtePOqaC_C",
        "outputId": "c637527a-defe-410b-f095-d17adc5d07ba"
      },
      "execution_count": 45,
      "outputs": [
        {
          "output_type": "execute_result",
          "data": {
            "image/png": "[encoded data removed]",
            "text/plain": [
              "<IPython.core.display.Image object>"
            ]
          },
          "metadata": {
            "image/png": {
              "width": 500,
              "height": 600
            }
          },
          "execution_count": 45
        }
      ]
    },
    {
      "cell_type": "markdown",
      "source": [
        "source: https://www.researchgate.net/figure/ResNet50-Identity-Block-and-Conv-Block_fig2_363894256"
      ],
      "metadata": {
        "id": "eZiGDl_QZ5qd"
      }
    },
    {
      "cell_type": "markdown",
      "source": [
        "#### **1_1_2_7: Implementation from scratch**"
      ],
      "metadata": {
        "id": "6Im09Y1LXcZ-"
      }
    },
    {
      "cell_type": "markdown",
      "source": [
        "##### **Identity block**"
      ],
      "metadata": {
        "id": "V3MTuQbDnK2_"
      }
    },
    {
      "cell_type": "code",
      "source": [
        "def identity_block(X, f, filters, stage, block):\n",
        "\n",
        "    conv_name_base = 'res' + str(stage) + block + '_branch'\n",
        "    bn_name_base = 'bn' + str(stage) + block + '_branch'\n",
        "\n",
        "    F1, F2, F3 = filters\n",
        "\n",
        "    X_shortcut = X\n",
        "\n",
        "    X = Conv2D(filters = F1, kernel_size = (1, 1), strides = (1,1), padding = 'valid', name = conv_name_base + '2a')(X)\n",
        "    X = BatchNormalization(axis = 3, name = bn_name_base + '2a')(X)\n",
        "    X = Activation('relu')(X)\n",
        "\n",
        "    X = Conv2D(filters = F2, kernel_size = (f, f), strides = (1,1), padding = 'same', name = conv_name_base + '2b')(X)\n",
        "    X = BatchNormalization(axis = 3, name = bn_name_base + '2b')(X)\n",
        "    X = Activation('relu')(X)\n",
        "\n",
        "    X = Conv2D(filters = F3, kernel_size = (1, 1), strides = (1,1), padding = 'valid', name = conv_name_base + '2c')(X)\n",
        "    X = BatchNormalization(axis = 3, name = bn_name_base + '2c')(X)\n",
        "\n",
        "    X = Add()([X, X_shortcut])\n",
        "    X = Activation('relu')(X)\n",
        "\n",
        "    return X"
      ],
      "metadata": {
        "id": "8N7fwFTIsOU-"
      },
      "execution_count": 46,
      "outputs": []
    },
    {
      "cell_type": "markdown",
      "source": [
        "##### **Convolutional block**"
      ],
      "metadata": {
        "id": "FsujMqvLnPfW"
      }
    },
    {
      "cell_type": "code",
      "source": [
        "def convolutional_block(X, f, filters, stage, block, s = 2):\n",
        "\n",
        "    conv_name_base = 'res' + str(stage) + block + '_branch'\n",
        "    bn_name_base = 'bn' + str(stage) + block + '_branch'\n",
        "\n",
        "    F1, F2, F3 = filters\n",
        "\n",
        "    X_shortcut = X\n",
        "\n",
        "    X = Conv2D(F1, (1, 1), strides = (s,s), name = conv_name_base + '2a')(X)\n",
        "    X = BatchNormalization(axis = 3, name = bn_name_base + '2a')(X)\n",
        "    X = Activation('relu')(X)\n",
        "\n",
        "    X = Conv2D(filters = F2, kernel_size = (f, f), strides = (1,1), padding = 'same', name = conv_name_base + '2b')(X)\n",
        "    X = BatchNormalization(axis = 3, name = bn_name_base + '2b')(X)\n",
        "    X = Activation('relu')(X)\n",
        "\n",
        "    X = Conv2D(filters = F3, kernel_size = (1, 1), strides = (1,1), padding = 'valid', name = conv_name_base + '2c')(X)\n",
        "    X = BatchNormalization(axis = 3, name = bn_name_base + '2c')(X)\n",
        "\n",
        "    X_shortcut = Conv2D(filters = F3, kernel_size = (1, 1), strides = (s,s), padding = 'valid', name = conv_name_base + '1')(X_shortcut)\n",
        "    X_shortcut = BatchNormalization(axis = 3, name = bn_name_base + '1')(X_shortcut)\n",
        "\n",
        "    X = Add()([X, X_shortcut])\n",
        "    X = Activation('relu')(X)\n",
        "\n",
        "    return X"
      ],
      "metadata": {
        "id": "KE5u0QqQsT2O"
      },
      "execution_count": 47,
      "outputs": []
    },
    {
      "cell_type": "markdown",
      "source": [
        "##### **The main ResNet50 model**"
      ],
      "metadata": {
        "id": "cZmLU61tnTyG"
      }
    },
    {
      "cell_type": "code",
      "source": [
        "def ResNet50_(input_shape=(224, 224, 3), classes=3):\n",
        "\n",
        "    X_input = Input(input_shape)\n",
        "\n",
        "    X = ZeroPadding2D((3, 3))(X_input)\n",
        "\n",
        "    X = Conv2D(64, (7, 7), strides=(2, 2), name='conv1')(X)\n",
        "    X = BatchNormalization(axis=3, name='bn_conv1')(X)\n",
        "    X = Activation('relu')(X)\n",
        "    X = MaxPooling2D((3, 3), strides=(2, 2))(X)\n",
        "\n",
        "    X = convolutional_block(X, f=3, filters=[64, 64, 256], stage=2, block='a', s=1)\n",
        "\n",
        "    X = identity_block(X, 3, [64, 64, 256], stage=2, block='b')\n",
        "\n",
        "    X = identity_block(X, 3, [64, 64, 256], stage=2, block='c')\n",
        "\n",
        "# --------------------------------------------------------------------------------------------------------------\n",
        "\n",
        "    X = convolutional_block(X, f = 3, filters = [128, 128, 512], stage = 3, block='a', s = 2)\n",
        "    X = identity_block(X, 3, [128, 128, 512], stage=3, block='b')\n",
        "    X = identity_block(X, 3, [128, 128, 512], stage=3, block='c')\n",
        "    X = identity_block(X, 3, [128, 128, 512], stage=3, block='d')\n",
        "\n",
        "    X = convolutional_block(X, f = 3, filters = [256, 256, 1024], stage = 4, block='a', s = 2)\n",
        "    X = identity_block(X, 3, [256, 256, 1024], stage=4, block='b')\n",
        "    X = identity_block(X, 3, [256, 256, 1024], stage=4, block='c')\n",
        "    X = identity_block(X, 3, [256, 256, 1024], stage=4, block='d')\n",
        "    X = identity_block(X, 3, [256, 256, 1024], stage=4, block='e')\n",
        "    X = identity_block(X, 3, [256, 256, 1024], stage=4, block='f')\n",
        "\n",
        "    X = convolutional_block(X, f = 3, filters = [512, 512, 2048], stage = 5, block='a', s = 2)\n",
        "    X = identity_block(X, 3, [512, 512, 2048], stage=5, block='b')\n",
        "    X = identity_block(X, 3, [512, 512, 2048], stage=5, block='c')\n",
        "\n",
        "    X = AveragePooling2D((2,2), name=\"avg_pool\")(X)\n",
        "\n",
        "    X = Flatten()(X)\n",
        "    X = Dense(classes, activation='softmax', name='fc' + str(classes), kernel_initializer = glorot_uniform(seed=0))(X)\n",
        "\n",
        "    model = Model(inputs = X_input, outputs = X, name='ResNet50')\n",
        "\n",
        "    return model\n"
      ],
      "metadata": {
        "id": "QrMz6Vg6rRGw"
      },
      "execution_count": 48,
      "outputs": []
    },
    {
      "cell_type": "markdown",
      "source": [
        "#### **1_1_2_8: Instantiate in code using built-in class**"
      ],
      "metadata": {
        "id": "aLHOIATQXcZ-"
      }
    },
    {
      "cell_type": "markdown",
      "source": [
        "##### **Import necessary class**"
      ],
      "metadata": {
        "id": "525v7-EGsgGW"
      }
    },
    {
      "cell_type": "code",
      "source": [
        "from tensorflow.keras.applications import ResNet50"
      ],
      "metadata": {
        "id": "J9psEJAWslHO"
      },
      "execution_count": 49,
      "outputs": []
    },
    {
      "cell_type": "markdown",
      "source": [
        "##### **Instantiate ResNet50 base model**"
      ],
      "metadata": {
        "id": "ouTEQ-SdswED"
      }
    },
    {
      "cell_type": "code",
      "source": [
        "tf.keras.applications.ResNet50(\n",
        "    include_top=True,\n",
        "    weights='imagenet',\n",
        "    input_tensor=None,\n",
        "    input_shape=None,\n",
        "    pooling=None,\n",
        "    classes=1000,\n",
        "    classifier_activation='softmax'\n",
        ")"
      ],
      "metadata": {
        "colab": {
          "base_uri": "https://localhost:8080/"
        },
        "id": "MHuoIu-0s3gV",
        "outputId": "a9c49a23-af6e-42e4-838f-446dc38b7281"
      },
      "execution_count": 50,
      "outputs": [
        {
          "output_type": "execute_result",
          "data": {
            "text/plain": [
              "<keras.src.engine.functional.Functional at 0x7a0be955aa40>"
            ]
          },
          "metadata": {},
          "execution_count": 50
        }
      ]
    },
    {
      "cell_type": "markdown",
      "source": [
        "###### ***sources:***\n",
        "\n",
        "* https://towardsdatascience.com/creating-vgg-from-scratch-using-tensorflow-a998a5640155\n",
        "\n",
        "* https://datagen.tech/guides/computer-vision/vgg16/\n",
        "\n",
        "* https://keras.io/api/applications/vgg/\n",
        "\n",
        "* https://www.geeksforgeeks.org/vgg-16-cnn-model/\n",
        "\n",
        "* https://medium.com/@mygreatlearning/everything-you-need-to-know-about-vgg16-7315defb5918\n",
        "\n",
        "* https://www.tensorflow.org/api_docs/python/tf/keras/applications/ResNet50"
      ],
      "metadata": {
        "id": "45Du4m_FHUeY"
      }
    },
    {
      "cell_type": "markdown",
      "source": [
        "## **1_2: Implementation**"
      ],
      "metadata": {
        "id": "4SjfrFlXtxMU"
      }
    },
    {
      "cell_type": "markdown",
      "source": [
        "### **1_2_0: Outlook:**"
      ],
      "metadata": {
        "id": "du9OREU0ubOQ"
      }
    },
    {
      "cell_type": "markdown",
      "source": [
        "In this part, we are going to compare the VGG16 and ResNeT50 models for classifying skin conditions with and without **data augmentation**."
      ],
      "metadata": {
        "id": "jmnTQY9puq4I"
      }
    },
    {
      "cell_type": "markdown",
      "source": [
        "### **1_2_1: Data Augmentation:**\n"
      ],
      "metadata": {
        "id": "fNVFN--eu-LH"
      }
    },
    {
      "cell_type": "markdown",
      "source": [
        " Data augmentation refers to the process of **artificially increasing the size of a dataset** by applying various transformations to the existing data samples. These transformations include, but are not limited to, **rotation**, **translation**, **scaling**, **flipping**, **cropping**, **changing brightness and contrast**, **adding noise**, and other modifications.\n",
        "\n",
        "The primary objective of data augmentation is to **increase the diversity of the training data** without collecting additional labeled samples. By generating new variations of the existing data, data augmentation helps improve the **generalization and robustness** of machine learning models. It enables the model to learn invariant features from different perspectives, thereby enhancing its performance on unseen data and **reducing overfitting**."
      ],
      "metadata": {
        "id": "0PFRJuNjvE_P"
      }
    },
    {
      "cell_type": "markdown",
      "source": [
        "### **1_2_2: Preprocess**"
      ],
      "metadata": {
        "id": "3CFH7hpuEbkq"
      }
    },
    {
      "cell_type": "markdown",
      "source": [
        "#### **1_2_2_1: find the datapath of the dataset**"
      ],
      "metadata": {
        "id": "da-yJQL4AZ3K"
      }
    },
    {
      "cell_type": "code",
      "execution_count": 51,
      "metadata": {
        "id": "32EQw-Wj-thQ"
      },
      "outputs": [],
      "source": [
        "dataset_path = \"/content/grive/MyDrive/AI_Project1/Dataset\""
      ]
    },
    {
      "cell_type": "markdown",
      "source": [
        "#### **1_2_2_2: Import necessary library to work with files**"
      ],
      "metadata": {
        "id": "9wpxnprSdAMg"
      }
    },
    {
      "cell_type": "code",
      "source": [
        "import os"
      ],
      "metadata": {
        "id": "zQJC7riwdEPE"
      },
      "execution_count": 52,
      "outputs": []
    },
    {
      "cell_type": "markdown",
      "source": [
        "#### **1_2_2_3: To list the names of files and directories within a specified directory path, we use 'os.listdir(dataset_path)'**"
      ],
      "metadata": {
        "id": "k1Xs54CixR5E"
      }
    },
    {
      "cell_type": "code",
      "source": [
        "different_skin_conditions = os.listdir(dataset_path)\n",
        "\n",
        "different_skin_conditions"
      ],
      "metadata": {
        "colab": {
          "base_uri": "https://localhost:8080/"
        },
        "id": "gH17k7x7pT-3",
        "outputId": "031299b9-2228-4c3e-bdfc-2b8392190a40"
      },
      "execution_count": 53,
      "outputs": [
        {
          "output_type": "execute_result",
          "data": {
            "text/plain": [
              "['Carcinoma', 'Melanoma', 'Nevus']"
            ]
          },
          "metadata": {},
          "execution_count": 53
        }
      ]
    },
    {
      "cell_type": "markdown",
      "source": [
        "#### **1_2_2_4: Make a list to restore all different image file's paths**"
      ],
      "metadata": {
        "id": "sNua_gdw0K5A"
      }
    },
    {
      "cell_type": "code",
      "source": [
        "conditions = []"
      ],
      "metadata": {
        "id": "ugcqVhD_vxc8"
      },
      "execution_count": 54,
      "outputs": []
    },
    {
      "cell_type": "markdown",
      "source": [
        "#### **1_2_2_5: Add the image files' names to their condition item**"
      ],
      "metadata": {
        "id": "BTjH5a3r0P4x"
      }
    },
    {
      "cell_type": "code",
      "source": [
        "for condition in different_skin_conditions:\n",
        "\n",
        "  condition_path = dataset_path + '/' + condition\n",
        "  pictures_of_condition = os.listdir(condition_path)\n",
        "\n",
        "  for picture in pictures_of_condition:\n",
        "    conditions.append((condition, condition_path + '/' + picture))\n",
        "\n",
        "conditions"
      ],
      "metadata": {
        "colab": {
          "base_uri": "https://localhost:8080/"
        },
        "id": "HLfAqntBtkFJ",
        "outputId": "c39bbaa0-4ff1-4027-bbda-cf897252bfe8"
      },
      "execution_count": 55,
      "outputs": [
        {
          "output_type": "execute_result",
          "data": {
            "text/plain": [
              "[('Carcinoma',\n",
              "  '/content/grive/MyDrive/AI_Project1/Dataset/Carcinoma/ISIC_0028570.jpg'),\n",
              " ('Carcinoma',\n",
              "  '/content/grive/MyDrive/AI_Project1/Dataset/Carcinoma/ISIC_0028747.jpg'),\n",
              " ('Carcinoma',\n",
              "  '/content/grive/MyDrive/AI_Project1/Dataset/Carcinoma/ISIC_0028677.jpg'),\n",
              " ('Carcinoma',\n",
              "  '/content/grive/MyDrive/AI_Project1/Dataset/Carcinoma/ISIC_0028928.jpg'),\n",
              " ('Carcinoma',\n",
              "  '/content/grive/MyDrive/AI_Project1/Dataset/Carcinoma/ISIC_0029082.jpg'),\n",
              " ('Carcinoma',\n",
              "  '/content/grive/MyDrive/AI_Project1/Dataset/Carcinoma/ISIC_0028815.jpg'),\n",
              " ('Carcinoma',\n",
              "  '/content/grive/MyDrive/AI_Project1/Dataset/Carcinoma/ISIC_0028653.jpg'),\n",
              " ('Carcinoma',\n",
              "  '/content/grive/MyDrive/AI_Project1/Dataset/Carcinoma/ISIC_0029034.jpg'),\n",
              " ('Carcinoma',\n",
              "  '/content/grive/MyDrive/AI_Project1/Dataset/Carcinoma/ISIC_0028814.jpg'),\n",
              " ('Carcinoma',\n",
              "  '/content/grive/MyDrive/AI_Project1/Dataset/Carcinoma/ISIC_0028994.jpg'),\n",
              " ('Carcinoma',\n",
              "  '/content/grive/MyDrive/AI_Project1/Dataset/Carcinoma/ISIC_0028542.jpg'),\n",
              " ('Carcinoma',\n",
              "  '/content/grive/MyDrive/AI_Project1/Dataset/Carcinoma/ISIC_0028652.jpg'),\n",
              " ('Carcinoma',\n",
              "  '/content/grive/MyDrive/AI_Project1/Dataset/Carcinoma/ISIC_0028719.jpg'),\n",
              " ('Carcinoma',\n",
              "  '/content/grive/MyDrive/AI_Project1/Dataset/Carcinoma/ISIC_0028818.jpg'),\n",
              " ('Carcinoma',\n",
              "  '/content/grive/MyDrive/AI_Project1/Dataset/Carcinoma/ISIC_0028807.jpg'),\n",
              " ('Carcinoma',\n",
              "  '/content/grive/MyDrive/AI_Project1/Dataset/Carcinoma/ISIC_0029129.jpg'),\n",
              " ('Carcinoma',\n",
              "  '/content/grive/MyDrive/AI_Project1/Dataset/Carcinoma/ISIC_0028495.jpg'),\n",
              " ('Carcinoma',\n",
              "  '/content/grive/MyDrive/AI_Project1/Dataset/Carcinoma/ISIC_0029053.jpg'),\n",
              " ('Carcinoma',\n",
              "  '/content/grive/MyDrive/AI_Project1/Dataset/Carcinoma/ISIC_0028871.jpg'),\n",
              " ('Carcinoma',\n",
              "  '/content/grive/MyDrive/AI_Project1/Dataset/Carcinoma/ISIC_0028687.jpg'),\n",
              " ('Carcinoma',\n",
              "  '/content/grive/MyDrive/AI_Project1/Dataset/Carcinoma/ISIC_0028556.jpg'),\n",
              " ('Carcinoma',\n",
              "  '/content/grive/MyDrive/AI_Project1/Dataset/Carcinoma/ISIC_0028568.jpg'),\n",
              " ('Carcinoma',\n",
              "  '/content/grive/MyDrive/AI_Project1/Dataset/Carcinoma/ISIC_0028583.jpg'),\n",
              " ('Carcinoma',\n",
              "  '/content/grive/MyDrive/AI_Project1/Dataset/Carcinoma/ISIC_0028765.jpg'),\n",
              " ('Carcinoma',\n",
              "  '/content/grive/MyDrive/AI_Project1/Dataset/Carcinoma/ISIC_0028877.jpg'),\n",
              " ('Carcinoma',\n",
              "  '/content/grive/MyDrive/AI_Project1/Dataset/Carcinoma/ISIC_0028980.jpg'),\n",
              " ('Carcinoma',\n",
              "  '/content/grive/MyDrive/AI_Project1/Dataset/Carcinoma/ISIC_0028693.jpg'),\n",
              " ('Carcinoma',\n",
              "  '/content/grive/MyDrive/AI_Project1/Dataset/Carcinoma/ISIC_0028739.jpg'),\n",
              " ('Carcinoma',\n",
              "  '/content/grive/MyDrive/AI_Project1/Dataset/Carcinoma/ISIC_0028964.jpg'),\n",
              " ('Carcinoma',\n",
              "  '/content/grive/MyDrive/AI_Project1/Dataset/Carcinoma/ISIC_0028937.jpg'),\n",
              " ('Carcinoma',\n",
              "  '/content/grive/MyDrive/AI_Project1/Dataset/Carcinoma/ISIC_0028858.jpg'),\n",
              " ('Carcinoma',\n",
              "  '/content/grive/MyDrive/AI_Project1/Dataset/Carcinoma/ISIC_0028688.jpg'),\n",
              " ('Carcinoma',\n",
              "  '/content/grive/MyDrive/AI_Project1/Dataset/Carcinoma/ISIC_0028989.jpg'),\n",
              " ('Carcinoma',\n",
              "  '/content/grive/MyDrive/AI_Project1/Dataset/Carcinoma/ISIC_0028728.jpg'),\n",
              " ('Carcinoma',\n",
              "  '/content/grive/MyDrive/AI_Project1/Dataset/Carcinoma/ISIC_0028670.jpg'),\n",
              " ('Carcinoma',\n",
              "  '/content/grive/MyDrive/AI_Project1/Dataset/Carcinoma/ISIC_0028978.jpg'),\n",
              " ('Carcinoma',\n",
              "  '/content/grive/MyDrive/AI_Project1/Dataset/Carcinoma/ISIC_0029020.jpg'),\n",
              " ('Carcinoma',\n",
              "  '/content/grive/MyDrive/AI_Project1/Dataset/Carcinoma/ISIC_0029035.jpg'),\n",
              " ('Carcinoma',\n",
              "  '/content/grive/MyDrive/AI_Project1/Dataset/Carcinoma/ISIC_0028577.jpg'),\n",
              " ('Carcinoma',\n",
              "  '/content/grive/MyDrive/AI_Project1/Dataset/Carcinoma/ISIC_0025383.jpg'),\n",
              " ('Carcinoma',\n",
              "  '/content/grive/MyDrive/AI_Project1/Dataset/Carcinoma/ISIC_0029083.jpg'),\n",
              " ('Carcinoma',\n",
              "  '/content/grive/MyDrive/AI_Project1/Dataset/Carcinoma/ISIC_0025301.jpg'),\n",
              " ('Carcinoma',\n",
              "  '/content/grive/MyDrive/AI_Project1/Dataset/Carcinoma/ISIC_0025285.jpg'),\n",
              " ('Carcinoma',\n",
              "  '/content/grive/MyDrive/AI_Project1/Dataset/Carcinoma/ISIC_0025322.jpg'),\n",
              " ('Carcinoma',\n",
              "  '/content/grive/MyDrive/AI_Project1/Dataset/Carcinoma/ISIC_0028973.jpg'),\n",
              " ('Carcinoma',\n",
              "  '/content/grive/MyDrive/AI_Project1/Dataset/Carcinoma/ISIC_0029123.jpg'),\n",
              " ('Carcinoma',\n",
              "  '/content/grive/MyDrive/AI_Project1/Dataset/Carcinoma/ISIC_0025299.jpg'),\n",
              " ('Carcinoma',\n",
              "  '/content/grive/MyDrive/AI_Project1/Dataset/Carcinoma/ISIC_0025362.jpg'),\n",
              " ('Carcinoma',\n",
              "  '/content/grive/MyDrive/AI_Project1/Dataset/Carcinoma/ISIC_0028671.jpg'),\n",
              " ('Carcinoma',\n",
              "  '/content/grive/MyDrive/AI_Project1/Dataset/Carcinoma/ISIC_0028890.jpg'),\n",
              " ('Melanoma',\n",
              "  '/content/grive/MyDrive/AI_Project1/Dataset/Melanoma/ISIC_0000466.jpg'),\n",
              " ('Melanoma',\n",
              "  '/content/grive/MyDrive/AI_Project1/Dataset/Melanoma/ISIC_0000547.jpg'),\n",
              " ('Melanoma',\n",
              "  '/content/grive/MyDrive/AI_Project1/Dataset/Melanoma/ISIC_0000487 - Copy.jpg'),\n",
              " ('Melanoma',\n",
              "  '/content/grive/MyDrive/AI_Project1/Dataset/Melanoma/ISIC_0000517 - Copy.jpg'),\n",
              " ('Melanoma',\n",
              "  '/content/grive/MyDrive/AI_Project1/Dataset/Melanoma/ISIC_0000513 - Copy.jpg'),\n",
              " ('Melanoma',\n",
              "  '/content/grive/MyDrive/AI_Project1/Dataset/Melanoma/ISIC_0000445.jpg'),\n",
              " ('Melanoma',\n",
              "  '/content/grive/MyDrive/AI_Project1/Dataset/Melanoma/ISIC_0000502 - Copy.jpg'),\n",
              " ('Melanoma',\n",
              "  '/content/grive/MyDrive/AI_Project1/Dataset/Melanoma/ISIC_0000513.jpg'),\n",
              " ('Melanoma',\n",
              "  '/content/grive/MyDrive/AI_Project1/Dataset/Melanoma/ISIC_0000517.jpg'),\n",
              " ('Melanoma',\n",
              "  '/content/grive/MyDrive/AI_Project1/Dataset/Melanoma/ISIC_0000516.jpg'),\n",
              " ('Melanoma',\n",
              "  '/content/grive/MyDrive/AI_Project1/Dataset/Melanoma/ISIC_0000516 - Copy.jpg'),\n",
              " ('Melanoma',\n",
              "  '/content/grive/MyDrive/AI_Project1/Dataset/Melanoma/ISIC_0000511 - Copy.jpg'),\n",
              " ('Melanoma',\n",
              "  '/content/grive/MyDrive/AI_Project1/Dataset/Melanoma/ISIC_0000466 - Copy.jpg'),\n",
              " ('Melanoma',\n",
              "  '/content/grive/MyDrive/AI_Project1/Dataset/Melanoma/ISIC_0000526.jpg'),\n",
              " ('Melanoma',\n",
              "  '/content/grive/MyDrive/AI_Project1/Dataset/Melanoma/ISIC_0000445 - Copy.jpg'),\n",
              " ('Melanoma',\n",
              "  '/content/grive/MyDrive/AI_Project1/Dataset/Melanoma/ISIC_0000502.jpg'),\n",
              " ('Melanoma',\n",
              "  '/content/grive/MyDrive/AI_Project1/Dataset/Melanoma/ISIC_0000482 - Copy.jpg'),\n",
              " ('Melanoma',\n",
              "  '/content/grive/MyDrive/AI_Project1/Dataset/Melanoma/ISIC_0000518 - Copy.jpg'),\n",
              " ('Melanoma',\n",
              "  '/content/grive/MyDrive/AI_Project1/Dataset/Melanoma/ISIC_0000520 - Copy.jpg'),\n",
              " ('Melanoma',\n",
              "  '/content/grive/MyDrive/AI_Project1/Dataset/Melanoma/ISIC_0000520.jpg'),\n",
              " ('Melanoma',\n",
              "  '/content/grive/MyDrive/AI_Project1/Dataset/Melanoma/ISIC_0000519.jpg'),\n",
              " ('Melanoma',\n",
              "  '/content/grive/MyDrive/AI_Project1/Dataset/Melanoma/ISIC_0000548.jpg'),\n",
              " ('Melanoma',\n",
              "  '/content/grive/MyDrive/AI_Project1/Dataset/Melanoma/ISIC_0000518.jpg'),\n",
              " ('Melanoma',\n",
              "  '/content/grive/MyDrive/AI_Project1/Dataset/Melanoma/ISIC_0000521 - Copy.jpg'),\n",
              " ('Melanoma',\n",
              "  '/content/grive/MyDrive/AI_Project1/Dataset/Melanoma/ISIC_0000462.jpg'),\n",
              " ('Melanoma',\n",
              "  '/content/grive/MyDrive/AI_Project1/Dataset/Melanoma/ISIC_0000519 - Copy.jpg'),\n",
              " ('Melanoma',\n",
              "  '/content/grive/MyDrive/AI_Project1/Dataset/Melanoma/ISIC_0000487.jpg'),\n",
              " ('Melanoma',\n",
              "  '/content/grive/MyDrive/AI_Project1/Dataset/Melanoma/ISIC_0000459.jpg'),\n",
              " ('Melanoma',\n",
              "  '/content/grive/MyDrive/AI_Project1/Dataset/Melanoma/ISIC_0000521.jpg'),\n",
              " ('Melanoma',\n",
              "  '/content/grive/MyDrive/AI_Project1/Dataset/Melanoma/ISIC_0000522.jpg'),\n",
              " ('Melanoma',\n",
              "  '/content/grive/MyDrive/AI_Project1/Dataset/Melanoma/ISIC_0000161.jpg'),\n",
              " ('Melanoma',\n",
              "  '/content/grive/MyDrive/AI_Project1/Dataset/Melanoma/ISIC_0000469 - Copy.jpg'),\n",
              " ('Melanoma',\n",
              "  '/content/grive/MyDrive/AI_Project1/Dataset/Melanoma/ISIC_0000484 - Copy.jpg'),\n",
              " ('Melanoma',\n",
              "  '/content/grive/MyDrive/AI_Project1/Dataset/Melanoma/ISIC_0000434 - Copy.jpg'),\n",
              " ('Melanoma',\n",
              "  '/content/grive/MyDrive/AI_Project1/Dataset/Melanoma/ISIC_0000158.jpg'),\n",
              " ('Melanoma',\n",
              "  '/content/grive/MyDrive/AI_Project1/Dataset/Melanoma/ISIC_0000444.jpg'),\n",
              " ('Melanoma',\n",
              "  '/content/grive/MyDrive/AI_Project1/Dataset/Melanoma/ISIC_0000463 - Copy.jpg'),\n",
              " ('Melanoma',\n",
              "  '/content/grive/MyDrive/AI_Project1/Dataset/Melanoma/ISIC_0000459 - Copy.jpg'),\n",
              " ('Melanoma',\n",
              "  '/content/grive/MyDrive/AI_Project1/Dataset/Melanoma/ISIC_0000162.jpg'),\n",
              " ('Melanoma',\n",
              "  '/content/grive/MyDrive/AI_Project1/Dataset/Melanoma/ISIC_0000469.jpg'),\n",
              " ('Melanoma',\n",
              "  '/content/grive/MyDrive/AI_Project1/Dataset/Melanoma/ISIC_0000159.jpg'),\n",
              " ('Melanoma',\n",
              "  '/content/grive/MyDrive/AI_Project1/Dataset/Melanoma/ISIC_0000462 - Copy.jpg'),\n",
              " ('Melanoma',\n",
              "  '/content/grive/MyDrive/AI_Project1/Dataset/Melanoma/ISIC_0000522 - Copy.jpg'),\n",
              " ('Melanoma',\n",
              "  '/content/grive/MyDrive/AI_Project1/Dataset/Melanoma/ISIC_0000446 - Copy.jpg'),\n",
              " ('Melanoma',\n",
              "  '/content/grive/MyDrive/AI_Project1/Dataset/Melanoma/ISIC_0000157.jpg'),\n",
              " ('Melanoma',\n",
              "  '/content/grive/MyDrive/AI_Project1/Dataset/Melanoma/ISIC_0000450 - Copy.jpg'),\n",
              " ('Melanoma',\n",
              "  '/content/grive/MyDrive/AI_Project1/Dataset/Melanoma/ISIC_0000441 - Copy.jpg'),\n",
              " ('Melanoma',\n",
              "  '/content/grive/MyDrive/AI_Project1/Dataset/Melanoma/ISIC_0000153 - Copy.jpg'),\n",
              " ('Melanoma',\n",
              "  '/content/grive/MyDrive/AI_Project1/Dataset/Melanoma/ISIC_0000533.jpg'),\n",
              " ('Melanoma',\n",
              "  '/content/grive/MyDrive/AI_Project1/Dataset/Melanoma/ISIC_0000153.jpg'),\n",
              " ('Melanoma',\n",
              "  '/content/grive/MyDrive/AI_Project1/Dataset/Melanoma/ISIC_0000440.jpg'),\n",
              " ('Melanoma',\n",
              "  '/content/grive/MyDrive/AI_Project1/Dataset/Melanoma/ISIC_0000155.jpg'),\n",
              " ('Melanoma',\n",
              "  '/content/grive/MyDrive/AI_Project1/Dataset/Melanoma/ISIC_0000160.jpg'),\n",
              " ('Melanoma',\n",
              "  '/content/grive/MyDrive/AI_Project1/Dataset/Melanoma/ISIC_0000463.jpg'),\n",
              " ('Melanoma',\n",
              "  '/content/grive/MyDrive/AI_Project1/Dataset/Melanoma/ISIC_0000155 - Copy.jpg'),\n",
              " ('Melanoma',\n",
              "  '/content/grive/MyDrive/AI_Project1/Dataset/Melanoma/ISIC_0000156 - Copy.jpg'),\n",
              " ('Melanoma',\n",
              "  '/content/grive/MyDrive/AI_Project1/Dataset/Melanoma/ISIC_0000154.jpg'),\n",
              " ('Melanoma',\n",
              "  '/content/grive/MyDrive/AI_Project1/Dataset/Melanoma/ISIC_0000156.jpg'),\n",
              " ('Melanoma',\n",
              "  '/content/grive/MyDrive/AI_Project1/Dataset/Melanoma/ISIC_0000444 - Copy.jpg'),\n",
              " ('Melanoma',\n",
              "  '/content/grive/MyDrive/AI_Project1/Dataset/Melanoma/ISIC_0000152 - Copy.jpg'),\n",
              " ('Melanoma',\n",
              "  '/content/grive/MyDrive/AI_Project1/Dataset/Melanoma/ISIC_0000440 - Copy.jpg'),\n",
              " ('Melanoma',\n",
              "  '/content/grive/MyDrive/AI_Project1/Dataset/Melanoma/ISIC_0000151.jpg'),\n",
              " ('Melanoma',\n",
              "  '/content/grive/MyDrive/AI_Project1/Dataset/Melanoma/ISIC_0000152.jpg'),\n",
              " ('Melanoma',\n",
              "  '/content/grive/MyDrive/AI_Project1/Dataset/Melanoma/ISIC_0000154 - Copy.jpg'),\n",
              " ('Nevus',\n",
              "  '/content/grive/MyDrive/AI_Project1/Dataset/Nevus/ISIC_0000433.jpg'),\n",
              " ('Nevus',\n",
              "  '/content/grive/MyDrive/AI_Project1/Dataset/Nevus/ISIC_0000427.jpg'),\n",
              " ('Nevus',\n",
              "  '/content/grive/MyDrive/AI_Project1/Dataset/Nevus/ISIC_0000425.jpg'),\n",
              " ('Nevus',\n",
              "  '/content/grive/MyDrive/AI_Project1/Dataset/Nevus/ISIC_0000422.jpg'),\n",
              " ('Nevus',\n",
              "  '/content/grive/MyDrive/AI_Project1/Dataset/Nevus/ISIC_0000421.jpg'),\n",
              " ('Nevus',\n",
              "  '/content/grive/MyDrive/AI_Project1/Dataset/Nevus/ISIC_0000397.jpg'),\n",
              " ('Nevus',\n",
              "  '/content/grive/MyDrive/AI_Project1/Dataset/Nevus/ISIC_0000422(1).jpg'),\n",
              " ('Nevus',\n",
              "  '/content/grive/MyDrive/AI_Project1/Dataset/Nevus/ISIC_0000431.jpg'),\n",
              " ('Nevus',\n",
              "  '/content/grive/MyDrive/AI_Project1/Dataset/Nevus/ISIC_0000423.jpg'),\n",
              " ('Nevus',\n",
              "  '/content/grive/MyDrive/AI_Project1/Dataset/Nevus/ISIC_0000424.jpg'),\n",
              " ('Nevus',\n",
              "  '/content/grive/MyDrive/AI_Project1/Dataset/Nevus/ISIC_0000419(1)(1).jpg'),\n",
              " ('Nevus',\n",
              "  '/content/grive/MyDrive/AI_Project1/Dataset/Nevus/ISIC_0000419.jpg'),\n",
              " ('Nevus',\n",
              "  '/content/grive/MyDrive/AI_Project1/Dataset/Nevus/ISIC_0000407(1).jpg'),\n",
              " ('Nevus',\n",
              "  '/content/grive/MyDrive/AI_Project1/Dataset/Nevus/ISIC_0000391.jpg'),\n",
              " ('Nevus',\n",
              "  '/content/grive/MyDrive/AI_Project1/Dataset/Nevus/ISIC_0000426.jpg'),\n",
              " ('Nevus',\n",
              "  '/content/grive/MyDrive/AI_Project1/Dataset/Nevus/ISIC_0000416.jpg'),\n",
              " ('Nevus',\n",
              "  '/content/grive/MyDrive/AI_Project1/Dataset/Nevus/ISIC_0000409.jpg'),\n",
              " ('Nevus',\n",
              "  '/content/grive/MyDrive/AI_Project1/Dataset/Nevus/ISIC_0000409(1).jpg'),\n",
              " ('Nevus',\n",
              "  '/content/grive/MyDrive/AI_Project1/Dataset/Nevus/ISIC_0000418(1).jpg'),\n",
              " ('Nevus',\n",
              "  '/content/grive/MyDrive/AI_Project1/Dataset/Nevus/ISIC_0000419(1).jpg'),\n",
              " ('Nevus',\n",
              "  '/content/grive/MyDrive/AI_Project1/Dataset/Nevus/ISIC_0000430.jpg'),\n",
              " ('Nevus',\n",
              "  '/content/grive/MyDrive/AI_Project1/Dataset/Nevus/ISIC_0000419(2).jpg'),\n",
              " ('Nevus',\n",
              "  '/content/grive/MyDrive/AI_Project1/Dataset/Nevus/ISIC_0000392.jpg'),\n",
              " ('Nevus',\n",
              "  '/content/grive/MyDrive/AI_Project1/Dataset/Nevus/ISIC_0000407.jpg'),\n",
              " ('Nevus',\n",
              "  '/content/grive/MyDrive/AI_Project1/Dataset/Nevus/ISIC_0000388.jpg'),\n",
              " ('Nevus',\n",
              "  '/content/grive/MyDrive/AI_Project1/Dataset/Nevus/ISIC_0000403.jpg'),\n",
              " ('Nevus',\n",
              "  '/content/grive/MyDrive/AI_Project1/Dataset/Nevus/ISIC_0000386.jpg'),\n",
              " ('Nevus',\n",
              "  '/content/grive/MyDrive/AI_Project1/Dataset/Nevus/ISIC_0000384.jpg'),\n",
              " ('Nevus',\n",
              "  '/content/grive/MyDrive/AI_Project1/Dataset/Nevus/ISIC_0000082.jpg'),\n",
              " ('Nevus',\n",
              "  '/content/grive/MyDrive/AI_Project1/Dataset/Nevus/ISIC_0000387.jpg'),\n",
              " ('Nevus',\n",
              "  '/content/grive/MyDrive/AI_Project1/Dataset/Nevus/ISIC_0000389.jpg'),\n",
              " ('Nevus',\n",
              "  '/content/grive/MyDrive/AI_Project1/Dataset/Nevus/ISIC_0000383.jpg'),\n",
              " ('Nevus',\n",
              "  '/content/grive/MyDrive/AI_Project1/Dataset/Nevus/ISIC_0000396.jpg'),\n",
              " ('Nevus',\n",
              "  '/content/grive/MyDrive/AI_Project1/Dataset/Nevus/ISIC_0000237 - Copy.jpg'),\n",
              " ('Nevus',\n",
              "  '/content/grive/MyDrive/AI_Project1/Dataset/Nevus/ISIC_0000238 - Copy.jpg'),\n",
              " ('Nevus',\n",
              "  '/content/grive/MyDrive/AI_Project1/Dataset/Nevus/ISIC_0000065.jpg'),\n",
              " ('Nevus',\n",
              "  '/content/grive/MyDrive/AI_Project1/Dataset/Nevus/ISIC_0000319 - Copy.jpg'),\n",
              " ('Nevus',\n",
              "  '/content/grive/MyDrive/AI_Project1/Dataset/Nevus/ISIC_0000385.jpg'),\n",
              " ('Nevus',\n",
              "  '/content/grive/MyDrive/AI_Project1/Dataset/Nevus/ISIC_0000080.jpg'),\n",
              " ('Nevus',\n",
              "  '/content/grive/MyDrive/AI_Project1/Dataset/Nevus/ISIC_0000067.jpg'),\n",
              " ('Nevus',\n",
              "  '/content/grive/MyDrive/AI_Project1/Dataset/Nevus/ISIC_0000068.jpg'),\n",
              " ('Nevus',\n",
              "  '/content/grive/MyDrive/AI_Project1/Dataset/Nevus/ISIC_0000418.jpg'),\n",
              " ('Nevus',\n",
              "  '/content/grive/MyDrive/AI_Project1/Dataset/Nevus/ISIC_0000240 - Copy.jpg'),\n",
              " ('Nevus',\n",
              "  '/content/grive/MyDrive/AI_Project1/Dataset/Nevus/ISIC_0000408.jpg'),\n",
              " ('Nevus',\n",
              "  '/content/grive/MyDrive/AI_Project1/Dataset/Nevus/ISIC_0000403(1).jpg'),\n",
              " ('Nevus',\n",
              "  '/content/grive/MyDrive/AI_Project1/Dataset/Nevus/ISIC_0000057.jpg'),\n",
              " ('Nevus',\n",
              "  '/content/grive/MyDrive/AI_Project1/Dataset/Nevus/ISIC_0000066.jpg'),\n",
              " ('Nevus',\n",
              "  '/content/grive/MyDrive/AI_Project1/Dataset/Nevus/ISIC_0000073.jpg'),\n",
              " ('Nevus',\n",
              "  '/content/grive/MyDrive/AI_Project1/Dataset/Nevus/ISIC_0000239 - Copy.jpg'),\n",
              " ('Nevus',\n",
              "  '/content/grive/MyDrive/AI_Project1/Dataset/Nevus/ISIC_0000062.jpg'),\n",
              " ('Nevus',\n",
              "  '/content/grive/MyDrive/AI_Project1/Dataset/Nevus/ISIC_0000079.jpg'),\n",
              " ('Nevus',\n",
              "  '/content/grive/MyDrive/AI_Project1/Dataset/Nevus/ISIC_0000081.jpg'),\n",
              " ('Nevus',\n",
              "  '/content/grive/MyDrive/AI_Project1/Dataset/Nevus/ISIC_0000061.jpg'),\n",
              " ('Nevus',\n",
              "  '/content/grive/MyDrive/AI_Project1/Dataset/Nevus/ISIC_0000063.jpg'),\n",
              " ('Nevus',\n",
              "  '/content/grive/MyDrive/AI_Project1/Dataset/Nevus/ISIC_0000060.jpg'),\n",
              " ('Nevus',\n",
              "  '/content/grive/MyDrive/AI_Project1/Dataset/Nevus/ISIC_0000055.jpg'),\n",
              " ('Nevus',\n",
              "  '/content/grive/MyDrive/AI_Project1/Dataset/Nevus/ISIC_0000058.jpg'),\n",
              " ('Nevus',\n",
              "  '/content/grive/MyDrive/AI_Project1/Dataset/Nevus/ISIC_0000059.jpg'),\n",
              " ('Nevus',\n",
              "  '/content/grive/MyDrive/AI_Project1/Dataset/Nevus/ISIC_0000064.jpg')]"
            ]
          },
          "metadata": {},
          "execution_count": 55
        }
      ]
    },
    {
      "cell_type": "markdown",
      "source": [
        "#### **1_2_2_6: Add essential libaries to work with dataframes and arrays**"
      ],
      "metadata": {
        "id": "MBKry6jX2rCT"
      }
    },
    {
      "cell_type": "code",
      "source": [
        "import pandas as pd\n",
        "import numpy as np"
      ],
      "metadata": {
        "id": "eCVZtXvG18QS"
      },
      "execution_count": 56,
      "outputs": []
    },
    {
      "cell_type": "markdown",
      "source": [
        "#### **1_2_2_7: Create dataframe containing image files' names and their condition type**"
      ],
      "metadata": {
        "id": "5DJxf6aBzWUY"
      }
    },
    {
      "cell_type": "code",
      "source": [
        "conditions_df = pd.DataFrame(data=conditions, columns=['condition_type', 'image_name'])\n",
        "\n",
        "print(conditions_df.head())\n",
        "print(conditions_df.tail())"
      ],
      "metadata": {
        "colab": {
          "base_uri": "https://localhost:8080/"
        },
        "id": "-77lVOrv1zOp",
        "outputId": "93cb1878-e7e7-4a13-dd6f-23641df855b7"
      },
      "execution_count": 57,
      "outputs": [
        {
          "output_type": "stream",
          "name": "stdout",
          "text": [
            "  condition_type                                         image_name\n",
            "0      Carcinoma  /content/grive/MyDrive/AI_Project1/Dataset/Car...\n",
            "1      Carcinoma  /content/grive/MyDrive/AI_Project1/Dataset/Car...\n",
            "2      Carcinoma  /content/grive/MyDrive/AI_Project1/Dataset/Car...\n",
            "3      Carcinoma  /content/grive/MyDrive/AI_Project1/Dataset/Car...\n",
            "4      Carcinoma  /content/grive/MyDrive/AI_Project1/Dataset/Car...\n",
            "    condition_type                                         image_name\n",
            "168          Nevus  /content/grive/MyDrive/AI_Project1/Dataset/Nev...\n",
            "169          Nevus  /content/grive/MyDrive/AI_Project1/Dataset/Nev...\n",
            "170          Nevus  /content/grive/MyDrive/AI_Project1/Dataset/Nev...\n",
            "171          Nevus  /content/grive/MyDrive/AI_Project1/Dataset/Nev...\n",
            "172          Nevus  /content/grive/MyDrive/AI_Project1/Dataset/Nev...\n"
          ]
        }
      ]
    },
    {
      "cell_type": "markdown",
      "source": [
        "#### **1_2_2_8: Count the number of pictures of all conditions**"
      ],
      "metadata": {
        "id": "I-b3eumDCdGj"
      }
    },
    {
      "cell_type": "code",
      "source": [
        "print(\"Total number of skin conditions' pictures in the dataset: \", len(conditions_df))"
      ],
      "metadata": {
        "id": "cuSERlAU2x_H",
        "colab": {
          "base_uri": "https://localhost:8080/"
        },
        "outputId": "231d1ac6-164e-4b79-8a48-cb028a47fc71"
      },
      "execution_count": 58,
      "outputs": [
        {
          "output_type": "stream",
          "name": "stdout",
          "text": [
            "Total number of skin conditions' pictures in the dataset:  173\n"
          ]
        }
      ]
    },
    {
      "cell_type": "markdown",
      "source": [
        "#### **1_2_2_9: Count the number of pictures in each category of conditions**"
      ],
      "metadata": {
        "id": "wU0-mPJDCxPo"
      }
    },
    {
      "cell_type": "code",
      "source": [
        "condition_count = conditions_df['condition_type'].value_counts()\n",
        "\n",
        "print(\"condition's pictures in each category: \")\n",
        "print(condition_count)"
      ],
      "metadata": {
        "colab": {
          "base_uri": "https://localhost:8080/"
        },
        "id": "aBHoGgL1Cxmy",
        "outputId": "f8b1e585-70bf-42ee-e007-522f014445d7"
      },
      "execution_count": 59,
      "outputs": [
        {
          "output_type": "stream",
          "name": "stdout",
          "text": [
            "condition's pictures in each category: \n",
            "condition_type\n",
            "Melanoma     64\n",
            "Nevus        59\n",
            "Carcinoma    50\n",
            "Name: count, dtype: int64\n"
          ]
        }
      ]
    },
    {
      "cell_type": "markdown",
      "source": [
        "#### **1_2_2_10: Create our image and label list and remove repetitive pictures**"
      ],
      "metadata": {
        "id": "cBCNuvoB0hG1"
      }
    },
    {
      "cell_type": "code",
      "source": [
        "import cv2\n",
        "im_size = 224\n",
        "\n",
        "images = []\n",
        "labels = []\n",
        "sample = 0\n",
        "count = 0\n",
        "flag = True\n",
        "for condition in different_skin_conditions:\n",
        "    condition_data_path = dataset_path + '/' + condition\n",
        "    filenames = [i for i in os.listdir(condition_data_path) ]\n",
        "\n",
        "    for filename in filenames:\n",
        "        flag = True\n",
        "        img = cv2.imread(condition_data_path + '/' + filename)\n",
        "        img = cv2.resize(img, (im_size, im_size))\n",
        "\n",
        "        # Check if it is a copy\n",
        "        for i in images:\n",
        "          diff = cv2.absdiff(img, i)\n",
        "          mean_diff = np.mean(diff)\n",
        "          if mean_diff == 0:\n",
        "            sample = diff\n",
        "            if flag:\n",
        "               count+=1\n",
        "            flag = False\n",
        "        # If it is not a copy, then add it to the list\n",
        "        if(flag):\n",
        "          images.append(img)\n",
        "          labels.append(condition)\n",
        "\n",
        "print(len(labels))\n",
        "print(len(images))\n",
        "print(count)\n",
        "print(sample)\n"
      ],
      "metadata": {
        "colab": {
          "base_uri": "https://localhost:8080/"
        },
        "id": "4rgYbmj0Cyxv",
        "outputId": "a8f81cdd-ebba-4293-dff7-b781e7dd72fe"
      },
      "execution_count": 60,
      "outputs": [
        {
          "output_type": "stream",
          "name": "stdout",
          "text": [
            "142\n",
            "142\n",
            "31\n",
            "[[[0 0 0]\n",
            "  [0 0 0]\n",
            "  [0 0 0]\n",
            "  ...\n",
            "  [0 0 0]\n",
            "  [0 0 0]\n",
            "  [0 0 0]]\n",
            "\n",
            " [[0 0 0]\n",
            "  [0 0 0]\n",
            "  [0 0 0]\n",
            "  ...\n",
            "  [0 0 0]\n",
            "  [0 0 0]\n",
            "  [0 0 0]]\n",
            "\n",
            " [[0 0 0]\n",
            "  [0 0 0]\n",
            "  [0 0 0]\n",
            "  ...\n",
            "  [0 0 0]\n",
            "  [0 0 0]\n",
            "  [0 0 0]]\n",
            "\n",
            " ...\n",
            "\n",
            " [[0 0 0]\n",
            "  [0 0 0]\n",
            "  [0 0 0]\n",
            "  ...\n",
            "  [0 0 0]\n",
            "  [0 0 0]\n",
            "  [0 0 0]]\n",
            "\n",
            " [[0 0 0]\n",
            "  [0 0 0]\n",
            "  [0 0 0]\n",
            "  ...\n",
            "  [0 0 0]\n",
            "  [0 0 0]\n",
            "  [0 0 0]]\n",
            "\n",
            " [[0 0 0]\n",
            "  [0 0 0]\n",
            "  [0 0 0]\n",
            "  ...\n",
            "  [0 0 0]\n",
            "  [0 0 0]\n",
            "  [0 0 0]]]\n"
          ]
        }
      ]
    },
    {
      "cell_type": "markdown",
      "source": [
        "#### **1_2_2_11: Transform the image into a numpy array**"
      ],
      "metadata": {
        "id": "ye9UScF7EU-N"
      }
    },
    {
      "cell_type": "code",
      "source": [
        "images = np.array(images)\n",
        "images.shape"
      ],
      "metadata": {
        "colab": {
          "base_uri": "https://localhost:8080/"
        },
        "id": "-A2qP57hET4s",
        "outputId": "1a318923-f798-466e-ceb2-6313d83fa4fb"
      },
      "execution_count": 62,
      "outputs": [
        {
          "output_type": "execute_result",
          "data": {
            "text/plain": [
              "(142, 224, 224, 3)"
            ]
          },
          "metadata": {},
          "execution_count": 62
        }
      ]
    },
    {
      "cell_type": "markdown",
      "source": [
        "#### **1_2_2_12: Scale and normalize our data**"
      ],
      "metadata": {
        "id": "2nt_8FGLEvxX"
      }
    },
    {
      "cell_type": "code",
      "source": [
        "images = images / 255.0"
      ],
      "metadata": {
        "id": "hddpd1whEvXD"
      },
      "execution_count": 63,
      "outputs": []
    },
    {
      "cell_type": "markdown",
      "source": [
        "#### **1_2_2_13: Import necessary classes and library to do some preprocessing like label encoding and one-hot encoding**"
      ],
      "metadata": {
        "id": "IQWxm1a3FGoI"
      }
    },
    {
      "cell_type": "code",
      "source": [
        "from sklearn.preprocessing import LabelEncoder , OneHotEncoder"
      ],
      "metadata": {
        "id": "D3Y3VKg6FGO4"
      },
      "execution_count": 64,
      "outputs": []
    },
    {
      "cell_type": "markdown",
      "source": [
        "#### **1_2_2_14: Achieve conditions of each picture in our dataframe**"
      ],
      "metadata": {
        "id": "PpGOmeyyGlG2"
      }
    },
    {
      "cell_type": "code",
      "source": [
        "y = np.array(labels)\n",
        "y"
      ],
      "metadata": {
        "colab": {
          "base_uri": "https://localhost:8080/"
        },
        "id": "0cKLoSlbF1mt",
        "outputId": "6e625f7a-86a6-4cdd-b71f-6a7b78282a87"
      },
      "execution_count": 65,
      "outputs": [
        {
          "output_type": "execute_result",
          "data": {
            "text/plain": [
              "array(['Carcinoma', 'Carcinoma', 'Carcinoma', 'Carcinoma', 'Carcinoma',\n",
              "       'Carcinoma', 'Carcinoma', 'Carcinoma', 'Carcinoma', 'Carcinoma',\n",
              "       'Carcinoma', 'Carcinoma', 'Carcinoma', 'Carcinoma', 'Carcinoma',\n",
              "       'Carcinoma', 'Carcinoma', 'Carcinoma', 'Carcinoma', 'Carcinoma',\n",
              "       'Carcinoma', 'Carcinoma', 'Carcinoma', 'Carcinoma', 'Carcinoma',\n",
              "       'Carcinoma', 'Carcinoma', 'Carcinoma', 'Carcinoma', 'Carcinoma',\n",
              "       'Carcinoma', 'Carcinoma', 'Carcinoma', 'Carcinoma', 'Carcinoma',\n",
              "       'Carcinoma', 'Carcinoma', 'Carcinoma', 'Carcinoma', 'Carcinoma',\n",
              "       'Carcinoma', 'Carcinoma', 'Carcinoma', 'Carcinoma', 'Carcinoma',\n",
              "       'Carcinoma', 'Carcinoma', 'Carcinoma', 'Carcinoma', 'Carcinoma',\n",
              "       'Melanoma', 'Melanoma', 'Melanoma', 'Melanoma', 'Melanoma',\n",
              "       'Melanoma', 'Melanoma', 'Melanoma', 'Melanoma', 'Melanoma',\n",
              "       'Melanoma', 'Melanoma', 'Melanoma', 'Melanoma', 'Melanoma',\n",
              "       'Melanoma', 'Melanoma', 'Melanoma', 'Melanoma', 'Melanoma',\n",
              "       'Melanoma', 'Melanoma', 'Melanoma', 'Melanoma', 'Melanoma',\n",
              "       'Melanoma', 'Melanoma', 'Melanoma', 'Melanoma', 'Melanoma',\n",
              "       'Melanoma', 'Melanoma', 'Melanoma', 'Melanoma', 'Melanoma',\n",
              "       'Melanoma', 'Melanoma', 'Melanoma', 'Melanoma', 'Melanoma',\n",
              "       'Melanoma', 'Nevus', 'Nevus', 'Nevus', 'Nevus', 'Nevus', 'Nevus',\n",
              "       'Nevus', 'Nevus', 'Nevus', 'Nevus', 'Nevus', 'Nevus', 'Nevus',\n",
              "       'Nevus', 'Nevus', 'Nevus', 'Nevus', 'Nevus', 'Nevus', 'Nevus',\n",
              "       'Nevus', 'Nevus', 'Nevus', 'Nevus', 'Nevus', 'Nevus', 'Nevus',\n",
              "       'Nevus', 'Nevus', 'Nevus', 'Nevus', 'Nevus', 'Nevus', 'Nevus',\n",
              "       'Nevus', 'Nevus', 'Nevus', 'Nevus', 'Nevus', 'Nevus', 'Nevus',\n",
              "       'Nevus', 'Nevus', 'Nevus', 'Nevus', 'Nevus', 'Nevus', 'Nevus',\n",
              "       'Nevus', 'Nevus', 'Nevus'], dtype='<U9')"
            ]
          },
          "metadata": {},
          "execution_count": 65
        }
      ]
    },
    {
      "cell_type": "markdown",
      "source": [
        "#### **1_2_2_15: Do Label encoding**"
      ],
      "metadata": {
        "id": "P_UAg6RnFX7-"
      }
    },
    {
      "cell_type": "markdown",
      "source": [
        "It is used to convert categorical data (data with distinct labels or categories) into numerical form."
      ],
      "metadata": {
        "id": "gnETnzWTMUdm"
      }
    },
    {
      "cell_type": "markdown",
      "source": [
        "**fit_transform method:**\n",
        "\n",
        "* **Fitting:** It learns the unique categories in the 'y' data. For example, if 'y' contains categories like ['Nevus', 'Carcinoma', 'Melanoma'], the fit step assigns the integer labels 0, 1, and 2 to these categories, respectively.\n",
        "\n",
        "* **Transforming:** After learning the unique categories, it replaces each category in the 'y' data with its corresponding numerical label. So, if 'y' originally contained values like ['Nevus', 'Carcinoma', 'Melanoma'], after the transformation, 'y' will contain the numerical labels assigned in the fitting step."
      ],
      "metadata": {
        "id": "kD7VpITjH_kw"
      }
    },
    {
      "cell_type": "code",
      "source": [
        "# Instantiate from the LabelEncoder class to work with\n",
        "y_labelencoder = LabelEncoder ()\n",
        "# Perform label encoding on the y data\n",
        "y = y_labelencoder.fit_transform (y)\n",
        "y"
      ],
      "metadata": {
        "colab": {
          "base_uri": "https://localhost:8080/"
        },
        "id": "1YcbyhMoIjb1",
        "outputId": "8b3fbf99-1b44-4392-a379-8dbc05895bb7"
      },
      "execution_count": null,
      "outputs": [
        {
          "output_type": "execute_result",
          "data": {
            "text/plain": [
              "array([0, 0, 0, 0, 0, 0, 0, 0, 0, 0, 0, 0, 0, 0, 0, 0, 0, 0, 0, 0, 0, 0,\n",
              "       0, 0, 0, 0, 0, 0, 0, 0, 0, 0, 0, 0, 0, 0, 0, 0, 0, 0, 0, 0, 0, 0,\n",
              "       0, 0, 0, 0, 0, 0, 1, 1, 1, 1, 1, 1, 1, 1, 1, 1, 1, 1, 1, 1, 1, 1,\n",
              "       1, 1, 1, 1, 1, 1, 1, 1, 1, 1, 1, 1, 1, 1, 1, 1, 1, 1, 1, 1, 1, 1,\n",
              "       1, 1, 1, 2, 2, 2, 2, 2, 2, 2, 2, 2, 2, 2, 2, 2, 2, 2, 2, 2, 2, 2,\n",
              "       2, 2, 2, 2, 2, 2, 2, 2, 2, 2, 2, 2, 2, 2, 2, 2, 2, 2, 2, 2, 2, 2,\n",
              "       2, 2, 2, 2, 2, 2, 2, 2, 2, 2])"
            ]
          },
          "metadata": {},
          "execution_count": 62
        }
      ]
    },
    {
      "cell_type": "markdown",
      "source": [
        "#### **1_2_2_16: Do One-hot encoding**"
      ],
      "metadata": {
        "id": "lCJzjvBbFdyf"
      }
    },
    {
      "cell_type": "markdown",
      "source": [
        "In one-hot encoding, each category is represented by a separate binary column (either 0 or 1). If there are 'n' categories, 'n' new binary columns are created. When a data point belongs to a particular category, the corresponding binary column for that category will have a value of 1, and all other columns will have a value of 0."
      ],
      "metadata": {
        "id": "2NrZbwCzMnFR"
      }
    },
    {
      "cell_type": "markdown",
      "source": [
        "#### **1_2_2_17: reshape the y data**"
      ],
      "metadata": {
        "id": "EvPN1uWTOPXH"
      }
    },
    {
      "cell_type": "markdown",
      "source": [
        "##### **reshape(-1,1)**\n",
        "\n",
        "* **first arqument:** the number of rows\n",
        "\n",
        "* **second argument**: the number of columns\n",
        "\n",
        "In Python, using \"-1\" in a specific context, like the reshape() function, means you are specifying the number of elements in that dimension of the array. This feature allows you to maintain the total number of elements in the array while changing its shape or dimensions."
      ],
      "metadata": {
        "id": "gHg8lBXFJMzi"
      }
    },
    {
      "cell_type": "code",
      "source": [
        "y=y.reshape(-1,1)\n",
        "y"
      ],
      "metadata": {
        "colab": {
          "base_uri": "https://localhost:8080/"
        },
        "id": "LmAC4iD5I0BC",
        "outputId": "d618bb65-20a8-4d65-d2b6-15690a768eed"
      },
      "execution_count": null,
      "outputs": [
        {
          "output_type": "execute_result",
          "data": {
            "text/plain": [
              "array([[0],\n",
              "       [0],\n",
              "       [0],\n",
              "       [0],\n",
              "       [0],\n",
              "       [0],\n",
              "       [0],\n",
              "       [0],\n",
              "       [0],\n",
              "       [0],\n",
              "       [0],\n",
              "       [0],\n",
              "       [0],\n",
              "       [0],\n",
              "       [0],\n",
              "       [0],\n",
              "       [0],\n",
              "       [0],\n",
              "       [0],\n",
              "       [0],\n",
              "       [0],\n",
              "       [0],\n",
              "       [0],\n",
              "       [0],\n",
              "       [0],\n",
              "       [0],\n",
              "       [0],\n",
              "       [0],\n",
              "       [0],\n",
              "       [0],\n",
              "       [0],\n",
              "       [0],\n",
              "       [0],\n",
              "       [0],\n",
              "       [0],\n",
              "       [0],\n",
              "       [0],\n",
              "       [0],\n",
              "       [0],\n",
              "       [0],\n",
              "       [0],\n",
              "       [0],\n",
              "       [0],\n",
              "       [0],\n",
              "       [0],\n",
              "       [0],\n",
              "       [0],\n",
              "       [0],\n",
              "       [0],\n",
              "       [0],\n",
              "       [1],\n",
              "       [1],\n",
              "       [1],\n",
              "       [1],\n",
              "       [1],\n",
              "       [1],\n",
              "       [1],\n",
              "       [1],\n",
              "       [1],\n",
              "       [1],\n",
              "       [1],\n",
              "       [1],\n",
              "       [1],\n",
              "       [1],\n",
              "       [1],\n",
              "       [1],\n",
              "       [1],\n",
              "       [1],\n",
              "       [1],\n",
              "       [1],\n",
              "       [1],\n",
              "       [1],\n",
              "       [1],\n",
              "       [1],\n",
              "       [1],\n",
              "       [1],\n",
              "       [1],\n",
              "       [1],\n",
              "       [1],\n",
              "       [1],\n",
              "       [1],\n",
              "       [1],\n",
              "       [1],\n",
              "       [1],\n",
              "       [1],\n",
              "       [1],\n",
              "       [1],\n",
              "       [1],\n",
              "       [1],\n",
              "       [1],\n",
              "       [1],\n",
              "       [2],\n",
              "       [2],\n",
              "       [2],\n",
              "       [2],\n",
              "       [2],\n",
              "       [2],\n",
              "       [2],\n",
              "       [2],\n",
              "       [2],\n",
              "       [2],\n",
              "       [2],\n",
              "       [2],\n",
              "       [2],\n",
              "       [2],\n",
              "       [2],\n",
              "       [2],\n",
              "       [2],\n",
              "       [2],\n",
              "       [2],\n",
              "       [2],\n",
              "       [2],\n",
              "       [2],\n",
              "       [2],\n",
              "       [2],\n",
              "       [2],\n",
              "       [2],\n",
              "       [2],\n",
              "       [2],\n",
              "       [2],\n",
              "       [2],\n",
              "       [2],\n",
              "       [2],\n",
              "       [2],\n",
              "       [2],\n",
              "       [2],\n",
              "       [2],\n",
              "       [2],\n",
              "       [2],\n",
              "       [2],\n",
              "       [2],\n",
              "       [2],\n",
              "       [2],\n",
              "       [2],\n",
              "       [2],\n",
              "       [2],\n",
              "       [2],\n",
              "       [2],\n",
              "       [2],\n",
              "       [2],\n",
              "       [2],\n",
              "       [2]])"
            ]
          },
          "metadata": {},
          "execution_count": 63
        }
      ]
    },
    {
      "cell_type": "markdown",
      "source": [
        "#### **1_2_2_18: Use OneHotEncoder**\n",
        "* **categories='auto':** This argument tells the OneHotEncoder function to automatically find the categories in the data.\n",
        "\n",
        "* **sparse=False:** This argument specifies the output format. When you set sparse=False, the function will return the one-hot encoded output in a dense format, like below output."
      ],
      "metadata": {
        "id": "IJ8Bo10LXwn2"
      }
    },
    {
      "cell_type": "code",
      "source": [
        "# Instantiate an object from the OneHotEncoder class to work with\n",
        "onehotencoder=OneHotEncoder(categories='auto', sparse=False)\n",
        "# Apply the one-hot encoding to the data\n",
        "Y= onehotencoder.fit_transform(y)\n",
        "\n",
        "print(f\"The dimentions before one-hot encoding: {y.shape}\")\n",
        "\n",
        "print(f\"The dimentions after one-hot encoding: {Y.shape}\")\n",
        "\n",
        "Y"
      ],
      "metadata": {
        "colab": {
          "base_uri": "https://localhost:8080/"
        },
        "id": "bfemRKbXE1nW",
        "outputId": "49f0c54a-d829-42d7-dc02-63d750425e5f"
      },
      "execution_count": null,
      "outputs": [
        {
          "output_type": "stream",
          "name": "stdout",
          "text": [
            "The dimentions before one-hot encoding: (142, 1)\n",
            "The dimentions after one-hot encoding: (142, 3)\n"
          ]
        },
        {
          "output_type": "stream",
          "name": "stderr",
          "text": [
            "/usr/local/lib/python3.10/dist-packages/sklearn/preprocessing/_encoders.py:868: FutureWarning: `sparse` was renamed to `sparse_output` in version 1.2 and will be removed in 1.4. `sparse_output` is ignored unless you leave `sparse` to its default value.\n",
            "  warnings.warn(\n"
          ]
        },
        {
          "output_type": "execute_result",
          "data": {
            "text/plain": [
              "array([[1., 0., 0.],\n",
              "       [1., 0., 0.],\n",
              "       [1., 0., 0.],\n",
              "       [1., 0., 0.],\n",
              "       [1., 0., 0.],\n",
              "       [1., 0., 0.],\n",
              "       [1., 0., 0.],\n",
              "       [1., 0., 0.],\n",
              "       [1., 0., 0.],\n",
              "       [1., 0., 0.],\n",
              "       [1., 0., 0.],\n",
              "       [1., 0., 0.],\n",
              "       [1., 0., 0.],\n",
              "       [1., 0., 0.],\n",
              "       [1., 0., 0.],\n",
              "       [1., 0., 0.],\n",
              "       [1., 0., 0.],\n",
              "       [1., 0., 0.],\n",
              "       [1., 0., 0.],\n",
              "       [1., 0., 0.],\n",
              "       [1., 0., 0.],\n",
              "       [1., 0., 0.],\n",
              "       [1., 0., 0.],\n",
              "       [1., 0., 0.],\n",
              "       [1., 0., 0.],\n",
              "       [1., 0., 0.],\n",
              "       [1., 0., 0.],\n",
              "       [1., 0., 0.],\n",
              "       [1., 0., 0.],\n",
              "       [1., 0., 0.],\n",
              "       [1., 0., 0.],\n",
              "       [1., 0., 0.],\n",
              "       [1., 0., 0.],\n",
              "       [1., 0., 0.],\n",
              "       [1., 0., 0.],\n",
              "       [1., 0., 0.],\n",
              "       [1., 0., 0.],\n",
              "       [1., 0., 0.],\n",
              "       [1., 0., 0.],\n",
              "       [1., 0., 0.],\n",
              "       [1., 0., 0.],\n",
              "       [1., 0., 0.],\n",
              "       [1., 0., 0.],\n",
              "       [1., 0., 0.],\n",
              "       [1., 0., 0.],\n",
              "       [1., 0., 0.],\n",
              "       [1., 0., 0.],\n",
              "       [1., 0., 0.],\n",
              "       [1., 0., 0.],\n",
              "       [1., 0., 0.],\n",
              "       [0., 1., 0.],\n",
              "       [0., 1., 0.],\n",
              "       [0., 1., 0.],\n",
              "       [0., 1., 0.],\n",
              "       [0., 1., 0.],\n",
              "       [0., 1., 0.],\n",
              "       [0., 1., 0.],\n",
              "       [0., 1., 0.],\n",
              "       [0., 1., 0.],\n",
              "       [0., 1., 0.],\n",
              "       [0., 1., 0.],\n",
              "       [0., 1., 0.],\n",
              "       [0., 1., 0.],\n",
              "       [0., 1., 0.],\n",
              "       [0., 1., 0.],\n",
              "       [0., 1., 0.],\n",
              "       [0., 1., 0.],\n",
              "       [0., 1., 0.],\n",
              "       [0., 1., 0.],\n",
              "       [0., 1., 0.],\n",
              "       [0., 1., 0.],\n",
              "       [0., 1., 0.],\n",
              "       [0., 1., 0.],\n",
              "       [0., 1., 0.],\n",
              "       [0., 1., 0.],\n",
              "       [0., 1., 0.],\n",
              "       [0., 1., 0.],\n",
              "       [0., 1., 0.],\n",
              "       [0., 1., 0.],\n",
              "       [0., 1., 0.],\n",
              "       [0., 1., 0.],\n",
              "       [0., 1., 0.],\n",
              "       [0., 1., 0.],\n",
              "       [0., 1., 0.],\n",
              "       [0., 1., 0.],\n",
              "       [0., 1., 0.],\n",
              "       [0., 1., 0.],\n",
              "       [0., 1., 0.],\n",
              "       [0., 1., 0.],\n",
              "       [0., 1., 0.],\n",
              "       [0., 1., 0.],\n",
              "       [0., 0., 1.],\n",
              "       [0., 0., 1.],\n",
              "       [0., 0., 1.],\n",
              "       [0., 0., 1.],\n",
              "       [0., 0., 1.],\n",
              "       [0., 0., 1.],\n",
              "       [0., 0., 1.],\n",
              "       [0., 0., 1.],\n",
              "       [0., 0., 1.],\n",
              "       [0., 0., 1.],\n",
              "       [0., 0., 1.],\n",
              "       [0., 0., 1.],\n",
              "       [0., 0., 1.],\n",
              "       [0., 0., 1.],\n",
              "       [0., 0., 1.],\n",
              "       [0., 0., 1.],\n",
              "       [0., 0., 1.],\n",
              "       [0., 0., 1.],\n",
              "       [0., 0., 1.],\n",
              "       [0., 0., 1.],\n",
              "       [0., 0., 1.],\n",
              "       [0., 0., 1.],\n",
              "       [0., 0., 1.],\n",
              "       [0., 0., 1.],\n",
              "       [0., 0., 1.],\n",
              "       [0., 0., 1.],\n",
              "       [0., 0., 1.],\n",
              "       [0., 0., 1.],\n",
              "       [0., 0., 1.],\n",
              "       [0., 0., 1.],\n",
              "       [0., 0., 1.],\n",
              "       [0., 0., 1.],\n",
              "       [0., 0., 1.],\n",
              "       [0., 0., 1.],\n",
              "       [0., 0., 1.],\n",
              "       [0., 0., 1.],\n",
              "       [0., 0., 1.],\n",
              "       [0., 0., 1.],\n",
              "       [0., 0., 1.],\n",
              "       [0., 0., 1.],\n",
              "       [0., 0., 1.],\n",
              "       [0., 0., 1.],\n",
              "       [0., 0., 1.],\n",
              "       [0., 0., 1.],\n",
              "       [0., 0., 1.],\n",
              "       [0., 0., 1.],\n",
              "       [0., 0., 1.],\n",
              "       [0., 0., 1.],\n",
              "       [0., 0., 1.],\n",
              "       [0., 0., 1.],\n",
              "       [0., 0., 1.]])"
            ]
          },
          "metadata": {},
          "execution_count": 64
        }
      ]
    },
    {
      "cell_type": "markdown",
      "source": [
        "#### **1_2_2_19: Shuffle images**"
      ],
      "metadata": {
        "id": "pkeqr0uo2U-h"
      }
    },
    {
      "cell_type": "markdown",
      "source": [
        "**random_state=1:** The purpose of random_state is to ensure reproducibility of the shuffling results. As long as you use the same random_state value across different runs of your code, you will get the same shuffled order.\n",
        "\n",
        "When you set random_state to a specific value, you are effectively setting a seed for the random number generator. This seed ensures that the same sequence of random numbers will be generated every time the code is executed"
      ],
      "metadata": {
        "id": "iPlsLL9smRUM"
      }
    },
    {
      "cell_type": "code",
      "source": [
        "from sklearn.utils import shuffle\n",
        "\n",
        "images, Y = shuffle(images, Y, random_state=1)\n",
        "\n",
        "Y"
      ],
      "metadata": {
        "colab": {
          "base_uri": "https://localhost:8080/"
        },
        "id": "_MUW10jXlv6Y",
        "outputId": "0ee50e82-32f9-443a-b4f7-56c175bf5b6c"
      },
      "execution_count": null,
      "outputs": [
        {
          "output_type": "execute_result",
          "data": {
            "text/plain": [
              "array([[0., 1., 0.],\n",
              "       [0., 0., 1.],\n",
              "       [1., 0., 0.],\n",
              "       [1., 0., 0.],\n",
              "       [0., 0., 1.],\n",
              "       [1., 0., 0.],\n",
              "       [1., 0., 0.],\n",
              "       [1., 0., 0.],\n",
              "       [0., 1., 0.],\n",
              "       [0., 1., 0.],\n",
              "       [0., 0., 1.],\n",
              "       [0., 1., 0.],\n",
              "       [0., 1., 0.],\n",
              "       [0., 0., 1.],\n",
              "       [1., 0., 0.],\n",
              "       [1., 0., 0.],\n",
              "       [1., 0., 0.],\n",
              "       [0., 1., 0.],\n",
              "       [0., 1., 0.],\n",
              "       [1., 0., 0.],\n",
              "       [1., 0., 0.],\n",
              "       [0., 0., 1.],\n",
              "       [0., 0., 1.],\n",
              "       [0., 0., 1.],\n",
              "       [0., 1., 0.],\n",
              "       [1., 0., 0.],\n",
              "       [1., 0., 0.],\n",
              "       [0., 0., 1.],\n",
              "       [0., 1., 0.],\n",
              "       [0., 0., 1.],\n",
              "       [1., 0., 0.],\n",
              "       [1., 0., 0.],\n",
              "       [0., 1., 0.],\n",
              "       [0., 0., 1.],\n",
              "       [0., 0., 1.],\n",
              "       [0., 1., 0.],\n",
              "       [1., 0., 0.],\n",
              "       [1., 0., 0.],\n",
              "       [0., 0., 1.],\n",
              "       [1., 0., 0.],\n",
              "       [1., 0., 0.],\n",
              "       [0., 0., 1.],\n",
              "       [0., 0., 1.],\n",
              "       [0., 1., 0.],\n",
              "       [1., 0., 0.],\n",
              "       [0., 1., 0.],\n",
              "       [0., 1., 0.],\n",
              "       [0., 0., 1.],\n",
              "       [1., 0., 0.],\n",
              "       [0., 1., 0.],\n",
              "       [0., 0., 1.],\n",
              "       [1., 0., 0.],\n",
              "       [1., 0., 0.],\n",
              "       [0., 1., 0.],\n",
              "       [0., 0., 1.],\n",
              "       [0., 0., 1.],\n",
              "       [1., 0., 0.],\n",
              "       [0., 0., 1.],\n",
              "       [0., 1., 0.],\n",
              "       [0., 0., 1.],\n",
              "       [0., 0., 1.],\n",
              "       [0., 0., 1.],\n",
              "       [0., 0., 1.],\n",
              "       [0., 0., 1.],\n",
              "       [0., 1., 0.],\n",
              "       [0., 0., 1.],\n",
              "       [0., 1., 0.],\n",
              "       [1., 0., 0.],\n",
              "       [0., 1., 0.],\n",
              "       [0., 1., 0.],\n",
              "       [0., 0., 1.],\n",
              "       [0., 0., 1.],\n",
              "       [1., 0., 0.],\n",
              "       [1., 0., 0.],\n",
              "       [1., 0., 0.],\n",
              "       [0., 0., 1.],\n",
              "       [1., 0., 0.],\n",
              "       [0., 0., 1.],\n",
              "       [0., 0., 1.],\n",
              "       [1., 0., 0.],\n",
              "       [1., 0., 0.],\n",
              "       [0., 1., 0.],\n",
              "       [0., 0., 1.],\n",
              "       [0., 0., 1.],\n",
              "       [0., 0., 1.],\n",
              "       [0., 0., 1.],\n",
              "       [0., 0., 1.],\n",
              "       [0., 1., 0.],\n",
              "       [0., 0., 1.],\n",
              "       [0., 0., 1.],\n",
              "       [0., 1., 0.],\n",
              "       [1., 0., 0.],\n",
              "       [0., 1., 0.],\n",
              "       [1., 0., 0.],\n",
              "       [0., 1., 0.],\n",
              "       [0., 1., 0.],\n",
              "       [1., 0., 0.],\n",
              "       [0., 1., 0.],\n",
              "       [1., 0., 0.],\n",
              "       [1., 0., 0.],\n",
              "       [0., 0., 1.],\n",
              "       [0., 0., 1.],\n",
              "       [0., 0., 1.],\n",
              "       [1., 0., 0.],\n",
              "       [1., 0., 0.],\n",
              "       [0., 1., 0.],\n",
              "       [1., 0., 0.],\n",
              "       [0., 0., 1.],\n",
              "       [1., 0., 0.],\n",
              "       [0., 0., 1.],\n",
              "       [0., 0., 1.],\n",
              "       [1., 0., 0.],\n",
              "       [0., 0., 1.],\n",
              "       [0., 1., 0.],\n",
              "       [1., 0., 0.],\n",
              "       [0., 1., 0.],\n",
              "       [0., 1., 0.],\n",
              "       [1., 0., 0.],\n",
              "       [1., 0., 0.],\n",
              "       [0., 1., 0.],\n",
              "       [1., 0., 0.],\n",
              "       [0., 1., 0.],\n",
              "       [0., 1., 0.],\n",
              "       [1., 0., 0.],\n",
              "       [1., 0., 0.],\n",
              "       [0., 0., 1.],\n",
              "       [1., 0., 0.],\n",
              "       [0., 1., 0.],\n",
              "       [0., 0., 1.],\n",
              "       [0., 1., 0.],\n",
              "       [0., 1., 0.],\n",
              "       [0., 0., 1.],\n",
              "       [1., 0., 0.],\n",
              "       [1., 0., 0.],\n",
              "       [0., 1., 0.],\n",
              "       [0., 0., 1.],\n",
              "       [0., 1., 0.],\n",
              "       [0., 0., 1.],\n",
              "       [0., 0., 1.],\n",
              "       [0., 1., 0.],\n",
              "       [0., 0., 1.],\n",
              "       [1., 0., 0.]])"
            ]
          },
          "metadata": {},
          "execution_count": 65
        }
      ]
    },
    {
      "cell_type": "markdown",
      "source": [
        "### **1_2_3: Necessary libraries and functions**"
      ],
      "metadata": {
        "id": "_dHEtWyiF1-x"
      }
    },
    {
      "cell_type": "markdown",
      "source": [
        "#### **1_2_3_1: Necessary libraries, modules and classes to work with neural network models**"
      ],
      "metadata": {
        "id": "o9YGSdAfm65Z"
      }
    },
    {
      "cell_type": "code",
      "source": [
        "from keras.models import Model\n",
        "\n",
        "from keras.layers import Input, Add, Dense, Activation,BatchNormalization, Flatten, Conv2D, Dropout, AveragePooling2D, MaxPooling2D, GlobalMaxPooling2D\n",
        "\n",
        "from keras import Sequential"
      ],
      "metadata": {
        "id": "8EeAnkAnsdEn"
      },
      "execution_count": null,
      "outputs": []
    },
    {
      "cell_type": "markdown",
      "source": [
        "#### **1_2_3_2: Import the library to initialize our parameters (weights and biases)**"
      ],
      "metadata": {
        "id": "-KhNofXt1RW4"
      }
    },
    {
      "cell_type": "code",
      "source": [
        "from keras.initializers import glorot_uniform, he_normal"
      ],
      "metadata": {
        "id": "Vk45LZDG1Q7g"
      },
      "execution_count": null,
      "outputs": []
    },
    {
      "cell_type": "markdown",
      "source": [
        "#### **1_2_3_3: Import the library to plot the results**"
      ],
      "metadata": {
        "id": "NEgl2YHE1byU"
      }
    },
    {
      "cell_type": "code",
      "source": [
        "import matplotlib.pyplot as plt"
      ],
      "metadata": {
        "id": "TiXRoMUnuQvV"
      },
      "execution_count": null,
      "outputs": []
    },
    {
      "cell_type": "markdown",
      "source": [
        "#### **1_2_3_4: Function to show the accuracy of the model in each epoch**"
      ],
      "metadata": {
        "id": "Om71hlOL19Ly"
      }
    },
    {
      "cell_type": "code",
      "source": [
        "def display_accuracy(history):\n",
        "  plt.plot(history.history['accuracy'])\n",
        "  plt.plot(history.history['val_accuracy'])\n",
        "  plt.title('model accuracy')\n",
        "  plt.ylabel('accuracy')\n",
        "  plt.xlabel('epoch')\n",
        "  plt.legend(['Train accuracy', 'Validation accuracy','Train loss'], loc='upper right')\n",
        "  plt.ylim(ymax=2, ymin=0)\n",
        "  plt.show()"
      ],
      "metadata": {
        "id": "gaIWBnUtuCQb"
      },
      "execution_count": null,
      "outputs": []
    },
    {
      "cell_type": "markdown",
      "source": [
        "#### **1_2_3_5: Function to show the loss of the model in each epoch**"
      ],
      "metadata": {
        "id": "GWLa_7Mo2EcV"
      }
    },
    {
      "cell_type": "code",
      "source": [
        "def display_loss(history):\n",
        "  plt.plot(history.history['loss'])\n",
        "  plt.plot(history.history['val_loss'])\n",
        "  plt.title('model loss')\n",
        "  plt.ylabel('loss')\n",
        "  plt.xlabel('epoch')\n",
        "  plt.legend(['Train loss', 'Validation loss'], loc='upper left')\n",
        "  plt.ylim(ymax=5, ymin=0)\n",
        "  plt.show()\n"
      ],
      "metadata": {
        "id": "77Vb5v_IuIwD"
      },
      "execution_count": null,
      "outputs": []
    },
    {
      "cell_type": "markdown",
      "source": [
        "#### **1_2_3_6: Module to split the data**"
      ],
      "metadata": {
        "id": "HIwRfW1kGOpc"
      }
    },
    {
      "cell_type": "code",
      "source": [
        "from sklearn.model_selection import train_test_split"
      ],
      "metadata": {
        "id": "onkQHcI3GN4C"
      },
      "execution_count": null,
      "outputs": []
    },
    {
      "cell_type": "markdown",
      "source": [
        "### **1_2_4: Apply ResNet50 without Data Augmentation**"
      ],
      "metadata": {
        "id": "uacVeUZvC6Lv"
      }
    },
    {
      "cell_type": "markdown",
      "source": [
        "#### **1_2_4_1: split data into train and validation set**"
      ],
      "metadata": {
        "id": "ZgvJWpwMApSM"
      }
    },
    {
      "cell_type": "code",
      "source": [
        "X_train, X_valid, y_train, y_valid = train_test_split(images, Y, test_size=0.20, random_state=42)\n",
        "\n",
        "print(X_train.shape)\n",
        "print(y_train.shape)\n",
        "print(X_valid.shape)\n",
        "print(y_valid.shape)"
      ],
      "metadata": {
        "colab": {
          "base_uri": "https://localhost:8080/"
        },
        "id": "iVHx2cs3mX7I",
        "outputId": "d106b67c-275c-45f5-f893-020247ec546b"
      },
      "execution_count": null,
      "outputs": [
        {
          "output_type": "stream",
          "name": "stdout",
          "text": [
            "(99, 224, 224, 3)\n",
            "(99, 3)\n",
            "(43, 224, 224, 3)\n",
            "(43, 3)\n"
          ]
        }
      ]
    },
    {
      "cell_type": "markdown",
      "source": [
        "#### **1_2_4_2: Import the built in class for ResNet50 model**"
      ],
      "metadata": {
        "id": "3EkhXBaE1Kn8"
      }
    },
    {
      "cell_type": "code",
      "source": [
        "from tensorflow.keras.applications import ResNet50"
      ],
      "metadata": {
        "id": "lZunSOwq1Ilh"
      },
      "execution_count": null,
      "outputs": []
    },
    {
      "cell_type": "markdown",
      "source": [
        "#### **1_2_4_3: Instantiate from the ResNet50 class as our base model**"
      ],
      "metadata": {
        "id": "MCYEn0PS1ULY"
      }
    },
    {
      "cell_type": "code",
      "source": [
        "ResNet50_base = ResNet50(weights='imagenet', include_top=False, input_shape=(224, 224, 3))"
      ],
      "metadata": {
        "id": "xKBzzz_Y1TrI"
      },
      "execution_count": null,
      "outputs": []
    },
    {
      "cell_type": "markdown",
      "source": [
        "#### **1_2_4_4: Make the layers of ResNet50 base model untrainable**"
      ],
      "metadata": {
        "id": "1utnlv8S1vfF"
      }
    },
    {
      "cell_type": "code",
      "source": [
        "ResNet50_base.trainable = False"
      ],
      "metadata": {
        "id": "I9x3Ig3614bd"
      },
      "execution_count": null,
      "outputs": []
    },
    {
      "cell_type": "markdown",
      "source": [
        "#### **1_2_4_5: Make our own model by adding some layers**"
      ],
      "metadata": {
        "id": "FXF7BK5b1lMg"
      }
    },
    {
      "cell_type": "code",
      "source": [
        "ResNet50_model = Sequential([\n",
        "    ResNet50_base,\n",
        "    Flatten(),\n",
        "    BatchNormalization(),\n",
        "    Dense(512, activation='relu', kernel_initializer = 'he_normal'),\n",
        "    BatchNormalization(),\n",
        "    Dropout(0.5),\n",
        "    Dense(512, activation='relu', kernel_initializer = 'he_normal'),\n",
        "    BatchNormalization(),\n",
        "    Dropout(0.5),\n",
        "    Dense(512, activation='relu', kernel_initializer = 'he_normal'),\n",
        "    BatchNormalization(),\n",
        "    Dropout(0.5),\n",
        "    Dense(512, activation='relu', kernel_initializer = 'he_normal'),\n",
        "    BatchNormalization(),\n",
        "    Dropout(0.5),\n",
        "    Dense(3, activation='softmax')\n",
        "])"
      ],
      "metadata": {
        "id": "80OWlj-InmYB"
      },
      "execution_count": null,
      "outputs": []
    },
    {
      "cell_type": "markdown",
      "source": [
        "#### **1_2_4_6: Compile the model**"
      ],
      "metadata": {
        "id": "d8_lksHkoB0g"
      }
    },
    {
      "cell_type": "markdown",
      "source": [
        "##### **Note about learning-rate:**\n",
        "Train the entire model (frozen layers + new layers) with a very low learning rate\n",
        "\n",
        "A common starting point for the learning rate in transfer learning is between 1e-4 (0.0001) and 1e-5 (0.00001). This lower range helps in fine-tuning the pre-trained weights without making significant changes, allowing the new layers to learn from your small dataset.\n",
        "\n",
        "Pre-trained Model Strength: If the pre-trained model is already very strong on a similar task, you might use an even lower learning rate (e.g., 1e-6) to avoid disturbing the well-learned weights."
      ],
      "metadata": {
        "id": "eiCWM4OMrOHz"
      }
    },
    {
      "cell_type": "code",
      "source": [
        "ResNet50_model.compile(optimizer=Adam(learning_rate = 1e-4), loss='categorical_crossentropy', metrics=['accuracy'])"
      ],
      "metadata": {
        "id": "tX0wJJiLrumS"
      },
      "execution_count": null,
      "outputs": []
    },
    {
      "cell_type": "markdown",
      "source": [
        "#### **1_2_4_7: Review the structure of model**"
      ],
      "metadata": {
        "id": "VJ65LjdvoXFM"
      }
    },
    {
      "cell_type": "code",
      "source": [
        "ResNet50_model.summary()"
      ],
      "metadata": {
        "colab": {
          "base_uri": "https://localhost:8080/"
        },
        "id": "zNyRYn4PrwsX",
        "outputId": "b8dbb0cb-b43b-434f-ee0e-fbceca182984"
      },
      "execution_count": null,
      "outputs": [
        {
          "output_type": "stream",
          "name": "stdout",
          "text": [
            "Model: \"ResNet50\"\n",
            "__________________________________________________________________________________________________\n",
            " Layer (type)                Output Shape                 Param #   Connected to                  \n",
            "==================================================================================================\n",
            " input_5 (InputLayer)        [(None, 224, 224, 3)]        0         []                            \n",
            "                                                                                                  \n",
            " zero_padding2d_2 (ZeroPadd  (None, 230, 230, 3)          0         ['input_5[0][0]']             \n",
            " ing2D)                                                                                           \n",
            "                                                                                                  \n",
            " conv1 (Conv2D)              (None, 112, 112, 64)         9472      ['zero_padding2d_2[0][0]']    \n",
            "                                                                                                  \n",
            " bn_conv1 (BatchNormalizati  (None, 112, 112, 64)         256       ['conv1[0][0]']               \n",
            " on)                                                                                              \n",
            "                                                                                                  \n",
            " activation_98 (Activation)  (None, 112, 112, 64)         0         ['bn_conv1[0][0]']            \n",
            "                                                                                                  \n",
            " max_pooling2d_2 (MaxPoolin  (None, 55, 55, 64)           0         ['activation_98[0][0]']       \n",
            " g2D)                                                                                             \n",
            "                                                                                                  \n",
            " res2a_branch2a (Conv2D)     (None, 55, 55, 64)           4160      ['max_pooling2d_2[0][0]']     \n",
            "                                                                                                  \n",
            " bn2a_branch2a (BatchNormal  (None, 55, 55, 64)           256       ['res2a_branch2a[0][0]']      \n",
            " ization)                                                                                         \n",
            "                                                                                                  \n",
            " activation_99 (Activation)  (None, 55, 55, 64)           0         ['bn2a_branch2a[0][0]']       \n",
            "                                                                                                  \n",
            " res2a_branch2b (Conv2D)     (None, 55, 55, 64)           36928     ['activation_99[0][0]']       \n",
            "                                                                                                  \n",
            " bn2a_branch2b (BatchNormal  (None, 55, 55, 64)           256       ['res2a_branch2b[0][0]']      \n",
            " ization)                                                                                         \n",
            "                                                                                                  \n",
            " activation_100 (Activation  (None, 55, 55, 64)           0         ['bn2a_branch2b[0][0]']       \n",
            " )                                                                                                \n",
            "                                                                                                  \n",
            " res2a_branch2c (Conv2D)     (None, 55, 55, 256)          16640     ['activation_100[0][0]']      \n",
            "                                                                                                  \n",
            " res2a_branch1 (Conv2D)      (None, 55, 55, 256)          16640     ['max_pooling2d_2[0][0]']     \n",
            "                                                                                                  \n",
            " bn2a_branch2c (BatchNormal  (None, 55, 55, 256)          1024      ['res2a_branch2c[0][0]']      \n",
            " ization)                                                                                         \n",
            "                                                                                                  \n",
            " bn2a_branch1 (BatchNormali  (None, 55, 55, 256)          1024      ['res2a_branch1[0][0]']       \n",
            " zation)                                                                                          \n",
            "                                                                                                  \n",
            " add_32 (Add)                (None, 55, 55, 256)          0         ['bn2a_branch2c[0][0]',       \n",
            "                                                                     'bn2a_branch1[0][0]']        \n",
            "                                                                                                  \n",
            " activation_101 (Activation  (None, 55, 55, 256)          0         ['add_32[0][0]']              \n",
            " )                                                                                                \n",
            "                                                                                                  \n",
            " res2b_branch2a (Conv2D)     (None, 55, 55, 64)           16448     ['activation_101[0][0]']      \n",
            "                                                                                                  \n",
            " bn2b_branch2a (BatchNormal  (None, 55, 55, 64)           256       ['res2b_branch2a[0][0]']      \n",
            " ization)                                                                                         \n",
            "                                                                                                  \n",
            " activation_102 (Activation  (None, 55, 55, 64)           0         ['bn2b_branch2a[0][0]']       \n",
            " )                                                                                                \n",
            "                                                                                                  \n",
            " res2b_branch2b (Conv2D)     (None, 55, 55, 64)           36928     ['activation_102[0][0]']      \n",
            "                                                                                                  \n",
            " bn2b_branch2b (BatchNormal  (None, 55, 55, 64)           256       ['res2b_branch2b[0][0]']      \n",
            " ization)                                                                                         \n",
            "                                                                                                  \n",
            " activation_103 (Activation  (None, 55, 55, 64)           0         ['bn2b_branch2b[0][0]']       \n",
            " )                                                                                                \n",
            "                                                                                                  \n",
            " res2b_branch2c (Conv2D)     (None, 55, 55, 256)          16640     ['activation_103[0][0]']      \n",
            "                                                                                                  \n",
            " bn2b_branch2c (BatchNormal  (None, 55, 55, 256)          1024      ['res2b_branch2c[0][0]']      \n",
            " ization)                                                                                         \n",
            "                                                                                                  \n",
            " add_33 (Add)                (None, 55, 55, 256)          0         ['bn2b_branch2c[0][0]',       \n",
            "                                                                     'activation_101[0][0]']      \n",
            "                                                                                                  \n",
            " activation_104 (Activation  (None, 55, 55, 256)          0         ['add_33[0][0]']              \n",
            " )                                                                                                \n",
            "                                                                                                  \n",
            " res2c_branch2a (Conv2D)     (None, 55, 55, 64)           16448     ['activation_104[0][0]']      \n",
            "                                                                                                  \n",
            " bn2c_branch2a (BatchNormal  (None, 55, 55, 64)           256       ['res2c_branch2a[0][0]']      \n",
            " ization)                                                                                         \n",
            "                                                                                                  \n",
            " activation_105 (Activation  (None, 55, 55, 64)           0         ['bn2c_branch2a[0][0]']       \n",
            " )                                                                                                \n",
            "                                                                                                  \n",
            " res2c_branch2b (Conv2D)     (None, 55, 55, 64)           36928     ['activation_105[0][0]']      \n",
            "                                                                                                  \n",
            " bn2c_branch2b (BatchNormal  (None, 55, 55, 64)           256       ['res2c_branch2b[0][0]']      \n",
            " ization)                                                                                         \n",
            "                                                                                                  \n",
            " activation_106 (Activation  (None, 55, 55, 64)           0         ['bn2c_branch2b[0][0]']       \n",
            " )                                                                                                \n",
            "                                                                                                  \n",
            " res2c_branch2c (Conv2D)     (None, 55, 55, 256)          16640     ['activation_106[0][0]']      \n",
            "                                                                                                  \n",
            " bn2c_branch2c (BatchNormal  (None, 55, 55, 256)          1024      ['res2c_branch2c[0][0]']      \n",
            " ization)                                                                                         \n",
            "                                                                                                  \n",
            " add_34 (Add)                (None, 55, 55, 256)          0         ['bn2c_branch2c[0][0]',       \n",
            "                                                                     'activation_104[0][0]']      \n",
            "                                                                                                  \n",
            " activation_107 (Activation  (None, 55, 55, 256)          0         ['add_34[0][0]']              \n",
            " )                                                                                                \n",
            "                                                                                                  \n",
            " res3a_branch2a (Conv2D)     (None, 28, 28, 128)          32896     ['activation_107[0][0]']      \n",
            "                                                                                                  \n",
            " bn3a_branch2a (BatchNormal  (None, 28, 28, 128)          512       ['res3a_branch2a[0][0]']      \n",
            " ization)                                                                                         \n",
            "                                                                                                  \n",
            " activation_108 (Activation  (None, 28, 28, 128)          0         ['bn3a_branch2a[0][0]']       \n",
            " )                                                                                                \n",
            "                                                                                                  \n",
            " res3a_branch2b (Conv2D)     (None, 28, 28, 128)          147584    ['activation_108[0][0]']      \n",
            "                                                                                                  \n",
            " bn3a_branch2b (BatchNormal  (None, 28, 28, 128)          512       ['res3a_branch2b[0][0]']      \n",
            " ization)                                                                                         \n",
            "                                                                                                  \n",
            " activation_109 (Activation  (None, 28, 28, 128)          0         ['bn3a_branch2b[0][0]']       \n",
            " )                                                                                                \n",
            "                                                                                                  \n",
            " res3a_branch2c (Conv2D)     (None, 28, 28, 512)          66048     ['activation_109[0][0]']      \n",
            "                                                                                                  \n",
            " res3a_branch1 (Conv2D)      (None, 28, 28, 512)          131584    ['activation_107[0][0]']      \n",
            "                                                                                                  \n",
            " bn3a_branch2c (BatchNormal  (None, 28, 28, 512)          2048      ['res3a_branch2c[0][0]']      \n",
            " ization)                                                                                         \n",
            "                                                                                                  \n",
            " bn3a_branch1 (BatchNormali  (None, 28, 28, 512)          2048      ['res3a_branch1[0][0]']       \n",
            " zation)                                                                                          \n",
            "                                                                                                  \n",
            " add_35 (Add)                (None, 28, 28, 512)          0         ['bn3a_branch2c[0][0]',       \n",
            "                                                                     'bn3a_branch1[0][0]']        \n",
            "                                                                                                  \n",
            " activation_110 (Activation  (None, 28, 28, 512)          0         ['add_35[0][0]']              \n",
            " )                                                                                                \n",
            "                                                                                                  \n",
            " res3b_branch2a (Conv2D)     (None, 28, 28, 128)          65664     ['activation_110[0][0]']      \n",
            "                                                                                                  \n",
            " bn3b_branch2a (BatchNormal  (None, 28, 28, 128)          512       ['res3b_branch2a[0][0]']      \n",
            " ization)                                                                                         \n",
            "                                                                                                  \n",
            " activation_111 (Activation  (None, 28, 28, 128)          0         ['bn3b_branch2a[0][0]']       \n",
            " )                                                                                                \n",
            "                                                                                                  \n",
            " res3b_branch2b (Conv2D)     (None, 28, 28, 128)          147584    ['activation_111[0][0]']      \n",
            "                                                                                                  \n",
            " bn3b_branch2b (BatchNormal  (None, 28, 28, 128)          512       ['res3b_branch2b[0][0]']      \n",
            " ization)                                                                                         \n",
            "                                                                                                  \n",
            " activation_112 (Activation  (None, 28, 28, 128)          0         ['bn3b_branch2b[0][0]']       \n",
            " )                                                                                                \n",
            "                                                                                                  \n",
            " res3b_branch2c (Conv2D)     (None, 28, 28, 512)          66048     ['activation_112[0][0]']      \n",
            "                                                                                                  \n",
            " bn3b_branch2c (BatchNormal  (None, 28, 28, 512)          2048      ['res3b_branch2c[0][0]']      \n",
            " ization)                                                                                         \n",
            "                                                                                                  \n",
            " add_36 (Add)                (None, 28, 28, 512)          0         ['bn3b_branch2c[0][0]',       \n",
            "                                                                     'activation_110[0][0]']      \n",
            "                                                                                                  \n",
            " activation_113 (Activation  (None, 28, 28, 512)          0         ['add_36[0][0]']              \n",
            " )                                                                                                \n",
            "                                                                                                  \n",
            " res3c_branch2a (Conv2D)     (None, 28, 28, 128)          65664     ['activation_113[0][0]']      \n",
            "                                                                                                  \n",
            " bn3c_branch2a (BatchNormal  (None, 28, 28, 128)          512       ['res3c_branch2a[0][0]']      \n",
            " ization)                                                                                         \n",
            "                                                                                                  \n",
            " activation_114 (Activation  (None, 28, 28, 128)          0         ['bn3c_branch2a[0][0]']       \n",
            " )                                                                                                \n",
            "                                                                                                  \n",
            " res3c_branch2b (Conv2D)     (None, 28, 28, 128)          147584    ['activation_114[0][0]']      \n",
            "                                                                                                  \n",
            " bn3c_branch2b (BatchNormal  (None, 28, 28, 128)          512       ['res3c_branch2b[0][0]']      \n",
            " ization)                                                                                         \n",
            "                                                                                                  \n",
            " activation_115 (Activation  (None, 28, 28, 128)          0         ['bn3c_branch2b[0][0]']       \n",
            " )                                                                                                \n",
            "                                                                                                  \n",
            " res3c_branch2c (Conv2D)     (None, 28, 28, 512)          66048     ['activation_115[0][0]']      \n",
            "                                                                                                  \n",
            " bn3c_branch2c (BatchNormal  (None, 28, 28, 512)          2048      ['res3c_branch2c[0][0]']      \n",
            " ization)                                                                                         \n",
            "                                                                                                  \n",
            " add_37 (Add)                (None, 28, 28, 512)          0         ['bn3c_branch2c[0][0]',       \n",
            "                                                                     'activation_113[0][0]']      \n",
            "                                                                                                  \n",
            " activation_116 (Activation  (None, 28, 28, 512)          0         ['add_37[0][0]']              \n",
            " )                                                                                                \n",
            "                                                                                                  \n",
            " res3d_branch2a (Conv2D)     (None, 28, 28, 128)          65664     ['activation_116[0][0]']      \n",
            "                                                                                                  \n",
            " bn3d_branch2a (BatchNormal  (None, 28, 28, 128)          512       ['res3d_branch2a[0][0]']      \n",
            " ization)                                                                                         \n",
            "                                                                                                  \n",
            " activation_117 (Activation  (None, 28, 28, 128)          0         ['bn3d_branch2a[0][0]']       \n",
            " )                                                                                                \n",
            "                                                                                                  \n",
            " res3d_branch2b (Conv2D)     (None, 28, 28, 128)          147584    ['activation_117[0][0]']      \n",
            "                                                                                                  \n",
            " bn3d_branch2b (BatchNormal  (None, 28, 28, 128)          512       ['res3d_branch2b[0][0]']      \n",
            " ization)                                                                                         \n",
            "                                                                                                  \n",
            " activation_118 (Activation  (None, 28, 28, 128)          0         ['bn3d_branch2b[0][0]']       \n",
            " )                                                                                                \n",
            "                                                                                                  \n",
            " res3d_branch2c (Conv2D)     (None, 28, 28, 512)          66048     ['activation_118[0][0]']      \n",
            "                                                                                                  \n",
            " bn3d_branch2c (BatchNormal  (None, 28, 28, 512)          2048      ['res3d_branch2c[0][0]']      \n",
            " ization)                                                                                         \n",
            "                                                                                                  \n",
            " add_38 (Add)                (None, 28, 28, 512)          0         ['bn3d_branch2c[0][0]',       \n",
            "                                                                     'activation_116[0][0]']      \n",
            "                                                                                                  \n",
            " activation_119 (Activation  (None, 28, 28, 512)          0         ['add_38[0][0]']              \n",
            " )                                                                                                \n",
            "                                                                                                  \n",
            " res4a_branch2a (Conv2D)     (None, 14, 14, 256)          131328    ['activation_119[0][0]']      \n",
            "                                                                                                  \n",
            " bn4a_branch2a (BatchNormal  (None, 14, 14, 256)          1024      ['res4a_branch2a[0][0]']      \n",
            " ization)                                                                                         \n",
            "                                                                                                  \n",
            " activation_120 (Activation  (None, 14, 14, 256)          0         ['bn4a_branch2a[0][0]']       \n",
            " )                                                                                                \n",
            "                                                                                                  \n",
            " res4a_branch2b (Conv2D)     (None, 14, 14, 256)          590080    ['activation_120[0][0]']      \n",
            "                                                                                                  \n",
            " bn4a_branch2b (BatchNormal  (None, 14, 14, 256)          1024      ['res4a_branch2b[0][0]']      \n",
            " ization)                                                                                         \n",
            "                                                                                                  \n",
            " activation_121 (Activation  (None, 14, 14, 256)          0         ['bn4a_branch2b[0][0]']       \n",
            " )                                                                                                \n",
            "                                                                                                  \n",
            " res4a_branch2c (Conv2D)     (None, 14, 14, 1024)         263168    ['activation_121[0][0]']      \n",
            "                                                                                                  \n",
            " res4a_branch1 (Conv2D)      (None, 14, 14, 1024)         525312    ['activation_119[0][0]']      \n",
            "                                                                                                  \n",
            " bn4a_branch2c (BatchNormal  (None, 14, 14, 1024)         4096      ['res4a_branch2c[0][0]']      \n",
            " ization)                                                                                         \n",
            "                                                                                                  \n",
            " bn4a_branch1 (BatchNormali  (None, 14, 14, 1024)         4096      ['res4a_branch1[0][0]']       \n",
            " zation)                                                                                          \n",
            "                                                                                                  \n",
            " add_39 (Add)                (None, 14, 14, 1024)         0         ['bn4a_branch2c[0][0]',       \n",
            "                                                                     'bn4a_branch1[0][0]']        \n",
            "                                                                                                  \n",
            " activation_122 (Activation  (None, 14, 14, 1024)         0         ['add_39[0][0]']              \n",
            " )                                                                                                \n",
            "                                                                                                  \n",
            " res4b_branch2a (Conv2D)     (None, 14, 14, 256)          262400    ['activation_122[0][0]']      \n",
            "                                                                                                  \n",
            " bn4b_branch2a (BatchNormal  (None, 14, 14, 256)          1024      ['res4b_branch2a[0][0]']      \n",
            " ization)                                                                                         \n",
            "                                                                                                  \n",
            " activation_123 (Activation  (None, 14, 14, 256)          0         ['bn4b_branch2a[0][0]']       \n",
            " )                                                                                                \n",
            "                                                                                                  \n",
            " res4b_branch2b (Conv2D)     (None, 14, 14, 256)          590080    ['activation_123[0][0]']      \n",
            "                                                                                                  \n",
            " bn4b_branch2b (BatchNormal  (None, 14, 14, 256)          1024      ['res4b_branch2b[0][0]']      \n",
            " ization)                                                                                         \n",
            "                                                                                                  \n",
            " activation_124 (Activation  (None, 14, 14, 256)          0         ['bn4b_branch2b[0][0]']       \n",
            " )                                                                                                \n",
            "                                                                                                  \n",
            " res4b_branch2c (Conv2D)     (None, 14, 14, 1024)         263168    ['activation_124[0][0]']      \n",
            "                                                                                                  \n",
            " bn4b_branch2c (BatchNormal  (None, 14, 14, 1024)         4096      ['res4b_branch2c[0][0]']      \n",
            " ization)                                                                                         \n",
            "                                                                                                  \n",
            " add_40 (Add)                (None, 14, 14, 1024)         0         ['bn4b_branch2c[0][0]',       \n",
            "                                                                     'activation_122[0][0]']      \n",
            "                                                                                                  \n",
            " activation_125 (Activation  (None, 14, 14, 1024)         0         ['add_40[0][0]']              \n",
            " )                                                                                                \n",
            "                                                                                                  \n",
            " res4c_branch2a (Conv2D)     (None, 14, 14, 256)          262400    ['activation_125[0][0]']      \n",
            "                                                                                                  \n",
            " bn4c_branch2a (BatchNormal  (None, 14, 14, 256)          1024      ['res4c_branch2a[0][0]']      \n",
            " ization)                                                                                         \n",
            "                                                                                                  \n",
            " activation_126 (Activation  (None, 14, 14, 256)          0         ['bn4c_branch2a[0][0]']       \n",
            " )                                                                                                \n",
            "                                                                                                  \n",
            " res4c_branch2b (Conv2D)     (None, 14, 14, 256)          590080    ['activation_126[0][0]']      \n",
            "                                                                                                  \n",
            " bn4c_branch2b (BatchNormal  (None, 14, 14, 256)          1024      ['res4c_branch2b[0][0]']      \n",
            " ization)                                                                                         \n",
            "                                                                                                  \n",
            " activation_127 (Activation  (None, 14, 14, 256)          0         ['bn4c_branch2b[0][0]']       \n",
            " )                                                                                                \n",
            "                                                                                                  \n",
            " res4c_branch2c (Conv2D)     (None, 14, 14, 1024)         263168    ['activation_127[0][0]']      \n",
            "                                                                                                  \n",
            " bn4c_branch2c (BatchNormal  (None, 14, 14, 1024)         4096      ['res4c_branch2c[0][0]']      \n",
            " ization)                                                                                         \n",
            "                                                                                                  \n",
            " add_41 (Add)                (None, 14, 14, 1024)         0         ['bn4c_branch2c[0][0]',       \n",
            "                                                                     'activation_125[0][0]']      \n",
            "                                                                                                  \n",
            " activation_128 (Activation  (None, 14, 14, 1024)         0         ['add_41[0][0]']              \n",
            " )                                                                                                \n",
            "                                                                                                  \n",
            " res4d_branch2a (Conv2D)     (None, 14, 14, 256)          262400    ['activation_128[0][0]']      \n",
            "                                                                                                  \n",
            " bn4d_branch2a (BatchNormal  (None, 14, 14, 256)          1024      ['res4d_branch2a[0][0]']      \n",
            " ization)                                                                                         \n",
            "                                                                                                  \n",
            " activation_129 (Activation  (None, 14, 14, 256)          0         ['bn4d_branch2a[0][0]']       \n",
            " )                                                                                                \n",
            "                                                                                                  \n",
            " res4d_branch2b (Conv2D)     (None, 14, 14, 256)          590080    ['activation_129[0][0]']      \n",
            "                                                                                                  \n",
            " bn4d_branch2b (BatchNormal  (None, 14, 14, 256)          1024      ['res4d_branch2b[0][0]']      \n",
            " ization)                                                                                         \n",
            "                                                                                                  \n",
            " activation_130 (Activation  (None, 14, 14, 256)          0         ['bn4d_branch2b[0][0]']       \n",
            " )                                                                                                \n",
            "                                                                                                  \n",
            " res4d_branch2c (Conv2D)     (None, 14, 14, 1024)         263168    ['activation_130[0][0]']      \n",
            "                                                                                                  \n",
            " bn4d_branch2c (BatchNormal  (None, 14, 14, 1024)         4096      ['res4d_branch2c[0][0]']      \n",
            " ization)                                                                                         \n",
            "                                                                                                  \n",
            " add_42 (Add)                (None, 14, 14, 1024)         0         ['bn4d_branch2c[0][0]',       \n",
            "                                                                     'activation_128[0][0]']      \n",
            "                                                                                                  \n",
            " activation_131 (Activation  (None, 14, 14, 1024)         0         ['add_42[0][0]']              \n",
            " )                                                                                                \n",
            "                                                                                                  \n",
            " res4e_branch2a (Conv2D)     (None, 14, 14, 256)          262400    ['activation_131[0][0]']      \n",
            "                                                                                                  \n",
            " bn4e_branch2a (BatchNormal  (None, 14, 14, 256)          1024      ['res4e_branch2a[0][0]']      \n",
            " ization)                                                                                         \n",
            "                                                                                                  \n",
            " activation_132 (Activation  (None, 14, 14, 256)          0         ['bn4e_branch2a[0][0]']       \n",
            " )                                                                                                \n",
            "                                                                                                  \n",
            " res4e_branch2b (Conv2D)     (None, 14, 14, 256)          590080    ['activation_132[0][0]']      \n",
            "                                                                                                  \n",
            " bn4e_branch2b (BatchNormal  (None, 14, 14, 256)          1024      ['res4e_branch2b[0][0]']      \n",
            " ization)                                                                                         \n",
            "                                                                                                  \n",
            " activation_133 (Activation  (None, 14, 14, 256)          0         ['bn4e_branch2b[0][0]']       \n",
            " )                                                                                                \n",
            "                                                                                                  \n",
            " res4e_branch2c (Conv2D)     (None, 14, 14, 1024)         263168    ['activation_133[0][0]']      \n",
            "                                                                                                  \n",
            " bn4e_branch2c (BatchNormal  (None, 14, 14, 1024)         4096      ['res4e_branch2c[0][0]']      \n",
            " ization)                                                                                         \n",
            "                                                                                                  \n",
            " add_43 (Add)                (None, 14, 14, 1024)         0         ['bn4e_branch2c[0][0]',       \n",
            "                                                                     'activation_131[0][0]']      \n",
            "                                                                                                  \n",
            " activation_134 (Activation  (None, 14, 14, 1024)         0         ['add_43[0][0]']              \n",
            " )                                                                                                \n",
            "                                                                                                  \n",
            " res4f_branch2a (Conv2D)     (None, 14, 14, 256)          262400    ['activation_134[0][0]']      \n",
            "                                                                                                  \n",
            " bn4f_branch2a (BatchNormal  (None, 14, 14, 256)          1024      ['res4f_branch2a[0][0]']      \n",
            " ization)                                                                                         \n",
            "                                                                                                  \n",
            " activation_135 (Activation  (None, 14, 14, 256)          0         ['bn4f_branch2a[0][0]']       \n",
            " )                                                                                                \n",
            "                                                                                                  \n",
            " res4f_branch2b (Conv2D)     (None, 14, 14, 256)          590080    ['activation_135[0][0]']      \n",
            "                                                                                                  \n",
            " bn4f_branch2b (BatchNormal  (None, 14, 14, 256)          1024      ['res4f_branch2b[0][0]']      \n",
            " ization)                                                                                         \n",
            "                                                                                                  \n",
            " activation_136 (Activation  (None, 14, 14, 256)          0         ['bn4f_branch2b[0][0]']       \n",
            " )                                                                                                \n",
            "                                                                                                  \n",
            " res4f_branch2c (Conv2D)     (None, 14, 14, 1024)         263168    ['activation_136[0][0]']      \n",
            "                                                                                                  \n",
            " bn4f_branch2c (BatchNormal  (None, 14, 14, 1024)         4096      ['res4f_branch2c[0][0]']      \n",
            " ization)                                                                                         \n",
            "                                                                                                  \n",
            " add_44 (Add)                (None, 14, 14, 1024)         0         ['bn4f_branch2c[0][0]',       \n",
            "                                                                     'activation_134[0][0]']      \n",
            "                                                                                                  \n",
            " activation_137 (Activation  (None, 14, 14, 1024)         0         ['add_44[0][0]']              \n",
            " )                                                                                                \n",
            "                                                                                                  \n",
            " res5a_branch2a (Conv2D)     (None, 7, 7, 512)            524800    ['activation_137[0][0]']      \n",
            "                                                                                                  \n",
            " bn5a_branch2a (BatchNormal  (None, 7, 7, 512)            2048      ['res5a_branch2a[0][0]']      \n",
            " ization)                                                                                         \n",
            "                                                                                                  \n",
            " activation_138 (Activation  (None, 7, 7, 512)            0         ['bn5a_branch2a[0][0]']       \n",
            " )                                                                                                \n",
            "                                                                                                  \n",
            " res5a_branch2b (Conv2D)     (None, 7, 7, 512)            2359808   ['activation_138[0][0]']      \n",
            "                                                                                                  \n",
            " bn5a_branch2b (BatchNormal  (None, 7, 7, 512)            2048      ['res5a_branch2b[0][0]']      \n",
            " ization)                                                                                         \n",
            "                                                                                                  \n",
            " activation_139 (Activation  (None, 7, 7, 512)            0         ['bn5a_branch2b[0][0]']       \n",
            " )                                                                                                \n",
            "                                                                                                  \n",
            " res5a_branch2c (Conv2D)     (None, 7, 7, 2048)           1050624   ['activation_139[0][0]']      \n",
            "                                                                                                  \n",
            " res5a_branch1 (Conv2D)      (None, 7, 7, 2048)           2099200   ['activation_137[0][0]']      \n",
            "                                                                                                  \n",
            " bn5a_branch2c (BatchNormal  (None, 7, 7, 2048)           8192      ['res5a_branch2c[0][0]']      \n",
            " ization)                                                                                         \n",
            "                                                                                                  \n",
            " bn5a_branch1 (BatchNormali  (None, 7, 7, 2048)           8192      ['res5a_branch1[0][0]']       \n",
            " zation)                                                                                          \n",
            "                                                                                                  \n",
            " add_45 (Add)                (None, 7, 7, 2048)           0         ['bn5a_branch2c[0][0]',       \n",
            "                                                                     'bn5a_branch1[0][0]']        \n",
            "                                                                                                  \n",
            " activation_140 (Activation  (None, 7, 7, 2048)           0         ['add_45[0][0]']              \n",
            " )                                                                                                \n",
            "                                                                                                  \n",
            " res5b_branch2a (Conv2D)     (None, 7, 7, 512)            1049088   ['activation_140[0][0]']      \n",
            "                                                                                                  \n",
            " bn5b_branch2a (BatchNormal  (None, 7, 7, 512)            2048      ['res5b_branch2a[0][0]']      \n",
            " ization)                                                                                         \n",
            "                                                                                                  \n",
            " activation_141 (Activation  (None, 7, 7, 512)            0         ['bn5b_branch2a[0][0]']       \n",
            " )                                                                                                \n",
            "                                                                                                  \n",
            " res5b_branch2b (Conv2D)     (None, 7, 7, 512)            2359808   ['activation_141[0][0]']      \n",
            "                                                                                                  \n",
            " bn5b_branch2b (BatchNormal  (None, 7, 7, 512)            2048      ['res5b_branch2b[0][0]']      \n",
            " ization)                                                                                         \n",
            "                                                                                                  \n",
            " activation_142 (Activation  (None, 7, 7, 512)            0         ['bn5b_branch2b[0][0]']       \n",
            " )                                                                                                \n",
            "                                                                                                  \n",
            " res5b_branch2c (Conv2D)     (None, 7, 7, 2048)           1050624   ['activation_142[0][0]']      \n",
            "                                                                                                  \n",
            " bn5b_branch2c (BatchNormal  (None, 7, 7, 2048)           8192      ['res5b_branch2c[0][0]']      \n",
            " ization)                                                                                         \n",
            "                                                                                                  \n",
            " add_46 (Add)                (None, 7, 7, 2048)           0         ['bn5b_branch2c[0][0]',       \n",
            "                                                                     'activation_140[0][0]']      \n",
            "                                                                                                  \n",
            " activation_143 (Activation  (None, 7, 7, 2048)           0         ['add_46[0][0]']              \n",
            " )                                                                                                \n",
            "                                                                                                  \n",
            " res5c_branch2a (Conv2D)     (None, 7, 7, 512)            1049088   ['activation_143[0][0]']      \n",
            "                                                                                                  \n",
            " bn5c_branch2a (BatchNormal  (None, 7, 7, 512)            2048      ['res5c_branch2a[0][0]']      \n",
            " ization)                                                                                         \n",
            "                                                                                                  \n",
            " activation_144 (Activation  (None, 7, 7, 512)            0         ['bn5c_branch2a[0][0]']       \n",
            " )                                                                                                \n",
            "                                                                                                  \n",
            " res5c_branch2b (Conv2D)     (None, 7, 7, 512)            2359808   ['activation_144[0][0]']      \n",
            "                                                                                                  \n",
            " bn5c_branch2b (BatchNormal  (None, 7, 7, 512)            2048      ['res5c_branch2b[0][0]']      \n",
            " ization)                                                                                         \n",
            "                                                                                                  \n",
            " activation_145 (Activation  (None, 7, 7, 512)            0         ['bn5c_branch2b[0][0]']       \n",
            " )                                                                                                \n",
            "                                                                                                  \n",
            " res5c_branch2c (Conv2D)     (None, 7, 7, 2048)           1050624   ['activation_145[0][0]']      \n",
            "                                                                                                  \n",
            " bn5c_branch2c (BatchNormal  (None, 7, 7, 2048)           8192      ['res5c_branch2c[0][0]']      \n",
            " ization)                                                                                         \n",
            "                                                                                                  \n",
            " add_47 (Add)                (None, 7, 7, 2048)           0         ['bn5c_branch2c[0][0]',       \n",
            "                                                                     'activation_143[0][0]']      \n",
            "                                                                                                  \n",
            " activation_146 (Activation  (None, 7, 7, 2048)           0         ['add_47[0][0]']              \n",
            " )                                                                                                \n",
            "                                                                                                  \n",
            " avg_pool (AveragePooling2D  (None, 3, 3, 2048)           0         ['activation_146[0][0]']      \n",
            " )                                                                                                \n",
            "                                                                                                  \n",
            " flatten_2 (Flatten)         (None, 18432)                0         ['avg_pool[0][0]']            \n",
            "                                                                                                  \n",
            " fc3 (Dense)                 (None, 3)                    55299     ['flatten_2[0][0]']           \n",
            "                                                                                                  \n",
            "==================================================================================================\n",
            "Total params: 23643011 (90.19 MB)\n",
            "Trainable params: 23589891 (89.99 MB)\n",
            "Non-trainable params: 53120 (207.50 KB)\n",
            "__________________________________________________________________________________________________\n"
          ]
        }
      ]
    },
    {
      "cell_type": "markdown",
      "source": [
        "#### **1_2_4_8: Find the number of layers used in our ResNet50 model**"
      ],
      "metadata": {
        "id": "xu_xI7wYode0"
      }
    },
    {
      "cell_type": "code",
      "source": [
        "print(len(ResNet50_base.layers))\n",
        "print(len(ResNet50_model.layers))"
      ],
      "metadata": {
        "colab": {
          "base_uri": "https://localhost:8080/"
        },
        "id": "NCuBcqZNGTJG",
        "outputId": "18be17e3-66ac-45b2-d081-bdbfa038769d"
      },
      "execution_count": null,
      "outputs": [
        {
          "output_type": "stream",
          "name": "stdout",
          "text": [
            "175\n",
            "16\n"
          ]
        }
      ]
    },
    {
      "cell_type": "markdown",
      "source": [
        "#### **1_2_4_9: Train our model**"
      ],
      "metadata": {
        "id": "SQypMIdvELHa"
      }
    },
    {
      "cell_type": "code",
      "source": [
        "history1=ResNet50_model.fit(X_train, y_train, batch_size=7, epochs=1, verbose=1, validation_data=(X_valid, y_valid))"
      ],
      "metadata": {
        "colab": {
          "base_uri": "https://localhost:8080/"
        },
        "id": "JAYqbVuyrxEl",
        "outputId": "732f7c42-af9d-418a-e785-fd720983237b"
      },
      "execution_count": null,
      "outputs": [
        {
          "output_type": "stream",
          "name": "stdout",
          "text": [
            "Epoch 1/40\n",
            "15/15 [==============================] - 43s 304ms/step - loss: 9.5004 - accuracy: 0.4040 - val_loss: 1.1765 - val_accuracy: 0.3256\n",
            "Epoch 2/40\n",
            "15/15 [==============================] - 2s 101ms/step - loss: 5.2911 - accuracy: 0.4646 - val_loss: 1.3124 - val_accuracy: 0.3488\n",
            "Epoch 3/40\n",
            "15/15 [==============================] - 2s 101ms/step - loss: 2.6381 - accuracy: 0.4949 - val_loss: 2.4839 - val_accuracy: 0.3488\n",
            "Epoch 4/40\n",
            "15/15 [==============================] - 2s 101ms/step - loss: 2.9361 - accuracy: 0.4747 - val_loss: 1.8908 - val_accuracy: 0.3488\n",
            "Epoch 5/40\n",
            "15/15 [==============================] - 2s 107ms/step - loss: 3.4749 - accuracy: 0.5354 - val_loss: 2.6339 - val_accuracy: 0.3488\n",
            "Epoch 6/40\n",
            "15/15 [==============================] - 2s 118ms/step - loss: 2.9272 - accuracy: 0.5657 - val_loss: 11.3683 - val_accuracy: 0.3488\n",
            "Epoch 7/40\n",
            "15/15 [==============================] - 2s 112ms/step - loss: 2.7027 - accuracy: 0.5960 - val_loss: 4.1007 - val_accuracy: 0.3488\n",
            "Epoch 8/40\n",
            "15/15 [==============================] - 2s 112ms/step - loss: 2.1535 - accuracy: 0.6566 - val_loss: 4.4855 - val_accuracy: 0.3488\n",
            "Epoch 9/40\n",
            "15/15 [==============================] - 2s 102ms/step - loss: 1.5440 - accuracy: 0.6566 - val_loss: 4.5676 - val_accuracy: 0.3488\n",
            "Epoch 10/40\n",
            "15/15 [==============================] - 2s 101ms/step - loss: 1.0043 - accuracy: 0.6263 - val_loss: 2.3214 - val_accuracy: 0.3488\n",
            "Epoch 11/40\n",
            "15/15 [==============================] - 2s 102ms/step - loss: 1.5118 - accuracy: 0.5960 - val_loss: 8.0032 - val_accuracy: 0.3488\n",
            "Epoch 12/40\n",
            "15/15 [==============================] - 2s 112ms/step - loss: 1.2520 - accuracy: 0.7576 - val_loss: 8.4378 - val_accuracy: 0.3488\n",
            "Epoch 13/40\n",
            "15/15 [==============================] - 2s 115ms/step - loss: 2.8824 - accuracy: 0.6061 - val_loss: 7.0452 - val_accuracy: 0.3488\n",
            "Epoch 14/40\n",
            "15/15 [==============================] - 2s 119ms/step - loss: 1.0228 - accuracy: 0.6768 - val_loss: 8.3108 - val_accuracy: 0.3256\n",
            "Epoch 15/40\n",
            "15/15 [==============================] - 2s 113ms/step - loss: 1.5159 - accuracy: 0.5455 - val_loss: 42.1078 - val_accuracy: 0.3488\n",
            "Epoch 16/40\n",
            "15/15 [==============================] - 2s 126ms/step - loss: 2.3035 - accuracy: 0.5657 - val_loss: 314.2080 - val_accuracy: 0.3023\n",
            "Epoch 17/40\n",
            "15/15 [==============================] - 2s 107ms/step - loss: 1.0388 - accuracy: 0.6263 - val_loss: 87.0044 - val_accuracy: 0.4186\n",
            "Epoch 18/40\n",
            "15/15 [==============================] - 2s 111ms/step - loss: 1.1422 - accuracy: 0.6162 - val_loss: 7.0637 - val_accuracy: 0.4651\n",
            "Epoch 19/40\n",
            "15/15 [==============================] - 2s 102ms/step - loss: 1.1854 - accuracy: 0.7475 - val_loss: 0.9737 - val_accuracy: 0.6047\n",
            "Epoch 20/40\n",
            "15/15 [==============================] - 2s 112ms/step - loss: 1.7215 - accuracy: 0.6970 - val_loss: 1.7795 - val_accuracy: 0.5814\n",
            "Epoch 21/40\n",
            "15/15 [==============================] - 2s 119ms/step - loss: 1.1761 - accuracy: 0.6465 - val_loss: 2.8047 - val_accuracy: 0.4186\n",
            "Epoch 22/40\n",
            "15/15 [==============================] - 2s 118ms/step - loss: 0.7703 - accuracy: 0.7273 - val_loss: 1.8643 - val_accuracy: 0.5814\n",
            "Epoch 23/40\n",
            "15/15 [==============================] - 2s 112ms/step - loss: 1.0770 - accuracy: 0.6263 - val_loss: 1.8148 - val_accuracy: 0.3256\n",
            "Epoch 24/40\n",
            "15/15 [==============================] - 2s 112ms/step - loss: 0.6755 - accuracy: 0.7475 - val_loss: 1.0410 - val_accuracy: 0.6047\n",
            "Epoch 25/40\n",
            "15/15 [==============================] - 2s 112ms/step - loss: 0.8415 - accuracy: 0.7576 - val_loss: 0.7509 - val_accuracy: 0.6047\n",
            "Epoch 26/40\n",
            "15/15 [==============================] - 2s 102ms/step - loss: 0.4854 - accuracy: 0.7980 - val_loss: 0.5792 - val_accuracy: 0.6744\n",
            "Epoch 27/40\n",
            "15/15 [==============================] - 2s 102ms/step - loss: 0.6128 - accuracy: 0.8384 - val_loss: 0.7519 - val_accuracy: 0.6744\n",
            "Epoch 28/40\n",
            "15/15 [==============================] - 2s 112ms/step - loss: 0.5471 - accuracy: 0.7879 - val_loss: 1.2068 - val_accuracy: 0.6279\n",
            "Epoch 29/40\n",
            "15/15 [==============================] - 2s 110ms/step - loss: 0.8830 - accuracy: 0.7778 - val_loss: 1.1670 - val_accuracy: 0.6279\n",
            "Epoch 30/40\n",
            "15/15 [==============================] - 2s 111ms/step - loss: 2.1870 - accuracy: 0.6162 - val_loss: 1.2318 - val_accuracy: 0.5581\n",
            "Epoch 31/40\n",
            "15/15 [==============================] - 2s 102ms/step - loss: 0.8842 - accuracy: 0.7071 - val_loss: 2.5222 - val_accuracy: 0.5349\n",
            "Epoch 32/40\n",
            "15/15 [==============================] - 2s 103ms/step - loss: 1.4287 - accuracy: 0.6162 - val_loss: 2.1819 - val_accuracy: 0.4651\n",
            "Epoch 33/40\n",
            "15/15 [==============================] - 2s 102ms/step - loss: 1.0104 - accuracy: 0.6768 - val_loss: 2.9453 - val_accuracy: 0.5581\n",
            "Epoch 34/40\n",
            "15/15 [==============================] - 2s 112ms/step - loss: 1.1239 - accuracy: 0.6768 - val_loss: 11.2885 - val_accuracy: 0.5349\n",
            "Epoch 35/40\n",
            "15/15 [==============================] - 2s 102ms/step - loss: 1.3978 - accuracy: 0.7071 - val_loss: 2.0119 - val_accuracy: 0.6512\n",
            "Epoch 36/40\n",
            "15/15 [==============================] - 2s 114ms/step - loss: 0.7448 - accuracy: 0.6667 - val_loss: 10.2538 - val_accuracy: 0.6512\n",
            "Epoch 37/40\n",
            "15/15 [==============================] - 2s 117ms/step - loss: 0.7850 - accuracy: 0.7475 - val_loss: 98.3247 - val_accuracy: 0.5581\n",
            "Epoch 38/40\n",
            "15/15 [==============================] - 2s 112ms/step - loss: 0.5875 - accuracy: 0.7778 - val_loss: 37.8122 - val_accuracy: 0.5349\n",
            "Epoch 39/40\n",
            "15/15 [==============================] - 2s 104ms/step - loss: 0.6551 - accuracy: 0.7576 - val_loss: 37.1169 - val_accuracy: 0.6279\n",
            "Epoch 40/40\n",
            "15/15 [==============================] - 2s 113ms/step - loss: 0.9630 - accuracy: 0.7677 - val_loss: 2.6852 - val_accuracy: 0.5814\n"
          ]
        }
      ]
    },
    {
      "cell_type": "markdown",
      "source": [
        "#### **1_2_4_10: Evaluate the model**"
      ],
      "metadata": {
        "id": "zzbD3-Ao03hS"
      }
    },
    {
      "cell_type": "code",
      "source": [
        "loss1, accuracy1 = ResNet50_model.evaluate(X_valid, y_valid)"
      ],
      "metadata": {
        "colab": {
          "base_uri": "https://localhost:8080/"
        },
        "id": "BkOf6d3M5qGD",
        "outputId": "8a2a0529-4451-4814-f4d6-efb03387875d"
      },
      "execution_count": null,
      "outputs": [
        {
          "output_type": "stream",
          "name": "stdout",
          "text": [
            "2/2 [==============================] - 3s 1s/step - loss: 2.6853 - accuracy: 0.5814\n"
          ]
        }
      ]
    },
    {
      "cell_type": "code",
      "source": [
        "display_accuracy(history1)"
      ],
      "metadata": {
        "colab": {
          "base_uri": "https://localhost:8080/",
          "height": 472
        },
        "id": "oOKxxWgz3pUv",
        "outputId": "b3726ed0-5dcd-4190-8bab-8d99a5e8501d"
      },
      "execution_count": null,
      "outputs": [
        {
          "output_type": "display_data",
          "data": {
            "text/plain": [
              "<Figure size 640x480 with 1 Axes>"
            ],
            "image/png": "[encoded data removed]"
          },
          "metadata": {}
        }
      ]
    },
    {
      "cell_type": "code",
      "source": [
        "display_loss(history1)"
      ],
      "metadata": {
        "colab": {
          "base_uri": "https://localhost:8080/",
          "height": 472
        },
        "id": "VfNbbNpO3snq",
        "outputId": "8bbc8ef9-3650-4711-8c0c-06401af6ba0a"
      },
      "execution_count": null,
      "outputs": [
        {
          "output_type": "display_data",
          "data": {
            "text/plain": [
              "<Figure size 640x480 with 1 Axes>"
            ],
            "image/png": "[encoded data removed]"
          },
          "metadata": {}
        }
      ]
    },
    {
      "cell_type": "markdown",
      "source": [
        "#### **1_2_4_11: Previous results**"
      ],
      "metadata": {
        "id": "Ooim6CwPmM2k"
      }
    },
    {
      "cell_type": "markdown",
      "source": [
        "\n",
        "The result with built-in ResNet50 and some layers added in the end to be trained with batch-size = 7: (epochs = 40) (4 relu, 512 units, he-normal, dropout = 0.5 and batch-normalization)\n",
        "\n",
        "2/2 [==============================] - 3s 1s/step - loss: 2.6853 - accuracy: 0.5814\n",
        "\n",
        "The result with built-in ResNet50 and some layers added in the end to be trained: (epochs = 40)\n",
        "\n",
        "2/2 [==============================] - 1s 1s/step - loss: 5.5320 - accuracy: 0.4651\n",
        "\n",
        "The result with ResNet50 built from scratch with batch-size = 11: (epochs = 40)\n",
        "\n",
        "2/2 [==============================] - 0s 64ms/step - loss: 0.8474 - accuracy: 0.6744\n",
        "\n",
        "The result with ResNet50 built from scratch with batch-size = 9: (epochs = 40)\n",
        "\n",
        "2/2 [==============================] - 0s 57ms/step - loss: 2.1891 - accuracy: 0.6047\n",
        "\n",
        "The result with ResNet50 built from scratch with batch-size = 7: (epochs = 40)\n",
        "\n",
        "* first time:\n",
        "\n",
        "2/2 [==============================] - 0s 62ms/step - loss: 0.5690 - accuracy: 0.7674\n",
        "\n",
        "* second time:\n",
        "\n",
        "2/2 [==============================] - 3s 1s/step - loss: 8.0230 - accuracy: 0.3488\n",
        "\n",
        "The result with ResNet50 built from scratch with batch-size = 5: (epochs = 40)\n",
        "\n",
        "2/2 [==============================] - 0s 63ms/step - loss: 0.8860 - accuracy: 0.7209\n",
        "\n",
        "The result with ResNet50 built from scratch with batch-size = 3: (epochs = 40)\n",
        "\n",
        "2/2 [==============================] - 0s 69ms/step - loss: 1.8947 - accuracy: 0.3953\n",
        "\n",
        "The result with ResNet50 built from scratch with batch-size = 1: (epochs = 40)\n",
        "\n",
        "2/2 [==============================] - 2s 59ms/step - loss: 7.4493 - accuracy: 0.4186\n",
        "\n",
        "The result with ResNet50 built from scratch with batch-size = 7: (epochs = 100)\n",
        "\n",
        "* first time:\n",
        "\n",
        "2/2 [==============================] - 0s 51ms/step - loss: 1.7429 - accuracy: 0.4651\n",
        "\n",
        "* second time:\n",
        "\n",
        "2/2 [==============================] - 0s 49ms/step - loss: 0.7368 - accuracy: 0.7674"
      ],
      "metadata": {
        "id": "9iqDfXawKBga"
      }
    },
    {
      "cell_type": "markdown",
      "source": [
        "### **1_2_5: Apply ResNet50 With Data Augmentation**"
      ],
      "metadata": {
        "id": "ktU9n6tN4t9M"
      }
    },
    {
      "cell_type": "markdown",
      "source": [
        "#### **1_2_5_1: Split the data**"
      ],
      "metadata": {
        "id": "Z1nKNJ7aJksh"
      }
    },
    {
      "cell_type": "markdown",
      "source": [
        "Validation set will get a bigger portion of our data because we are using data augmentation on training data"
      ],
      "metadata": {
        "id": "L0pSyPmPJu9C"
      }
    },
    {
      "cell_type": "code",
      "source": [
        "X_train, X_valid, y_train, y_valid = train_test_split(images, Y, test_size=0.50, random_state=42)\n",
        "\n",
        "print(X_train.shape)\n",
        "print(y_train.shape)\n",
        "print(X_valid.shape)\n",
        "print(y_valid.shape)"
      ],
      "metadata": {
        "id": "afFj1qXBJlJC"
      },
      "execution_count": null,
      "outputs": []
    },
    {
      "cell_type": "markdown",
      "source": [
        "#### **1_2_5_2: Import necessary class to do data augmentation**"
      ],
      "metadata": {
        "id": "HK6k0A1u46P3"
      }
    },
    {
      "cell_type": "code",
      "source": [
        "from tensorflow.keras.preprocessing.image import ImageDataGenerator"
      ],
      "metadata": {
        "id": "nvf3L6mi5BgN"
      },
      "execution_count": null,
      "outputs": []
    },
    {
      "cell_type": "markdown",
      "source": [
        "#### **1_2_5_3: Instantiate from the ImageDataGenerator class**"
      ],
      "metadata": {
        "id": "7_6wMEyoKFE5"
      }
    },
    {
      "cell_type": "markdown",
      "source": [
        "**Trainslation**\n",
        "* Width Shift Range (float): This defines the maximum fraction by which the image can be shifted horizontally.\n",
        "\n",
        "Shift image up to 10% horizontally\n",
        "\n",
        "* Height Shift Range (float): This defines the maximum fraction by which the image can be shifted vertically.\n",
        "\n",
        "Shift image up to 10% vertically\n",
        "\n",
        "**rotation**\n",
        "\n",
        "* rotation_range=20: Random rotation between -20 and 20 degrees\n",
        "\n",
        "**horizontal_flip**\n",
        "\n",
        " * This parameter enables random horizontal flipping of the images, which can help the model learn to be invariant to the orientation of objects in the images.\n",
        "\n",
        "**rescale**\n",
        "\n",
        "* This parameter scales pixel values from their original range (typically 0-255 for images) to a new range. Here, it's set to 1./255, which scales all pixel values between 0 and 1. This helps normalize the data and improve model performance, especially for deep convolutional neural networks.\n",
        "\n",
        "* rescale=1./255,  # Rescale pixel values to [0, 1]\n",
        "\n",
        "\n",
        "**shear_range:**\n",
        "\n",
        "* This parameter introduces random shearing transformations to the image. A value between 0 and 1 specifies the maximum shear angle in degrees.\n",
        "\n",
        "* For example, shear_range=0.2 would introduce random horizontal or vertical shears with angles between -20 degrees and +20 degrees.\n",
        "\n",
        "**zoom_range:**\n",
        "\n",
        "* e.g. zoom_range=0.2 means that the images can be zoomed in or out by up to 20% of their original size in both directions (horizontal and vertical)\n"
      ],
      "metadata": {
        "id": "1aT4_H3PRDHf"
      }
    },
    {
      "cell_type": "code",
      "source": [
        "data_generator = ImageDataGenerator(rescale = 1.0/255,\n",
        "                                    shear_range=0.2,\n",
        "                                    zoom_range=0.2,\n",
        "                                    rotation_range=20,\n",
        "                                    width_shift_range= 0.1,\n",
        "                                    height_shift_range = 0.1,\n",
        "                                    horizontal_flip = True,\n",
        "                                    vertical_flip = True,\n",
        "                                    brightness_range=[-0.2, 0.2]\n",
        "                                    )"
      ],
      "metadata": {
        "id": "RqU1Ip7L4tom"
      },
      "execution_count": null,
      "outputs": []
    },
    {
      "cell_type": "markdown",
      "source": [
        "#### **1_2_5_4: Specify how the data will be generated and batched during training**"
      ],
      "metadata": {
        "id": "WVbkPfNRNc1Q"
      }
    },
    {
      "cell_type": "code",
      "source": [
        "train_generator = data_generator.flow (X_train, y_train, batch_size = 7)"
      ],
      "metadata": {
        "id": "v915sq2w6Flg"
      },
      "execution_count": null,
      "outputs": []
    },
    {
      "cell_type": "markdown",
      "source": [
        "#### **1_2_5_5: Specify the number of steps (batches) to be processed in each epoch during training**"
      ],
      "metadata": {
        "id": "fVtTDpMdN7VU"
      }
    },
    {
      "cell_type": "code",
      "source": [
        "steps_per_epoch = X_train.shape[0]"
      ],
      "metadata": {
        "id": "yK3gOQqk6b42"
      },
      "execution_count": null,
      "outputs": []
    },
    {
      "cell_type": "markdown",
      "source": [
        "#### **1_2_5_6: Make the ResNet50 model with data augmentation**"
      ],
      "metadata": {
        "id": "ioXW-szfn5gB"
      }
    },
    {
      "cell_type": "code",
      "source": [
        "ResNet50_model_with_augmentation = Sequential([\n",
        "    ResNet50_base,\n",
        "    Flatten(),\n",
        "    BatchNormalization(),\n",
        "    Dense(512, activation='relu', kernel_initializer = 'he_normal'),\n",
        "    BatchNormalization(),\n",
        "    Dropout(0.5),\n",
        "    Dense(512, activation='relu', kernel_initializer = 'he_normal'),\n",
        "    BatchNormalization(),\n",
        "    Dropout(0.5),\n",
        "    Dense(512, activation='relu', kernel_initializer = 'he_normal'),\n",
        "    BatchNormalization(),\n",
        "    Dropout(0.5),\n",
        "    Dense(512, activation='relu', kernel_initializer = 'he_normal'),\n",
        "    BatchNormalization(),\n",
        "    Dropout(0.5),\n",
        "    Dense(3, activation='softmax')\n",
        "])"
      ],
      "metadata": {
        "id": "BHd7EQ5dQJIV"
      },
      "execution_count": null,
      "outputs": []
    },
    {
      "cell_type": "markdown",
      "source": [
        "#### **1_2_5_7: Compile the model**"
      ],
      "metadata": {
        "id": "aQXrPNVgOFWe"
      }
    },
    {
      "cell_type": "code",
      "source": [
        "ResNet50_model_with_augmentation.compile(optimizer=Adam(learning_rate = 1e-4), loss='categorical_crossentropy', metrics=['accuracy'])"
      ],
      "metadata": {
        "id": "lv73Sno2QYBL"
      },
      "execution_count": null,
      "outputs": []
    },
    {
      "cell_type": "markdown",
      "source": [
        "#### **1_2_5_8: Train the model**"
      ],
      "metadata": {
        "id": "oVoLsvigOLzB"
      }
    },
    {
      "cell_type": "code",
      "source": [
        "history2 = ResNet50_model_with_augmentation.fit_generator(train_generator, steps_per_epoch = steps_per_epoch, epochs = 1,verbose=1, validation_data=(X_valid, y_valid))"
      ],
      "metadata": {
        "id": "oyXSNMsG6don"
      },
      "execution_count": null,
      "outputs": []
    },
    {
      "cell_type": "markdown",
      "source": [
        "#### **1_2_5_9: Evaluate the model**"
      ],
      "metadata": {
        "id": "PkaAeYdrOQQO"
      }
    },
    {
      "cell_type": "code",
      "source": [
        "loss2, accuracy2 = ResNet50_model_with_augmentation.evaluate(X_valid, y_valid)"
      ],
      "metadata": {
        "id": "5GG7oRCvQd8W"
      },
      "execution_count": null,
      "outputs": []
    },
    {
      "cell_type": "code",
      "source": [
        "display_accuracy(history2)"
      ],
      "metadata": {
        "id": "E7aeM-B5Qp7A"
      },
      "execution_count": null,
      "outputs": []
    },
    {
      "cell_type": "code",
      "source": [
        "display_loss(history2)"
      ],
      "metadata": {
        "id": "m7E05_VOQvBU"
      },
      "execution_count": null,
      "outputs": []
    },
    {
      "cell_type": "code",
      "source": [
        "from tensorflow.keras.applications.vgg16 import VGG16"
      ],
      "metadata": {
        "id": "TnGVEz-ty49H"
      },
      "execution_count": null,
      "outputs": []
    },
    {
      "cell_type": "markdown",
      "source": [
        "### **1_2_6: VGG16 model without data augmentation**"
      ],
      "metadata": {
        "id": "2QNcAarKOrKa"
      }
    },
    {
      "cell_type": "markdown",
      "source": [
        "#### **1_2_6_1: Split the data**"
      ],
      "metadata": {
        "id": "SMOPvDifO3kJ"
      }
    },
    {
      "cell_type": "code",
      "source": [
        "X_train, X_valid, y_train, y_valid = train_test_split(images, Y, test_size=0.20, random_state=42)\n",
        "\n",
        "print(X_train.shape)\n",
        "print(y_train.shape)\n",
        "print(X_valid.shape)\n",
        "print(y_valid.shape)"
      ],
      "metadata": {
        "id": "FcWMNH28O6G6"
      },
      "execution_count": null,
      "outputs": []
    },
    {
      "cell_type": "markdown",
      "source": [
        "#### **1_2_6_2: Instantiate VGG16 model**"
      ],
      "metadata": {
        "id": "hdIFOqoSy515"
      }
    },
    {
      "cell_type": "code",
      "source": [
        "VGG16_base = VGG16(weights='imagenet', include_top=False, input_shape=(224, 224, 3))"
      ],
      "metadata": {
        "id": "NqDZfKG5y-vt"
      },
      "execution_count": null,
      "outputs": []
    },
    {
      "cell_type": "markdown",
      "source": [
        "#### **1_2_6_3: Specify that VGG16 layers are not trainable**"
      ],
      "metadata": {
        "id": "PgE7NX8szJMu"
      }
    },
    {
      "cell_type": "code",
      "source": [
        "VGG16_base.trainable = False"
      ],
      "metadata": {
        "id": "lqY10kcazDvM"
      },
      "execution_count": null,
      "outputs": []
    },
    {
      "cell_type": "markdown",
      "source": [
        "#### **1_2_6_4: Add some layers to our base VGG16 model to make it trainable on its new layers**"
      ],
      "metadata": {
        "id": "Mz1Bi3QEz3MH"
      }
    },
    {
      "cell_type": "code",
      "source": [
        "VGG16_model = Sequential([\n",
        "    VGG16_base,\n",
        "    Flatten(),\n",
        "    BatchNormalization(),\n",
        "    Dense(512, activation='relu', kernel_initializer = 'he_normal'),\n",
        "    BatchNormalization(),\n",
        "    Dropout(0.5),\n",
        "    Dense(512, activation='relu', kernel_initializer = 'he_normal'),\n",
        "    BatchNormalization(),\n",
        "    Dropout(0.5),\n",
        "    Dense(512, activation='relu', kernel_initializer = 'he_normal'),\n",
        "    BatchNormalization(),\n",
        "    Dropout(0.5),\n",
        "    Dense(512, activation='relu', kernel_initializer = 'he_normal'),\n",
        "    BatchNormalization(),\n",
        "    Dropout(0.5),\n",
        "    Dense(3, activation='softmax')\n",
        "])"
      ],
      "metadata": {
        "id": "GhOXPAjozlwB"
      },
      "execution_count": null,
      "outputs": []
    },
    {
      "cell_type": "markdown",
      "source": [
        "#### **1_2_6_5: Compile the VGG16-based model**"
      ],
      "metadata": {
        "id": "F5lxyuyB0Rvj"
      }
    },
    {
      "cell_type": "code",
      "source": [
        "VGG16_model.compile(optimizer=Adam(learning_rate = 1e-4), loss='categorical_crossentropy', metrics=['accuracy'])"
      ],
      "metadata": {
        "id": "LJgUaqX30ExG"
      },
      "execution_count": null,
      "outputs": []
    },
    {
      "cell_type": "markdown",
      "source": [
        "#### **1_2_6_6: Train the model**"
      ],
      "metadata": {
        "id": "lqqfIH2kPbuV"
      }
    },
    {
      "cell_type": "code",
      "source": [
        "history3=VGG16_model.fit(X_train, y_train, batch_size=7, epochs=40, verbose=1, validation_data=(X_valid, y_valid))"
      ],
      "metadata": {
        "id": "-ESZX8Fr0Rdp"
      },
      "execution_count": null,
      "outputs": []
    },
    {
      "cell_type": "markdown",
      "source": [
        "#### **1_2_6_7: Evalute our model**"
      ],
      "metadata": {
        "id": "69r5zroJ0qBL"
      }
    },
    {
      "cell_type": "code",
      "source": [
        "loss3, accuracy3 = VGG16_model.evaluate(X_valid, y_valid)"
      ],
      "metadata": {
        "id": "KbhBE_JR0kU8"
      },
      "execution_count": null,
      "outputs": []
    },
    {
      "cell_type": "code",
      "source": [
        "display_accuracy(history3)"
      ],
      "metadata": {
        "id": "Ygipi32m4Gp0"
      },
      "execution_count": null,
      "outputs": []
    },
    {
      "cell_type": "code",
      "source": [
        "display_loss(history3)"
      ],
      "metadata": {
        "id": "hAerGKtO4LcA"
      },
      "execution_count": null,
      "outputs": []
    },
    {
      "cell_type": "markdown",
      "source": [
        "### With Data Augmentation"
      ],
      "metadata": {
        "id": "6-B64_A0pZh4"
      }
    },
    {
      "cell_type": "code",
      "source": [
        "data_generator = ImageDataGenerator(rescale = 1.0/255,\n",
        "                                    shear_range=0.2,\n",
        "                                    zoom_range=0.2,\n",
        "                                    rotation_range=20,\n",
        "                                    width_shift_range= 0.1,\n",
        "                                    height_shift_range = 0.1,\n",
        "                                    horizontal_flip = True,\n",
        "                                    vertical_flip = True,\n",
        "                                    brightness_range=[-0.2, 0.2]\n",
        "                                    )"
      ],
      "metadata": {
        "id": "NNZpgn7Bpmfq"
      },
      "execution_count": null,
      "outputs": []
    },
    {
      "cell_type": "code",
      "source": [
        "train_generator = data_generator.flow (X_train, y_train, batch_size = 7)"
      ],
      "metadata": {
        "id": "5OoRnKarpmf5"
      },
      "execution_count": null,
      "outputs": []
    },
    {
      "cell_type": "code",
      "source": [
        "steps_per_epoch = X_train.shape[0]"
      ],
      "metadata": {
        "id": "nzfNIGG5pmf5"
      },
      "execution_count": null,
      "outputs": []
    },
    {
      "cell_type": "code",
      "source": [
        "  VGG16_model_with_augmentation.compile(optimizer='adam', loss='categorical_crossentropy', metrics=['accuracy'])"
      ],
      "metadata": {
        "id": "iFnE7_abpmf5"
      },
      "execution_count": null,
      "outputs": []
    },
    {
      "cell_type": "code",
      "source": [
        "VGG16_history_with = VGG16_model_with_augmentation.fit_generator(train_generator, steps_per_epoch = steps_per_epoch, epochs = 1,verbose=1, validation_data=(X_valid, y_valid))"
      ],
      "metadata": {
        "id": "A36iu0Pppmf5"
      },
      "execution_count": null,
      "outputs": []
    },
    {
      "cell_type": "code",
      "source": [
        "VGG16_loss_with, VGG16_accuracy_with = VGG16_model_with_augmentation.evaluate(X_valid, y_valid)"
      ],
      "metadata": {
        "id": "MPcoTmo2pmf5"
      },
      "execution_count": null,
      "outputs": []
    },
    {
      "cell_type": "code",
      "source": [
        "display_accuracy(VGG16_history_with)"
      ],
      "metadata": {
        "id": "MIunLohSpmf5"
      },
      "execution_count": null,
      "outputs": []
    },
    {
      "cell_type": "code",
      "source": [
        "display_loss(VGG16_history_with)"
      ],
      "metadata": {
        "id": "FDzCgtcipmf6"
      },
      "execution_count": null,
      "outputs": []
    },
    {
      "cell_type": "code",
      "source": [
        "compute_confusion_matrix_and_classification_report(VGG16_model_with_augmentation)"
      ],
      "metadata": {
        "id": "1Nhjjc2epmf6"
      },
      "execution_count": null,
      "outputs": []
    },
    {
      "cell_type": "markdown",
      "source": [
        "### Outline\n",
        "\n",
        "To use VGG16 and ResNet50 models for image classification tasks in TensorFlow, it is important to preprocess the input images properly, which includes normalizing the pixel values of the images. Here is a general procedure you can follow to train VGG16 and ResNet50 models on the given image datasets:\n",
        "\n",
        "1. Load and Preprocess the Images:\n",
        "   - Read the images from the folders (nevus, melanoma, noncancerous).\n",
        "   - Resize the images to a common size (e.g., 224x224) to match the input shape of the VGG16 and ResNet50 models.\n",
        "   - Normalize the pixel values of the images to be in the range [0, 1] by dividing the pixel values by 255.0.\n",
        "\n",
        "2. Create Image Data Generators:\n",
        "   - Use TensorFlow's `ImageDataGenerator` to load and preprocess images in batches for training and validation.\n",
        "   - Specify the preprocessing functions including rescaling, data augmentation (optional), and other transformations.\n",
        "\n",
        "3. Define and Compile the Models:\n",
        "   - Import pre-trained VGG16 and ResNet50 models from Keras applications.\n",
        "   - Remove the top layers (include_top=False) to add your custom classifier layer.\n",
        "   - Add a Global Average Pooling layer followed by a Dense layer for classification.\n",
        "   - Compile the models with appropriate loss function, optimizer, and metrics.\n",
        "\n",
        "4. Train the Models:\n",
        "   - Use the Image Data Generators to flow training and validation data to the model.\n",
        "   - Train the models on the datasets using `model.fit` by specifying the number of epochs and batch size.\n",
        "\n",
        "5. Evaluate and Predict:\n",
        "   - Evaluate the performance of the trained models on a test set using `model.evaluate`.\n",
        "   - Make predictions on new images using `model.predict`.\n",
        "\n",
        "By following these steps, you can effectively train VGG16 and ResNet50 models on the given image datasets by properly preprocessing the images, including normalizing the pixel values. This preprocessing step helps in achieving better performance and convergence during model training."
      ],
      "metadata": {
        "id": "hfqtvCHU05zj"
      }
    },
    {
      "cell_type": "markdown",
      "source": [
        "## **1_3: Pros & Cons of Data Augmentation**"
      ],
      "metadata": {
        "id": "hn8VEjGjQHw6"
      }
    },
    {
      "cell_type": "markdown",
      "source": [
        "### **1_3_1: Advantages**"
      ],
      "metadata": {
        "id": "rf3cdVWNQPCJ"
      }
    },
    {
      "cell_type": "markdown",
      "source": [
        "1. **Improved Generalization**:\n",
        "    - By providing the model with a more diverse set of training examples, data augmentation can help improve its ability to generalize to unseen data.\n",
        "    \n",
        "2. **Reduced Overfitting**:\n",
        "    - Data augmentation effectively increases the size of the training dataset, which can help reduce overfitting and improve the model's performance on the validation set.\n",
        "    \n",
        "3. **Robustness to Variations**:\n",
        "    - Models trained with augmented data can become more robust to variations such as rotation, scaling, and other distortions in the input data.\n",
        "    \n",
        "4. **Better Feature Learning**:\n",
        "    - The variations introduced by data augmentation can help the model learn more useful and discriminative features.\n",
        "    \n",
        "5. **Cost-Effective**:\n",
        "    - Data augmentation can be a cost-effective way to improve model performance without the need for additional labeled data.\n"
      ],
      "metadata": {
        "id": "27FEaCVCQfm6"
      }
    },
    {
      "cell_type": "markdown",
      "source": [
        "### **1_3_2: Disadvantages**"
      ],
      "metadata": {
        "id": "T3QHZnqXQZMN"
      }
    },
    {
      "cell_type": "markdown",
      "source": [
        "\n",
        "1. **Increased Training Time**:\n",
        "    - Data augmentation can increase training time as the model has to process more data, including the original and augmented images.\n",
        "    \n",
        "2. **Complexity in Pipeline**:\n",
        "    - Implementing data augmentation can introduce complexity into the data preprocessing pipeline, which may require careful tuning and testing.\n",
        "    \n",
        "3. **Potential for Distortion**:\n",
        "    - If data augmentation is applied too aggressively, it may introduce distortions that do not represent real-world variations, potentially harming model performance.\n",
        "    \n",
        "4. **Challenges in Reproducibility**:\n",
        "    - The stochastic nature of some augmentation techniques can make it difficult to reproduce results consistently across different runs.\n",
        "    \n",
        "5. **Compatibility with Specific Models**:\n",
        "    - Not all data augmentation techniques are compatible with every model architecture, so careful selection and testing are needed to ensure they benefit the model.\n",
        "\n"
      ],
      "metadata": {
        "id": "GPkG83IfQfI9"
      }
    },
    {
      "cell_type": "markdown",
      "source": [
        "# <b><font color='green'>Part $II$:</font></b>"
      ],
      "metadata": {
        "id": "pet_SknhXGx7"
      }
    },
    {
      "cell_type": "code",
      "source": [],
      "metadata": {
        "id": "QOLT5TfLXIzc"
      },
      "execution_count": 45,
      "outputs": []
    },
    {
      "cell_type": "markdown",
      "source": [
        "# <b><font color='green'>Part $III$:</font></b>"
      ],
      "metadata": {
        "id": "XMoSbfhyqq1i"
      }
    },
    {
      "cell_type": "code",
      "source": [
        "import requests\n",
        "\n",
        "url = \"http://ufldl.stanford.edu/housenumbers/train_32x32.mat\"  # Download training data\n",
        "filename = \"train_32x32.mat\"\n",
        "\n",
        "response = requests.get(url, stream=True)\n",
        "\n",
        "if response.status_code == 200:\n",
        "  with open(filename, 'wb') as f:\n",
        "    for chunk in response.iter_content(1024):\n",
        "      f.write(chunk)\n",
        "  print(f\"Downloaded {filename}\")\n",
        "else:\n",
        "  print(f\"Failed to download {filename}. Status code: {response.status_code}\")\n",
        "\n",
        "# Repeat for test data (optional)\n",
        "url = \"http://ufldl.stanford.edu/housenumbers/test_32x32.mat\"\n",
        "filename = \"test_32x32.mat\"\n",
        "\n",
        "response = requests.get(url, stream=True)\n",
        "\n",
        "if response.status_code == 200:\n",
        "  with open(filename, 'wb') as f:\n",
        "    for chunk in response.iter_content(1024):\n",
        "      f.write(chunk)\n",
        "  print(f\"Downloaded {filename}\")\n",
        "else:\n",
        "  print(f\"Failed to download {filename}. Status code: {response.status_code}\")\n"
      ],
      "metadata": {
        "colab": {
          "base_uri": "https://localhost:8080/"
        },
        "id": "fcNFeVSj0g4S",
        "outputId": "10d287b5-d9e6-4cf4-a2b7-a6bbe728e6d1"
      },
      "execution_count": 46,
      "outputs": [
        {
          "output_type": "stream",
          "name": "stdout",
          "text": [
            "Downloaded train_32x32.mat\n",
            "Downloaded test_32x32.mat\n"
          ]
        }
      ]
    },
    {
      "cell_type": "code",
      "source": [
        "import scipy.io as sio\n",
        "\n",
        "# Assuming your downloaded file is named \"train_32x32.mat\"\n",
        "data_train = sio.loadmat(\"train_32x32.mat\")\n",
        "data_test = sio.loadmat(\"test_32x32.mat\")\n",
        "# data_extra = sio.loadmat(\"extra_32x32.mat\")\n",
        "\n",
        "# Access data within the loaded dictionary\n",
        "images_train = data_train[\"X\"]  # Assuming images are stored under the key \"X\"\n",
        "labels_train = data_train[\"y\"]  # Assuming labels are stored under the key \"y\"\n",
        "images_test = data_test[\"X\"]\n",
        "labels_test = data_test[\"y\"]\n",
        "# images_extra = data_extra[\"X\"]\n",
        "# labels_extra = data_extra[\"y\"]\n",
        "\n",
        "print(f\"Images shape: {images_train.shape}\")\n",
        "print(f\"Labels shape: {labels_train.shape}\")\n",
        "print(f\"Images shape: {images_test.shape}\")\n",
        "print(f\"Labels shape: {labels_test.shape}\")\n",
        "# print(f\"Images shape: {images_extra.shape}\")\n",
        "# print(f\"Labels shape: {labels_extra.shape}\")"
      ],
      "metadata": {
        "colab": {
          "base_uri": "https://localhost:8080/"
        },
        "id": "GJhPJ7EI1KJ7",
        "outputId": "b2b8f7de-eafb-4681-a1e1-81546f1c6c15"
      },
      "execution_count": 47,
      "outputs": [
        {
          "output_type": "stream",
          "name": "stdout",
          "text": [
            "Images shape: (32, 32, 3, 73257)\n",
            "Labels shape: (73257, 1)\n",
            "Images shape: (32, 32, 3, 26032)\n",
            "Labels shape: (26032, 1)\n"
          ]
        }
      ]
    },
    {
      "cell_type": "code",
      "source": [
        "import numpy as np\n",
        "\n",
        "# Assuming your loaded images are stored in the variable \"images\"\n",
        "images_train = images_train.transpose((3, 0, 1, 2))  # Transpose the axes\n",
        "images_test = images_test.transpose((3, 0, 1, 2))  # Transpose the axes\n",
        "\n",
        "print(f\"Images shape after transpose: {images_train.shape}\")\n",
        "print(f\"Images shape after transpose: {images_test.shape}\")"
      ],
      "metadata": {
        "colab": {
          "base_uri": "https://localhost:8080/"
        },
        "id": "oz5yzeO92Pjk",
        "outputId": "67f62a2d-79e4-44a0-f399-53d4b289f195"
      },
      "execution_count": 48,
      "outputs": [
        {
          "output_type": "stream",
          "name": "stdout",
          "text": [
            "Images shape after transpose: (73257, 32, 32, 3)\n",
            "Images shape after transpose: (26032, 32, 32, 3)\n"
          ]
        }
      ]
    },
    {
      "cell_type": "code",
      "source": [
        "# # TensorFlow and tf.keras\n",
        "# import tensorflow as tf\n",
        "\n",
        "# # Helper libraries\n",
        "# import numpy as np\n",
        "# import matplotlib.pyplot as plt\n",
        "\n",
        "# print(tf.__version__)"
      ],
      "metadata": {
        "id": "0MrDk24EvtGP"
      },
      "execution_count": 49,
      "outputs": []
    },
    {
      "cell_type": "code",
      "source": [
        "# from tensorflow.keras.datasets import fashion_mnist\n",
        "\n",
        "# (X_train, y_train), (X_test, y_test) = fashion_mnist.load_data()\n"
      ],
      "metadata": {
        "id": "acqrwWpJvz21"
      },
      "execution_count": 50,
      "outputs": []
    },
    {
      "cell_type": "code",
      "source": [
        "# X_train.shape"
      ],
      "metadata": {
        "id": "0xKKHb_ov1Ru"
      },
      "execution_count": 51,
      "outputs": []
    },
    {
      "cell_type": "code",
      "source": [
        "# X_train = X_train.reshape((X_train.shape[0], 28, 28, 1))\n",
        "# X_test = X_test.reshape((X_test.shape[0], 28, 28, 1))"
      ],
      "metadata": {
        "id": "m02_PLbZwhMY"
      },
      "execution_count": 52,
      "outputs": []
    },
    {
      "cell_type": "code",
      "source": [
        "# X_train.shape"
      ],
      "metadata": {
        "id": "Pcs93eJTwhkm"
      },
      "execution_count": 53,
      "outputs": []
    },
    {
      "cell_type": "code",
      "source": [
        "\n",
        "# Duplicate the existing channel three times\n",
        "# X_train = np.repeat(X_train, 3, axis=3)\n",
        "# X_test = np.repeat(X_test, 3, axis=3)"
      ],
      "metadata": {
        "id": "DbSUd3ikxGCb"
      },
      "execution_count": 54,
      "outputs": []
    },
    {
      "cell_type": "code",
      "source": [
        "# X_train.shape"
      ],
      "metadata": {
        "id": "TS1M0JYqxLte"
      },
      "execution_count": 55,
      "outputs": []
    },
    {
      "cell_type": "code",
      "source": [
        "# import cv2"
      ],
      "metadata": {
        "id": "bKC5HVBIx4cQ"
      },
      "execution_count": 56,
      "outputs": []
    },
    {
      "cell_type": "code",
      "source": [
        "# X_train = cv2.resize(X_train, (224,224))"
      ],
      "metadata": {
        "id": "kBugKszux6Fn"
      },
      "execution_count": 57,
      "outputs": []
    },
    {
      "cell_type": "markdown",
      "source": [],
      "metadata": {
        "id": "BeSgOnd9sP9d"
      }
    },
    {
      "cell_type": "code",
      "source": [
        "# !pip install deeplake"
      ],
      "metadata": {
        "id": "DtCSgygqsTVE"
      },
      "execution_count": 58,
      "outputs": []
    },
    {
      "cell_type": "code",
      "source": [
        "# import deeplake\n",
        "\n",
        "# ds_train = deeplake.load(\"hub://activeloop/gtsrb-train\")\n",
        "\n",
        "# ds_test = deeplake.load(\"hub://activeloop/gtsrb-test\")"
      ],
      "metadata": {
        "id": "NTHV8Jb3sRbL"
      },
      "execution_count": 59,
      "outputs": []
    },
    {
      "cell_type": "markdown",
      "source": [
        "Train a model on the GTSRB dataset with TensorFlow in Python"
      ],
      "metadata": {
        "id": "lLEDgHw0tec2"
      }
    },
    {
      "cell_type": "code",
      "source": [
        "# dataloader_train = ds_train.tensorflow()\n",
        "\n",
        "# dataloader_test = ds_test.tensorflow()"
      ],
      "metadata": {
        "id": "SNfY9D9Is5_0"
      },
      "execution_count": 60,
      "outputs": []
    },
    {
      "cell_type": "code",
      "source": [],
      "metadata": {
        "id": "TgzGWRKdtlIt"
      },
      "execution_count": 60,
      "outputs": []
    },
    {
      "cell_type": "markdown",
      "source": [
        "### Import the necessary libraries to work with models"
      ],
      "metadata": {
        "id": "P6_qUamu15Gh"
      }
    },
    {
      "cell_type": "code",
      "source": [
        "from keras.models import Model\n",
        "\n",
        "from keras.layers import Input, Add, Dense, Activation,BatchNormalization, Flatten, Conv2D, Dropout, AveragePooling2D, MaxPooling2D, GlobalMaxPooling2D\n",
        "\n",
        "from keras import Sequential"
      ],
      "metadata": {
        "id": "C8wrsNWW1_Vn"
      },
      "execution_count": 61,
      "outputs": []
    },
    {
      "cell_type": "markdown",
      "source": [
        "## Different small dataset"
      ],
      "metadata": {
        "id": "yj24zFHhqujO"
      }
    },
    {
      "cell_type": "markdown",
      "source": [
        "When your dataset is small and very different from the original dataset used to train the pre-trained model, one of the key approaches to employ transfer learning is to use the pre-trained model as a feature extractor."
      ],
      "metadata": {
        "id": "zNNtc96WY8Lp"
      }
    },
    {
      "cell_type": "markdown",
      "source": [
        "### Import VGG16 class"
      ],
      "metadata": {
        "id": "miY_nE2J2SNx"
      }
    },
    {
      "cell_type": "markdown",
      "source": [
        "### Use VGG16 as our pre-trained model"
      ],
      "metadata": {
        "id": "fBtPWzKQsPus"
      }
    },
    {
      "cell_type": "code",
      "source": [
        "# VGG16_base = VGG16(weights='imagenet', include_top=False, input_shape=(224, 224, 3))\n"
      ],
      "metadata": {
        "id": "8GAuUYnBsOsF"
      },
      "execution_count": 62,
      "outputs": []
    },
    {
      "cell_type": "markdown",
      "source": [
        "### About ImageNet dataset\n",
        "* Contains over 14 million high-resolution images\n",
        "* Images are categorized into more than 20,000 different classes (nouns in WordNet hierarchy)"
      ],
      "metadata": {
        "id": "nEWckGous8lB"
      }
    },
    {
      "cell_type": "markdown",
      "source": [
        "### Import the small and different dataset of German Traffic Signs Dataset (GTSRB)"
      ],
      "metadata": {
        "id": "ZDSrBT-kscgs"
      }
    },
    {
      "cell_type": "markdown",
      "source": [
        "This dataset contains around 50,000 images of German traffic signs across 43 different classes. It's a good choice for tasks related to traffic sign recognition in autonomous vehicles or driver assistance systems."
      ],
      "metadata": {
        "id": "caM2DFLxsrYv"
      }
    },
    {
      "cell_type": "code",
      "source": [
        "# from sklearn.datasets import fetch_openml\n",
        "\n",
        "# # Fetch the GTSRB dataset using the OpenML data ID for GTSRB\n",
        "# # Data ID , which corresponds to the GTSRB dataset\n",
        "# # gtsrb = fetch_openml(data_id=41988)\n",
        "\n",
        "# # Access data (features/images) and target labels (classes)\n",
        "# X = gtsrb.data  # Features (images)\n",
        "# y = gtsrb.target  # Target labels (traffic sign classes)\n",
        "\n",
        "# # Print some data points and labels (optional)\n",
        "# print(X[:5])\n",
        "# print(y[:5])\n",
        "# # import tensorflow_datasets as tfds\n",
        "\n",
        "# # Load the EuroSAT dataset\n",
        "# X_train, y_train, info = tfds.load('eurosat', split='train', with_info=True)\n",
        "# X_validation, y_validation, info = tfds.load('eurosat', split='validation', with_info=True)\n",
        "# X_test, y_test, info = tfds.load('eurosat', split='test', with_info=True)\n",
        "\n",
        "# Display the dataset info\n",
        "# print(info)\n",
        "\n",
        "# Display a sample data point\n",
        "# for example in dataset.take(1):\n",
        "#     image, label = example['image'], example['label']\n",
        "#     print(\"Image shape:\", image.shape)\n",
        "#     print(\"Label:\", label)\n"
      ],
      "metadata": {
        "id": "TLlJ510IsbwB"
      },
      "execution_count": 63,
      "outputs": []
    },
    {
      "cell_type": "code",
      "source": [
        "# import tensorflow as tf\n",
        "# from tensorflow.keras.datasets import cifar100\n",
        "# from tensorflow.keras.applications import ResNet50\n",
        "# from tensorflow.keras.models import Sequential\n",
        "# from tensorflow.keras.layers import Dense, Flatten, Dropout, BatchNormalization\n",
        "# from tensorflow.keras.utils import to_categorical\n",
        "# from sklearn.model_selection import train_test_split\n",
        "\n",
        "# # Load the CIFAR-100 dataset\n",
        "# (X_train, y_train), (X_test, y_test) = cifar100.load_data()\n",
        "\n",
        "# # Normalize the images to the range [0, 1]\n",
        "# X_train, X_test = X_train / 255.0, X_test / 255.0\n",
        "\n",
        "# # One-hot encode the labels\n",
        "# num_classes = 100\n",
        "# y_train = to_categorical(y_train, num_classes)\n",
        "# y_test = to_categorical(y_test, num_classes)\n",
        "\n",
        "# # Split training data into training and validation sets\n",
        "# X_train, X_valid, y_train, y_valid = train_test_split(X_train, y_train, test_size=0.2, random_state=42)\n",
        "\n",
        "# # Load pre-trained ResNet50 model without top layers\n",
        "# base_model = ResNet50(include_top=False, input_shape=(32, 32, 3), weights='imagenet')\n",
        "# base_model.trainble = False\n",
        "# # Add custom layers\n",
        "# model = Sequential([\n",
        "#     base_model,\n",
        "#     Flatten(),\n",
        "#     Dense(128, activation='relu'),\n",
        "#     BatchNormalization(),\n",
        "#     Dropout(0.7),\n",
        "#     Dense(256, activation='relu'),\n",
        "#     BatchNormalization(),\n",
        "#     Dropout(0.7),\n",
        "#     Dense(256, activation='relu'),\n",
        "#     BatchNormalization(),\n",
        "#     Dropout(0.7),\n",
        "#     Dense(256, activation='relu'),\n",
        "#     BatchNormalization(),\n",
        "#     Dropout(0.7),\n",
        "#     Dense(num_classes, activation='softmax')\n",
        "# ])\n",
        "\n",
        "# # Compile the model\n",
        "# model.compile(optimizer='adam', loss='categorical_crossentropy', metrics=['accuracy'])\n",
        "\n",
        "# # Train the model\n",
        "# model.fit(X_train, y_train, validation_data=(X_valid, y_valid), epochs=10, batch_size=1024)\n",
        "\n",
        "# # Evaluate the model on the test set\n",
        "# test_loss, test_accuracy = model.evaluate(X_test, y_test)\n",
        "# print(f\"Test loss: {test_loss:.4f}, Test accuracy: {test_accuracy:.4f}\")\n"
      ],
      "metadata": {
        "id": "0yv57JO4yczv"
      },
      "execution_count": 64,
      "outputs": []
    },
    {
      "cell_type": "code",
      "source": [
        "# from tensorflow.keras.datasets import cifar100\n",
        "\n",
        "# # Load the CIFAR-100 dataset\n",
        "# (X_train, y_train), (X_test, y_test) = cifar100.load_data()\n",
        "\n",
        "# # Convert labels to categorical\n",
        "# y_train = tf.keras.utils.to_categorical(y_train, num_classes=100)\n",
        "# y_test = tf.keras.utils.to_categorical(y_test, num_classes=100)\n",
        "\n",
        "# # Split training data into training and validation sets\n",
        "# from sklearn.model_selection import train_test_split\n",
        "# X_train, X_valid, y_train, y_valid = train_test_split(X_train, y_train, test_size=0.2, random_state=42)\n",
        "\n",
        "# # Print shapes of the data and target arrays\n",
        "# print(f\"X_train shape: {X_train.shape}, y_train shape: {y_train.shape}\")\n",
        "# print(f\"X_valid shape: {X_valid.shape}, y_valid shape: {y_valid.shape}\")\n",
        "# print(f\"X_test shape: {X_test.shape}, y_test shape: {y_test.shape}\")\n"
      ],
      "metadata": {
        "id": "_SRVENgoraPQ"
      },
      "execution_count": 65,
      "outputs": []
    },
    {
      "cell_type": "code",
      "source": [
        "# import tensorflow as tf\n",
        "# # Convert labels to one-hot encoding\n",
        "# y_train = tf.keras.utils.to_categorical(y, num_classes=100)\n",
        "# y_valid = tf.keras.utils.to_categorical(y, num_classes=100)\n",
        "# y_test = tf.keras.utils.to_categorical(y, num_classes=100)"
      ],
      "metadata": {
        "id": "CfVNVuSstpZN"
      },
      "execution_count": 66,
      "outputs": []
    },
    {
      "cell_type": "code",
      "source": [],
      "metadata": {
        "id": "Z_tfRJLetqth"
      },
      "execution_count": 66,
      "outputs": []
    },
    {
      "cell_type": "code",
      "source": [
        "from tensorflow.keras.applications.vgg16 import VGG16"
      ],
      "metadata": {
        "id": "2sB2v3l92Q1T"
      },
      "execution_count": 67,
      "outputs": []
    },
    {
      "cell_type": "code",
      "source": [
        "VGG16_base = VGG16(include_top=False, input_shape=(32, 32, 3), weights='imagenet')"
      ],
      "metadata": {
        "id": "MClepdcot5cM"
      },
      "execution_count": 68,
      "outputs": []
    },
    {
      "cell_type": "markdown",
      "source": [
        "### Split the data"
      ],
      "metadata": {
        "id": "rxsUya4jzbls"
      }
    },
    {
      "cell_type": "code",
      "source": [
        "# from sklearn.model_selection import train_test_split\n",
        "\n",
        "# X_train, X_val, y_train, y_val = train_test_split(X, y, test_size=0.5, random_state=42)\n",
        "# X_val, X_test, y_val, y_test = train_test_split(X_val, y_val, test_size=0.2, random_state=42)"
      ],
      "metadata": {
        "id": "Rn2vxrGczdP6"
      },
      "execution_count": 69,
      "outputs": []
    },
    {
      "cell_type": "code",
      "source": [
        "# print(X_train.shape)\n",
        "# print(X_val.shape)\n",
        "# print(X_test.shape)\n",
        "# print(y_train.shape)\n",
        "# print(y_val.shape)\n",
        "# print(y_test.shape)"
      ],
      "metadata": {
        "id": "1hHYQB2Nz5Mf"
      },
      "execution_count": 70,
      "outputs": []
    },
    {
      "cell_type": "markdown",
      "source": [
        "### Freeze Base Layers"
      ],
      "metadata": {
        "id": "UzS5pZQVtj6e"
      }
    },
    {
      "cell_type": "markdown",
      "source": [
        "* Freeze the initial layers (often convolutional layers) of the pre-trained model. These layers extract low-level features like edges and textures, which are generally transferable across different tasks. Freezing prevents these layers from being re-trained on your small dataset, potentially leading to overfitting."
      ],
      "metadata": {
        "id": "-cIjOTRqtNBF"
      }
    },
    {
      "cell_type": "code",
      "source": [
        "# Freeze the first 15 layers of VGG16 base model\n",
        "# for layer in VGG16_base.layers[:10]:\n",
        "#   layer.trainable = False\n",
        "\n",
        "# VGG16_base.trainable = False"
      ],
      "metadata": {
        "id": "iN9moycdtMi5"
      },
      "execution_count": 71,
      "outputs": []
    },
    {
      "cell_type": "code",
      "source": [
        "print(len(VGG16_base.layers))"
      ],
      "metadata": {
        "colab": {
          "base_uri": "https://localhost:8080/"
        },
        "id": "GxHEvZRBu_jx",
        "outputId": "4a5bbae3-852a-4259-ef20-a8feb9dbdd15"
      },
      "execution_count": 72,
      "outputs": [
        {
          "output_type": "stream",
          "name": "stdout",
          "text": [
            "19\n"
          ]
        }
      ]
    },
    {
      "cell_type": "markdown",
      "source": [
        "### Train the Top Layers"
      ],
      "metadata": {
        "id": "X_bRHBZ9tlWm"
      }
    },
    {
      "cell_type": "markdown",
      "source": [
        "* Add new layers on top of the frozen pre-trained model. These new layers will be specific to your classification task and learn from your small dataset."
      ],
      "metadata": {
        "id": "YUGp1LYitsDB"
      }
    },
    {
      "cell_type": "code",
      "source": [
        "x = VGG16_base.output\n",
        "x = Flatten()(x)\n",
        "\n",
        "# Add Batch Normalization after flattening\n",
        "x = BatchNormalization()(x)\n",
        "\n",
        "# Add Dense layer with ReLU activation and Dropout\n",
        "x = Dense(1024, activation='relu')(x)\n",
        "x = Dropout(0.5)(x)  # Adjust dropout rate as needed\n",
        "\n",
        "# Add another Dense layer with ReLU activation and Dropout\n",
        "x = Dense(512, activation='relu')(x)\n",
        "x = Dropout(0.5)(x)  # Adjust dropout rate as needed\n",
        "\n",
        "num_classes = images_train.shape[1]\n",
        "predictions = Dense(units = num_classes, activation='softmax')(x)\n",
        "\n",
        "VGG16_model1 = Model(inputs=VGG16_base.input, outputs=predictions)"
      ],
      "metadata": {
        "id": "2R6_HSNltoKk"
      },
      "execution_count": 73,
      "outputs": []
    },
    {
      "cell_type": "code",
      "source": [
        "print(len(VGG16_model1.layers))"
      ],
      "metadata": {
        "colab": {
          "base_uri": "https://localhost:8080/"
        },
        "id": "bgYmCqE4veLK",
        "outputId": "4bf8df05-d143-47f5-89aa-09a102287a04"
      },
      "execution_count": 74,
      "outputs": [
        {
          "output_type": "stream",
          "name": "stdout",
          "text": [
            "26\n"
          ]
        }
      ]
    },
    {
      "cell_type": "markdown",
      "source": [
        "### Compile our model"
      ],
      "metadata": {
        "id": "Es8U_9B7x5lG"
      }
    },
    {
      "cell_type": "markdown",
      "source": [
        "Compile the entire model (frozen layers + new layers) with a very low learning rate."
      ],
      "metadata": {
        "id": "eGRoG3rx5ShK"
      }
    },
    {
      "cell_type": "code",
      "source": [
        "from tensorflow.keras.optimizers import Adam\n",
        "\n",
        "VGG16_model1.compile(optimizer=Adam(learning_rate=1e-4), loss='sparse_categorical_crossentropy', metrics=['accuracy'])"
      ],
      "metadata": {
        "id": "5pnVVPV1x771"
      },
      "execution_count": 75,
      "outputs": []
    },
    {
      "cell_type": "markdown",
      "source": [
        "### Data Augmentation\n",
        "\n",
        "* Artificially increases the size and diversity of your training data, potentially reducing overfitting."
      ],
      "metadata": {
        "id": "jrA_UKfLvr0T"
      }
    },
    {
      "cell_type": "markdown",
      "source": [
        "### Import necessary class to do data augmentation"
      ],
      "metadata": {
        "id": "hk1vp6oi6SCA"
      }
    },
    {
      "cell_type": "code",
      "source": [
        "# from tensorflow.keras.preprocessing.image import ImageDataGenerator"
      ],
      "metadata": {
        "id": "ETNqJ9036SCB"
      },
      "execution_count": 76,
      "outputs": []
    },
    {
      "cell_type": "code",
      "source": [
        "# data_generator = ImageDataGenerator(rescale = 1.0/255,\n",
        "#                                     shear_range=0.2,\n",
        "#                                     zoom_range=0.2,\n",
        "#                                     rotation_range=20,\n",
        "#                                     width_shift_range= 0.1,\n",
        "#                                     height_shift_range = 0.1,\n",
        "#                                     horizontal_flip = True,\n",
        "#                                     vertical_flip = True,\n",
        "#                                     brightness_range=[-0.2, 0.2],\n",
        "#                                     # contrast_range=[0.8, 1.2],\n",
        "#                                     # saturation_range=[0.8, 1.2],\n",
        "#                                     # hue_range=[-0.1, 0.1]\n",
        "#                                     )"
      ],
      "metadata": {
        "id": "CkA7yRD_xZcA"
      },
      "execution_count": 77,
      "outputs": []
    },
    {
      "cell_type": "code",
      "source": [
        "# train_generator = data_generator.flow(X_train, y_train, batch_size = 32)"
      ],
      "metadata": {
        "id": "0_b6EYApxZcA"
      },
      "execution_count": 78,
      "outputs": []
    },
    {
      "cell_type": "code",
      "source": [
        "# steps_per_epoch = X_train.shape[0]"
      ],
      "metadata": {
        "id": "_HbsCmOpxZcB"
      },
      "execution_count": 79,
      "outputs": []
    },
    {
      "cell_type": "markdown",
      "source": [
        "### Train the model on your GTSRB data"
      ],
      "metadata": {
        "id": "b4hOZxGv3wZt"
      }
    },
    {
      "cell_type": "code",
      "source": [
        "history1 = VGG16_model1.fit(images_train, labels_train, batch_size = 128, epochs = 10, verbose=1, validation_data=(images_test, labels_test))"
      ],
      "metadata": {
        "colab": {
          "base_uri": "https://localhost:8080/"
        },
        "id": "msSNvOWM3Yxr",
        "outputId": "e6b252e1-d552-4e39-fe2c-d406a4701ab5"
      },
      "execution_count": 80,
      "outputs": [
        {
          "output_type": "stream",
          "name": "stdout",
          "text": [
            "Epoch 1/10\n",
            "573/573 [==============================] - 29s 46ms/step - loss: 1.0071 - accuracy: 0.6897 - val_loss: 0.5119 - val_accuracy: 0.8480\n",
            "Epoch 2/10\n",
            "573/573 [==============================] - 26s 45ms/step - loss: 0.3909 - accuracy: 0.8828 - val_loss: 3.1204 - val_accuracy: 0.8662\n",
            "Epoch 3/10\n",
            "573/573 [==============================] - 23s 41ms/step - loss: 0.2967 - accuracy: 0.9129 - val_loss: 0.3412 - val_accuracy: 0.8971\n",
            "Epoch 4/10\n",
            "573/573 [==============================] - 25s 44ms/step - loss: 0.2406 - accuracy: 0.9296 - val_loss: 0.2604 - val_accuracy: 0.9237\n",
            "Epoch 5/10\n",
            "573/573 [==============================] - 23s 41ms/step - loss: 0.1995 - accuracy: 0.9429 - val_loss: 0.2847 - val_accuracy: 0.9221\n",
            "Epoch 6/10\n",
            "573/573 [==============================] - 25s 44ms/step - loss: 0.1607 - accuracy: 0.9540 - val_loss: 0.2724 - val_accuracy: 0.9239\n",
            "Epoch 7/10\n",
            "573/573 [==============================] - 26s 45ms/step - loss: 0.1316 - accuracy: 0.9623 - val_loss: 0.2885 - val_accuracy: 0.9227\n",
            "Epoch 8/10\n",
            "573/573 [==============================] - 25s 44ms/step - loss: 0.1032 - accuracy: 0.9708 - val_loss: 0.3184 - val_accuracy: 0.9186\n",
            "Epoch 9/10\n",
            "573/573 [==============================] - 25s 43ms/step - loss: 0.0830 - accuracy: 0.9765 - val_loss: 0.3560 - val_accuracy: 0.9169\n",
            "Epoch 10/10\n",
            "573/573 [==============================] - 23s 41ms/step - loss: 0.0691 - accuracy: 0.9803 - val_loss: 0.3224 - val_accuracy: 0.9264\n"
          ]
        }
      ]
    },
    {
      "cell_type": "code",
      "source": [
        "import matplotlib.pyplot as plt"
      ],
      "metadata": {
        "id": "NJ-qRkdw6RRH"
      },
      "execution_count": 81,
      "outputs": []
    },
    {
      "cell_type": "code",
      "source": [
        "def display_accuracy(history):\n",
        "  plt.plot(history.history['accuracy'])\n",
        "  plt.plot(history.history['val_accuracy'])\n",
        "  plt.title('model accuracy')\n",
        "  plt.ylabel('accuracy')\n",
        "  plt.xlabel('epoch')\n",
        "  plt.legend(['Train accuracy', 'Validation accuracy','Train loss'], loc='upper right')\n",
        "  # plt.ylim(ymax=2, ymin=0)\n",
        "  plt.show()"
      ],
      "metadata": {
        "id": "iWyxqjkh6RbK"
      },
      "execution_count": 82,
      "outputs": []
    },
    {
      "cell_type": "code",
      "source": [
        "def display_loss(history):\n",
        "  plt.plot(history.history['loss'])\n",
        "  plt.plot(history.history['val_loss'])\n",
        "  plt.title('model loss')\n",
        "  plt.ylabel('loss')\n",
        "  plt.xlabel('epoch')\n",
        "  plt.legend(['Train loss', 'Validation loss'], loc='upper left')\n",
        "  # plt.ylim(ymax=3, ymin=0)\n",
        "  plt.show()\n"
      ],
      "metadata": {
        "id": "E4eChz5M6RbL"
      },
      "execution_count": 83,
      "outputs": []
    },
    {
      "cell_type": "markdown",
      "source": [
        "### Evaluate and show the results"
      ],
      "metadata": {
        "id": "d4aDECnN5d03"
      }
    },
    {
      "cell_type": "code",
      "source": [
        "loss1, accuracy1 = VGG16_model1.evaluate(images_test, labels_test)"
      ],
      "metadata": {
        "id": "N-oIUB3U4tCv",
        "colab": {
          "base_uri": "https://localhost:8080/"
        },
        "outputId": "2b768f04-7d65-47e4-8bb5-08887000f78c"
      },
      "execution_count": 84,
      "outputs": [
        {
          "output_type": "stream",
          "name": "stdout",
          "text": [
            "814/814 [==============================] - 7s 8ms/step - loss: 0.3224 - accuracy: 0.9264\n"
          ]
        }
      ]
    },
    {
      "cell_type": "code",
      "source": [
        "display_accuracy(history1)"
      ],
      "metadata": {
        "id": "FFN2Cm5P5a2X",
        "colab": {
          "base_uri": "https://localhost:8080/",
          "height": 472
        },
        "outputId": "46f52ac5-d85b-4014-9abe-48d7d6133872"
      },
      "execution_count": 85,
      "outputs": [
        {
          "output_type": "display_data",
          "data": {
            "text/plain": [
              "<Figure size 640x480 with 1 Axes>"
            ],
            "image/png": "[encoded data removed]"
          },
          "metadata": {}
        }
      ]
    },
    {
      "cell_type": "code",
      "source": [
        "display_loss(history1)"
      ],
      "metadata": {
        "id": "pMILMinL5a2k",
        "colab": {
          "base_uri": "https://localhost:8080/",
          "height": 472
        },
        "outputId": "a3235cc0-2f7b-47cb-8462-034d09da4349"
      },
      "execution_count": 86,
      "outputs": [
        {
          "output_type": "display_data",
          "data": {
            "text/plain": [
              "<Figure size 640x480 with 1 Axes>"
            ],
            "image/png": "[encoded data removed]"
          },
          "metadata": {}
        }
      ]
    },
    {
      "cell_type": "markdown",
      "source": [
        "### results"
      ],
      "metadata": {
        "id": "E044qYBP5bmB"
      }
    },
    {
      "cell_type": "markdown",
      "source": [
        "train-test, batch_size = 32, epochs = 10, verbose=1, learning_rate=1e-5, trainable = false\n",
        "\n",
        "814/814 [==============================] - 7s 9ms/step - loss: 1.5038 - accuracy: 0.5029\n",
        "\n",
        "train-test, batch_size = 128, epochs = 10, verbose=1, learning_rate=1e-4, 10 layers frozen\n",
        "\n",
        "\n",
        "814/814 [==============================] - 7s 8ms/step - loss: 0.3224 - accuracy: 0.9264\n",
        "\n",
        "\n",
        "train-test, batch_size = 128, epochs = 10, verbose=1, learning_rate=1e-4, trainable = true\n",
        "\n",
        "\n",
        "\n",
        "814/814 [==============================] - 9s 10ms/step - loss: 0.1978 - accuracy: 0.9524"
      ],
      "metadata": {
        "id": "O7Vzlb025dig"
      }
    },
    {
      "cell_type": "markdown",
      "source": [
        "## Simillar small dataset"
      ],
      "metadata": {
        "id": "SxuCs22M-FdR"
      }
    },
    {
      "cell_type": "code",
      "source": [
        "VGG16_base = VGG16(weights='imagenet', include_top=False, input_shape=(224, 224, 3))"
      ],
      "metadata": {
        "id": "sTYl6lck-FDz"
      },
      "execution_count": 87,
      "outputs": []
    },
    {
      "cell_type": "markdown",
      "source": [
        "Since Tiny ImageNet shares more similarities with ImageNet, we can fine-tune a larger portion of the VGG16 base model (e.g., freeze only the first 10 layers)."
      ],
      "metadata": {
        "id": "Hefe8EvoBiOj"
      }
    },
    {
      "cell_type": "code",
      "source": [
        "# Freeze the first 10 layers of VGG16 base model\n",
        "for layer in VGG16_base.layers[:10]:\n",
        "  layer.trainable = False"
      ],
      "metadata": {
        "id": "iOM2llHyBP4K"
      },
      "execution_count": 88,
      "outputs": []
    },
    {
      "cell_type": "markdown",
      "source": [
        "### import 'cifar10' dataset which is similar to imagenet"
      ],
      "metadata": {
        "id": "fSsUy2adBkpI"
      }
    },
    {
      "cell_type": "code",
      "source": [
        "from tensorflow.keras.datasets import cifar10\n",
        "\n",
        "(X_train, y_train), (X_val, y_val) = cifar10.load_data()\n"
      ],
      "metadata": {
        "id": "P8XY6w3bBj35",
        "colab": {
          "base_uri": "https://localhost:8080/"
        },
        "outputId": "f3f87ac7-9e15-4a89-d4c6-b235d1db92b1"
      },
      "execution_count": 89,
      "outputs": [
        {
          "output_type": "stream",
          "name": "stdout",
          "text": [
            "Downloading data from https://www.cs.toronto.edu/~kriz/cifar-10-python.tar.gz\n",
            "170498071/170498071 [==============================] - 2s 0us/step\n"
          ]
        }
      ]
    },
    {
      "cell_type": "code",
      "source": [
        "from sklearn.model_selection import train_test_split\n",
        "\n",
        "X_train, X_test, y_train, y_test = train_test_split(X_train, y_train, test_size=0.1, random_state=42)"
      ],
      "metadata": {
        "id": "Aks3mcd4ELge"
      },
      "execution_count": 90,
      "outputs": []
    },
    {
      "cell_type": "code",
      "source": [
        "print(X_train.shape)\n",
        "print(X_val.shape)\n",
        "print(X_test.shape)\n",
        "print(y_train.shape)\n",
        "print(y_val.shape)\n",
        "print(y_test.shape)"
      ],
      "metadata": {
        "id": "z0bPsFAbECcC",
        "colab": {
          "base_uri": "https://localhost:8080/"
        },
        "outputId": "6ad3da76-a658-406f-a58d-554087f0d4ad"
      },
      "execution_count": 91,
      "outputs": [
        {
          "output_type": "stream",
          "name": "stdout",
          "text": [
            "(45000, 32, 32, 3)\n",
            "(10000, 32, 32, 3)\n",
            "(5000, 32, 32, 3)\n",
            "(45000, 1)\n",
            "(10000, 1)\n",
            "(5000, 1)\n"
          ]
        }
      ]
    },
    {
      "cell_type": "code",
      "source": [
        "x = VGG16_base.output\n",
        "x = Flatten()(x)\n",
        "\n",
        "# Add Batch Normalization after flattening\n",
        "x = BatchNormalization()(x)\n",
        "\n",
        "# Add Dense layer with ReLU activation and Dropout\n",
        "x = Dense(1024, activation='relu')(x)\n",
        "x = Dropout(0.5)(x)  # Adjust dropout rate as needed\n",
        "\n",
        "# Add another Dense layer with ReLU activation and Dropout\n",
        "x = Dense(512, activation='relu')(x)\n",
        "x = Dropout(0.5)(x)  # Adjust dropout rate as needed\n",
        "\n",
        "num_classes = X_train.shape[1]\n",
        "predictions = Dense(units = num_classes, activation='softmax')(x)\n",
        "\n",
        "VGG16_model2 = Model(inputs=VGG16_base.input, outputs=predictions)"
      ],
      "metadata": {
        "id": "3qFTMOy2Em_B"
      },
      "execution_count": 92,
      "outputs": []
    },
    {
      "cell_type": "code",
      "source": [
        "from tensorflow.keras.optimizers import Adam\n",
        "\n",
        "VGG16_model2.compile(optimizer=Adam(learning_rate=1e-5), loss='categorical_crossentropy', metrics=['accuracy'])"
      ],
      "metadata": {
        "id": "UAsQCukMFGUK"
      },
      "execution_count": 93,
      "outputs": []
    },
    {
      "cell_type": "markdown",
      "source": [
        "While data augmentation remains an option, it might be less crucial for Tiny ImageNet because it's already more similar to the pre-trained data (ImageNet)."
      ],
      "metadata": {
        "id": "CfWkNohaF6az"
      }
    },
    {
      "cell_type": "code",
      "source": [
        "history2 = VGG16_model2.fit_generator(X_train, y_train, epochs = 10, batch_size = 32, verbose=1, validation_data=(X_val, y_val))"
      ],
      "metadata": {
        "id": "EAEibIT8FGUU",
        "colab": {
          "base_uri": "https://localhost:8080/",
          "height": 162
        },
        "outputId": "0575121f-6d82-4866-f8db-2f3288fdf4b6"
      },
      "execution_count": 94,
      "outputs": [
        {
          "output_type": "error",
          "ename": "TypeError",
          "evalue": "Model.fit_generator() got an unexpected keyword argument 'batch_size'",
          "traceback": [
            "\u001b[0;31m---------------------------------------------------------------------------\u001b[0m",
            "\u001b[0;31mTypeError\u001b[0m                                 Traceback (most recent call last)",
            "\u001b[0;32m<ipython-input-94-62e1b872480c>\u001b[0m in \u001b[0;36m<cell line: 1>\u001b[0;34m()\u001b[0m\n\u001b[0;32m----> 1\u001b[0;31m \u001b[0mhistory2\u001b[0m \u001b[0;34m=\u001b[0m \u001b[0mVGG16_model2\u001b[0m\u001b[0;34m.\u001b[0m\u001b[0mfit_generator\u001b[0m\u001b[0;34m(\u001b[0m\u001b[0mX_train\u001b[0m\u001b[0;34m,\u001b[0m \u001b[0my_train\u001b[0m\u001b[0;34m,\u001b[0m \u001b[0mepochs\u001b[0m \u001b[0;34m=\u001b[0m \u001b[0;36m10\u001b[0m\u001b[0;34m,\u001b[0m \u001b[0mbatch_size\u001b[0m \u001b[0;34m=\u001b[0m \u001b[0;36m32\u001b[0m\u001b[0;34m,\u001b[0m \u001b[0mverbose\u001b[0m\u001b[0;34m=\u001b[0m\u001b[0;36m1\u001b[0m\u001b[0;34m,\u001b[0m \u001b[0mvalidation_data\u001b[0m\u001b[0;34m=\u001b[0m\u001b[0;34m(\u001b[0m\u001b[0mX_val\u001b[0m\u001b[0;34m,\u001b[0m \u001b[0my_val\u001b[0m\u001b[0;34m)\u001b[0m\u001b[0;34m)\u001b[0m\u001b[0;34m\u001b[0m\u001b[0;34m\u001b[0m\u001b[0m\n\u001b[0m",
            "\u001b[0;31mTypeError\u001b[0m: Model.fit_generator() got an unexpected keyword argument 'batch_size'"
          ]
        }
      ]
    },
    {
      "cell_type": "code",
      "source": [
        "loss2, accuracy2 = VGG16_model2.evaluate(X_test, y_test)"
      ],
      "metadata": {
        "id": "hOhvQ6teGNE4"
      },
      "execution_count": null,
      "outputs": []
    },
    {
      "cell_type": "code",
      "source": [
        "display_accuracy(history2)"
      ],
      "metadata": {
        "id": "JZa0eOVhGNE5"
      },
      "execution_count": null,
      "outputs": []
    },
    {
      "cell_type": "code",
      "source": [
        "display_loss(history2)"
      ],
      "metadata": {
        "id": "wghuv1qRGNE5"
      },
      "execution_count": null,
      "outputs": []
    },
    {
      "cell_type": "code",
      "source": [
        "compute_confusion_matrix_and_classification_report(VGG16_model2)"
      ],
      "metadata": {
        "id": "933N4OlWGNE5"
      },
      "execution_count": null,
      "outputs": []
    },
    {
      "cell_type": "markdown",
      "source": [
        "## Overall\n",
        "\n",
        "### **Fine-tuning Strategy:**\n",
        "\n",
        "* Part 1 (GTSRB): We froze a significant portion of the VGG16 base model layers (e.g., 15 layers) due to the small size and significant difference between the GTSRB dataset and ImageNet (the original training data for VGG16). This aimed to minimize overfitting by adapting fewer pre-trained weights.\n",
        "* Part 2 (Tiny ImageNet): Since Tiny ImageNet shares more similarities with ImageNet, we can fine-tune a larger portion of the VGG16 base model (e.g., freeze only the first 10 layers). This leverages the pre-trained features that are more relevant to the traffic sign recognition task in Tiny ImageNet.\n",
        "\n",
        "\n",
        "### **Data Augmentation:**\n",
        "\n",
        "* Part 1 (GTSRB): Data augmentation was highly recommended due to the limited size of the GTSRB dataset. It helps artificially increase the data size and diversity, potentially improving model performance on unseen traffic signs.\n",
        "* Part 2 (Tiny ImageNet): While data augmentation remains an option, it might be less crucial for Tiny ImageNet because it's already more similar to the pre-trained data (ImageNet). However, you can still experiment with it to see if it further improves the model's performance."
      ],
      "metadata": {
        "id": "Jdmyx64OAcHL"
      }
    },
    {
      "cell_type": "markdown",
      "source": [
        "**the more you want to inherit features from a pre-trained model, the more you have to freeze layers**"
      ],
      "metadata": {
        "id": "KyK-z9cqS9nQ"
      }
    },
    {
      "cell_type": "markdown",
      "source": [
        "**which layers we need to freeze?!**\n",
        "\n",
        "\n",
        "Now, one may ask how to determine which layers we need to freeze, and which layers need to train. The answer is simple, the more you want to inherit features from a pre-trained model, the more you have to freeze layers. For instance, if the pre-trained model detects some flower species and we need to detect some new species. In such a case, a new dataset with new species contains a lot of features similar to the pre-trained model. Thus, we freeze less number of layers so that we can use most of its knowledge in a new model. Now, consider another case, if there is a pre-trained model which detects humans in images, and we want to use that knowledge to detect cars, in such a case where the dataset is entirely different, it is not good to freeze lots of layers because freezing a large number of layers will not only give low level features but also give high-level features like nose, eyes, etc which are useless for new dataset (car detection). Thus, we only copy low-level features from the base network and train the entire network on a new dataset.\n",
        "\n",
        "\n",
        "https://www.geeksforgeeks.org/ml-introduction-to-transfer-learning/\n"
      ],
      "metadata": {
        "id": "TXbZEZZsTjNf"
      }
    },
    {
      "cell_type": "markdown",
      "source": [
        "**The target dataset is small and similar to the base network dataset:**\n",
        "\n",
        "* Since the target dataset is small, that means we can fine-tune the pre-trained network with the target dataset. But this may lead to a problem of overfitting. Also, there may be some changes in the number of classes in the target task. So, in such a case we remove the fully connected layers from the end, maybe one or two, and add a new fully connected layer satisfying the number of new classes. Now, we freeze the rest of the model and only train newly added layers.\n",
        "\n",
        "**The target dataset is small and different from the base network dataset:**\n",
        "\n",
        "* Since the target dataset is different, using high-level features of the pre-trained model will not be useful. In such a case, remove most of the layers from the end in a pre-trained model, and add new layers a satisfying number of classes in a new dataset. This way we can use low-level features from the pre-trained model and train the rest of the layers to fit a new dataset. Sometimes, it is beneficial to train the entire network after adding a new layer at the end.\n",
        "\n",
        "https://liacs.leidenuniv.nl/~plaata1/papers/ida2016_camera_ready.pdf\n",
        "\n",
        "https://emerginginvestigators.org/articles/20-130/pdf\n"
      ],
      "metadata": {
        "id": "qSTkvT2HTzMI"
      }
    }
  ]
}