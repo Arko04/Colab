{
  "nbformat": 4,
  "nbformat_minor": 0,
  "metadata": {
    "colab": {
      "provenance": [],
      "toc_visible": true,
      "include_colab_link": true
    },
    "kernelspec": {
      "name": "python3",
      "display_name": "Python 3"
    },
    "language_info": {
      "name": "python"
    }
  },
  "cells": [
    {
      "cell_type": "markdown",
      "metadata": {
        "id": "view-in-github",
        "colab_type": "text"
      },
      "source": [
        "<a href=\"https://colab.research.google.com/github/Arko04/Colab/blob/main/AI_project1.ipynb\" target=\"_parent\"><img src=\"https://colab.research.google.com/assets/colab-badge.svg\" alt=\"Open In Colab\"/></a>"
      ]
    },
    {
      "cell_type": "markdown",
      "source": [
        "<div style=\"display:block;width:100%;margin:auto;\" direction=rtl align=center><br><br>\n",
        "    <div  style=\"width:100%;margin:100;display:block;background-color:#fff0;\"  display=block align=center>\n",
        "        <table style=\"border-style:hidden;border-collapse:collapse;\">\n",
        "            <tr>\n",
        "                <td  style=\"border: none!important;\">\n",
        "        <img width=230 align=right src=\"https://i.ibb.co/yXKQmtZ/logo1.png\" style=\"margin:0;\" />\n",
        "                </td>\n",
        "                <td style=\"text-align:center;border: none!important;\">\n",
        "                <h1 align=center><font size=5 color=\"#045F5F\"> <b>Project 1</b><br><br>Alireza Karimi</i></font></h1>\n",
        "                </td>\n",
        "                <td style=\"border: none!important;\">\n",
        "        <img width=300 align=left  src=\"https://i.ibb.co/wLjqFkw/logo2.png\" style=\"margin:0;\" />\n",
        "                </td>\n",
        "            </tr>\n",
        "        </table>\n",
        "\n"
      ],
      "metadata": {
        "id": "j91ntS4__yar"
      }
    },
    {
      "cell_type": "markdown",
      "source": [
        "### Mount my google drive"
      ],
      "metadata": {
        "id": "AaH-IbVyAqFf"
      }
    },
    {
      "cell_type": "code",
      "source": [
        "from google.colab import drive\n",
        "drive.mount('/content/grive')"
      ],
      "metadata": {
        "colab": {
          "base_uri": "https://localhost:8080/"
        },
        "id": "_vQ8Nl-fA1Vw",
        "outputId": "549c8932-705d-4d8f-ba82-ef4ccd9eacb0"
      },
      "execution_count": 1,
      "outputs": [
        {
          "output_type": "stream",
          "name": "stdout",
          "text": [
            "Mounted at /content/grive\n"
          ]
        }
      ]
    },
    {
      "cell_type": "markdown",
      "source": [
        "###   Import \"Image\" class to display image"
      ],
      "metadata": {
        "id": "mdpPdzpH4uX0"
      }
    },
    {
      "cell_type": "code",
      "source": [
        "from IPython.display import Image"
      ],
      "metadata": {
        "id": "iWtXMVwOkiXG"
      },
      "execution_count": 2,
      "outputs": []
    },
    {
      "cell_type": "markdown",
      "source": [
        "### Import necessary libraries to work with models (use tensorflow)"
      ],
      "metadata": {
        "id": "i4vip19Z-uPI"
      }
    },
    {
      "cell_type": "code",
      "source": [
        "import tensorflow as tf\n",
        "from tensorflow import keras"
      ],
      "metadata": {
        "id": "En2JxV2D-2PD"
      },
      "execution_count": 3,
      "outputs": []
    },
    {
      "cell_type": "markdown",
      "source": [
        "# <b><font color='green'>Part 1:</font></b>"
      ],
      "metadata": {
        "id": "DGFXL0UYAD4H"
      }
    },
    {
      "cell_type": "markdown",
      "source": [
        "## **1_1: VGG16 & ResNet50 Explanation**"
      ],
      "metadata": {
        "id": "gthz5Di_0AXq"
      }
    },
    {
      "cell_type": "markdown",
      "source": [
        "### **1_1_1: VGG16**"
      ],
      "metadata": {
        "id": "lZyK3Dzp0PRS"
      }
    },
    {
      "cell_type": "markdown",
      "source": [
        "#### **1_1_1_1 : Brief Explaination**"
      ],
      "metadata": {
        "id": "FY0k0gIc20MD"
      }
    },
    {
      "cell_type": "markdown",
      "source": [
        "A convolutional neural network (CNN) architecture that is widely used for image classification tasks."
      ],
      "metadata": {
        "id": "xupGgZrp27TD"
      }
    },
    {
      "cell_type": "markdown",
      "source": [
        "#### **1_1_1_2: Introduced by**"
      ],
      "metadata": {
        "id": "zpqJOr8L3B-N"
      }
    },
    {
      "cell_type": "markdown",
      "source": [
        "Visual Geometry Group at the University of Oxford"
      ],
      "metadata": {
        "id": "ZgeZHGLk3lkE"
      }
    },
    {
      "cell_type": "markdown",
      "source": [
        "#### **1_1_1_3: Paper**"
      ],
      "metadata": {
        "id": "62olzB2h3Tbb"
      }
    },
    {
      "cell_type": "markdown",
      "source": [
        "[\"Very Deep Convolutional Networks for Large-Scale Image Recognition\"](https://arxiv.org/abs/1409.1556)"
      ],
      "metadata": {
        "id": "01VT4CqM3SCj"
      }
    },
    {
      "cell_type": "markdown",
      "source": [
        "#### **1_1_1_4: Event**"
      ],
      "metadata": {
        "id": "KU_ZJ91W3ou_"
      }
    },
    {
      "cell_type": "markdown",
      "source": [
        "ImageNet Large Scale Visual Recognition Challenge (ILSVRC) in 2014."
      ],
      "metadata": {
        "id": "J0LsSSRv3sGN"
      }
    },
    {
      "cell_type": "markdown",
      "source": [
        "#### **1_1_1_5: Dataset**"
      ],
      "metadata": {
        "id": "tFbiydVZ7XXM"
      }
    },
    {
      "cell_type": "markdown",
      "source": [
        "The original VGG16 model was trained on the **ImageNet** dataset.\n",
        "\n",
        "##### **About ImageNet:**\n",
        "\n",
        "ImageNet is a large-scale dataset that contains\n",
        "\n",
        "* over 14 million labeled images\n",
        "\n",
        "* across more than 20,000 categories.\n",
        "\n",
        "For the ImageNet Large Scale Visual Recognition Challenge (ILSVRC), a subset of the dataset is used, which includes\n",
        "\n",
        "* 1.2 million images for training,\n",
        "\n",
        "* 50,000 for validation,\n",
        "\n",
        "* 100,000 for testing,\n",
        "\n",
        "* across 1,000 classes (categories)."
      ],
      "metadata": {
        "id": "wwu9OZ-c7clB"
      }
    },
    {
      "cell_type": "markdown",
      "source": [
        "#### **1_1_1_6: Architecture**"
      ],
      "metadata": {
        "id": "6pwgTiTi35rU"
      }
    },
    {
      "cell_type": "markdown",
      "source": [
        "It consists of 16 layers, including 13 convolutional layers and 3 fully connected layers.\n",
        "\n",
        "Each convolutional layer is followed by a ReLU activation function,\n",
        "\n",
        "and some convolutional layers are followed by max-pooling layers."
      ],
      "metadata": {
        "id": "jb9Iwqfx4HfU"
      }
    },
    {
      "cell_type": "markdown",
      "source": [
        "1. **Input Layer**:\n",
        "    - **Dimensions**: The input layer expects images with a size of **224x224 pixels** and **3 color channels (RGB).**\n",
        "\n",
        "2. **First Convolutional Block (64 filters)**:\n",
        "    * **Layers**: Two convolutional layers, each with **64 filters** and a filter size of **3x3**.\n",
        "    * **Padding**: Same padding is applied to preserve the spatial dimensions of the image.\n",
        "    * **Activation**: **ReLU** activation function is applied after each convolution.\n",
        "\n",
        "3. **First Max Pooling Layer**:\n",
        "    * **Pooling**: Max-pooling layer with a pool size of **2x2** and a stride of **2** to reduce the spatial dimensions.\n",
        "\n",
        "4. **Second Convolutional Block (128 filters)**:\n",
        "    * **Layers**: Two consecutive convolutional layers, each with **128 filters** and a filter size of **3x3**.\n",
        "    * **Padding**: Same padding to maintain spatial dimensions.\n",
        "    * **Activation**: **ReLU** activation function after each convolution.\n",
        "\n",
        "5. **Second Max Pooling Layer**:\n",
        "    * **Pooling**: Max-pooling layer with a pool size of **2x2** and a stride of **2** for spatial reduction.\n",
        "\n",
        "6. **Third Convolutional Block (256 filters)**:\n",
        "    * **Layers**: Three consecutive convolutional layers, each with **256 filters** and a filter size of **3x3**.\n",
        "    * **Padding**: Same padding to retain spatial dimensions.\n",
        "    * **Activation**: **ReLU** activation function follows each convolution.\n",
        "\n",
        "7. **Third Max Pooling Layer**:\n",
        "    * **Pooling**: Max-pooling layer with a pool size of **2x2** and a stride of **2**.\n",
        "\n",
        "8. **Fourth Convolutional Block (512 filters)**:\n",
        "    * **Layers**: Three consecutive convolutional layers, each with **512 filters** and a filter size of **3x3**.\n",
        "    * **Padding**: Same padding for consistent dimensions.\n",
        "    * **Activation**: **ReLU** activation function follows each convolution.\n",
        "\n",
        "9. **Fourth Max Pooling Layer**:\n",
        "    * **Pooling**: Max-pooling layer with a pool size of **2x2** and a stride of **2**.\n",
        "\n",
        "10. **Fifth Convolutional Block (512 filters)**:\n",
        "    * **Layers**: Three consecutive convolutional layers, each with **512 filters** and a filter size of **3x3**.\n",
        "    * **Padding**: Same padding for consistent dimensions.\n",
        "    * **Activation**: **ReLU** activation function follows each convolution.\n",
        "\n",
        "11. **Fifth Max Pooling Layer**:\n",
        "    * **Pooling**: Max-pooling layer with a pool size of **2x2** and a stride of **2**.\n",
        "\n",
        "12. **Flattening**:\n",
        "    * **Process**: The output feature map (**7x7x512**) is flattened into a single vector of length **25,088**.\n",
        "\n",
        "13. **Fully Connected Layers**:\n",
        "    * **First Layer**: Fully connected layer with **4,096 units** and **ReLU** activation.\n",
        "    * **Second Layer**: Another fully connected layer with **4,096 units** and **ReLU** activation.\n",
        "    * **Third Layer**: Fully connected layer with **1,000 units** (representing the **1,000 classes** in the ImageNet dataset) and **softmax** activation for classification.\n"
      ],
      "metadata": {
        "id": "qq1Cr63eBQn6"
      }
    },
    {
      "cell_type": "markdown",
      "source": [
        "#### **1_1_1_7: Implementation from scratch**"
      ],
      "metadata": {
        "id": "WGerFoJoLoli"
      }
    },
    {
      "cell_type": "code",
      "source": [
        "# import necessary layers\n",
        "from tensorflow.keras.layers import Input, Conv2D\n",
        "from tensorflow.keras.layers import MaxPool2D, Flatten, Dense\n",
        "from tensorflow.keras import Model\n",
        "\n",
        "# input\n",
        "\n",
        "input = Input(shape =(224,224,3))\n",
        "\n",
        "# 1st Conv Block\n",
        "\n",
        "x = Conv2D (filters =64, kernel_size =3, padding ='same', activation='relu')(input)\n",
        "x = Conv2D (filters =64, kernel_size =3, padding ='same', activation='relu')(x)\n",
        "x = MaxPool2D(pool_size =2, strides =2, padding ='same')(x)\n",
        "\n",
        "# 2nd Conv Block\n",
        "\n",
        "x = Conv2D (filters =128, kernel_size =3, padding ='same', activation='relu')(x)\n",
        "x = Conv2D (filters =128, kernel_size =3, padding ='same', activation='relu')(x)\n",
        "x = MaxPool2D(pool_size =2, strides =2, padding ='same')(x)\n",
        "\n",
        "# 3rd Conv block\n",
        "\n",
        "x = Conv2D (filters =256, kernel_size =3, padding ='same', activation='relu')(x)\n",
        "x = Conv2D (filters =256, kernel_size =3, padding ='same', activation='relu')(x)\n",
        "x = Conv2D (filters =256, kernel_size =3, padding ='same', activation='relu')(x)\n",
        "x = MaxPool2D(pool_size =2, strides =2, padding ='same')(x)\n",
        "\n",
        "# 4th Conv block\n",
        "\n",
        "x = Conv2D (filters =512, kernel_size =3, padding ='same', activation='relu')(x)\n",
        "x = Conv2D (filters =512, kernel_size =3, padding ='same', activation='relu')(x)\n",
        "x = Conv2D (filters =512, kernel_size =3, padding ='same', activation='relu')(x)\n",
        "x = MaxPool2D(pool_size =2, strides =2, padding ='same')(x)\n",
        "\n",
        "# 5th Conv block\n",
        "\n",
        "x = Conv2D (filters =512, kernel_size =3, padding ='same', activation='relu')(x)\n",
        "x = Conv2D (filters =512, kernel_size =3, padding ='same', activation='relu')(x)\n",
        "x = Conv2D (filters =512, kernel_size =3, padding ='same', activation='relu')(x)\n",
        "x = MaxPool2D(pool_size =2, strides =2, padding ='same')(x)\n",
        "\n",
        "# Fully connected layers\n",
        "\n",
        "x = Flatten()(x)\n",
        "x = Dense(units = 4096, activation ='relu')(x)\n",
        "x = Dense(units = 4096, activation ='relu')(x)\n",
        "output = Dense(units = 1000, activation ='softmax')(x)\n",
        "\n",
        "# creating the model\n",
        "\n",
        "model_ = Model (inputs=input, outputs =output)\n",
        "model_.summary()"
      ],
      "metadata": {
        "colab": {
          "base_uri": "https://localhost:8080/"
        },
        "id": "gxouru7cHq3e",
        "outputId": "3bfd82a9-216b-4d2b-cd21-894ed5a1b504"
      },
      "execution_count": 4,
      "outputs": [
        {
          "output_type": "stream",
          "name": "stdout",
          "text": [
            "Model: \"model\"\n",
            "_________________________________________________________________\n",
            " Layer (type)                Output Shape              Param #   \n",
            "=================================================================\n",
            " input_1 (InputLayer)        [(None, 224, 224, 3)]     0         \n",
            "                                                                 \n",
            " conv2d (Conv2D)             (None, 224, 224, 64)      1792      \n",
            "                                                                 \n",
            " conv2d_1 (Conv2D)           (None, 224, 224, 64)      36928     \n",
            "                                                                 \n",
            " max_pooling2d (MaxPooling2  (None, 112, 112, 64)      0         \n",
            " D)                                                              \n",
            "                                                                 \n",
            " conv2d_2 (Conv2D)           (None, 112, 112, 128)     73856     \n",
            "                                                                 \n",
            " conv2d_3 (Conv2D)           (None, 112, 112, 128)     147584    \n",
            "                                                                 \n",
            " max_pooling2d_1 (MaxPoolin  (None, 56, 56, 128)       0         \n",
            " g2D)                                                            \n",
            "                                                                 \n",
            " conv2d_4 (Conv2D)           (None, 56, 56, 256)       295168    \n",
            "                                                                 \n",
            " conv2d_5 (Conv2D)           (None, 56, 56, 256)       590080    \n",
            "                                                                 \n",
            " conv2d_6 (Conv2D)           (None, 56, 56, 256)       590080    \n",
            "                                                                 \n",
            " max_pooling2d_2 (MaxPoolin  (None, 28, 28, 256)       0         \n",
            " g2D)                                                            \n",
            "                                                                 \n",
            " conv2d_7 (Conv2D)           (None, 28, 28, 512)       1180160   \n",
            "                                                                 \n",
            " conv2d_8 (Conv2D)           (None, 28, 28, 512)       2359808   \n",
            "                                                                 \n",
            " conv2d_9 (Conv2D)           (None, 28, 28, 512)       2359808   \n",
            "                                                                 \n",
            " max_pooling2d_3 (MaxPoolin  (None, 14, 14, 512)       0         \n",
            " g2D)                                                            \n",
            "                                                                 \n",
            " conv2d_10 (Conv2D)          (None, 14, 14, 512)       2359808   \n",
            "                                                                 \n",
            " conv2d_11 (Conv2D)          (None, 14, 14, 512)       2359808   \n",
            "                                                                 \n",
            " conv2d_12 (Conv2D)          (None, 14, 14, 512)       2359808   \n",
            "                                                                 \n",
            " max_pooling2d_4 (MaxPoolin  (None, 7, 7, 512)         0         \n",
            " g2D)                                                            \n",
            "                                                                 \n",
            " flatten (Flatten)           (None, 25088)             0         \n",
            "                                                                 \n",
            " dense (Dense)               (None, 4096)              102764544 \n",
            "                                                                 \n",
            " dense_1 (Dense)             (None, 4096)              16781312  \n",
            "                                                                 \n",
            " dense_2 (Dense)             (None, 1000)              4097000   \n",
            "                                                                 \n",
            "=================================================================\n",
            "Total params: 138357544 (527.79 MB)\n",
            "Trainable params: 138357544 (527.79 MB)\n",
            "Non-trainable params: 0 (0.00 Byte)\n",
            "_________________________________________________________________\n"
          ]
        }
      ]
    },
    {
      "cell_type": "code",
      "source": [
        "Image(filename='/content/grive/MyDrive/Slides/Project1/vgg16.png', width=800,height=500)"
      ],
      "metadata": {
        "colab": {
          "base_uri": "https://localhost:8080/",
          "height": 517
        },
        "id": "RzLQr44iNM9G",
        "outputId": "45f9410f-19be-416d-a563-6f7a68b0c231"
      },
      "execution_count": 5,
      "outputs": [
        {
          "output_type": "execute_result",
          "data": {
            "image/png": "[encoded data removed]",
            "text/plain": [
              "<IPython.core.display.Image object>"
            ]
          },
          "metadata": {
            "image/png": {
              "width": 800,
              "height": 500
            }
          },
          "execution_count": 5
        }
      ]
    },
    {
      "cell_type": "markdown",
      "source": [
        "#### **1_1_1_8: Instantiate in code using built-in class**"
      ],
      "metadata": {
        "id": "hLt6m1699-WK"
      }
    },
    {
      "cell_type": "markdown",
      "source": [
        "##### **Import necessary library and class**"
      ],
      "metadata": {
        "id": "X8gIaYub-Ww2"
      }
    },
    {
      "cell_type": "code",
      "source": [
        "from tensorflow.keras.applications.vgg16 import VGG16"
      ],
      "metadata": {
        "id": "ZeHZnKvY97hE"
      },
      "execution_count": 6,
      "outputs": []
    },
    {
      "cell_type": "markdown",
      "source": [
        "##### **Instantiate the VGG16 base model**"
      ],
      "metadata": {
        "id": "4tRpvpxb-cpY"
      }
    },
    {
      "cell_type": "code",
      "source": [
        "A = keras.applications.VGG16(\n",
        "    include_top=True,\n",
        "    weights=\"imagenet\",\n",
        "    input_tensor=None,\n",
        "    input_shape=None,\n",
        "    pooling=None,\n",
        "    classes=1000,\n",
        "    classifier_activation=\"softmax\",\n",
        ")"
      ],
      "metadata": {
        "colab": {
          "base_uri": "https://localhost:8080/"
        },
        "id": "EsNF31Ns-hvs",
        "outputId": "f53d00db-9273-4c37-98f4-352604239f39"
      },
      "execution_count": 7,
      "outputs": [
        {
          "output_type": "stream",
          "name": "stdout",
          "text": [
            "Downloading data from https://storage.googleapis.com/tensorflow/keras-applications/vgg16/vgg16_weights_tf_dim_ordering_tf_kernels.h5\n",
            "553467096/553467096 [==============================] - 7s 0us/step\n"
          ]
        }
      ]
    },
    {
      "cell_type": "markdown",
      "source": [
        "##### **Important Arguments**\n",
        "\n",
        "**include_top:**\n",
        "\n",
        "> Whether to include the 3 fully-connected layers at the top of the network.\n",
        "\n",
        "\n",
        "**weights:**\n",
        "\n",
        "\n",
        "> One of None (random initialization), \"imagenet\" (pre-training on ImageNet), or the path to the weights file to be loaded.\n",
        "\n",
        "**input_shape:**\n",
        "\n",
        "> Optional shape tuple, only to be specified if include_top is False, otherwise the input shape has to be (224, 224, 3) (with channels_last data format) or (3, 224, 224) (with \"channels_first\" data format). It should have exactly 3 input channels, and width and height should be no smaller than 32. E.g. (200, 200, 3) would be one valid value.\n",
        "\n",
        "**classes:**\n",
        "\n",
        "\n",
        "\n",
        "> Optional number of classes to classify images into, only to be specified if include_top is True, and if no weights argument is specified.\n",
        "\n",
        "\n"
      ],
      "metadata": {
        "id": "JYilVqqH950y"
      }
    },
    {
      "cell_type": "markdown",
      "source": [
        "### **1_1_2: ResNet50**"
      ],
      "metadata": {
        "id": "WJ1RkPq5Wh08"
      }
    },
    {
      "cell_type": "markdown",
      "source": [
        "#### **1_1_2_0: Background**"
      ],
      "metadata": {
        "id": "AOyV3xKVYdTE"
      }
    },
    {
      "cell_type": "markdown",
      "source": [
        "**Challenges with Deep Convolutional Architectures**:\n",
        "\n",
        "1. **Loss of Information**:\n",
        "    - As networks become deeper, random initialization of weights and biases can introduce random noise in the layers, resulting in the loss of important signals and information as the data flows forward through the network.\n",
        "\n",
        "2. **Challenges with Backpropagation**:\n",
        "    - When performing backpropagation, the partial derivatives of the random noise are calculated. This can lead to less meaningful gradients and may impede the training process.\n",
        "\n",
        "3. **Vanishing Gradient Problem**:\n",
        "    - The use of the chain rule in deep networks can lead to the vanishing gradient problem, where the gradients become very small after being multiplied across many layers. This can slow down or stall the learning process.\n",
        "\n",
        "The use of **skip connections** in ResNet addresses these issues. By creating shortcuts that allow data to bypass certain layers, skip connections help preserve information and maintain meaningful gradients throughout the network. This innovation enhances the training of very deep networks and improves overall performance."
      ],
      "metadata": {
        "id": "AaHuW49vYjKQ"
      }
    },
    {
      "cell_type": "code",
      "source": [
        "Image(filename='/content/grive/MyDrive/Slides/Project1/skip-connections.png', width=300,height=500)"
      ],
      "metadata": {
        "colab": {
          "base_uri": "https://localhost:8080/",
          "height": 517
        },
        "id": "vZRdZYADbVMF",
        "outputId": "d5c385d5-4bf8-4e71-e429-f05c228b401c"
      },
      "execution_count": 8,
      "outputs": [
        {
          "output_type": "execute_result",
          "data": {
            "image/png": "[encoded data removed]",
            "text/plain": [
              "<IPython.core.display.Image object>"
            ]
          },
          "metadata": {
            "image/png": {
              "width": 300,
              "height": 500
            }
          },
          "execution_count": 8
        }
      ]
    },
    {
      "cell_type": "markdown",
      "source": [
        "#### **1_1_2_1: Brief Explaination**"
      ],
      "metadata": {
        "id": "VyGqBT8kWoPF"
      }
    },
    {
      "cell_type": "markdown",
      "source": [
        "ResNet50, short for Residual Network with 50 layers, is a popular deep convolutional neural network architecture, known for its use of residual connections or skip connections."
      ],
      "metadata": {
        "id": "5qQlEeQFWuSr"
      }
    },
    {
      "cell_type": "markdown",
      "source": [
        "#### **1_1_2_2: Introduced by**"
      ],
      "metadata": {
        "id": "uPmet79ZXcZ9"
      }
    },
    {
      "cell_type": "markdown",
      "source": [
        "Kaiming He, Xiangyu Zhang, Shaoqing Ren, and Jian Sun"
      ],
      "metadata": {
        "id": "FyNrFtYUXfGh"
      }
    },
    {
      "cell_type": "markdown",
      "source": [
        "#### **1_1_2_3: Paper**"
      ],
      "metadata": {
        "id": "Gq1ZaHh9XcZ9"
      }
    },
    {
      "cell_type": "markdown",
      "source": [
        "[\"Deep Residual Learning for Image Recognition\"](https://arxiv.org/abs/1512.03385)"
      ],
      "metadata": {
        "id": "4vO2-SJQXiSh"
      }
    },
    {
      "cell_type": "markdown",
      "source": [
        "#### **1_1_2_4: Dataset**"
      ],
      "metadata": {
        "id": "MOruzY_jXcZ-"
      }
    },
    {
      "cell_type": "markdown",
      "source": [
        "The original ResNet50 model was trained on the **ImageNet** dataset."
      ],
      "metadata": {
        "id": "VDor6DmRfvHb"
      }
    },
    {
      "cell_type": "markdown",
      "source": [
        "#### **1_1_2_5: Architecture**"
      ],
      "metadata": {
        "id": "mEBfYqc6XcZ9"
      }
    },
    {
      "cell_type": "markdown",
      "source": [
        "Architecture:\n",
        "\n",
        "* ResNet50 is composed of 50 layers, including convolutional layers, pooling layers, and fully connected layers.\n",
        "* It contains four stages of convolutional layers, with each stage consisting of several residual blocks.\n",
        "* The architecture uses **residual connections**, which add the input of a block directly to its output. This helps mitigate the problem of vanishing gradients and enables training much deeper networks."
      ],
      "metadata": {
        "id": "oFo2MiR4YDwV"
      }
    },
    {
      "cell_type": "markdown",
      "source": [
        "1. **Input Layer**:\n",
        "    - **Dimensions**: The input layer expects images with a size of **224x224 pixels** and **3 color channels (RGB)**.\n",
        "\n",
        "2. **Convolutional Blocks**:\n",
        "    - **First Convolutional Block**:\n",
        "        * **Layers**: The first convolutional block consists of several layers, including convolutional layers, batch normalization, and ReLU activation.\n",
        "        * **Convolutional Layers**: The block starts with a 7x7 convolutional layer with 64 filters and a stride of 2.\n",
        "        * **Max Pooling**: After the first convolutional layer, a max-pooling layer with a 3x3 kernel and a stride of 2 is applied to reduce the spatial dimensions.\n",
        "\n",
        "3. **Residual Blocks**:\n",
        "    - **Stage 1**:\n",
        "        - The first stage of ResNet50 contains three identity blocks.\n",
        "    - **Stage 2**:\n",
        "        - The second stage contains a bottleneck block followed by three identity blocks.\n",
        "    - **Stage 3**:\n",
        "        - The third stage contains a bottleneck block followed by five identity blocks.\n",
        "    - **Stage 4**:\n",
        "        - The fourth stage contains a bottleneck block followed by two identity blocks.\n",
        "\n",
        "4. **Global Average Pooling**:\n",
        "    - After the last convolutional stage, global average pooling is applied to reduce the spatial dimensions of the feature maps to a single vector.\n",
        "\n",
        "5. **Fully Connected Layer**:\n",
        "    - Following global average pooling, a fully connected layer with 1000 units is added, representing the output classes of the model (e.g., 1000 classes in the ImageNet dataset).\n",
        "    - The final layer typically employs softmax activation for classification.\n"
      ],
      "metadata": {
        "id": "5feJY_XQdbei"
      }
    },
    {
      "cell_type": "code",
      "source": [
        "Image(filename='/content/grive/MyDrive/Slides/Project1/ResNet50_architecture-1.png', width=500,height=3000)"
      ],
      "metadata": {
        "id": "yJ0epZZNXiAs",
        "colab": {
          "base_uri": "https://localhost:8080/",
          "height": 1000
        },
        "outputId": "69ec090a-5459-4edc-e85d-be961b7866b0"
      },
      "execution_count": 9,
      "outputs": [
        {
          "output_type": "execute_result",
          "data": {
            "image/png": "[encoded data removed]",
            "text/plain": [
              "<IPython.core.display.Image object>"
            ]
          },
          "metadata": {
            "image/png": {
              "width": 500,
              "height": 3000
            }
          },
          "execution_count": 9
        }
      ]
    },
    {
      "cell_type": "markdown",
      "source": [
        "source: https://cv-tricks.com/keras/understand-implement-resnets/"
      ],
      "metadata": {
        "id": "YwZC0DKQZ_eC"
      }
    },
    {
      "cell_type": "markdown",
      "source": [
        "#### **1_1_2_6: Kinds of Skip Connections**"
      ],
      "metadata": {
        "id": "7oFrvpu7anFw"
      }
    },
    {
      "cell_type": "markdown",
      "source": [
        "##### **Identity Block:**\n",
        "when:\n",
        "$$ inputSize == outputSize $$\n",
        "\n",
        "##### **Concolutional(bottleneck) Block:**\n",
        "when:\n",
        "$$ inputSize != outputSize $$"
      ],
      "metadata": {
        "id": "qs97LTesax6O"
      }
    },
    {
      "cell_type": "code",
      "source": [
        "Image(filename='/content/grive/MyDrive/Slides/Project1/ResNet50-Identity-Block-and-Conv-Block.png', width=500,height=600)"
      ],
      "metadata": {
        "id": "cqrtePOqaC_C",
        "colab": {
          "base_uri": "https://localhost:8080/",
          "height": 617
        },
        "outputId": "77216400-2290-4633-ae7d-40945e00e397"
      },
      "execution_count": 10,
      "outputs": [
        {
          "output_type": "execute_result",
          "data": {
            "image/png": "[encoded data removed]",
            "text/plain": [
              "<IPython.core.display.Image object>"
            ]
          },
          "metadata": {
            "image/png": {
              "width": 500,
              "height": 600
            }
          },
          "execution_count": 10
        }
      ]
    },
    {
      "cell_type": "markdown",
      "source": [
        "source: https://www.researchgate.net/figure/ResNet50-Identity-Block-and-Conv-Block_fig2_363894256"
      ],
      "metadata": {
        "id": "eZiGDl_QZ5qd"
      }
    },
    {
      "cell_type": "markdown",
      "source": [
        "#### **1_1_2_7: Implementation from scratch**"
      ],
      "metadata": {
        "id": "6Im09Y1LXcZ-"
      }
    },
    {
      "cell_type": "markdown",
      "source": [
        "##### **Identity block**"
      ],
      "metadata": {
        "id": "V3MTuQbDnK2_"
      }
    },
    {
      "cell_type": "code",
      "source": [
        "def identity_block(X, f, filters, stage, block):\n",
        "\n",
        "    conv_name_base = 'res' + str(stage) + block + '_branch'\n",
        "    bn_name_base = 'bn' + str(stage) + block + '_branch'\n",
        "\n",
        "    F1, F2, F3 = filters\n",
        "\n",
        "    X_shortcut = X\n",
        "\n",
        "    X = Conv2D(filters = F1, kernel_size = (1, 1), strides = (1,1), padding = 'valid', name = conv_name_base + '2a')(X)\n",
        "    X = BatchNormalization(axis = 3, name = bn_name_base + '2a')(X)\n",
        "    X = Activation('relu')(X)\n",
        "\n",
        "    X = Conv2D(filters = F2, kernel_size = (f, f), strides = (1,1), padding = 'same', name = conv_name_base + '2b')(X)\n",
        "    X = BatchNormalization(axis = 3, name = bn_name_base + '2b')(X)\n",
        "    X = Activation('relu')(X)\n",
        "\n",
        "    X = Conv2D(filters = F3, kernel_size = (1, 1), strides = (1,1), padding = 'valid', name = conv_name_base + '2c')(X)\n",
        "    X = BatchNormalization(axis = 3, name = bn_name_base + '2c')(X)\n",
        "\n",
        "    X = Add()([X, X_shortcut])\n",
        "    X = Activation('relu')(X)\n",
        "\n",
        "    return X"
      ],
      "metadata": {
        "id": "8N7fwFTIsOU-"
      },
      "execution_count": 11,
      "outputs": []
    },
    {
      "cell_type": "markdown",
      "source": [
        "##### **Convolutional block**"
      ],
      "metadata": {
        "id": "FsujMqvLnPfW"
      }
    },
    {
      "cell_type": "code",
      "source": [
        "def convolutional_block(X, f, filters, stage, block, s = 2):\n",
        "\n",
        "    conv_name_base = 'res' + str(stage) + block + '_branch'\n",
        "    bn_name_base = 'bn' + str(stage) + block + '_branch'\n",
        "\n",
        "    F1, F2, F3 = filters\n",
        "\n",
        "    X_shortcut = X\n",
        "\n",
        "    X = Conv2D(F1, (1, 1), strides = (s,s), name = conv_name_base + '2a')(X)\n",
        "    X = BatchNormalization(axis = 3, name = bn_name_base + '2a')(X)\n",
        "    X = Activation('relu')(X)\n",
        "\n",
        "    X = Conv2D(filters = F2, kernel_size = (f, f), strides = (1,1), padding = 'same', name = conv_name_base + '2b')(X)\n",
        "    X = BatchNormalization(axis = 3, name = bn_name_base + '2b')(X)\n",
        "    X = Activation('relu')(X)\n",
        "\n",
        "    X = Conv2D(filters = F3, kernel_size = (1, 1), strides = (1,1), padding = 'valid', name = conv_name_base + '2c')(X)\n",
        "    X = BatchNormalization(axis = 3, name = bn_name_base + '2c')(X)\n",
        "\n",
        "    X_shortcut = Conv2D(filters = F3, kernel_size = (1, 1), strides = (s,s), padding = 'valid', name = conv_name_base + '1')(X_shortcut)\n",
        "    X_shortcut = BatchNormalization(axis = 3, name = bn_name_base + '1')(X_shortcut)\n",
        "\n",
        "    X = Add()([X, X_shortcut])\n",
        "    X = Activation('relu')(X)\n",
        "\n",
        "    return X"
      ],
      "metadata": {
        "id": "KE5u0QqQsT2O"
      },
      "execution_count": 12,
      "outputs": []
    },
    {
      "cell_type": "markdown",
      "source": [
        "##### **The main ResNet50 model**"
      ],
      "metadata": {
        "id": "cZmLU61tnTyG"
      }
    },
    {
      "cell_type": "code",
      "source": [
        "def ResNet50_(input_shape=(224, 224, 3), classes=3):\n",
        "\n",
        "    X_input = Input(input_shape)\n",
        "\n",
        "    X = ZeroPadding2D((3, 3))(X_input)\n",
        "\n",
        "    X = Conv2D(64, (7, 7), strides=(2, 2), name='conv1')(X)\n",
        "    X = BatchNormalization(axis=3, name='bn_conv1')(X)\n",
        "    X = Activation('relu')(X)\n",
        "    X = MaxPooling2D((3, 3), strides=(2, 2))(X)\n",
        "\n",
        "    X = convolutional_block(X, f=3, filters=[64, 64, 256], stage=2, block='a', s=1)\n",
        "\n",
        "    X = identity_block(X, 3, [64, 64, 256], stage=2, block='b')\n",
        "\n",
        "    X = identity_block(X, 3, [64, 64, 256], stage=2, block='c')\n",
        "\n",
        "# --------------------------------------------------------------------------------------------------------------\n",
        "\n",
        "    X = convolutional_block(X, f = 3, filters = [128, 128, 512], stage = 3, block='a', s = 2)\n",
        "    X = identity_block(X, 3, [128, 128, 512], stage=3, block='b')\n",
        "    X = identity_block(X, 3, [128, 128, 512], stage=3, block='c')\n",
        "    X = identity_block(X, 3, [128, 128, 512], stage=3, block='d')\n",
        "\n",
        "    X = convolutional_block(X, f = 3, filters = [256, 256, 1024], stage = 4, block='a', s = 2)\n",
        "    X = identity_block(X, 3, [256, 256, 1024], stage=4, block='b')\n",
        "    X = identity_block(X, 3, [256, 256, 1024], stage=4, block='c')\n",
        "    X = identity_block(X, 3, [256, 256, 1024], stage=4, block='d')\n",
        "    X = identity_block(X, 3, [256, 256, 1024], stage=4, block='e')\n",
        "    X = identity_block(X, 3, [256, 256, 1024], stage=4, block='f')\n",
        "\n",
        "    X = convolutional_block(X, f = 3, filters = [512, 512, 2048], stage = 5, block='a', s = 2)\n",
        "    X = identity_block(X, 3, [512, 512, 2048], stage=5, block='b')\n",
        "    X = identity_block(X, 3, [512, 512, 2048], stage=5, block='c')\n",
        "\n",
        "    X = AveragePooling2D((2,2), name=\"avg_pool\")(X)\n",
        "\n",
        "    X = Flatten()(X)\n",
        "    X = Dense(classes, activation='softmax', name='fc' + str(classes), kernel_initializer = glorot_uniform(seed=0))(X)\n",
        "\n",
        "    model = Model(inputs = X_input, outputs = X, name='ResNet50')\n",
        "\n",
        "    return model\n"
      ],
      "metadata": {
        "id": "QrMz6Vg6rRGw"
      },
      "execution_count": 13,
      "outputs": []
    },
    {
      "cell_type": "markdown",
      "source": [
        "#### **1_1_2_8: Instantiate in code using built-in class**"
      ],
      "metadata": {
        "id": "aLHOIATQXcZ-"
      }
    },
    {
      "cell_type": "markdown",
      "source": [
        "##### **Import necessary class**"
      ],
      "metadata": {
        "id": "525v7-EGsgGW"
      }
    },
    {
      "cell_type": "code",
      "source": [
        "from tensorflow.keras.applications import ResNet50"
      ],
      "metadata": {
        "id": "J9psEJAWslHO"
      },
      "execution_count": 14,
      "outputs": []
    },
    {
      "cell_type": "markdown",
      "source": [
        "##### **Instantiate ResNet50 base model**"
      ],
      "metadata": {
        "id": "ouTEQ-SdswED"
      }
    },
    {
      "cell_type": "code",
      "source": [
        "tf.keras.applications.ResNet50(\n",
        "    include_top=True,\n",
        "    weights='imagenet',\n",
        "    input_tensor=None,\n",
        "    input_shape=None,\n",
        "    pooling=None,\n",
        "    classes=1000,\n",
        "    classifier_activation='softmax'\n",
        ")"
      ],
      "metadata": {
        "id": "MHuoIu-0s3gV",
        "colab": {
          "base_uri": "https://localhost:8080/"
        },
        "outputId": "d97cff8a-1868-4fd9-f894-ef8431b8dba5"
      },
      "execution_count": 15,
      "outputs": [
        {
          "output_type": "stream",
          "name": "stdout",
          "text": [
            "Downloading data from https://storage.googleapis.com/tensorflow/keras-applications/resnet/resnet50_weights_tf_dim_ordering_tf_kernels.h5\n",
            "102967424/102967424 [==============================] - 1s 0us/step\n"
          ]
        },
        {
          "output_type": "execute_result",
          "data": {
            "text/plain": [
              "<keras.src.engine.functional.Functional at 0x7c01115f5480>"
            ]
          },
          "metadata": {},
          "execution_count": 15
        }
      ]
    },
    {
      "cell_type": "markdown",
      "source": [
        "###### ***sources:***\n",
        "\n",
        "* https://towardsdatascience.com/creating-vgg-from-scratch-using-tensorflow-a998a5640155\n",
        "\n",
        "* https://datagen.tech/guides/computer-vision/vgg16/\n",
        "\n",
        "* https://keras.io/api/applications/vgg/\n",
        "\n",
        "* https://www.geeksforgeeks.org/vgg-16-cnn-model/\n",
        "\n",
        "* https://medium.com/@mygreatlearning/everything-you-need-to-know-about-vgg16-7315defb5918\n",
        "\n",
        "* https://www.tensorflow.org/api_docs/python/tf/keras/applications/ResNet50"
      ],
      "metadata": {
        "id": "45Du4m_FHUeY"
      }
    },
    {
      "cell_type": "markdown",
      "source": [
        "## **1_2: Implementation**"
      ],
      "metadata": {
        "id": "4SjfrFlXtxMU"
      }
    },
    {
      "cell_type": "markdown",
      "source": [
        "### **1_2_0: Outlook:**"
      ],
      "metadata": {
        "id": "du9OREU0ubOQ"
      }
    },
    {
      "cell_type": "markdown",
      "source": [
        "In this part, we are going to compare the VGG16 and ResNeT50 models for classifying skin conditions with and without **data augmentation**."
      ],
      "metadata": {
        "id": "jmnTQY9puq4I"
      }
    },
    {
      "cell_type": "markdown",
      "source": [
        "### **1_2_1: Data Augmentation:**\n"
      ],
      "metadata": {
        "id": "fNVFN--eu-LH"
      }
    },
    {
      "cell_type": "markdown",
      "source": [
        " Data augmentation refers to the process of **artificially increasing the size of a dataset** by applying various transformations to the existing data samples. These transformations include, but are not limited to, **rotation**, **translation**, **scaling**, **flipping**, **cropping**, **changing brightness and contrast**, **adding noise**, and other modifications.\n",
        "\n",
        "The primary objective of data augmentation is to **increase the diversity of the training data** without collecting additional labeled samples. By generating new variations of the existing data, data augmentation helps improve the **generalization and robustness** of machine learning models. It enables the model to learn invariant features from different perspectives, thereby enhancing its performance on unseen data and **reducing overfitting**."
      ],
      "metadata": {
        "id": "0PFRJuNjvE_P"
      }
    },
    {
      "cell_type": "markdown",
      "source": [
        "### **1_2_2: Preprocess**"
      ],
      "metadata": {
        "id": "3CFH7hpuEbkq"
      }
    },
    {
      "cell_type": "markdown",
      "source": [
        "#### **1_2_2_1: find the datapath of the dataset**"
      ],
      "metadata": {
        "id": "da-yJQL4AZ3K"
      }
    },
    {
      "cell_type": "code",
      "execution_count": 16,
      "metadata": {
        "id": "32EQw-Wj-thQ"
      },
      "outputs": [],
      "source": [
        "dataset_path = \"/content/grive/MyDrive/AI_Project1/Dataset\""
      ]
    },
    {
      "cell_type": "markdown",
      "source": [
        "#### **1_2_2_2: Import necessary library to work with files**"
      ],
      "metadata": {
        "id": "9wpxnprSdAMg"
      }
    },
    {
      "cell_type": "code",
      "source": [
        "import os"
      ],
      "metadata": {
        "id": "zQJC7riwdEPE"
      },
      "execution_count": 17,
      "outputs": []
    },
    {
      "cell_type": "markdown",
      "source": [
        "#### **1_2_2_3: To list the names of files and directories within a specified directory path, we use 'os.listdir(dataset_path)'**"
      ],
      "metadata": {
        "id": "k1Xs54CixR5E"
      }
    },
    {
      "cell_type": "code",
      "source": [
        "different_skin_conditions = os.listdir(dataset_path)\n",
        "\n",
        "different_skin_conditions"
      ],
      "metadata": {
        "colab": {
          "base_uri": "https://localhost:8080/"
        },
        "id": "gH17k7x7pT-3",
        "outputId": "80cbe85f-3b6a-4c88-f5d7-766ee9fabcb9"
      },
      "execution_count": 18,
      "outputs": [
        {
          "output_type": "execute_result",
          "data": {
            "text/plain": [
              "['Carcinoma', 'Melanoma', 'Nevus']"
            ]
          },
          "metadata": {},
          "execution_count": 18
        }
      ]
    },
    {
      "cell_type": "markdown",
      "source": [
        "#### **1_2_2_4: Make a list to restore all different image file's paths**"
      ],
      "metadata": {
        "id": "sNua_gdw0K5A"
      }
    },
    {
      "cell_type": "code",
      "source": [
        "conditions = []"
      ],
      "metadata": {
        "id": "ugcqVhD_vxc8"
      },
      "execution_count": 19,
      "outputs": []
    },
    {
      "cell_type": "markdown",
      "source": [
        "#### **1_2_2_5: Add the image files' names to their condition item**"
      ],
      "metadata": {
        "id": "BTjH5a3r0P4x"
      }
    },
    {
      "cell_type": "code",
      "source": [
        "for condition in different_skin_conditions:\n",
        "\n",
        "  condition_path = dataset_path + '/' + condition\n",
        "  pictures_of_condition = os.listdir(condition_path)\n",
        "\n",
        "  for picture in pictures_of_condition:\n",
        "    conditions.append((condition, condition_path + '/' + picture))\n",
        "\n",
        "conditions"
      ],
      "metadata": {
        "id": "HLfAqntBtkFJ",
        "colab": {
          "base_uri": "https://localhost:8080/"
        },
        "outputId": "35e94dc3-2d96-4509-f6b1-2786e2046732"
      },
      "execution_count": 20,
      "outputs": [
        {
          "output_type": "execute_result",
          "data": {
            "text/plain": [
              "[('Carcinoma',\n",
              "  '/content/grive/MyDrive/AI_Project1/Dataset/Carcinoma/ISIC_0028570.jpg'),\n",
              " ('Carcinoma',\n",
              "  '/content/grive/MyDrive/AI_Project1/Dataset/Carcinoma/ISIC_0028747.jpg'),\n",
              " ('Carcinoma',\n",
              "  '/content/grive/MyDrive/AI_Project1/Dataset/Carcinoma/ISIC_0028677.jpg'),\n",
              " ('Carcinoma',\n",
              "  '/content/grive/MyDrive/AI_Project1/Dataset/Carcinoma/ISIC_0028928.jpg'),\n",
              " ('Carcinoma',\n",
              "  '/content/grive/MyDrive/AI_Project1/Dataset/Carcinoma/ISIC_0029082.jpg'),\n",
              " ('Carcinoma',\n",
              "  '/content/grive/MyDrive/AI_Project1/Dataset/Carcinoma/ISIC_0028815.jpg'),\n",
              " ('Carcinoma',\n",
              "  '/content/grive/MyDrive/AI_Project1/Dataset/Carcinoma/ISIC_0028653.jpg'),\n",
              " ('Carcinoma',\n",
              "  '/content/grive/MyDrive/AI_Project1/Dataset/Carcinoma/ISIC_0029034.jpg'),\n",
              " ('Carcinoma',\n",
              "  '/content/grive/MyDrive/AI_Project1/Dataset/Carcinoma/ISIC_0028814.jpg'),\n",
              " ('Carcinoma',\n",
              "  '/content/grive/MyDrive/AI_Project1/Dataset/Carcinoma/ISIC_0028994.jpg'),\n",
              " ('Carcinoma',\n",
              "  '/content/grive/MyDrive/AI_Project1/Dataset/Carcinoma/ISIC_0028542.jpg'),\n",
              " ('Carcinoma',\n",
              "  '/content/grive/MyDrive/AI_Project1/Dataset/Carcinoma/ISIC_0028652.jpg'),\n",
              " ('Carcinoma',\n",
              "  '/content/grive/MyDrive/AI_Project1/Dataset/Carcinoma/ISIC_0028719.jpg'),\n",
              " ('Carcinoma',\n",
              "  '/content/grive/MyDrive/AI_Project1/Dataset/Carcinoma/ISIC_0028818.jpg'),\n",
              " ('Carcinoma',\n",
              "  '/content/grive/MyDrive/AI_Project1/Dataset/Carcinoma/ISIC_0028807.jpg'),\n",
              " ('Carcinoma',\n",
              "  '/content/grive/MyDrive/AI_Project1/Dataset/Carcinoma/ISIC_0029129.jpg'),\n",
              " ('Carcinoma',\n",
              "  '/content/grive/MyDrive/AI_Project1/Dataset/Carcinoma/ISIC_0028495.jpg'),\n",
              " ('Carcinoma',\n",
              "  '/content/grive/MyDrive/AI_Project1/Dataset/Carcinoma/ISIC_0029053.jpg'),\n",
              " ('Carcinoma',\n",
              "  '/content/grive/MyDrive/AI_Project1/Dataset/Carcinoma/ISIC_0028871.jpg'),\n",
              " ('Carcinoma',\n",
              "  '/content/grive/MyDrive/AI_Project1/Dataset/Carcinoma/ISIC_0028687.jpg'),\n",
              " ('Carcinoma',\n",
              "  '/content/grive/MyDrive/AI_Project1/Dataset/Carcinoma/ISIC_0028556.jpg'),\n",
              " ('Carcinoma',\n",
              "  '/content/grive/MyDrive/AI_Project1/Dataset/Carcinoma/ISIC_0028568.jpg'),\n",
              " ('Carcinoma',\n",
              "  '/content/grive/MyDrive/AI_Project1/Dataset/Carcinoma/ISIC_0028583.jpg'),\n",
              " ('Carcinoma',\n",
              "  '/content/grive/MyDrive/AI_Project1/Dataset/Carcinoma/ISIC_0028765.jpg'),\n",
              " ('Carcinoma',\n",
              "  '/content/grive/MyDrive/AI_Project1/Dataset/Carcinoma/ISIC_0028877.jpg'),\n",
              " ('Carcinoma',\n",
              "  '/content/grive/MyDrive/AI_Project1/Dataset/Carcinoma/ISIC_0028980.jpg'),\n",
              " ('Carcinoma',\n",
              "  '/content/grive/MyDrive/AI_Project1/Dataset/Carcinoma/ISIC_0028693.jpg'),\n",
              " ('Carcinoma',\n",
              "  '/content/grive/MyDrive/AI_Project1/Dataset/Carcinoma/ISIC_0028739.jpg'),\n",
              " ('Carcinoma',\n",
              "  '/content/grive/MyDrive/AI_Project1/Dataset/Carcinoma/ISIC_0028964.jpg'),\n",
              " ('Carcinoma',\n",
              "  '/content/grive/MyDrive/AI_Project1/Dataset/Carcinoma/ISIC_0028937.jpg'),\n",
              " ('Carcinoma',\n",
              "  '/content/grive/MyDrive/AI_Project1/Dataset/Carcinoma/ISIC_0028858.jpg'),\n",
              " ('Carcinoma',\n",
              "  '/content/grive/MyDrive/AI_Project1/Dataset/Carcinoma/ISIC_0028688.jpg'),\n",
              " ('Carcinoma',\n",
              "  '/content/grive/MyDrive/AI_Project1/Dataset/Carcinoma/ISIC_0028989.jpg'),\n",
              " ('Carcinoma',\n",
              "  '/content/grive/MyDrive/AI_Project1/Dataset/Carcinoma/ISIC_0028728.jpg'),\n",
              " ('Carcinoma',\n",
              "  '/content/grive/MyDrive/AI_Project1/Dataset/Carcinoma/ISIC_0028670.jpg'),\n",
              " ('Carcinoma',\n",
              "  '/content/grive/MyDrive/AI_Project1/Dataset/Carcinoma/ISIC_0028978.jpg'),\n",
              " ('Carcinoma',\n",
              "  '/content/grive/MyDrive/AI_Project1/Dataset/Carcinoma/ISIC_0029020.jpg'),\n",
              " ('Carcinoma',\n",
              "  '/content/grive/MyDrive/AI_Project1/Dataset/Carcinoma/ISIC_0029035.jpg'),\n",
              " ('Carcinoma',\n",
              "  '/content/grive/MyDrive/AI_Project1/Dataset/Carcinoma/ISIC_0028577.jpg'),\n",
              " ('Carcinoma',\n",
              "  '/content/grive/MyDrive/AI_Project1/Dataset/Carcinoma/ISIC_0025383.jpg'),\n",
              " ('Carcinoma',\n",
              "  '/content/grive/MyDrive/AI_Project1/Dataset/Carcinoma/ISIC_0029083.jpg'),\n",
              " ('Carcinoma',\n",
              "  '/content/grive/MyDrive/AI_Project1/Dataset/Carcinoma/ISIC_0025301.jpg'),\n",
              " ('Carcinoma',\n",
              "  '/content/grive/MyDrive/AI_Project1/Dataset/Carcinoma/ISIC_0025285.jpg'),\n",
              " ('Carcinoma',\n",
              "  '/content/grive/MyDrive/AI_Project1/Dataset/Carcinoma/ISIC_0025322.jpg'),\n",
              " ('Carcinoma',\n",
              "  '/content/grive/MyDrive/AI_Project1/Dataset/Carcinoma/ISIC_0028973.jpg'),\n",
              " ('Carcinoma',\n",
              "  '/content/grive/MyDrive/AI_Project1/Dataset/Carcinoma/ISIC_0029123.jpg'),\n",
              " ('Carcinoma',\n",
              "  '/content/grive/MyDrive/AI_Project1/Dataset/Carcinoma/ISIC_0025299.jpg'),\n",
              " ('Carcinoma',\n",
              "  '/content/grive/MyDrive/AI_Project1/Dataset/Carcinoma/ISIC_0025362.jpg'),\n",
              " ('Carcinoma',\n",
              "  '/content/grive/MyDrive/AI_Project1/Dataset/Carcinoma/ISIC_0028671.jpg'),\n",
              " ('Carcinoma',\n",
              "  '/content/grive/MyDrive/AI_Project1/Dataset/Carcinoma/ISIC_0028890.jpg'),\n",
              " ('Melanoma',\n",
              "  '/content/grive/MyDrive/AI_Project1/Dataset/Melanoma/ISIC_0000466.jpg'),\n",
              " ('Melanoma',\n",
              "  '/content/grive/MyDrive/AI_Project1/Dataset/Melanoma/ISIC_0000547.jpg'),\n",
              " ('Melanoma',\n",
              "  '/content/grive/MyDrive/AI_Project1/Dataset/Melanoma/ISIC_0000487 - Copy.jpg'),\n",
              " ('Melanoma',\n",
              "  '/content/grive/MyDrive/AI_Project1/Dataset/Melanoma/ISIC_0000517 - Copy.jpg'),\n",
              " ('Melanoma',\n",
              "  '/content/grive/MyDrive/AI_Project1/Dataset/Melanoma/ISIC_0000513 - Copy.jpg'),\n",
              " ('Melanoma',\n",
              "  '/content/grive/MyDrive/AI_Project1/Dataset/Melanoma/ISIC_0000445.jpg'),\n",
              " ('Melanoma',\n",
              "  '/content/grive/MyDrive/AI_Project1/Dataset/Melanoma/ISIC_0000502 - Copy.jpg'),\n",
              " ('Melanoma',\n",
              "  '/content/grive/MyDrive/AI_Project1/Dataset/Melanoma/ISIC_0000513.jpg'),\n",
              " ('Melanoma',\n",
              "  '/content/grive/MyDrive/AI_Project1/Dataset/Melanoma/ISIC_0000517.jpg'),\n",
              " ('Melanoma',\n",
              "  '/content/grive/MyDrive/AI_Project1/Dataset/Melanoma/ISIC_0000516.jpg'),\n",
              " ('Melanoma',\n",
              "  '/content/grive/MyDrive/AI_Project1/Dataset/Melanoma/ISIC_0000516 - Copy.jpg'),\n",
              " ('Melanoma',\n",
              "  '/content/grive/MyDrive/AI_Project1/Dataset/Melanoma/ISIC_0000511 - Copy.jpg'),\n",
              " ('Melanoma',\n",
              "  '/content/grive/MyDrive/AI_Project1/Dataset/Melanoma/ISIC_0000466 - Copy.jpg'),\n",
              " ('Melanoma',\n",
              "  '/content/grive/MyDrive/AI_Project1/Dataset/Melanoma/ISIC_0000526.jpg'),\n",
              " ('Melanoma',\n",
              "  '/content/grive/MyDrive/AI_Project1/Dataset/Melanoma/ISIC_0000445 - Copy.jpg'),\n",
              " ('Melanoma',\n",
              "  '/content/grive/MyDrive/AI_Project1/Dataset/Melanoma/ISIC_0000502.jpg'),\n",
              " ('Melanoma',\n",
              "  '/content/grive/MyDrive/AI_Project1/Dataset/Melanoma/ISIC_0000482 - Copy.jpg'),\n",
              " ('Melanoma',\n",
              "  '/content/grive/MyDrive/AI_Project1/Dataset/Melanoma/ISIC_0000518 - Copy.jpg'),\n",
              " ('Melanoma',\n",
              "  '/content/grive/MyDrive/AI_Project1/Dataset/Melanoma/ISIC_0000520 - Copy.jpg'),\n",
              " ('Melanoma',\n",
              "  '/content/grive/MyDrive/AI_Project1/Dataset/Melanoma/ISIC_0000520.jpg'),\n",
              " ('Melanoma',\n",
              "  '/content/grive/MyDrive/AI_Project1/Dataset/Melanoma/ISIC_0000519.jpg'),\n",
              " ('Melanoma',\n",
              "  '/content/grive/MyDrive/AI_Project1/Dataset/Melanoma/ISIC_0000548.jpg'),\n",
              " ('Melanoma',\n",
              "  '/content/grive/MyDrive/AI_Project1/Dataset/Melanoma/ISIC_0000518.jpg'),\n",
              " ('Melanoma',\n",
              "  '/content/grive/MyDrive/AI_Project1/Dataset/Melanoma/ISIC_0000521 - Copy.jpg'),\n",
              " ('Melanoma',\n",
              "  '/content/grive/MyDrive/AI_Project1/Dataset/Melanoma/ISIC_0000462.jpg'),\n",
              " ('Melanoma',\n",
              "  '/content/grive/MyDrive/AI_Project1/Dataset/Melanoma/ISIC_0000519 - Copy.jpg'),\n",
              " ('Melanoma',\n",
              "  '/content/grive/MyDrive/AI_Project1/Dataset/Melanoma/ISIC_0000487.jpg'),\n",
              " ('Melanoma',\n",
              "  '/content/grive/MyDrive/AI_Project1/Dataset/Melanoma/ISIC_0000459.jpg'),\n",
              " ('Melanoma',\n",
              "  '/content/grive/MyDrive/AI_Project1/Dataset/Melanoma/ISIC_0000521.jpg'),\n",
              " ('Melanoma',\n",
              "  '/content/grive/MyDrive/AI_Project1/Dataset/Melanoma/ISIC_0000522.jpg'),\n",
              " ('Melanoma',\n",
              "  '/content/grive/MyDrive/AI_Project1/Dataset/Melanoma/ISIC_0000161.jpg'),\n",
              " ('Melanoma',\n",
              "  '/content/grive/MyDrive/AI_Project1/Dataset/Melanoma/ISIC_0000469 - Copy.jpg'),\n",
              " ('Melanoma',\n",
              "  '/content/grive/MyDrive/AI_Project1/Dataset/Melanoma/ISIC_0000484 - Copy.jpg'),\n",
              " ('Melanoma',\n",
              "  '/content/grive/MyDrive/AI_Project1/Dataset/Melanoma/ISIC_0000434 - Copy.jpg'),\n",
              " ('Melanoma',\n",
              "  '/content/grive/MyDrive/AI_Project1/Dataset/Melanoma/ISIC_0000158.jpg'),\n",
              " ('Melanoma',\n",
              "  '/content/grive/MyDrive/AI_Project1/Dataset/Melanoma/ISIC_0000444.jpg'),\n",
              " ('Melanoma',\n",
              "  '/content/grive/MyDrive/AI_Project1/Dataset/Melanoma/ISIC_0000463 - Copy.jpg'),\n",
              " ('Melanoma',\n",
              "  '/content/grive/MyDrive/AI_Project1/Dataset/Melanoma/ISIC_0000459 - Copy.jpg'),\n",
              " ('Melanoma',\n",
              "  '/content/grive/MyDrive/AI_Project1/Dataset/Melanoma/ISIC_0000162.jpg'),\n",
              " ('Melanoma',\n",
              "  '/content/grive/MyDrive/AI_Project1/Dataset/Melanoma/ISIC_0000469.jpg'),\n",
              " ('Melanoma',\n",
              "  '/content/grive/MyDrive/AI_Project1/Dataset/Melanoma/ISIC_0000159.jpg'),\n",
              " ('Melanoma',\n",
              "  '/content/grive/MyDrive/AI_Project1/Dataset/Melanoma/ISIC_0000462 - Copy.jpg'),\n",
              " ('Melanoma',\n",
              "  '/content/grive/MyDrive/AI_Project1/Dataset/Melanoma/ISIC_0000522 - Copy.jpg'),\n",
              " ('Melanoma',\n",
              "  '/content/grive/MyDrive/AI_Project1/Dataset/Melanoma/ISIC_0000446 - Copy.jpg'),\n",
              " ('Melanoma',\n",
              "  '/content/grive/MyDrive/AI_Project1/Dataset/Melanoma/ISIC_0000157.jpg'),\n",
              " ('Melanoma',\n",
              "  '/content/grive/MyDrive/AI_Project1/Dataset/Melanoma/ISIC_0000450 - Copy.jpg'),\n",
              " ('Melanoma',\n",
              "  '/content/grive/MyDrive/AI_Project1/Dataset/Melanoma/ISIC_0000441 - Copy.jpg'),\n",
              " ('Melanoma',\n",
              "  '/content/grive/MyDrive/AI_Project1/Dataset/Melanoma/ISIC_0000153 - Copy.jpg'),\n",
              " ('Melanoma',\n",
              "  '/content/grive/MyDrive/AI_Project1/Dataset/Melanoma/ISIC_0000533.jpg'),\n",
              " ('Melanoma',\n",
              "  '/content/grive/MyDrive/AI_Project1/Dataset/Melanoma/ISIC_0000153.jpg'),\n",
              " ('Melanoma',\n",
              "  '/content/grive/MyDrive/AI_Project1/Dataset/Melanoma/ISIC_0000440.jpg'),\n",
              " ('Melanoma',\n",
              "  '/content/grive/MyDrive/AI_Project1/Dataset/Melanoma/ISIC_0000155.jpg'),\n",
              " ('Melanoma',\n",
              "  '/content/grive/MyDrive/AI_Project1/Dataset/Melanoma/ISIC_0000160.jpg'),\n",
              " ('Melanoma',\n",
              "  '/content/grive/MyDrive/AI_Project1/Dataset/Melanoma/ISIC_0000463.jpg'),\n",
              " ('Melanoma',\n",
              "  '/content/grive/MyDrive/AI_Project1/Dataset/Melanoma/ISIC_0000155 - Copy.jpg'),\n",
              " ('Melanoma',\n",
              "  '/content/grive/MyDrive/AI_Project1/Dataset/Melanoma/ISIC_0000156 - Copy.jpg'),\n",
              " ('Melanoma',\n",
              "  '/content/grive/MyDrive/AI_Project1/Dataset/Melanoma/ISIC_0000154.jpg'),\n",
              " ('Melanoma',\n",
              "  '/content/grive/MyDrive/AI_Project1/Dataset/Melanoma/ISIC_0000156.jpg'),\n",
              " ('Melanoma',\n",
              "  '/content/grive/MyDrive/AI_Project1/Dataset/Melanoma/ISIC_0000444 - Copy.jpg'),\n",
              " ('Melanoma',\n",
              "  '/content/grive/MyDrive/AI_Project1/Dataset/Melanoma/ISIC_0000152 - Copy.jpg'),\n",
              " ('Melanoma',\n",
              "  '/content/grive/MyDrive/AI_Project1/Dataset/Melanoma/ISIC_0000440 - Copy.jpg'),\n",
              " ('Melanoma',\n",
              "  '/content/grive/MyDrive/AI_Project1/Dataset/Melanoma/ISIC_0000151.jpg'),\n",
              " ('Melanoma',\n",
              "  '/content/grive/MyDrive/AI_Project1/Dataset/Melanoma/ISIC_0000152.jpg'),\n",
              " ('Melanoma',\n",
              "  '/content/grive/MyDrive/AI_Project1/Dataset/Melanoma/ISIC_0000154 - Copy.jpg'),\n",
              " ('Nevus',\n",
              "  '/content/grive/MyDrive/AI_Project1/Dataset/Nevus/ISIC_0000433.jpg'),\n",
              " ('Nevus',\n",
              "  '/content/grive/MyDrive/AI_Project1/Dataset/Nevus/ISIC_0000427.jpg'),\n",
              " ('Nevus',\n",
              "  '/content/grive/MyDrive/AI_Project1/Dataset/Nevus/ISIC_0000425.jpg'),\n",
              " ('Nevus',\n",
              "  '/content/grive/MyDrive/AI_Project1/Dataset/Nevus/ISIC_0000422.jpg'),\n",
              " ('Nevus',\n",
              "  '/content/grive/MyDrive/AI_Project1/Dataset/Nevus/ISIC_0000421.jpg'),\n",
              " ('Nevus',\n",
              "  '/content/grive/MyDrive/AI_Project1/Dataset/Nevus/ISIC_0000397.jpg'),\n",
              " ('Nevus',\n",
              "  '/content/grive/MyDrive/AI_Project1/Dataset/Nevus/ISIC_0000422(1).jpg'),\n",
              " ('Nevus',\n",
              "  '/content/grive/MyDrive/AI_Project1/Dataset/Nevus/ISIC_0000431.jpg'),\n",
              " ('Nevus',\n",
              "  '/content/grive/MyDrive/AI_Project1/Dataset/Nevus/ISIC_0000423.jpg'),\n",
              " ('Nevus',\n",
              "  '/content/grive/MyDrive/AI_Project1/Dataset/Nevus/ISIC_0000424.jpg'),\n",
              " ('Nevus',\n",
              "  '/content/grive/MyDrive/AI_Project1/Dataset/Nevus/ISIC_0000419(1)(1).jpg'),\n",
              " ('Nevus',\n",
              "  '/content/grive/MyDrive/AI_Project1/Dataset/Nevus/ISIC_0000419.jpg'),\n",
              " ('Nevus',\n",
              "  '/content/grive/MyDrive/AI_Project1/Dataset/Nevus/ISIC_0000407(1).jpg'),\n",
              " ('Nevus',\n",
              "  '/content/grive/MyDrive/AI_Project1/Dataset/Nevus/ISIC_0000391.jpg'),\n",
              " ('Nevus',\n",
              "  '/content/grive/MyDrive/AI_Project1/Dataset/Nevus/ISIC_0000426.jpg'),\n",
              " ('Nevus',\n",
              "  '/content/grive/MyDrive/AI_Project1/Dataset/Nevus/ISIC_0000416.jpg'),\n",
              " ('Nevus',\n",
              "  '/content/grive/MyDrive/AI_Project1/Dataset/Nevus/ISIC_0000409.jpg'),\n",
              " ('Nevus',\n",
              "  '/content/grive/MyDrive/AI_Project1/Dataset/Nevus/ISIC_0000409(1).jpg'),\n",
              " ('Nevus',\n",
              "  '/content/grive/MyDrive/AI_Project1/Dataset/Nevus/ISIC_0000418(1).jpg'),\n",
              " ('Nevus',\n",
              "  '/content/grive/MyDrive/AI_Project1/Dataset/Nevus/ISIC_0000419(1).jpg'),\n",
              " ('Nevus',\n",
              "  '/content/grive/MyDrive/AI_Project1/Dataset/Nevus/ISIC_0000430.jpg'),\n",
              " ('Nevus',\n",
              "  '/content/grive/MyDrive/AI_Project1/Dataset/Nevus/ISIC_0000419(2).jpg'),\n",
              " ('Nevus',\n",
              "  '/content/grive/MyDrive/AI_Project1/Dataset/Nevus/ISIC_0000392.jpg'),\n",
              " ('Nevus',\n",
              "  '/content/grive/MyDrive/AI_Project1/Dataset/Nevus/ISIC_0000407.jpg'),\n",
              " ('Nevus',\n",
              "  '/content/grive/MyDrive/AI_Project1/Dataset/Nevus/ISIC_0000388.jpg'),\n",
              " ('Nevus',\n",
              "  '/content/grive/MyDrive/AI_Project1/Dataset/Nevus/ISIC_0000403.jpg'),\n",
              " ('Nevus',\n",
              "  '/content/grive/MyDrive/AI_Project1/Dataset/Nevus/ISIC_0000386.jpg'),\n",
              " ('Nevus',\n",
              "  '/content/grive/MyDrive/AI_Project1/Dataset/Nevus/ISIC_0000384.jpg'),\n",
              " ('Nevus',\n",
              "  '/content/grive/MyDrive/AI_Project1/Dataset/Nevus/ISIC_0000082.jpg'),\n",
              " ('Nevus',\n",
              "  '/content/grive/MyDrive/AI_Project1/Dataset/Nevus/ISIC_0000387.jpg'),\n",
              " ('Nevus',\n",
              "  '/content/grive/MyDrive/AI_Project1/Dataset/Nevus/ISIC_0000389.jpg'),\n",
              " ('Nevus',\n",
              "  '/content/grive/MyDrive/AI_Project1/Dataset/Nevus/ISIC_0000383.jpg'),\n",
              " ('Nevus',\n",
              "  '/content/grive/MyDrive/AI_Project1/Dataset/Nevus/ISIC_0000396.jpg'),\n",
              " ('Nevus',\n",
              "  '/content/grive/MyDrive/AI_Project1/Dataset/Nevus/ISIC_0000237 - Copy.jpg'),\n",
              " ('Nevus',\n",
              "  '/content/grive/MyDrive/AI_Project1/Dataset/Nevus/ISIC_0000238 - Copy.jpg'),\n",
              " ('Nevus',\n",
              "  '/content/grive/MyDrive/AI_Project1/Dataset/Nevus/ISIC_0000065.jpg'),\n",
              " ('Nevus',\n",
              "  '/content/grive/MyDrive/AI_Project1/Dataset/Nevus/ISIC_0000319 - Copy.jpg'),\n",
              " ('Nevus',\n",
              "  '/content/grive/MyDrive/AI_Project1/Dataset/Nevus/ISIC_0000385.jpg'),\n",
              " ('Nevus',\n",
              "  '/content/grive/MyDrive/AI_Project1/Dataset/Nevus/ISIC_0000080.jpg'),\n",
              " ('Nevus',\n",
              "  '/content/grive/MyDrive/AI_Project1/Dataset/Nevus/ISIC_0000067.jpg'),\n",
              " ('Nevus',\n",
              "  '/content/grive/MyDrive/AI_Project1/Dataset/Nevus/ISIC_0000068.jpg'),\n",
              " ('Nevus',\n",
              "  '/content/grive/MyDrive/AI_Project1/Dataset/Nevus/ISIC_0000418.jpg'),\n",
              " ('Nevus',\n",
              "  '/content/grive/MyDrive/AI_Project1/Dataset/Nevus/ISIC_0000240 - Copy.jpg'),\n",
              " ('Nevus',\n",
              "  '/content/grive/MyDrive/AI_Project1/Dataset/Nevus/ISIC_0000408.jpg'),\n",
              " ('Nevus',\n",
              "  '/content/grive/MyDrive/AI_Project1/Dataset/Nevus/ISIC_0000403(1).jpg'),\n",
              " ('Nevus',\n",
              "  '/content/grive/MyDrive/AI_Project1/Dataset/Nevus/ISIC_0000057.jpg'),\n",
              " ('Nevus',\n",
              "  '/content/grive/MyDrive/AI_Project1/Dataset/Nevus/ISIC_0000066.jpg'),\n",
              " ('Nevus',\n",
              "  '/content/grive/MyDrive/AI_Project1/Dataset/Nevus/ISIC_0000073.jpg'),\n",
              " ('Nevus',\n",
              "  '/content/grive/MyDrive/AI_Project1/Dataset/Nevus/ISIC_0000239 - Copy.jpg'),\n",
              " ('Nevus',\n",
              "  '/content/grive/MyDrive/AI_Project1/Dataset/Nevus/ISIC_0000062.jpg'),\n",
              " ('Nevus',\n",
              "  '/content/grive/MyDrive/AI_Project1/Dataset/Nevus/ISIC_0000079.jpg'),\n",
              " ('Nevus',\n",
              "  '/content/grive/MyDrive/AI_Project1/Dataset/Nevus/ISIC_0000081.jpg'),\n",
              " ('Nevus',\n",
              "  '/content/grive/MyDrive/AI_Project1/Dataset/Nevus/ISIC_0000061.jpg'),\n",
              " ('Nevus',\n",
              "  '/content/grive/MyDrive/AI_Project1/Dataset/Nevus/ISIC_0000063.jpg'),\n",
              " ('Nevus',\n",
              "  '/content/grive/MyDrive/AI_Project1/Dataset/Nevus/ISIC_0000060.jpg'),\n",
              " ('Nevus',\n",
              "  '/content/grive/MyDrive/AI_Project1/Dataset/Nevus/ISIC_0000055.jpg'),\n",
              " ('Nevus',\n",
              "  '/content/grive/MyDrive/AI_Project1/Dataset/Nevus/ISIC_0000058.jpg'),\n",
              " ('Nevus',\n",
              "  '/content/grive/MyDrive/AI_Project1/Dataset/Nevus/ISIC_0000059.jpg'),\n",
              " ('Nevus',\n",
              "  '/content/grive/MyDrive/AI_Project1/Dataset/Nevus/ISIC_0000064.jpg')]"
            ]
          },
          "metadata": {},
          "execution_count": 20
        }
      ]
    },
    {
      "cell_type": "markdown",
      "source": [
        "#### **1_2_2_6: Add essential libaries to work with dataframes and arrays**"
      ],
      "metadata": {
        "id": "MBKry6jX2rCT"
      }
    },
    {
      "cell_type": "code",
      "source": [
        "import pandas as pd\n",
        "import numpy as np"
      ],
      "metadata": {
        "id": "eCVZtXvG18QS"
      },
      "execution_count": 21,
      "outputs": []
    },
    {
      "cell_type": "markdown",
      "source": [
        "#### **1_2_2_7: Create dataframe containing image files' names and their condition type**"
      ],
      "metadata": {
        "id": "5DJxf6aBzWUY"
      }
    },
    {
      "cell_type": "code",
      "source": [
        "conditions_df = pd.DataFrame(data=conditions, columns=['condition_type', 'image_name'])\n",
        "\n",
        "print(conditions_df.head())\n",
        "print(conditions_df.tail())"
      ],
      "metadata": {
        "id": "-77lVOrv1zOp",
        "colab": {
          "base_uri": "https://localhost:8080/"
        },
        "outputId": "7967c5de-e598-45a0-ffd1-ea5f9b1c2fa3"
      },
      "execution_count": 22,
      "outputs": [
        {
          "output_type": "stream",
          "name": "stdout",
          "text": [
            "  condition_type                                         image_name\n",
            "0      Carcinoma  /content/grive/MyDrive/AI_Project1/Dataset/Car...\n",
            "1      Carcinoma  /content/grive/MyDrive/AI_Project1/Dataset/Car...\n",
            "2      Carcinoma  /content/grive/MyDrive/AI_Project1/Dataset/Car...\n",
            "3      Carcinoma  /content/grive/MyDrive/AI_Project1/Dataset/Car...\n",
            "4      Carcinoma  /content/grive/MyDrive/AI_Project1/Dataset/Car...\n",
            "    condition_type                                         image_name\n",
            "168          Nevus  /content/grive/MyDrive/AI_Project1/Dataset/Nev...\n",
            "169          Nevus  /content/grive/MyDrive/AI_Project1/Dataset/Nev...\n",
            "170          Nevus  /content/grive/MyDrive/AI_Project1/Dataset/Nev...\n",
            "171          Nevus  /content/grive/MyDrive/AI_Project1/Dataset/Nev...\n",
            "172          Nevus  /content/grive/MyDrive/AI_Project1/Dataset/Nev...\n"
          ]
        }
      ]
    },
    {
      "cell_type": "markdown",
      "source": [
        "#### **1_2_2_8: Count the number of pictures of all conditions**"
      ],
      "metadata": {
        "id": "I-b3eumDCdGj"
      }
    },
    {
      "cell_type": "code",
      "source": [
        "print(\"Total number of skin conditions' pictures in the dataset: \", len(conditions_df))"
      ],
      "metadata": {
        "id": "cuSERlAU2x_H",
        "colab": {
          "base_uri": "https://localhost:8080/"
        },
        "outputId": "f29686ff-0953-4df4-d424-05ed6a8f0328"
      },
      "execution_count": 23,
      "outputs": [
        {
          "output_type": "stream",
          "name": "stdout",
          "text": [
            "Total number of skin conditions' pictures in the dataset:  173\n"
          ]
        }
      ]
    },
    {
      "cell_type": "markdown",
      "source": [
        "#### **1_2_2_9: Count the number of pictures in each category of conditions**"
      ],
      "metadata": {
        "id": "wU0-mPJDCxPo"
      }
    },
    {
      "cell_type": "code",
      "source": [
        "condition_count = conditions_df['condition_type'].value_counts()\n",
        "\n",
        "print(\"condition's pictures in each category: \")\n",
        "print(condition_count)"
      ],
      "metadata": {
        "id": "aBHoGgL1Cxmy",
        "colab": {
          "base_uri": "https://localhost:8080/"
        },
        "outputId": "457b0186-7412-4cd9-b25f-3b4301c398a3"
      },
      "execution_count": 24,
      "outputs": [
        {
          "output_type": "stream",
          "name": "stdout",
          "text": [
            "condition's pictures in each category: \n",
            "condition_type\n",
            "Melanoma     64\n",
            "Nevus        59\n",
            "Carcinoma    50\n",
            "Name: count, dtype: int64\n"
          ]
        }
      ]
    },
    {
      "cell_type": "markdown",
      "source": [
        "#### **1_2_2_10: Create our image and label list and remove repetitive pictures**"
      ],
      "metadata": {
        "id": "cBCNuvoB0hG1"
      }
    },
    {
      "cell_type": "code",
      "source": [
        "import cv2\n",
        "im_size = 224\n",
        "\n",
        "images = []\n",
        "labels = []\n",
        "sample = 0\n",
        "count = 0\n",
        "flag = True\n",
        "for condition in different_skin_conditions:\n",
        "    condition_data_path = dataset_path + '/' + condition\n",
        "    filenames = [i for i in os.listdir(condition_data_path) ]\n",
        "\n",
        "    for filename in filenames:\n",
        "        flag = True\n",
        "        img = cv2.imread(condition_data_path + '/' + filename)\n",
        "        img = cv2.resize(img, (im_size, im_size))\n",
        "\n",
        "        # Check if it is a copy\n",
        "        for i in images:\n",
        "          diff = cv2.absdiff(img, i)\n",
        "          mean_diff = np.mean(diff)\n",
        "          if mean_diff == 0:\n",
        "            sample = diff\n",
        "            if flag:\n",
        "               count+=1\n",
        "            flag = False\n",
        "        # If it is not a copy, then add it to the list\n",
        "        if(flag):\n",
        "          images.append(img)\n",
        "          labels.append(condition)\n",
        "\n",
        "print(len(labels))\n",
        "print(len(images))\n",
        "print(count)\n",
        "print(sample)\n"
      ],
      "metadata": {
        "id": "4rgYbmj0Cyxv",
        "colab": {
          "base_uri": "https://localhost:8080/"
        },
        "outputId": "7d87906a-4f9f-4a6f-8186-82f2767d825b"
      },
      "execution_count": 25,
      "outputs": [
        {
          "output_type": "stream",
          "name": "stdout",
          "text": [
            "142\n",
            "142\n",
            "31\n",
            "[[[0 0 0]\n",
            "  [0 0 0]\n",
            "  [0 0 0]\n",
            "  ...\n",
            "  [0 0 0]\n",
            "  [0 0 0]\n",
            "  [0 0 0]]\n",
            "\n",
            " [[0 0 0]\n",
            "  [0 0 0]\n",
            "  [0 0 0]\n",
            "  ...\n",
            "  [0 0 0]\n",
            "  [0 0 0]\n",
            "  [0 0 0]]\n",
            "\n",
            " [[0 0 0]\n",
            "  [0 0 0]\n",
            "  [0 0 0]\n",
            "  ...\n",
            "  [0 0 0]\n",
            "  [0 0 0]\n",
            "  [0 0 0]]\n",
            "\n",
            " ...\n",
            "\n",
            " [[0 0 0]\n",
            "  [0 0 0]\n",
            "  [0 0 0]\n",
            "  ...\n",
            "  [0 0 0]\n",
            "  [0 0 0]\n",
            "  [0 0 0]]\n",
            "\n",
            " [[0 0 0]\n",
            "  [0 0 0]\n",
            "  [0 0 0]\n",
            "  ...\n",
            "  [0 0 0]\n",
            "  [0 0 0]\n",
            "  [0 0 0]]\n",
            "\n",
            " [[0 0 0]\n",
            "  [0 0 0]\n",
            "  [0 0 0]\n",
            "  ...\n",
            "  [0 0 0]\n",
            "  [0 0 0]\n",
            "  [0 0 0]]]\n"
          ]
        }
      ]
    },
    {
      "cell_type": "markdown",
      "source": [
        "#### **1_2_2_11: Transform the image into a numpy array**"
      ],
      "metadata": {
        "id": "ye9UScF7EU-N"
      }
    },
    {
      "cell_type": "code",
      "source": [
        "images = np.array(images)\n",
        "images.shape"
      ],
      "metadata": {
        "id": "-A2qP57hET4s",
        "colab": {
          "base_uri": "https://localhost:8080/"
        },
        "outputId": "a7682c39-7902-4e62-fb87-27f00b0bf9d0"
      },
      "execution_count": 26,
      "outputs": [
        {
          "output_type": "execute_result",
          "data": {
            "text/plain": [
              "(142, 224, 224, 3)"
            ]
          },
          "metadata": {},
          "execution_count": 26
        }
      ]
    },
    {
      "cell_type": "markdown",
      "source": [
        "#### **1_2_2_12: Scale and normalize our data**"
      ],
      "metadata": {
        "id": "2nt_8FGLEvxX"
      }
    },
    {
      "cell_type": "code",
      "source": [
        "images = images / 255.0"
      ],
      "metadata": {
        "id": "hddpd1whEvXD"
      },
      "execution_count": 27,
      "outputs": []
    },
    {
      "cell_type": "markdown",
      "source": [
        "#### **1_2_2_13: Import necessary classes and library to do some preprocessing like label encoding and one-hot encoding**"
      ],
      "metadata": {
        "id": "IQWxm1a3FGoI"
      }
    },
    {
      "cell_type": "code",
      "source": [
        "from sklearn.preprocessing import LabelEncoder , OneHotEncoder"
      ],
      "metadata": {
        "id": "D3Y3VKg6FGO4"
      },
      "execution_count": 28,
      "outputs": []
    },
    {
      "cell_type": "markdown",
      "source": [
        "#### **1_2_2_14: Achieve conditions of each picture in our dataframe**"
      ],
      "metadata": {
        "id": "PpGOmeyyGlG2"
      }
    },
    {
      "cell_type": "code",
      "source": [
        "y = np.array(labels)\n",
        "y"
      ],
      "metadata": {
        "id": "0cKLoSlbF1mt",
        "colab": {
          "base_uri": "https://localhost:8080/"
        },
        "outputId": "466cf7c1-26a1-4b6f-b834-89b8fc1e6d87"
      },
      "execution_count": 29,
      "outputs": [
        {
          "output_type": "execute_result",
          "data": {
            "text/plain": [
              "array(['Carcinoma', 'Carcinoma', 'Carcinoma', 'Carcinoma', 'Carcinoma',\n",
              "       'Carcinoma', 'Carcinoma', 'Carcinoma', 'Carcinoma', 'Carcinoma',\n",
              "       'Carcinoma', 'Carcinoma', 'Carcinoma', 'Carcinoma', 'Carcinoma',\n",
              "       'Carcinoma', 'Carcinoma', 'Carcinoma', 'Carcinoma', 'Carcinoma',\n",
              "       'Carcinoma', 'Carcinoma', 'Carcinoma', 'Carcinoma', 'Carcinoma',\n",
              "       'Carcinoma', 'Carcinoma', 'Carcinoma', 'Carcinoma', 'Carcinoma',\n",
              "       'Carcinoma', 'Carcinoma', 'Carcinoma', 'Carcinoma', 'Carcinoma',\n",
              "       'Carcinoma', 'Carcinoma', 'Carcinoma', 'Carcinoma', 'Carcinoma',\n",
              "       'Carcinoma', 'Carcinoma', 'Carcinoma', 'Carcinoma', 'Carcinoma',\n",
              "       'Carcinoma', 'Carcinoma', 'Carcinoma', 'Carcinoma', 'Carcinoma',\n",
              "       'Melanoma', 'Melanoma', 'Melanoma', 'Melanoma', 'Melanoma',\n",
              "       'Melanoma', 'Melanoma', 'Melanoma', 'Melanoma', 'Melanoma',\n",
              "       'Melanoma', 'Melanoma', 'Melanoma', 'Melanoma', 'Melanoma',\n",
              "       'Melanoma', 'Melanoma', 'Melanoma', 'Melanoma', 'Melanoma',\n",
              "       'Melanoma', 'Melanoma', 'Melanoma', 'Melanoma', 'Melanoma',\n",
              "       'Melanoma', 'Melanoma', 'Melanoma', 'Melanoma', 'Melanoma',\n",
              "       'Melanoma', 'Melanoma', 'Melanoma', 'Melanoma', 'Melanoma',\n",
              "       'Melanoma', 'Melanoma', 'Melanoma', 'Melanoma', 'Melanoma',\n",
              "       'Melanoma', 'Nevus', 'Nevus', 'Nevus', 'Nevus', 'Nevus', 'Nevus',\n",
              "       'Nevus', 'Nevus', 'Nevus', 'Nevus', 'Nevus', 'Nevus', 'Nevus',\n",
              "       'Nevus', 'Nevus', 'Nevus', 'Nevus', 'Nevus', 'Nevus', 'Nevus',\n",
              "       'Nevus', 'Nevus', 'Nevus', 'Nevus', 'Nevus', 'Nevus', 'Nevus',\n",
              "       'Nevus', 'Nevus', 'Nevus', 'Nevus', 'Nevus', 'Nevus', 'Nevus',\n",
              "       'Nevus', 'Nevus', 'Nevus', 'Nevus', 'Nevus', 'Nevus', 'Nevus',\n",
              "       'Nevus', 'Nevus', 'Nevus', 'Nevus', 'Nevus', 'Nevus', 'Nevus',\n",
              "       'Nevus', 'Nevus', 'Nevus'], dtype='<U9')"
            ]
          },
          "metadata": {},
          "execution_count": 29
        }
      ]
    },
    {
      "cell_type": "markdown",
      "source": [
        "#### **1_2_2_15: Do Label encoding**"
      ],
      "metadata": {
        "id": "P_UAg6RnFX7-"
      }
    },
    {
      "cell_type": "markdown",
      "source": [
        "It is used to convert categorical data (data with distinct labels or categories) into numerical form."
      ],
      "metadata": {
        "id": "gnETnzWTMUdm"
      }
    },
    {
      "cell_type": "markdown",
      "source": [
        "**fit_transform method:**\n",
        "\n",
        "* **Fitting:** It learns the unique categories in the 'y' data. For example, if 'y' contains categories like ['Nevus', 'Carcinoma', 'Melanoma'], the fit step assigns the integer labels 0, 1, and 2 to these categories, respectively.\n",
        "\n",
        "* **Transforming:** After learning the unique categories, it replaces each category in the 'y' data with its corresponding numerical label. So, if 'y' originally contained values like ['Nevus', 'Carcinoma', 'Melanoma'], after the transformation, 'y' will contain the numerical labels assigned in the fitting step."
      ],
      "metadata": {
        "id": "kD7VpITjH_kw"
      }
    },
    {
      "cell_type": "code",
      "source": [
        "# Instantiate from the LabelEncoder class to work with\n",
        "y_labelencoder = LabelEncoder ()\n",
        "# Perform label encoding on the y data\n",
        "y = y_labelencoder.fit_transform (y)\n",
        "y"
      ],
      "metadata": {
        "id": "1YcbyhMoIjb1",
        "colab": {
          "base_uri": "https://localhost:8080/"
        },
        "outputId": "0edb5af4-272b-4729-c61b-362f3645697a"
      },
      "execution_count": 30,
      "outputs": [
        {
          "output_type": "execute_result",
          "data": {
            "text/plain": [
              "array([0, 0, 0, 0, 0, 0, 0, 0, 0, 0, 0, 0, 0, 0, 0, 0, 0, 0, 0, 0, 0, 0,\n",
              "       0, 0, 0, 0, 0, 0, 0, 0, 0, 0, 0, 0, 0, 0, 0, 0, 0, 0, 0, 0, 0, 0,\n",
              "       0, 0, 0, 0, 0, 0, 1, 1, 1, 1, 1, 1, 1, 1, 1, 1, 1, 1, 1, 1, 1, 1,\n",
              "       1, 1, 1, 1, 1, 1, 1, 1, 1, 1, 1, 1, 1, 1, 1, 1, 1, 1, 1, 1, 1, 1,\n",
              "       1, 1, 1, 2, 2, 2, 2, 2, 2, 2, 2, 2, 2, 2, 2, 2, 2, 2, 2, 2, 2, 2,\n",
              "       2, 2, 2, 2, 2, 2, 2, 2, 2, 2, 2, 2, 2, 2, 2, 2, 2, 2, 2, 2, 2, 2,\n",
              "       2, 2, 2, 2, 2, 2, 2, 2, 2, 2])"
            ]
          },
          "metadata": {},
          "execution_count": 30
        }
      ]
    },
    {
      "cell_type": "markdown",
      "source": [
        "#### **1_2_2_16: Do One-hot encoding**"
      ],
      "metadata": {
        "id": "lCJzjvBbFdyf"
      }
    },
    {
      "cell_type": "markdown",
      "source": [
        "In one-hot encoding, each category is represented by a separate binary column (either 0 or 1). If there are 'n' categories, 'n' new binary columns are created. When a data point belongs to a particular category, the corresponding binary column for that category will have a value of 1, and all other columns will have a value of 0."
      ],
      "metadata": {
        "id": "2NrZbwCzMnFR"
      }
    },
    {
      "cell_type": "markdown",
      "source": [
        "#### **1_2_2_17: reshape the y data**"
      ],
      "metadata": {
        "id": "EvPN1uWTOPXH"
      }
    },
    {
      "cell_type": "markdown",
      "source": [
        "##### **reshape(-1,1)**\n",
        "\n",
        "* **first arqument:** the number of rows\n",
        "\n",
        "* **second argument**: the number of columns\n",
        "\n",
        "In Python, using \"-1\" in a specific context, like the reshape() function, means you are specifying the number of elements in that dimension of the array. This feature allows you to maintain the total number of elements in the array while changing its shape or dimensions."
      ],
      "metadata": {
        "id": "gHg8lBXFJMzi"
      }
    },
    {
      "cell_type": "code",
      "source": [
        "y=y.reshape(-1,1)\n",
        "y"
      ],
      "metadata": {
        "id": "LmAC4iD5I0BC",
        "colab": {
          "base_uri": "https://localhost:8080/"
        },
        "outputId": "ad83464e-be37-4128-bb7a-0169f764fa36"
      },
      "execution_count": 31,
      "outputs": [
        {
          "output_type": "execute_result",
          "data": {
            "text/plain": [
              "array([[0],\n",
              "       [0],\n",
              "       [0],\n",
              "       [0],\n",
              "       [0],\n",
              "       [0],\n",
              "       [0],\n",
              "       [0],\n",
              "       [0],\n",
              "       [0],\n",
              "       [0],\n",
              "       [0],\n",
              "       [0],\n",
              "       [0],\n",
              "       [0],\n",
              "       [0],\n",
              "       [0],\n",
              "       [0],\n",
              "       [0],\n",
              "       [0],\n",
              "       [0],\n",
              "       [0],\n",
              "       [0],\n",
              "       [0],\n",
              "       [0],\n",
              "       [0],\n",
              "       [0],\n",
              "       [0],\n",
              "       [0],\n",
              "       [0],\n",
              "       [0],\n",
              "       [0],\n",
              "       [0],\n",
              "       [0],\n",
              "       [0],\n",
              "       [0],\n",
              "       [0],\n",
              "       [0],\n",
              "       [0],\n",
              "       [0],\n",
              "       [0],\n",
              "       [0],\n",
              "       [0],\n",
              "       [0],\n",
              "       [0],\n",
              "       [0],\n",
              "       [0],\n",
              "       [0],\n",
              "       [0],\n",
              "       [0],\n",
              "       [1],\n",
              "       [1],\n",
              "       [1],\n",
              "       [1],\n",
              "       [1],\n",
              "       [1],\n",
              "       [1],\n",
              "       [1],\n",
              "       [1],\n",
              "       [1],\n",
              "       [1],\n",
              "       [1],\n",
              "       [1],\n",
              "       [1],\n",
              "       [1],\n",
              "       [1],\n",
              "       [1],\n",
              "       [1],\n",
              "       [1],\n",
              "       [1],\n",
              "       [1],\n",
              "       [1],\n",
              "       [1],\n",
              "       [1],\n",
              "       [1],\n",
              "       [1],\n",
              "       [1],\n",
              "       [1],\n",
              "       [1],\n",
              "       [1],\n",
              "       [1],\n",
              "       [1],\n",
              "       [1],\n",
              "       [1],\n",
              "       [1],\n",
              "       [1],\n",
              "       [1],\n",
              "       [1],\n",
              "       [1],\n",
              "       [1],\n",
              "       [1],\n",
              "       [2],\n",
              "       [2],\n",
              "       [2],\n",
              "       [2],\n",
              "       [2],\n",
              "       [2],\n",
              "       [2],\n",
              "       [2],\n",
              "       [2],\n",
              "       [2],\n",
              "       [2],\n",
              "       [2],\n",
              "       [2],\n",
              "       [2],\n",
              "       [2],\n",
              "       [2],\n",
              "       [2],\n",
              "       [2],\n",
              "       [2],\n",
              "       [2],\n",
              "       [2],\n",
              "       [2],\n",
              "       [2],\n",
              "       [2],\n",
              "       [2],\n",
              "       [2],\n",
              "       [2],\n",
              "       [2],\n",
              "       [2],\n",
              "       [2],\n",
              "       [2],\n",
              "       [2],\n",
              "       [2],\n",
              "       [2],\n",
              "       [2],\n",
              "       [2],\n",
              "       [2],\n",
              "       [2],\n",
              "       [2],\n",
              "       [2],\n",
              "       [2],\n",
              "       [2],\n",
              "       [2],\n",
              "       [2],\n",
              "       [2],\n",
              "       [2],\n",
              "       [2],\n",
              "       [2],\n",
              "       [2],\n",
              "       [2],\n",
              "       [2]])"
            ]
          },
          "metadata": {},
          "execution_count": 31
        }
      ]
    },
    {
      "cell_type": "markdown",
      "source": [
        "#### **1_2_2_18: Use OneHotEncoder**\n",
        "* **categories='auto':** This argument tells the OneHotEncoder function to automatically find the categories in the data.\n",
        "\n",
        "* **sparse=False:** This argument specifies the output format. When you set sparse=False, the function will return the one-hot encoded output in a dense format, like below output."
      ],
      "metadata": {
        "id": "IJ8Bo10LXwn2"
      }
    },
    {
      "cell_type": "code",
      "source": [
        "# Instantiate an object from the OneHotEncoder class to work with\n",
        "onehotencoder=OneHotEncoder(categories='auto', sparse=False)\n",
        "# Apply the one-hot encoding to the data\n",
        "Y= onehotencoder.fit_transform(y)\n",
        "\n",
        "print(f\"The dimentions before one-hot encoding: {y.shape}\")\n",
        "\n",
        "print(f\"The dimentions after one-hot encoding: {Y.shape}\")\n",
        "\n",
        "Y"
      ],
      "metadata": {
        "id": "bfemRKbXE1nW",
        "colab": {
          "base_uri": "https://localhost:8080/"
        },
        "outputId": "a7cb81e0-107b-4ba4-ca45-21d45fc2cf37"
      },
      "execution_count": 32,
      "outputs": [
        {
          "output_type": "stream",
          "name": "stdout",
          "text": [
            "The dimentions before one-hot encoding: (142, 1)\n",
            "The dimentions after one-hot encoding: (142, 3)\n"
          ]
        },
        {
          "output_type": "stream",
          "name": "stderr",
          "text": [
            "/usr/local/lib/python3.10/dist-packages/sklearn/preprocessing/_encoders.py:868: FutureWarning: `sparse` was renamed to `sparse_output` in version 1.2 and will be removed in 1.4. `sparse_output` is ignored unless you leave `sparse` to its default value.\n",
            "  warnings.warn(\n"
          ]
        },
        {
          "output_type": "execute_result",
          "data": {
            "text/plain": [
              "array([[1., 0., 0.],\n",
              "       [1., 0., 0.],\n",
              "       [1., 0., 0.],\n",
              "       [1., 0., 0.],\n",
              "       [1., 0., 0.],\n",
              "       [1., 0., 0.],\n",
              "       [1., 0., 0.],\n",
              "       [1., 0., 0.],\n",
              "       [1., 0., 0.],\n",
              "       [1., 0., 0.],\n",
              "       [1., 0., 0.],\n",
              "       [1., 0., 0.],\n",
              "       [1., 0., 0.],\n",
              "       [1., 0., 0.],\n",
              "       [1., 0., 0.],\n",
              "       [1., 0., 0.],\n",
              "       [1., 0., 0.],\n",
              "       [1., 0., 0.],\n",
              "       [1., 0., 0.],\n",
              "       [1., 0., 0.],\n",
              "       [1., 0., 0.],\n",
              "       [1., 0., 0.],\n",
              "       [1., 0., 0.],\n",
              "       [1., 0., 0.],\n",
              "       [1., 0., 0.],\n",
              "       [1., 0., 0.],\n",
              "       [1., 0., 0.],\n",
              "       [1., 0., 0.],\n",
              "       [1., 0., 0.],\n",
              "       [1., 0., 0.],\n",
              "       [1., 0., 0.],\n",
              "       [1., 0., 0.],\n",
              "       [1., 0., 0.],\n",
              "       [1., 0., 0.],\n",
              "       [1., 0., 0.],\n",
              "       [1., 0., 0.],\n",
              "       [1., 0., 0.],\n",
              "       [1., 0., 0.],\n",
              "       [1., 0., 0.],\n",
              "       [1., 0., 0.],\n",
              "       [1., 0., 0.],\n",
              "       [1., 0., 0.],\n",
              "       [1., 0., 0.],\n",
              "       [1., 0., 0.],\n",
              "       [1., 0., 0.],\n",
              "       [1., 0., 0.],\n",
              "       [1., 0., 0.],\n",
              "       [1., 0., 0.],\n",
              "       [1., 0., 0.],\n",
              "       [1., 0., 0.],\n",
              "       [0., 1., 0.],\n",
              "       [0., 1., 0.],\n",
              "       [0., 1., 0.],\n",
              "       [0., 1., 0.],\n",
              "       [0., 1., 0.],\n",
              "       [0., 1., 0.],\n",
              "       [0., 1., 0.],\n",
              "       [0., 1., 0.],\n",
              "       [0., 1., 0.],\n",
              "       [0., 1., 0.],\n",
              "       [0., 1., 0.],\n",
              "       [0., 1., 0.],\n",
              "       [0., 1., 0.],\n",
              "       [0., 1., 0.],\n",
              "       [0., 1., 0.],\n",
              "       [0., 1., 0.],\n",
              "       [0., 1., 0.],\n",
              "       [0., 1., 0.],\n",
              "       [0., 1., 0.],\n",
              "       [0., 1., 0.],\n",
              "       [0., 1., 0.],\n",
              "       [0., 1., 0.],\n",
              "       [0., 1., 0.],\n",
              "       [0., 1., 0.],\n",
              "       [0., 1., 0.],\n",
              "       [0., 1., 0.],\n",
              "       [0., 1., 0.],\n",
              "       [0., 1., 0.],\n",
              "       [0., 1., 0.],\n",
              "       [0., 1., 0.],\n",
              "       [0., 1., 0.],\n",
              "       [0., 1., 0.],\n",
              "       [0., 1., 0.],\n",
              "       [0., 1., 0.],\n",
              "       [0., 1., 0.],\n",
              "       [0., 1., 0.],\n",
              "       [0., 1., 0.],\n",
              "       [0., 1., 0.],\n",
              "       [0., 1., 0.],\n",
              "       [0., 1., 0.],\n",
              "       [0., 1., 0.],\n",
              "       [0., 0., 1.],\n",
              "       [0., 0., 1.],\n",
              "       [0., 0., 1.],\n",
              "       [0., 0., 1.],\n",
              "       [0., 0., 1.],\n",
              "       [0., 0., 1.],\n",
              "       [0., 0., 1.],\n",
              "       [0., 0., 1.],\n",
              "       [0., 0., 1.],\n",
              "       [0., 0., 1.],\n",
              "       [0., 0., 1.],\n",
              "       [0., 0., 1.],\n",
              "       [0., 0., 1.],\n",
              "       [0., 0., 1.],\n",
              "       [0., 0., 1.],\n",
              "       [0., 0., 1.],\n",
              "       [0., 0., 1.],\n",
              "       [0., 0., 1.],\n",
              "       [0., 0., 1.],\n",
              "       [0., 0., 1.],\n",
              "       [0., 0., 1.],\n",
              "       [0., 0., 1.],\n",
              "       [0., 0., 1.],\n",
              "       [0., 0., 1.],\n",
              "       [0., 0., 1.],\n",
              "       [0., 0., 1.],\n",
              "       [0., 0., 1.],\n",
              "       [0., 0., 1.],\n",
              "       [0., 0., 1.],\n",
              "       [0., 0., 1.],\n",
              "       [0., 0., 1.],\n",
              "       [0., 0., 1.],\n",
              "       [0., 0., 1.],\n",
              "       [0., 0., 1.],\n",
              "       [0., 0., 1.],\n",
              "       [0., 0., 1.],\n",
              "       [0., 0., 1.],\n",
              "       [0., 0., 1.],\n",
              "       [0., 0., 1.],\n",
              "       [0., 0., 1.],\n",
              "       [0., 0., 1.],\n",
              "       [0., 0., 1.],\n",
              "       [0., 0., 1.],\n",
              "       [0., 0., 1.],\n",
              "       [0., 0., 1.],\n",
              "       [0., 0., 1.],\n",
              "       [0., 0., 1.],\n",
              "       [0., 0., 1.],\n",
              "       [0., 0., 1.],\n",
              "       [0., 0., 1.],\n",
              "       [0., 0., 1.]])"
            ]
          },
          "metadata": {},
          "execution_count": 32
        }
      ]
    },
    {
      "cell_type": "markdown",
      "source": [
        "#### **1_2_2_19: Shuffle images**"
      ],
      "metadata": {
        "id": "pkeqr0uo2U-h"
      }
    },
    {
      "cell_type": "markdown",
      "source": [
        "**random_state=1:** The purpose of random_state is to ensure reproducibility of the shuffling results. As long as you use the same random_state value across different runs of your code, you will get the same shuffled order.\n",
        "\n",
        "When you set random_state to a specific value, you are effectively setting a seed for the random number generator. This seed ensures that the same sequence of random numbers will be generated every time the code is executed"
      ],
      "metadata": {
        "id": "iPlsLL9smRUM"
      }
    },
    {
      "cell_type": "code",
      "source": [
        "from sklearn.utils import shuffle\n",
        "\n",
        "images, Y = shuffle(images, Y, random_state=1)\n",
        "\n",
        "Y"
      ],
      "metadata": {
        "id": "_MUW10jXlv6Y",
        "colab": {
          "base_uri": "https://localhost:8080/"
        },
        "outputId": "f465bc3c-5591-4521-bac3-d852ae92250a"
      },
      "execution_count": 33,
      "outputs": [
        {
          "output_type": "execute_result",
          "data": {
            "text/plain": [
              "array([[0., 1., 0.],\n",
              "       [0., 0., 1.],\n",
              "       [1., 0., 0.],\n",
              "       [1., 0., 0.],\n",
              "       [0., 0., 1.],\n",
              "       [1., 0., 0.],\n",
              "       [1., 0., 0.],\n",
              "       [1., 0., 0.],\n",
              "       [0., 1., 0.],\n",
              "       [0., 1., 0.],\n",
              "       [0., 0., 1.],\n",
              "       [0., 1., 0.],\n",
              "       [0., 1., 0.],\n",
              "       [0., 0., 1.],\n",
              "       [1., 0., 0.],\n",
              "       [1., 0., 0.],\n",
              "       [1., 0., 0.],\n",
              "       [0., 1., 0.],\n",
              "       [0., 1., 0.],\n",
              "       [1., 0., 0.],\n",
              "       [1., 0., 0.],\n",
              "       [0., 0., 1.],\n",
              "       [0., 0., 1.],\n",
              "       [0., 0., 1.],\n",
              "       [0., 1., 0.],\n",
              "       [1., 0., 0.],\n",
              "       [1., 0., 0.],\n",
              "       [0., 0., 1.],\n",
              "       [0., 1., 0.],\n",
              "       [0., 0., 1.],\n",
              "       [1., 0., 0.],\n",
              "       [1., 0., 0.],\n",
              "       [0., 1., 0.],\n",
              "       [0., 0., 1.],\n",
              "       [0., 0., 1.],\n",
              "       [0., 1., 0.],\n",
              "       [1., 0., 0.],\n",
              "       [1., 0., 0.],\n",
              "       [0., 0., 1.],\n",
              "       [1., 0., 0.],\n",
              "       [1., 0., 0.],\n",
              "       [0., 0., 1.],\n",
              "       [0., 0., 1.],\n",
              "       [0., 1., 0.],\n",
              "       [1., 0., 0.],\n",
              "       [0., 1., 0.],\n",
              "       [0., 1., 0.],\n",
              "       [0., 0., 1.],\n",
              "       [1., 0., 0.],\n",
              "       [0., 1., 0.],\n",
              "       [0., 0., 1.],\n",
              "       [1., 0., 0.],\n",
              "       [1., 0., 0.],\n",
              "       [0., 1., 0.],\n",
              "       [0., 0., 1.],\n",
              "       [0., 0., 1.],\n",
              "       [1., 0., 0.],\n",
              "       [0., 0., 1.],\n",
              "       [0., 1., 0.],\n",
              "       [0., 0., 1.],\n",
              "       [0., 0., 1.],\n",
              "       [0., 0., 1.],\n",
              "       [0., 0., 1.],\n",
              "       [0., 0., 1.],\n",
              "       [0., 1., 0.],\n",
              "       [0., 0., 1.],\n",
              "       [0., 1., 0.],\n",
              "       [1., 0., 0.],\n",
              "       [0., 1., 0.],\n",
              "       [0., 1., 0.],\n",
              "       [0., 0., 1.],\n",
              "       [0., 0., 1.],\n",
              "       [1., 0., 0.],\n",
              "       [1., 0., 0.],\n",
              "       [1., 0., 0.],\n",
              "       [0., 0., 1.],\n",
              "       [1., 0., 0.],\n",
              "       [0., 0., 1.],\n",
              "       [0., 0., 1.],\n",
              "       [1., 0., 0.],\n",
              "       [1., 0., 0.],\n",
              "       [0., 1., 0.],\n",
              "       [0., 0., 1.],\n",
              "       [0., 0., 1.],\n",
              "       [0., 0., 1.],\n",
              "       [0., 0., 1.],\n",
              "       [0., 0., 1.],\n",
              "       [0., 1., 0.],\n",
              "       [0., 0., 1.],\n",
              "       [0., 0., 1.],\n",
              "       [0., 1., 0.],\n",
              "       [1., 0., 0.],\n",
              "       [0., 1., 0.],\n",
              "       [1., 0., 0.],\n",
              "       [0., 1., 0.],\n",
              "       [0., 1., 0.],\n",
              "       [1., 0., 0.],\n",
              "       [0., 1., 0.],\n",
              "       [1., 0., 0.],\n",
              "       [1., 0., 0.],\n",
              "       [0., 0., 1.],\n",
              "       [0., 0., 1.],\n",
              "       [0., 0., 1.],\n",
              "       [1., 0., 0.],\n",
              "       [1., 0., 0.],\n",
              "       [0., 1., 0.],\n",
              "       [1., 0., 0.],\n",
              "       [0., 0., 1.],\n",
              "       [1., 0., 0.],\n",
              "       [0., 0., 1.],\n",
              "       [0., 0., 1.],\n",
              "       [1., 0., 0.],\n",
              "       [0., 0., 1.],\n",
              "       [0., 1., 0.],\n",
              "       [1., 0., 0.],\n",
              "       [0., 1., 0.],\n",
              "       [0., 1., 0.],\n",
              "       [1., 0., 0.],\n",
              "       [1., 0., 0.],\n",
              "       [0., 1., 0.],\n",
              "       [1., 0., 0.],\n",
              "       [0., 1., 0.],\n",
              "       [0., 1., 0.],\n",
              "       [1., 0., 0.],\n",
              "       [1., 0., 0.],\n",
              "       [0., 0., 1.],\n",
              "       [1., 0., 0.],\n",
              "       [0., 1., 0.],\n",
              "       [0., 0., 1.],\n",
              "       [0., 1., 0.],\n",
              "       [0., 1., 0.],\n",
              "       [0., 0., 1.],\n",
              "       [1., 0., 0.],\n",
              "       [1., 0., 0.],\n",
              "       [0., 1., 0.],\n",
              "       [0., 0., 1.],\n",
              "       [0., 1., 0.],\n",
              "       [0., 0., 1.],\n",
              "       [0., 0., 1.],\n",
              "       [0., 1., 0.],\n",
              "       [0., 0., 1.],\n",
              "       [1., 0., 0.]])"
            ]
          },
          "metadata": {},
          "execution_count": 33
        }
      ]
    },
    {
      "cell_type": "markdown",
      "source": [
        "### **1_2_3: Necessary libraries and functions**"
      ],
      "metadata": {
        "id": "_dHEtWyiF1-x"
      }
    },
    {
      "cell_type": "markdown",
      "source": [
        "#### **1_2_3_1: Necessary libraries, modules and classes to work with neural network models**"
      ],
      "metadata": {
        "id": "o9YGSdAfm65Z"
      }
    },
    {
      "cell_type": "code",
      "source": [
        "from keras.models import Model\n",
        "\n",
        "from keras.layers import Input, Add, Dense, Activation,BatchNormalization, Flatten, Conv2D, Dropout, AveragePooling2D, MaxPooling2D, GlobalMaxPooling2D, GlobalAveragePooling2D\n",
        "\n",
        "from keras import Sequential"
      ],
      "metadata": {
        "id": "8EeAnkAnsdEn"
      },
      "execution_count": 83,
      "outputs": []
    },
    {
      "cell_type": "markdown",
      "source": [
        "#### **1_2_3_2: Import the library to initialize our parameters (weights and biases)**"
      ],
      "metadata": {
        "id": "-KhNofXt1RW4"
      }
    },
    {
      "cell_type": "code",
      "source": [
        "from keras.initializers import glorot_uniform, he_normal"
      ],
      "metadata": {
        "id": "Vk45LZDG1Q7g"
      },
      "execution_count": 35,
      "outputs": []
    },
    {
      "cell_type": "markdown",
      "source": [
        "#### **1_2_3_3: Import the library to plot the results**"
      ],
      "metadata": {
        "id": "NEgl2YHE1byU"
      }
    },
    {
      "cell_type": "code",
      "source": [
        "import matplotlib.pyplot as plt"
      ],
      "metadata": {
        "id": "TiXRoMUnuQvV"
      },
      "execution_count": 36,
      "outputs": []
    },
    {
      "cell_type": "markdown",
      "source": [
        "#### **1_2_3_4: Function to show the accuracy of the model in each epoch**"
      ],
      "metadata": {
        "id": "Om71hlOL19Ly"
      }
    },
    {
      "cell_type": "code",
      "source": [
        "def display_accuracy(history):\n",
        "  plt.plot(history.history['accuracy'])\n",
        "  plt.plot(history.history['val_accuracy'])\n",
        "  plt.title('model accuracy')\n",
        "  plt.ylabel('accuracy')\n",
        "  plt.xlabel('epoch')\n",
        "  plt.legend(['Train accuracy', 'Validation accuracy','Train loss'], loc='upper right')\n",
        "  # plt.ylim(ymax=2, ymin=0)\n",
        "  plt.show()"
      ],
      "metadata": {
        "id": "gaIWBnUtuCQb"
      },
      "execution_count": 37,
      "outputs": []
    },
    {
      "cell_type": "markdown",
      "source": [
        "#### **1_2_3_5: Function to show the loss of the model in each epoch**"
      ],
      "metadata": {
        "id": "GWLa_7Mo2EcV"
      }
    },
    {
      "cell_type": "code",
      "source": [
        "def display_loss(history):\n",
        "  plt.plot(history.history['loss'])\n",
        "  plt.plot(history.history['val_loss'])\n",
        "  plt.title('model loss')\n",
        "  plt.ylabel('loss')\n",
        "  plt.xlabel('epoch')\n",
        "  plt.legend(['Train loss', 'Validation loss'], loc='upper left')\n",
        "  # plt.ylim(ymax=5, ymin=0)\n",
        "  plt.show()\n"
      ],
      "metadata": {
        "id": "77Vb5v_IuIwD"
      },
      "execution_count": 38,
      "outputs": []
    },
    {
      "cell_type": "markdown",
      "source": [
        "#### **1_2_3_6: Module to split the data**"
      ],
      "metadata": {
        "id": "HIwRfW1kGOpc"
      }
    },
    {
      "cell_type": "code",
      "source": [
        "from sklearn.model_selection import train_test_split"
      ],
      "metadata": {
        "id": "onkQHcI3GN4C"
      },
      "execution_count": 39,
      "outputs": []
    },
    {
      "cell_type": "markdown",
      "source": [
        "### **1_2_4: Apply ResNet50 without Data Augmentation**"
      ],
      "metadata": {
        "id": "uacVeUZvC6Lv"
      }
    },
    {
      "cell_type": "markdown",
      "source": [
        "#### **1_2_4_1: split data into train and validation set**"
      ],
      "metadata": {
        "id": "ZgvJWpwMApSM"
      }
    },
    {
      "cell_type": "code",
      "source": [
        "X_train, X_valid, y_train, y_valid = train_test_split(images, Y, test_size=0.20, random_state=42)\n",
        "\n",
        "print(X_train.shape)\n",
        "print(y_train.shape)\n",
        "print(X_valid.shape)\n",
        "print(y_valid.shape)"
      ],
      "metadata": {
        "id": "iVHx2cs3mX7I",
        "colab": {
          "base_uri": "https://localhost:8080/"
        },
        "outputId": "6e28e8a4-43f4-4df1-ef7e-5cea28e69949"
      },
      "execution_count": 40,
      "outputs": [
        {
          "output_type": "stream",
          "name": "stdout",
          "text": [
            "(113, 224, 224, 3)\n",
            "(113, 3)\n",
            "(29, 224, 224, 3)\n",
            "(29, 3)\n"
          ]
        }
      ]
    },
    {
      "cell_type": "markdown",
      "source": [
        "#### **1_2_4_2: Import the built in class for ResNet50 model**"
      ],
      "metadata": {
        "id": "3EkhXBaE1Kn8"
      }
    },
    {
      "cell_type": "code",
      "source": [
        "from tensorflow.keras.applications import ResNet50"
      ],
      "metadata": {
        "id": "lZunSOwq1Ilh"
      },
      "execution_count": 41,
      "outputs": []
    },
    {
      "cell_type": "markdown",
      "source": [
        "#### **1_2_4_3: Instantiate from the ResNet50 class as our base model**"
      ],
      "metadata": {
        "id": "MCYEn0PS1ULY"
      }
    },
    {
      "cell_type": "code",
      "source": [
        "ResNet50_base = ResNet50(weights='imagenet', include_top=False, input_shape=(224, 224, 3))"
      ],
      "metadata": {
        "id": "xKBzzz_Y1TrI",
        "colab": {
          "base_uri": "https://localhost:8080/"
        },
        "outputId": "05a49e89-ee63-438d-944e-36ec2f39776d"
      },
      "execution_count": 42,
      "outputs": [
        {
          "output_type": "stream",
          "name": "stdout",
          "text": [
            "Downloading data from https://storage.googleapis.com/tensorflow/keras-applications/resnet/resnet50_weights_tf_dim_ordering_tf_kernels_notop.h5\n",
            "94765736/94765736 [==============================] - 1s 0us/step\n"
          ]
        }
      ]
    },
    {
      "cell_type": "markdown",
      "source": [
        "#### **1_2_4_4: Make the layers of ResNet50 base model untrainable**"
      ],
      "metadata": {
        "id": "1utnlv8S1vfF"
      }
    },
    {
      "cell_type": "code",
      "source": [
        "ResNet50_base.trainable = False"
      ],
      "metadata": {
        "id": "I9x3Ig3614bd"
      },
      "execution_count": 43,
      "outputs": []
    },
    {
      "cell_type": "markdown",
      "source": [
        "#### **1_2_4_5: Make our own model by adding some layers**"
      ],
      "metadata": {
        "id": "FXF7BK5b1lMg"
      }
    },
    {
      "cell_type": "code",
      "source": [
        "ResNet50_model = Sequential([\n",
        "    ResNet50_base,\n",
        "    Flatten(),\n",
        "    BatchNormalization(),\n",
        "    Dense(512, activation='relu', kernel_initializer = 'he_normal'),\n",
        "    BatchNormalization(),\n",
        "    Dropout(0.5),\n",
        "    Dense(512, activation='relu', kernel_initializer = 'he_normal'),\n",
        "    BatchNormalization(),\n",
        "    Dropout(0.5),\n",
        "    Dense(512, activation='relu', kernel_initializer = 'he_normal'),\n",
        "    BatchNormalization(),\n",
        "    Dropout(0.5),\n",
        "    Dense(512, activation='relu', kernel_initializer = 'he_normal'),\n",
        "    BatchNormalization(),\n",
        "    Dropout(0.5),\n",
        "    Dense(3, activation='softmax')\n",
        "])"
      ],
      "metadata": {
        "id": "80OWlj-InmYB"
      },
      "execution_count": 44,
      "outputs": []
    },
    {
      "cell_type": "markdown",
      "source": [
        "#### **1_2_4_6: Compile the model**"
      ],
      "metadata": {
        "id": "d8_lksHkoB0g"
      }
    },
    {
      "cell_type": "markdown",
      "source": [
        "##### **Note about learning-rate:**\n",
        "Train the entire model (frozen layers + new layers) with a very low learning rate\n",
        "\n",
        "A common starting point for the learning rate in transfer learning is between 1e-4 (0.0001) and 1e-5 (0.00001). This lower range helps in fine-tuning the pre-trained weights without making significant changes, allowing the new layers to learn from your small dataset.\n",
        "\n",
        "Pre-trained Model Strength: If the pre-trained model is already very strong on a similar task, you might use an even lower learning rate (e.g., 1e-6) to avoid disturbing the well-learned weights."
      ],
      "metadata": {
        "id": "eiCWM4OMrOHz"
      }
    },
    {
      "cell_type": "code",
      "source": [
        "from keras.optimizers import Adam\n",
        "\n",
        "ResNet50_model.compile(optimizer=Adam(learning_rate = 1e-4), loss='categorical_crossentropy', metrics=['accuracy'])"
      ],
      "metadata": {
        "id": "tX0wJJiLrumS"
      },
      "execution_count": 45,
      "outputs": []
    },
    {
      "cell_type": "markdown",
      "source": [
        "#### **1_2_4_7: Review the structure of model**"
      ],
      "metadata": {
        "id": "VJ65LjdvoXFM"
      }
    },
    {
      "cell_type": "code",
      "source": [
        "ResNet50_model.summary()"
      ],
      "metadata": {
        "id": "zNyRYn4PrwsX",
        "colab": {
          "base_uri": "https://localhost:8080/"
        },
        "outputId": "6f0c060e-53d8-46e5-e32b-eb69241371b4"
      },
      "execution_count": 46,
      "outputs": [
        {
          "output_type": "stream",
          "name": "stdout",
          "text": [
            "Model: \"sequential\"\n",
            "_________________________________________________________________\n",
            " Layer (type)                Output Shape              Param #   \n",
            "=================================================================\n",
            " resnet50 (Functional)       (None, 7, 7, 2048)        23587712  \n",
            "                                                                 \n",
            " flatten_1 (Flatten)         (None, 100352)            0         \n",
            "                                                                 \n",
            " batch_normalization (Batch  (None, 100352)            401408    \n",
            " Normalization)                                                  \n",
            "                                                                 \n",
            " dense_3 (Dense)             (None, 512)               51380736  \n",
            "                                                                 \n",
            " batch_normalization_1 (Bat  (None, 512)               2048      \n",
            " chNormalization)                                                \n",
            "                                                                 \n",
            " dropout (Dropout)           (None, 512)               0         \n",
            "                                                                 \n",
            " dense_4 (Dense)             (None, 512)               262656    \n",
            "                                                                 \n",
            " batch_normalization_2 (Bat  (None, 512)               2048      \n",
            " chNormalization)                                                \n",
            "                                                                 \n",
            " dropout_1 (Dropout)         (None, 512)               0         \n",
            "                                                                 \n",
            " dense_5 (Dense)             (None, 512)               262656    \n",
            "                                                                 \n",
            " batch_normalization_3 (Bat  (None, 512)               2048      \n",
            " chNormalization)                                                \n",
            "                                                                 \n",
            " dropout_2 (Dropout)         (None, 512)               0         \n",
            "                                                                 \n",
            " dense_6 (Dense)             (None, 512)               262656    \n",
            "                                                                 \n",
            " batch_normalization_4 (Bat  (None, 512)               2048      \n",
            " chNormalization)                                                \n",
            "                                                                 \n",
            " dropout_3 (Dropout)         (None, 512)               0         \n",
            "                                                                 \n",
            " dense_7 (Dense)             (None, 3)                 1539      \n",
            "                                                                 \n",
            "=================================================================\n",
            "Total params: 76167555 (290.56 MB)\n",
            "Trainable params: 52375043 (199.79 MB)\n",
            "Non-trainable params: 23792512 (90.76 MB)\n",
            "_________________________________________________________________\n"
          ]
        }
      ]
    },
    {
      "cell_type": "markdown",
      "source": [
        "#### **1_2_4_8: Find the number of layers used in our ResNet50 model**"
      ],
      "metadata": {
        "id": "xu_xI7wYode0"
      }
    },
    {
      "cell_type": "code",
      "source": [
        "print(len(ResNet50_base.layers))\n",
        "print(len(ResNet50_model.layers))"
      ],
      "metadata": {
        "id": "NCuBcqZNGTJG",
        "colab": {
          "base_uri": "https://localhost:8080/"
        },
        "outputId": "8398c159-4ddf-4b65-8caa-5ff40a75bb80"
      },
      "execution_count": 47,
      "outputs": [
        {
          "output_type": "stream",
          "name": "stdout",
          "text": [
            "175\n",
            "16\n"
          ]
        }
      ]
    },
    {
      "cell_type": "markdown",
      "source": [
        "#### **1_2_4_9: Train our model**"
      ],
      "metadata": {
        "id": "SQypMIdvELHa"
      }
    },
    {
      "cell_type": "markdown",
      "source": [
        "The verbose parameter is used to control the amount of information displayed during the training process.\n",
        "\n",
        "* verbose = 0: Training progress is silent. No information is displayed\n",
        "\n",
        "* verbose = 1: Training progress is shown in progress bars or logs, typically for each epoch.\n",
        "\n",
        "* verbose = 2: Training progress is shown in a more detailed manner."
      ],
      "metadata": {
        "id": "3f_oi9ycJh1k"
      }
    },
    {
      "cell_type": "code",
      "source": [
        "history1=ResNet50_model.fit(X_train, y_train, batch_size=7, epochs=40 , verbose=1, validation_data=(X_valid, y_valid))"
      ],
      "metadata": {
        "id": "JAYqbVuyrxEl",
        "colab": {
          "base_uri": "https://localhost:8080/"
        },
        "outputId": "561cf669-ee59-492a-c01c-7e26196369ae"
      },
      "execution_count": 49,
      "outputs": [
        {
          "output_type": "stream",
          "name": "stdout",
          "text": [
            "Epoch 1/40\n",
            "17/17 [==============================] - 50s 3s/step - loss: 2.0021 - accuracy: 0.3982 - val_loss: 1.3424 - val_accuracy: 0.3793\n",
            "Epoch 2/40\n",
            "17/17 [==============================] - 52s 3s/step - loss: 2.0740 - accuracy: 0.3009 - val_loss: 1.2615 - val_accuracy: 0.3793\n",
            "Epoch 3/40\n",
            "17/17 [==============================] - 47s 3s/step - loss: 1.7668 - accuracy: 0.4336 - val_loss: 1.1549 - val_accuracy: 0.3793\n",
            "Epoch 4/40\n",
            "17/17 [==============================] - 48s 3s/step - loss: 1.9639 - accuracy: 0.3717 - val_loss: 1.0592 - val_accuracy: 0.3793\n",
            "Epoch 5/40\n",
            "17/17 [==============================] - 51s 3s/step - loss: 1.9007 - accuracy: 0.3363 - val_loss: 1.0688 - val_accuracy: 0.3793\n",
            "Epoch 6/40\n",
            "17/17 [==============================] - 48s 3s/step - loss: 1.6550 - accuracy: 0.4071 - val_loss: 1.0782 - val_accuracy: 0.3793\n",
            "Epoch 7/40\n",
            "17/17 [==============================] - 50s 3s/step - loss: 1.9199 - accuracy: 0.3894 - val_loss: 1.0226 - val_accuracy: 0.5517\n",
            "Epoch 8/40\n",
            "17/17 [==============================] - 48s 3s/step - loss: 1.7000 - accuracy: 0.4336 - val_loss: 1.0106 - val_accuracy: 0.5517\n",
            "Epoch 9/40\n",
            "17/17 [==============================] - 52s 3s/step - loss: 1.4094 - accuracy: 0.5044 - val_loss: 1.0215 - val_accuracy: 0.5172\n",
            "Epoch 10/40\n",
            "17/17 [==============================] - 50s 3s/step - loss: 1.5805 - accuracy: 0.4602 - val_loss: 1.0321 - val_accuracy: 0.4483\n",
            "Epoch 11/40\n",
            "17/17 [==============================] - 49s 3s/step - loss: 1.6416 - accuracy: 0.4690 - val_loss: 1.0549 - val_accuracy: 0.4138\n",
            "Epoch 12/40\n",
            "17/17 [==============================] - 68s 4s/step - loss: 1.2608 - accuracy: 0.5044 - val_loss: 1.0396 - val_accuracy: 0.5172\n",
            "Epoch 13/40\n",
            "17/17 [==============================] - 54s 3s/step - loss: 1.4933 - accuracy: 0.4513 - val_loss: 1.0487 - val_accuracy: 0.5517\n",
            "Epoch 14/40\n",
            "17/17 [==============================] - 48s 3s/step - loss: 1.3445 - accuracy: 0.5575 - val_loss: 1.0379 - val_accuracy: 0.4828\n",
            "Epoch 15/40\n",
            "17/17 [==============================] - 47s 3s/step - loss: 1.5162 - accuracy: 0.5221 - val_loss: 1.0147 - val_accuracy: 0.4828\n",
            "Epoch 16/40\n",
            "17/17 [==============================] - 53s 3s/step - loss: 1.2848 - accuracy: 0.4779 - val_loss: 0.9818 - val_accuracy: 0.5517\n",
            "Epoch 17/40\n",
            "17/17 [==============================] - 51s 3s/step - loss: 1.4186 - accuracy: 0.5133 - val_loss: 0.9921 - val_accuracy: 0.5517\n",
            "Epoch 18/40\n",
            "17/17 [==============================] - 49s 3s/step - loss: 1.3945 - accuracy: 0.4779 - val_loss: 0.9870 - val_accuracy: 0.6207\n",
            "Epoch 19/40\n",
            "17/17 [==============================] - 47s 3s/step - loss: 1.5448 - accuracy: 0.4779 - val_loss: 0.9775 - val_accuracy: 0.5517\n",
            "Epoch 20/40\n",
            "17/17 [==============================] - 55s 3s/step - loss: 1.5871 - accuracy: 0.4867 - val_loss: 1.0078 - val_accuracy: 0.5172\n",
            "Epoch 21/40\n",
            "17/17 [==============================] - 48s 3s/step - loss: 1.6295 - accuracy: 0.5044 - val_loss: 1.0146 - val_accuracy: 0.5517\n",
            "Epoch 22/40\n",
            "17/17 [==============================] - 47s 3s/step - loss: 1.5670 - accuracy: 0.4159 - val_loss: 1.0054 - val_accuracy: 0.5172\n",
            "Epoch 23/40\n",
            "17/17 [==============================] - 49s 3s/step - loss: 1.1342 - accuracy: 0.5398 - val_loss: 0.9977 - val_accuracy: 0.4828\n",
            "Epoch 24/40\n",
            "17/17 [==============================] - 48s 3s/step - loss: 1.1480 - accuracy: 0.5575 - val_loss: 0.9876 - val_accuracy: 0.5172\n",
            "Epoch 25/40\n",
            "17/17 [==============================] - 52s 3s/step - loss: 1.3524 - accuracy: 0.4602 - val_loss: 0.9897 - val_accuracy: 0.5862\n",
            "Epoch 26/40\n",
            "17/17 [==============================] - 49s 3s/step - loss: 1.4117 - accuracy: 0.4690 - val_loss: 0.9924 - val_accuracy: 0.6207\n",
            "Epoch 27/40\n",
            "17/17 [==============================] - 48s 3s/step - loss: 1.3265 - accuracy: 0.5044 - val_loss: 1.0091 - val_accuracy: 0.5862\n",
            "Epoch 28/40\n",
            "17/17 [==============================] - 47s 3s/step - loss: 1.2967 - accuracy: 0.5487 - val_loss: 1.0158 - val_accuracy: 0.5517\n",
            "Epoch 29/40\n",
            "17/17 [==============================] - 60s 4s/step - loss: 1.3690 - accuracy: 0.5310 - val_loss: 1.0165 - val_accuracy: 0.5517\n",
            "Epoch 30/40\n",
            "17/17 [==============================] - 48s 3s/step - loss: 1.4290 - accuracy: 0.4513 - val_loss: 0.9968 - val_accuracy: 0.5517\n",
            "Epoch 31/40\n",
            "17/17 [==============================] - 47s 3s/step - loss: 1.2936 - accuracy: 0.4779 - val_loss: 0.9898 - val_accuracy: 0.6207\n",
            "Epoch 32/40\n",
            "17/17 [==============================] - 48s 3s/step - loss: 1.0082 - accuracy: 0.6018 - val_loss: 0.9974 - val_accuracy: 0.6207\n",
            "Epoch 33/40\n",
            "17/17 [==============================] - 54s 3s/step - loss: 1.4108 - accuracy: 0.5310 - val_loss: 0.9927 - val_accuracy: 0.5517\n",
            "Epoch 34/40\n",
            "17/17 [==============================] - 48s 3s/step - loss: 1.1335 - accuracy: 0.5575 - val_loss: 0.9891 - val_accuracy: 0.5172\n",
            "Epoch 35/40\n",
            "17/17 [==============================] - 48s 3s/step - loss: 1.4924 - accuracy: 0.5221 - val_loss: 0.9841 - val_accuracy: 0.5172\n",
            "Epoch 36/40\n",
            "17/17 [==============================] - 53s 3s/step - loss: 1.0045 - accuracy: 0.6106 - val_loss: 0.9866 - val_accuracy: 0.5172\n",
            "Epoch 37/40\n",
            "17/17 [==============================] - 47s 3s/step - loss: 1.4703 - accuracy: 0.4602 - val_loss: 0.9728 - val_accuracy: 0.5172\n",
            "Epoch 38/40\n",
            "17/17 [==============================] - 47s 3s/step - loss: 1.3154 - accuracy: 0.5664 - val_loss: 0.9350 - val_accuracy: 0.5517\n",
            "Epoch 39/40\n",
            "17/17 [==============================] - 48s 3s/step - loss: 1.2516 - accuracy: 0.5841 - val_loss: 0.9002 - val_accuracy: 0.5517\n",
            "Epoch 40/40\n",
            "17/17 [==============================] - 50s 3s/step - loss: 1.1260 - accuracy: 0.5664 - val_loss: 0.8696 - val_accuracy: 0.5862\n"
          ]
        }
      ]
    },
    {
      "cell_type": "markdown",
      "source": [
        "#### **1_2_4_10: Evaluate the model**"
      ],
      "metadata": {
        "id": "zzbD3-Ao03hS"
      }
    },
    {
      "cell_type": "code",
      "source": [
        "loss1, accuracy1 = ResNet50_model.evaluate(X_valid, y_valid)"
      ],
      "metadata": {
        "id": "BkOf6d3M5qGD",
        "colab": {
          "base_uri": "https://localhost:8080/"
        },
        "outputId": "5024afc5-7dc8-408a-ed30-d49e88ab87a6"
      },
      "execution_count": 50,
      "outputs": [
        {
          "output_type": "stream",
          "name": "stdout",
          "text": [
            "1/1 [==============================] - 6s 6s/step - loss: 0.8696 - accuracy: 0.5862\n"
          ]
        }
      ]
    },
    {
      "cell_type": "code",
      "source": [
        "display_accuracy(history1)"
      ],
      "metadata": {
        "id": "oOKxxWgz3pUv",
        "colab": {
          "base_uri": "https://localhost:8080/",
          "height": 472
        },
        "outputId": "17e72f0e-2b2e-4b26-dfb6-36fea5585e85"
      },
      "execution_count": 51,
      "outputs": [
        {
          "output_type": "display_data",
          "data": {
            "text/plain": [
              "<Figure size 640x480 with 1 Axes>"
            ],
            "image/png": "[encoded data removed]"
          },
          "metadata": {}
        }
      ]
    },
    {
      "cell_type": "code",
      "source": [
        "display_loss(history1)"
      ],
      "metadata": {
        "id": "VfNbbNpO3snq",
        "colab": {
          "base_uri": "https://localhost:8080/",
          "height": 472
        },
        "outputId": "55975581-f169-4a32-83aa-4d4826f02147"
      },
      "execution_count": 52,
      "outputs": [
        {
          "output_type": "display_data",
          "data": {
            "text/plain": [
              "<Figure size 640x480 with 1 Axes>"
            ],
            "image/png": "[encoded data removed]"
          },
          "metadata": {}
        }
      ]
    },
    {
      "cell_type": "markdown",
      "source": [
        "#### **1_2_4_11: Previous results**"
      ],
      "metadata": {
        "id": "Ooim6CwPmM2k"
      }
    },
    {
      "cell_type": "markdown",
      "source": [
        "\n",
        "The result with built-in ResNet50 and some layers added in the end to be trained with batch-size = 7: (epochs = 40) (4 relu, 512 units, he-normal, dropout = 0.5 and batch-normalization)\n",
        "\n",
        "2/2 [==============================] - 3s 1s/step - loss: 2.6853 - accuracy: 0.5814\n",
        "\n",
        "The result with built-in ResNet50 and some layers added in the end to be trained: (epochs = 40)\n",
        "\n",
        "2/2 [==============================] - 1s 1s/step - loss: 5.5320 - accuracy: 0.4651\n",
        "\n",
        "The result with ResNet50 built from scratch with batch-size = 11: (epochs = 40)\n",
        "\n",
        "2/2 [==============================] - 0s 64ms/step - loss: 0.8474 - accuracy: 0.6744\n",
        "\n",
        "The result with ResNet50 built from scratch with batch-size = 9: (epochs = 40)\n",
        "\n",
        "2/2 [==============================] - 0s 57ms/step - loss: 2.1891 - accuracy: 0.6047\n",
        "\n",
        "The result with ResNet50 built from scratch with batch-size = 7: (epochs = 40)\n",
        "\n",
        "* first time:\n",
        "\n",
        "2/2 [==============================] - 0s 62ms/step - loss: 0.5690 - accuracy: 0.7674\n",
        "\n",
        "* second time:\n",
        "\n",
        "2/2 [==============================] - 3s 1s/step - loss: 8.0230 - accuracy: 0.3488\n",
        "\n",
        "The result with ResNet50 built from scratch with batch-size = 5: (epochs = 40)\n",
        "\n",
        "2/2 [==============================] - 0s 63ms/step - loss: 0.8860 - accuracy: 0.7209\n",
        "\n",
        "The result with ResNet50 built from scratch with batch-size = 3: (epochs = 40)\n",
        "\n",
        "2/2 [==============================] - 0s 69ms/step - loss: 1.8947 - accuracy: 0.3953\n",
        "\n",
        "The result with ResNet50 built from scratch with batch-size = 1: (epochs = 40)\n",
        "\n",
        "2/2 [==============================] - 2s 59ms/step - loss: 7.4493 - accuracy: 0.4186\n",
        "\n",
        "The result with ResNet50 built from scratch with batch-size = 7: (epochs = 100)\n",
        "\n",
        "* first time:\n",
        "\n",
        "2/2 [==============================] - 0s 51ms/step - loss: 1.7429 - accuracy: 0.4651\n",
        "\n",
        "* second time:\n",
        "\n",
        "2/2 [==============================] - 0s 49ms/step - loss: 0.7368 - accuracy: 0.7674"
      ],
      "metadata": {
        "id": "9iqDfXawKBga"
      }
    },
    {
      "cell_type": "markdown",
      "source": [
        "### **1_2_5: Apply ResNet50 With Data Augmentation**"
      ],
      "metadata": {
        "id": "ktU9n6tN4t9M"
      }
    },
    {
      "cell_type": "markdown",
      "source": [
        "#### **1_2_5_1: Split the data**"
      ],
      "metadata": {
        "id": "Z1nKNJ7aJksh"
      }
    },
    {
      "cell_type": "markdown",
      "source": [
        "Validation set will get a bigger portion of our data because we are using data augmentation on training data"
      ],
      "metadata": {
        "id": "L0pSyPmPJu9C"
      }
    },
    {
      "cell_type": "code",
      "source": [
        "X_train, X_valid, y_train, y_valid = train_test_split(images, Y, test_size=0.50, random_state=42)\n",
        "X_valid, X_test, y_valid, y_test = train_test_split(X_valid, y_valid, test_size=0.20, random_state=12)\n",
        "\n",
        "print(X_train.shape)\n",
        "print(y_train.shape)\n",
        "print(X_valid.shape)\n",
        "print(y_valid.shape)\n",
        "print(X_test.shape)\n",
        "print(y_test.shape)"
      ],
      "metadata": {
        "id": "afFj1qXBJlJC",
        "colab": {
          "base_uri": "https://localhost:8080/"
        },
        "outputId": "376858b0-b7b1-44d2-e4f5-fb403c8fcc9d"
      },
      "execution_count": 130,
      "outputs": [
        {
          "output_type": "stream",
          "name": "stdout",
          "text": [
            "(85, 224, 224, 3)\n",
            "(85, 3)\n",
            "(57, 224, 224, 3)\n",
            "(57, 3)\n"
          ]
        }
      ]
    },
    {
      "cell_type": "markdown",
      "source": [
        "#### **1_2_5_2: Import necessary class to do data augmentation**"
      ],
      "metadata": {
        "id": "HK6k0A1u46P3"
      }
    },
    {
      "cell_type": "code",
      "source": [
        "from tensorflow.keras.preprocessing.image import ImageDataGenerator"
      ],
      "metadata": {
        "id": "nvf3L6mi5BgN"
      },
      "execution_count": 131,
      "outputs": []
    },
    {
      "cell_type": "markdown",
      "source": [
        "#### **1_2_5_3: Instantiate from the ImageDataGenerator class**"
      ],
      "metadata": {
        "id": "7_6wMEyoKFE5"
      }
    },
    {
      "cell_type": "markdown",
      "source": [
        "**Trainslation**\n",
        "* Width Shift Range (float): This defines the maximum fraction by which the image can be shifted horizontally.\n",
        "\n",
        "Shift image up to 10% horizontally\n",
        "\n",
        "* Height Shift Range (float): This defines the maximum fraction by which the image can be shifted vertically.\n",
        "\n",
        "Shift image up to 10% vertically\n",
        "\n",
        "**rotation**\n",
        "\n",
        "* rotation_range=20: Random rotation between -20 and 20 degrees\n",
        "\n",
        "**horizontal_flip**\n",
        "\n",
        " * This parameter enables random horizontal flipping of the images, which can help the model learn to be invariant to the orientation of objects in the images.\n",
        "\n",
        "**rescale**\n",
        "\n",
        "* This parameter scales pixel values from their original range (typically 0-255 for images) to a new range. Here, it's set to 1./255, which scales all pixel values between 0 and 1. This helps normalize the data and improve model performance, especially for deep convolutional neural networks.\n",
        "\n",
        "* rescale=1./255,  # Rescale pixel values to [0, 1]\n",
        "\n",
        "\n",
        "**shear_range:**\n",
        "\n",
        "* This parameter introduces random shearing transformations to the image. A value between 0 and 1 specifies the maximum shear angle in degrees.\n",
        "\n",
        "* For example, shear_range=0.2 would introduce random horizontal or vertical shears with angles between -20 degrees and +20 degrees.\n",
        "\n",
        "**zoom_range:**\n",
        "\n",
        "* e.g. zoom_range=0.2 means that the images can be zoomed in or out by up to 20% of their original size in both directions (horizontal and vertical)\n"
      ],
      "metadata": {
        "id": "1aT4_H3PRDHf"
      }
    },
    {
      "cell_type": "code",
      "source": [
        "data_generator = ImageDataGenerator(rescale = 1.0/255,\n",
        "                                    shear_range=0.2,\n",
        "                                    zoom_range=0.2,\n",
        "                                    rotation_range=20,\n",
        "                                    width_shift_range= 0.1,\n",
        "                                    height_shift_range = 0.1,\n",
        "                                    horizontal_flip = True,\n",
        "                                    # vertical_flip = True,\n",
        "                                    brightness_range=[-0.2, 0.2]\n",
        "                                    )\n",
        "\n",
        "valid_generator = ImageDataGenerator(rescale = 1.0/255)"
      ],
      "metadata": {
        "id": "RqU1Ip7L4tom"
      },
      "execution_count": 132,
      "outputs": []
    },
    {
      "cell_type": "markdown",
      "source": [
        "#### **1_2_5_4: Specify how the data will be generated and batched during training**"
      ],
      "metadata": {
        "id": "WVbkPfNRNc1Q"
      }
    },
    {
      "cell_type": "code",
      "source": [
        "train_generator = data_generator.flow (X_train, y_train, batch_size = 3)\n",
        "\n",
        "val_generator = valid_generator.flow(X_valid, y_valid, batch_size = 3)"
      ],
      "metadata": {
        "id": "v915sq2w6Flg"
      },
      "execution_count": 133,
      "outputs": []
    },
    {
      "cell_type": "markdown",
      "source": [
        "#### **1_2_5_5: Specify the number of steps (batches) to be processed in each epoch during training**"
      ],
      "metadata": {
        "id": "fVtTDpMdN7VU"
      }
    },
    {
      "cell_type": "markdown",
      "source": [
        "Setting steps_per_epoch = X_train.shape[0] with a batch size of 7 means that each real sample will be augmented to create additional artificial samples within each batch, ensuring that all real samples are utilized for training in each epoch."
      ],
      "metadata": {
        "id": "glWNSpcuTdmL"
      }
    },
    {
      "cell_type": "code",
      "source": [
        "steps_per_epoch = X_train.shape[0] / 3"
      ],
      "metadata": {
        "id": "yK3gOQqk6b42"
      },
      "execution_count": 134,
      "outputs": []
    },
    {
      "cell_type": "markdown",
      "source": [
        "#### **1_2_5_6: Make the ResNet50 model with data augmentation**"
      ],
      "metadata": {
        "id": "ioXW-szfn5gB"
      }
    },
    {
      "cell_type": "code",
      "source": [
        "ResNet50_base = ResNet50(weights='imagenet', include_top=False, input_shape=(224, 224, 3))\n",
        "\n",
        "ResNet50_base.trainable = False"
      ],
      "metadata": {
        "id": "7HAmpLHQIiYt"
      },
      "execution_count": 135,
      "outputs": []
    },
    {
      "cell_type": "code",
      "source": [
        "ResNet50_model_with_augmentation = Sequential([\n",
        "    ResNet50_base,\n",
        "    GlobalAveragePooling2D(),\n",
        "    BatchNormalization(),\n",
        "    Dense(384, activation='softsign'),\n",
        "    BatchNormalization(),\n",
        "    Dropout(0.7),\n",
        "    Dense(128, activation='softsign'),\n",
        "    BatchNormalization(),\n",
        "    Dropout(0.7),\n",
        "    Dense(3, activation='softmax')\n",
        "])"
      ],
      "metadata": {
        "id": "BHd7EQ5dQJIV"
      },
      "execution_count": 136,
      "outputs": []
    },
    {
      "cell_type": "markdown",
      "source": [
        "#### **1_2_5_7: Compile the model**"
      ],
      "metadata": {
        "id": "aQXrPNVgOFWe"
      }
    },
    {
      "cell_type": "code",
      "source": [
        "ResNet50_model_with_augmentation.compile(optimizer=Adam(learning_rate = 1e-6), loss='categorical_crossentropy', metrics=['accuracy'])"
      ],
      "metadata": {
        "id": "lv73Sno2QYBL"
      },
      "execution_count": 137,
      "outputs": []
    },
    {
      "cell_type": "markdown",
      "source": [
        "#### **1_2_5_8: Train the model**"
      ],
      "metadata": {
        "id": "oVoLsvigOLzB"
      }
    },
    {
      "cell_type": "code",
      "source": [
        "# history2 = ResNet50_model_with_augmentation.fit_generator(train_generator, steps_per_epoch = steps_per_epoch, epochs = 40 ,verbose=1, validation_data=(X_valid, y_valid))\n",
        "history2 = ResNet50_model_with_augmentation.fit_generator(train_generator, steps_per_epoch = steps_per_epoch, epochs = 40 ,verbose=1, validation_data=val_generator)"
      ],
      "metadata": {
        "id": "oyXSNMsG6don",
        "colab": {
          "base_uri": "https://localhost:8080/"
        },
        "outputId": "8227012d-ae55-4606-9b08-c78a67e66a0a"
      },
      "execution_count": 138,
      "outputs": [
        {
          "output_type": "stream",
          "name": "stdout",
          "text": [
            "Epoch 1/40\n"
          ]
        },
        {
          "output_type": "stream",
          "name": "stderr",
          "text": [
            "<ipython-input-138-1c79e6485b4b>:1: UserWarning: `Model.fit_generator` is deprecated and will be removed in a future version. Please use `Model.fit`, which supports generators.\n",
            "  history2 = ResNet50_model_with_augmentation.fit_generator(train_generator, steps_per_epoch = steps_per_epoch, epochs = 40 ,verbose=1, validation_data=(X_valid, y_valid))\n"
          ]
        },
        {
          "output_type": "stream",
          "name": "stdout",
          "text": [
            "42/42 [==============================] - 33s 680ms/step - loss: 1.0986 - accuracy: 0.3647 - val_loss: 1.1218 - val_accuracy: 0.2982\n",
            "Epoch 2/40\n",
            "42/42 [==============================] - 37s 889ms/step - loss: 1.0986 - accuracy: 0.4118 - val_loss: 1.1204 - val_accuracy: 0.2982\n",
            "Epoch 3/40\n",
            "42/42 [==============================] - 38s 898ms/step - loss: 1.0986 - accuracy: 0.3294 - val_loss: 1.1187 - val_accuracy: 0.2982\n",
            "Epoch 4/40\n",
            "42/42 [==============================] - 30s 703ms/step - loss: 1.0985 - accuracy: 0.3765 - val_loss: 1.1168 - val_accuracy: 0.2807\n",
            "Epoch 5/40\n",
            "42/42 [==============================] - 27s 640ms/step - loss: 1.0985 - accuracy: 0.3765 - val_loss: 1.1148 - val_accuracy: 0.2456\n",
            "Epoch 6/40\n",
            "42/42 [==============================] - 38s 908ms/step - loss: 1.0984 - accuracy: 0.3765 - val_loss: 1.1132 - val_accuracy: 0.2632\n",
            "Epoch 7/40\n",
            "42/42 [==============================] - 38s 900ms/step - loss: 1.0984 - accuracy: 0.3765 - val_loss: 1.1118 - val_accuracy: 0.3158\n",
            "Epoch 8/40\n",
            "42/42 [==============================] - 37s 886ms/step - loss: 1.0984 - accuracy: 0.3765 - val_loss: 1.1107 - val_accuracy: 0.3333\n",
            "Epoch 9/40\n",
            "42/42 [==============================] - 37s 875ms/step - loss: 1.0984 - accuracy: 0.3765 - val_loss: 1.1097 - val_accuracy: 0.4035\n",
            "Epoch 10/40\n",
            "42/42 [==============================] - 36s 870ms/step - loss: 1.0983 - accuracy: 0.3765 - val_loss: 1.1087 - val_accuracy: 0.3509\n",
            "Epoch 11/40\n",
            "42/42 [==============================] - 26s 627ms/step - loss: 1.0983 - accuracy: 0.3765 - val_loss: 1.1081 - val_accuracy: 0.3509\n",
            "Epoch 12/40\n",
            "42/42 [==============================] - 27s 623ms/step - loss: 1.0982 - accuracy: 0.3765 - val_loss: 1.1081 - val_accuracy: 0.3333\n",
            "Epoch 13/40\n",
            "42/42 [==============================] - 27s 635ms/step - loss: 1.0983 - accuracy: 0.3765 - val_loss: 1.1086 - val_accuracy: 0.3333\n",
            "Epoch 14/40\n",
            "42/42 [==============================] - 37s 887ms/step - loss: 1.0982 - accuracy: 0.3765 - val_loss: 1.1095 - val_accuracy: 0.3333\n",
            "Epoch 15/40\n",
            "42/42 [==============================] - 28s 673ms/step - loss: 1.0982 - accuracy: 0.3765 - val_loss: 1.1104 - val_accuracy: 0.3333\n",
            "Epoch 16/40\n",
            "42/42 [==============================] - 37s 880ms/step - loss: 1.0981 - accuracy: 0.3765 - val_loss: 1.1113 - val_accuracy: 0.3333\n",
            "Epoch 17/40\n",
            "42/42 [==============================] - 37s 874ms/step - loss: 1.0983 - accuracy: 0.3765 - val_loss: 1.1122 - val_accuracy: 0.3333\n",
            "Epoch 18/40\n",
            "42/42 [==============================] - 28s 654ms/step - loss: 1.0981 - accuracy: 0.3765 - val_loss: 1.1130 - val_accuracy: 0.3333\n",
            "Epoch 19/40\n",
            "42/42 [==============================] - 37s 879ms/step - loss: 1.0981 - accuracy: 0.3765 - val_loss: 1.1136 - val_accuracy: 0.3333\n",
            "Epoch 20/40\n",
            "42/42 [==============================] - 28s 664ms/step - loss: 1.0979 - accuracy: 0.3765 - val_loss: 1.1140 - val_accuracy: 0.3333\n",
            "Epoch 21/40\n",
            "42/42 [==============================] - 39s 939ms/step - loss: 1.0979 - accuracy: 0.3765 - val_loss: 1.1145 - val_accuracy: 0.3333\n",
            "Epoch 22/40\n",
            "42/42 [==============================] - 28s 668ms/step - loss: 1.0981 - accuracy: 0.3765 - val_loss: 1.1147 - val_accuracy: 0.3333\n",
            "Epoch 23/40\n",
            "42/42 [==============================] - 37s 874ms/step - loss: 1.0979 - accuracy: 0.3765 - val_loss: 1.1149 - val_accuracy: 0.3333\n",
            "Epoch 24/40\n",
            "42/42 [==============================] - 26s 619ms/step - loss: 1.0979 - accuracy: 0.3765 - val_loss: 1.1150 - val_accuracy: 0.3333\n",
            "Epoch 25/40\n",
            "42/42 [==============================] - 28s 659ms/step - loss: 1.0979 - accuracy: 0.3765 - val_loss: 1.1152 - val_accuracy: 0.3333\n",
            "Epoch 26/40\n",
            "42/42 [==============================] - 37s 876ms/step - loss: 1.0979 - accuracy: 0.3765 - val_loss: 1.1153 - val_accuracy: 0.3333\n",
            "Epoch 27/40\n",
            "42/42 [==============================] - 36s 869ms/step - loss: 1.0981 - accuracy: 0.3765 - val_loss: 1.1154 - val_accuracy: 0.3333\n",
            "Epoch 28/40\n",
            "42/42 [==============================] - 37s 879ms/step - loss: 1.0978 - accuracy: 0.3765 - val_loss: 1.1154 - val_accuracy: 0.3333\n",
            "Epoch 29/40\n",
            "42/42 [==============================] - 37s 879ms/step - loss: 1.0979 - accuracy: 0.3765 - val_loss: 1.1155 - val_accuracy: 0.3333\n",
            "Epoch 30/40\n",
            "42/42 [==============================] - 37s 879ms/step - loss: 1.0979 - accuracy: 0.3765 - val_loss: 1.1155 - val_accuracy: 0.3333\n",
            "Epoch 31/40\n",
            "42/42 [==============================] - 27s 649ms/step - loss: 1.0978 - accuracy: 0.3765 - val_loss: 1.1155 - val_accuracy: 0.3333\n",
            "Epoch 32/40\n",
            "42/42 [==============================] - 39s 932ms/step - loss: 1.0977 - accuracy: 0.3765 - val_loss: 1.1155 - val_accuracy: 0.3333\n",
            "Epoch 33/40\n",
            "42/42 [==============================] - 37s 877ms/step - loss: 1.0977 - accuracy: 0.3765 - val_loss: 1.1156 - val_accuracy: 0.3333\n",
            "Epoch 34/40\n",
            "42/42 [==============================] - 37s 877ms/step - loss: 1.0975 - accuracy: 0.3765 - val_loss: 1.1155 - val_accuracy: 0.3333\n",
            "Epoch 35/40\n",
            "42/42 [==============================] - 37s 874ms/step - loss: 1.0976 - accuracy: 0.3765 - val_loss: 1.1155 - val_accuracy: 0.3333\n",
            "Epoch 36/40\n",
            "42/42 [==============================] - 37s 884ms/step - loss: 1.0976 - accuracy: 0.3765 - val_loss: 1.1155 - val_accuracy: 0.3333\n",
            "Epoch 37/40\n",
            "42/42 [==============================] - 30s 720ms/step - loss: 1.0976 - accuracy: 0.3765 - val_loss: 1.1156 - val_accuracy: 0.3333\n",
            "Epoch 38/40\n",
            "42/42 [==============================] - 37s 873ms/step - loss: 1.0977 - accuracy: 0.3765 - val_loss: 1.1156 - val_accuracy: 0.3333\n",
            "Epoch 39/40\n",
            "42/42 [==============================] - 37s 883ms/step - loss: 1.0973 - accuracy: 0.3765 - val_loss: 1.1156 - val_accuracy: 0.3333\n",
            "Epoch 40/40\n",
            "42/42 [==============================] - 28s 658ms/step - loss: 1.0973 - accuracy: 0.3765 - val_loss: 1.1156 - val_accuracy: 0.3333\n"
          ]
        }
      ]
    },
    {
      "cell_type": "markdown",
      "source": [
        "#### **1_2_5_9: Evaluate the model**"
      ],
      "metadata": {
        "id": "PkaAeYdrOQQO"
      }
    },
    {
      "cell_type": "code",
      "source": [
        "loss2, accuracy2 = ResNet50_model_with_augmentation.evaluate(X_valid, y_valid)"
      ],
      "metadata": {
        "id": "5GG7oRCvQd8W",
        "colab": {
          "base_uri": "https://localhost:8080/"
        },
        "outputId": "ffe25b2c-ffd2-4115-e0c0-46c42d1ebee7"
      },
      "execution_count": 139,
      "outputs": [
        {
          "output_type": "stream",
          "name": "stdout",
          "text": [
            "2/2 [==============================] - 11s 5s/step - loss: 1.1156 - accuracy: 0.3333\n"
          ]
        }
      ]
    },
    {
      "cell_type": "code",
      "source": [
        "display_accuracy(history2)"
      ],
      "metadata": {
        "id": "E7aeM-B5Qp7A",
        "colab": {
          "base_uri": "https://localhost:8080/",
          "height": 472
        },
        "outputId": "4cfb2e4a-3ebf-44d3-c8b1-620a4156d04e"
      },
      "execution_count": 140,
      "outputs": [
        {
          "output_type": "display_data",
          "data": {
            "text/plain": [
              "<Figure size 640x480 with 1 Axes>"
            ],
            "image/png": "[encoded data removed]"
          },
          "metadata": {}
        }
      ]
    },
    {
      "cell_type": "code",
      "source": [
        "display_loss(history2)"
      ],
      "metadata": {
        "id": "m7E05_VOQvBU",
        "colab": {
          "base_uri": "https://localhost:8080/",
          "height": 472
        },
        "outputId": "38cc7ead-0558-4338-8826-cd33b13afe05"
      },
      "execution_count": 141,
      "outputs": [
        {
          "output_type": "display_data",
          "data": {
            "text/plain": [
              "<Figure size 640x480 with 1 Axes>"
            ],
            "image/png": "[encoded data removed]"
          },
          "metadata": {}
        }
      ]
    },
    {
      "cell_type": "markdown",
      "source": [
        "batch = 7\n",
        "\n",
        "3/3 [==============================] - 12s 3s/step - loss: 176.3050 - accuracy: 0.1972\n",
        "\n",
        "batch = 2\n",
        "\n",
        "3/3 [==============================] - 13s 4s/step - loss: 1.2324 - accuracy: 0.3380\n"
      ],
      "metadata": {
        "id": "3gaqHUWVxROM"
      }
    },
    {
      "cell_type": "markdown",
      "source": [
        "### **1_2_6: VGG16 model without Data Augmentation**"
      ],
      "metadata": {
        "id": "2QNcAarKOrKa"
      }
    },
    {
      "cell_type": "markdown",
      "source": [
        "#### **1_2_6_0: Import VGG16 class**"
      ],
      "metadata": {
        "id": "w31Y8m6SIPTp"
      }
    },
    {
      "cell_type": "code",
      "source": [
        "from tensorflow.keras.applications.vgg16 import VGG16"
      ],
      "metadata": {
        "id": "TnGVEz-ty49H"
      },
      "execution_count": null,
      "outputs": []
    },
    {
      "cell_type": "markdown",
      "source": [
        "#### **1_2_6_1: Split the data**"
      ],
      "metadata": {
        "id": "SMOPvDifO3kJ"
      }
    },
    {
      "cell_type": "code",
      "source": [
        "X_train, X_valid, y_train, y_valid = train_test_split(images, Y, test_size=0.20, random_state=42)\n",
        "\n",
        "print(X_train.shape)\n",
        "print(y_train.shape)\n",
        "print(X_valid.shape)\n",
        "print(y_valid.shape)"
      ],
      "metadata": {
        "id": "FcWMNH28O6G6",
        "colab": {
          "base_uri": "https://localhost:8080/"
        },
        "outputId": "a6fc0d43-a072-4302-d890-fe1a909a3ef3"
      },
      "execution_count": 142,
      "outputs": [
        {
          "output_type": "stream",
          "name": "stdout",
          "text": [
            "(113, 224, 224, 3)\n",
            "(113, 3)\n",
            "(29, 224, 224, 3)\n",
            "(29, 3)\n"
          ]
        }
      ]
    },
    {
      "cell_type": "markdown",
      "source": [
        "#### **1_2_6_2: Instantiate VGG16 model**"
      ],
      "metadata": {
        "id": "hdIFOqoSy515"
      }
    },
    {
      "cell_type": "code",
      "source": [
        "VGG16_base = VGG16(weights='imagenet', include_top=False, input_shape=(224, 224, 3))"
      ],
      "metadata": {
        "id": "NqDZfKG5y-vt"
      },
      "execution_count": 143,
      "outputs": []
    },
    {
      "cell_type": "markdown",
      "source": [
        "#### **1_2_6_3: Specify that VGG16 layers are not trainable**"
      ],
      "metadata": {
        "id": "PgE7NX8szJMu"
      }
    },
    {
      "cell_type": "code",
      "source": [
        "VGG16_base.trainable = False"
      ],
      "metadata": {
        "id": "lqY10kcazDvM"
      },
      "execution_count": 144,
      "outputs": []
    },
    {
      "cell_type": "markdown",
      "source": [
        "#### **1_2_6_4: Add some layers to our base VGG16 model to make it trainable on its new layers**"
      ],
      "metadata": {
        "id": "Mz1Bi3QEz3MH"
      }
    },
    {
      "cell_type": "code",
      "source": [
        "VGG16_model = Sequential([\n",
        "    VGG16_base,\n",
        "    Flatten(),\n",
        "    BatchNormalization(),\n",
        "    Dense(512, activation='relu', kernel_initializer = 'he_normal'),\n",
        "    BatchNormalization(),\n",
        "    Dropout(0.5),\n",
        "    Dense(512, activation='relu', kernel_initializer = 'he_normal'),\n",
        "    BatchNormalization(),\n",
        "    Dropout(0.5),\n",
        "    Dense(512, activation='relu', kernel_initializer = 'he_normal'),\n",
        "    BatchNormalization(),\n",
        "    Dropout(0.5),\n",
        "    Dense(512, activation='relu', kernel_initializer = 'he_normal'),\n",
        "    BatchNormalization(),\n",
        "    Dropout(0.5),\n",
        "    Dense(3, activation='softmax')\n",
        "])"
      ],
      "metadata": {
        "id": "GhOXPAjozlwB"
      },
      "execution_count": 145,
      "outputs": []
    },
    {
      "cell_type": "markdown",
      "source": [
        "#### **1_2_6_5: Compile the VGG16-based model**"
      ],
      "metadata": {
        "id": "F5lxyuyB0Rvj"
      }
    },
    {
      "cell_type": "code",
      "source": [
        "VGG16_model.compile(optimizer=Adam(learning_rate = 1e-5), loss='categorical_crossentropy', metrics=['accuracy'])"
      ],
      "metadata": {
        "id": "LJgUaqX30ExG"
      },
      "execution_count": 146,
      "outputs": []
    },
    {
      "cell_type": "markdown",
      "source": [
        "#### **1_2_6_6: Train the model**"
      ],
      "metadata": {
        "id": "lqqfIH2kPbuV"
      }
    },
    {
      "cell_type": "code",
      "source": [
        "history3=VGG16_model.fit(X_train, y_train, batch_size=7, epochs=40, verbose=1, validation_data=(X_valid, y_valid))"
      ],
      "metadata": {
        "id": "-ESZX8Fr0Rdp",
        "colab": {
          "base_uri": "https://localhost:8080/"
        },
        "outputId": "c1a65069-9e89-4404-be40-caf6bb137219"
      },
      "execution_count": null,
      "outputs": [
        {
          "output_type": "stream",
          "name": "stdout",
          "text": [
            "Epoch 1/40\n",
            "17/17 [==============================] - 94s 5s/step - loss: 2.0139 - accuracy: 0.3540 - val_loss: 1.1244 - val_accuracy: 0.3793\n",
            "Epoch 2/40\n",
            "17/17 [==============================] - 83s 5s/step - loss: 1.8909 - accuracy: 0.3894 - val_loss: 1.0715 - val_accuracy: 0.3448\n",
            "Epoch 3/40\n",
            "17/17 [==============================] - 93s 5s/step - loss: 1.8287 - accuracy: 0.3982 - val_loss: 1.1218 - val_accuracy: 0.3448\n",
            "Epoch 4/40\n",
            "17/17 [==============================] - 91s 5s/step - loss: 1.9899 - accuracy: 0.3363 - val_loss: 1.1570 - val_accuracy: 0.3448\n",
            "Epoch 5/40\n",
            "17/17 [==============================] - 92s 6s/step - loss: 1.9651 - accuracy: 0.3894 - val_loss: 1.1715 - val_accuracy: 0.3103\n",
            "Epoch 6/40\n",
            "17/17 [==============================] - 88s 5s/step - loss: 1.9268 - accuracy: 0.3717 - val_loss: 1.1615 - val_accuracy: 0.3103\n",
            "Epoch 7/40\n",
            "17/17 [==============================] - 85s 5s/step - loss: 1.8081 - accuracy: 0.3717 - val_loss: 1.1730 - val_accuracy: 0.3103\n",
            "Epoch 8/40\n",
            "17/17 [==============================] - 98s 6s/step - loss: 1.9153 - accuracy: 0.3717 - val_loss: 1.1838 - val_accuracy: 0.3103\n",
            "Epoch 9/40\n",
            "17/17 [==============================] - 89s 5s/step - loss: 1.7372 - accuracy: 0.4336 - val_loss: 1.1846 - val_accuracy: 0.2759\n",
            "Epoch 10/40\n",
            " 6/17 [=========>....................] - ETA: 51s - loss: 1.8143 - accuracy: 0.3095"
          ]
        }
      ]
    },
    {
      "cell_type": "markdown",
      "source": [
        "#### **1_2_6_7: Evalute our model**"
      ],
      "metadata": {
        "id": "69r5zroJ0qBL"
      }
    },
    {
      "cell_type": "code",
      "source": [
        "loss3, accuracy3 = VGG16_model.evaluate(X_valid, y_valid)"
      ],
      "metadata": {
        "id": "KbhBE_JR0kU8"
      },
      "execution_count": null,
      "outputs": []
    },
    {
      "cell_type": "code",
      "source": [
        "display_accuracy(history3)"
      ],
      "metadata": {
        "id": "Ygipi32m4Gp0"
      },
      "execution_count": null,
      "outputs": []
    },
    {
      "cell_type": "code",
      "source": [
        "display_loss(history3)"
      ],
      "metadata": {
        "id": "hAerGKtO4LcA"
      },
      "execution_count": null,
      "outputs": []
    },
    {
      "cell_type": "markdown",
      "source": [
        "1e-4\n",
        "\n",
        "1/1 [==============================] - 17s 17s/step - loss: 1.5457 - accuracy: 0.5862"
      ],
      "metadata": {
        "id": "OKBTziG8XjX3"
      }
    },
    {
      "cell_type": "markdown",
      "source": [
        "### **1_2_7: VGG16 model With Data Augmentation**"
      ],
      "metadata": {
        "id": "6-B64_A0pZh4"
      }
    },
    {
      "cell_type": "markdown",
      "source": [
        "#### **1_2_7_1: Split the data**"
      ],
      "metadata": {
        "id": "zwX11SRzQP3I"
      }
    },
    {
      "cell_type": "code",
      "source": [
        "X_train, X_valid, y_train, y_valid = train_test_split(images, Y, test_size=0.50, random_state=42)\n",
        "\n",
        "print(X_train.shape)\n",
        "print(y_train.shape)\n",
        "print(X_valid.shape)\n",
        "print(y_valid.shape)"
      ],
      "metadata": {
        "id": "z34jYxeVQTbk"
      },
      "execution_count": null,
      "outputs": []
    },
    {
      "cell_type": "markdown",
      "source": [
        "#### **1_2_7_2: Instantiate VGG16 model**"
      ],
      "metadata": {
        "id": "4gYPEV5HG610"
      }
    },
    {
      "cell_type": "code",
      "source": [
        "VGG16_base = VGG16(weights='imagenet', include_top=False, input_shape=(224, 224, 3))"
      ],
      "metadata": {
        "id": "S3ZN0lSfG611"
      },
      "execution_count": null,
      "outputs": []
    },
    {
      "cell_type": "markdown",
      "source": [
        "#### **1_2_7_3: Specify that VGG16 layers are not trainable**"
      ],
      "metadata": {
        "id": "yg8FT1ybG611"
      }
    },
    {
      "cell_type": "code",
      "source": [
        "VGG16_base.trainable = False"
      ],
      "metadata": {
        "id": "c3mmWLEBG611"
      },
      "execution_count": null,
      "outputs": []
    },
    {
      "cell_type": "markdown",
      "source": [
        "#### **1_2_7_4: Add some layers to our base VGG16 model to make it trainable on its new layers**"
      ],
      "metadata": {
        "id": "571pvCEgG611"
      }
    },
    {
      "cell_type": "code",
      "source": [
        "VGG16_model_with_augmentation = Sequential([\n",
        "    VGG16_base,\n",
        "    Flatten(),\n",
        "    BatchNormalization(),\n",
        "    Dense(512, activation='relu', kernel_initializer = 'he_normal'),\n",
        "    BatchNormalization(),\n",
        "    Dropout(0.5),\n",
        "    Dense(512, activation='relu', kernel_initializer = 'he_normal'),\n",
        "    BatchNormalization(),\n",
        "    Dropout(0.5),\n",
        "    Dense(512, activation='relu', kernel_initializer = 'he_normal'),\n",
        "    BatchNormalization(),\n",
        "    Dropout(0.5),\n",
        "    Dense(512, activation='relu', kernel_initializer = 'he_normal'),\n",
        "    BatchNormalization(),\n",
        "    Dropout(0.5),\n",
        "    Dense(3, activation='softmax')\n",
        "])"
      ],
      "metadata": {
        "id": "z-nIB4TPG611"
      },
      "execution_count": null,
      "outputs": []
    },
    {
      "cell_type": "markdown",
      "source": [
        "#### **1_2_7_5: Instantiate from the ImageDataGenerator class**"
      ],
      "metadata": {
        "id": "4ECvO3XWQZrb"
      }
    },
    {
      "cell_type": "code",
      "source": [
        "data_generator = ImageDataGenerator(rescale = 1.0/255,\n",
        "                                    shear_range=0.2,\n",
        "                                    zoom_range=0.2,\n",
        "                                    rotation_range=20,\n",
        "                                    width_shift_range= 0.1,\n",
        "                                    height_shift_range = 0.1,\n",
        "                                    horizontal_flip = True,\n",
        "                                    vertical_flip = True,\n",
        "                                    brightness_range=[-0.2, 0.2]\n",
        "                                    )"
      ],
      "metadata": {
        "id": "NNZpgn7Bpmfq"
      },
      "execution_count": null,
      "outputs": []
    },
    {
      "cell_type": "markdown",
      "source": [
        "#### **1_2_7_6: Specify how data will be generated**"
      ],
      "metadata": {
        "id": "F-RvR8loQjdo"
      }
    },
    {
      "cell_type": "code",
      "source": [
        "train_generator = data_generator.flow(X_train, y_train, batch_size = 7)"
      ],
      "metadata": {
        "id": "5OoRnKarpmf5"
      },
      "execution_count": null,
      "outputs": []
    },
    {
      "cell_type": "markdown",
      "source": [
        "#### **1_2_7_7: Specify the number of batches in each iteration**"
      ],
      "metadata": {
        "id": "MetZJBB5QvNs"
      }
    },
    {
      "cell_type": "code",
      "source": [
        "steps_per_epoch = X_train.shape[0] / 7"
      ],
      "metadata": {
        "id": "nzfNIGG5pmf5"
      },
      "execution_count": null,
      "outputs": []
    },
    {
      "cell_type": "markdown",
      "source": [
        "#### **1_2_7_8: Compile the model**"
      ],
      "metadata": {
        "id": "IP73zxQ-Q5Gy"
      }
    },
    {
      "cell_type": "code",
      "source": [
        "VGG16_model_with_augmentation.compile(optimizer=Adam(learning_rate = 1e-4), loss='categorical_crossentropy', metrics=['accuracy'])"
      ],
      "metadata": {
        "id": "iFnE7_abpmf5"
      },
      "execution_count": null,
      "outputs": []
    },
    {
      "cell_type": "markdown",
      "source": [
        "#### **1_2_7_9: Train the model**"
      ],
      "metadata": {
        "id": "C6HQXSA5Q9Eh"
      }
    },
    {
      "cell_type": "code",
      "source": [
        "history4 = VGG16_model_with_augmentation.fit_generator(train_generator, steps_per_epoch = steps_per_epoch, epochs = 40,verbose=1, validation_data=(X_valid, y_valid))"
      ],
      "metadata": {
        "id": "A36iu0Pppmf5"
      },
      "execution_count": null,
      "outputs": []
    },
    {
      "cell_type": "markdown",
      "source": [
        "#### **1_2_7_10: Evaluate the model**"
      ],
      "metadata": {
        "id": "4oPFCPspTidA"
      }
    },
    {
      "cell_type": "code",
      "source": [
        "loss4, accuracy4 = VGG16_model_with_augmentation.evaluate(X_valid, y_valid)"
      ],
      "metadata": {
        "id": "MPcoTmo2pmf5"
      },
      "execution_count": null,
      "outputs": []
    },
    {
      "cell_type": "code",
      "source": [
        "display_accuracy(history4)"
      ],
      "metadata": {
        "id": "MIunLohSpmf5"
      },
      "execution_count": null,
      "outputs": []
    },
    {
      "cell_type": "code",
      "source": [
        "display_loss(history4)"
      ],
      "metadata": {
        "id": "FDzCgtcipmf6"
      },
      "execution_count": null,
      "outputs": []
    },
    {
      "cell_type": "markdown",
      "source": [
        "### **1_2_8: Last Comparison**"
      ],
      "metadata": {
        "id": "rRC89YHXHSN4"
      }
    },
    {
      "cell_type": "code",
      "source": [
        "losses = [loss1, loss2, loss3, loss4]\n",
        "accuracies = [accuracy1, accuracy2, accuracy3, accuracy4]\n",
        "\n",
        "# Create two subplots side by side\n",
        "fig, (ax1, ax2) = plt.subplots(1, 2, figsize=(12, 5))\n",
        "\n",
        "# Plot for losses\n",
        "ax1.bar(['ResNet-without', 'ResNet-with', 'VGG-without', 'VGG-with'], losses, color='blue')\n",
        "ax1.set_title('Losses Comparison')\n",
        "ax1.set_ylabel('Loss')\n",
        "ax1.set_xlabel('model')\n",
        "\n",
        "# Plot for accuracies\n",
        "ax2.bar(['ResNet-without', 'ResNet-with', 'VGG-without', 'VGG-with'], accuracies, color='green')\n",
        "ax2.set_title('Accuracies Comparison')\n",
        "ax2.set_ylabel('Accuracy')\n",
        "ax2.set_xlabel('model')\n",
        "\n",
        "plt.tight_layout()\n",
        "plt.show()"
      ],
      "metadata": {
        "id": "E6FM0EHeHW9S"
      },
      "execution_count": null,
      "outputs": []
    },
    {
      "cell_type": "markdown",
      "source": [
        "## **1_3: Pros & Cons of Data Augmentation**"
      ],
      "metadata": {
        "id": "hn8VEjGjQHw6"
      }
    },
    {
      "cell_type": "markdown",
      "source": [
        "### **1_3_1: Advantages**"
      ],
      "metadata": {
        "id": "rf3cdVWNQPCJ"
      }
    },
    {
      "cell_type": "markdown",
      "source": [
        "1. **Improved Generalization**:\n",
        "    - By providing the model with a more diverse set of training examples, data augmentation can help improve its ability to generalize to unseen data.\n",
        "    \n",
        "2. **Reduced Overfitting**:\n",
        "    - Data augmentation effectively increases the size of the training dataset, which can help reduce overfitting and improve the model's performance on the validation set.\n",
        "    \n",
        "3. **Robustness to Variations**:\n",
        "    - Models trained with augmented data can become more robust to variations such as rotation, scaling, and other distortions in the input data.\n",
        "    \n",
        "4. **Better Feature Learning**:\n",
        "    - The variations introduced by data augmentation can help the model learn more useful and discriminative features.\n",
        "    \n",
        "5. **Cost-Effective**:\n",
        "    - Data augmentation can be a cost-effective way to improve model performance without the need for additional labeled data.\n"
      ],
      "metadata": {
        "id": "27FEaCVCQfm6"
      }
    },
    {
      "cell_type": "markdown",
      "source": [
        "### **1_3_2: Disadvantages**"
      ],
      "metadata": {
        "id": "T3QHZnqXQZMN"
      }
    },
    {
      "cell_type": "markdown",
      "source": [
        "\n",
        "1. **Increased Training Time**:\n",
        "    - Data augmentation can increase training time as the model has to process more data, including the original and augmented images.\n",
        "    \n",
        "2. **Complexity in Pipeline**:\n",
        "    - Implementing data augmentation can introduce complexity into the data preprocessing pipeline, which may require careful tuning and testing.\n",
        "    \n",
        "3. **Potential for Distortion**:\n",
        "    - If data augmentation is applied too aggressively, it may introduce distortions that do not represent real-world variations, potentially harming model performance.\n",
        "    \n",
        "4. **Challenges in Reproducibility**:\n",
        "    - The stochastic nature of some augmentation techniques can make it difficult to reproduce results consistently across different runs.\n",
        "    \n",
        "5. **Compatibility with Specific Models**:\n",
        "    - Not all data augmentation techniques are compatible with every model architecture, so careful selection and testing are needed to ensure they benefit the model.\n",
        "\n"
      ],
      "metadata": {
        "id": "GPkG83IfQfI9"
      }
    },
    {
      "cell_type": "markdown",
      "source": [
        "***source:***\n",
        "\n",
        "https://ubiai.tools/what-are-the-advantages-anddisadvantages-of-data-augmentation-2023-update/"
      ],
      "metadata": {
        "id": "CkkmAl9rKg3n"
      }
    },
    {
      "cell_type": "markdown",
      "source": [
        "# <b><font color='green'>Part $II$:</font></b>"
      ],
      "metadata": {
        "id": "pet_SknhXGx7"
      }
    },
    {
      "cell_type": "code",
      "source": [],
      "metadata": {
        "id": "QOLT5TfLXIzc"
      },
      "execution_count": null,
      "outputs": []
    },
    {
      "cell_type": "markdown",
      "source": [
        "# <b><font color='green'>Part $III$:</font></b>"
      ],
      "metadata": {
        "id": "XMoSbfhyqq1i"
      }
    },
    {
      "cell_type": "code",
      "source": [
        "import requests\n",
        "\n",
        "url = \"http://ufldl.stanford.edu/housenumbers/train_32x32.mat\"  # Download training data\n",
        "filename = \"train_32x32.mat\"\n",
        "\n",
        "response = requests.get(url, stream=True)\n",
        "\n",
        "if response.status_code == 200:\n",
        "  with open(filename, 'wb') as f:\n",
        "    for chunk in response.iter_content(1024):\n",
        "      f.write(chunk)\n",
        "  print(f\"Downloaded {filename}\")\n",
        "else:\n",
        "  print(f\"Failed to download {filename}. Status code: {response.status_code}\")\n",
        "\n",
        "# Repeat for test data (optional)\n",
        "url = \"http://ufldl.stanford.edu/housenumbers/test_32x32.mat\"\n",
        "filename = \"test_32x32.mat\"\n",
        "\n",
        "response = requests.get(url, stream=True)\n",
        "\n",
        "if response.status_code == 200:\n",
        "  with open(filename, 'wb') as f:\n",
        "    for chunk in response.iter_content(1024):\n",
        "      f.write(chunk)\n",
        "  print(f\"Downloaded {filename}\")\n",
        "else:\n",
        "  print(f\"Failed to download {filename}. Status code: {response.status_code}\")\n"
      ],
      "metadata": {
        "id": "fcNFeVSj0g4S"
      },
      "execution_count": null,
      "outputs": []
    },
    {
      "cell_type": "code",
      "source": [
        "import scipy.io as sio\n",
        "\n",
        "# Assuming your downloaded file is named \"train_32x32.mat\"\n",
        "data_train = sio.loadmat(\"train_32x32.mat\")\n",
        "data_test = sio.loadmat(\"test_32x32.mat\")\n",
        "# data_extra = sio.loadmat(\"extra_32x32.mat\")\n",
        "\n",
        "# Access data within the loaded dictionary\n",
        "images_train = data_train[\"X\"]  # Assuming images are stored under the key \"X\"\n",
        "labels_train = data_train[\"y\"]  # Assuming labels are stored under the key \"y\"\n",
        "images_test = data_test[\"X\"]\n",
        "labels_test = data_test[\"y\"]\n",
        "# images_extra = data_extra[\"X\"]\n",
        "# labels_extra = data_extra[\"y\"]\n",
        "\n",
        "print(f\"Images shape: {images_train.shape}\")\n",
        "print(f\"Labels shape: {labels_train.shape}\")\n",
        "print(f\"Images shape: {images_test.shape}\")\n",
        "print(f\"Labels shape: {labels_test.shape}\")\n",
        "# print(f\"Images shape: {images_extra.shape}\")\n",
        "# print(f\"Labels shape: {labels_extra.shape}\")"
      ],
      "metadata": {
        "id": "GJhPJ7EI1KJ7"
      },
      "execution_count": null,
      "outputs": []
    },
    {
      "cell_type": "code",
      "source": [
        "import numpy as np\n",
        "\n",
        "# Assuming your loaded images are stored in the variable \"images\"\n",
        "images_train = images_train.transpose((3, 0, 1, 2))  # Transpose the axes\n",
        "images_test = images_test.transpose((3, 0, 1, 2))  # Transpose the axes\n",
        "\n",
        "print(f\"Images shape after transpose: {images_train.shape}\")\n",
        "print(f\"Images shape after transpose: {images_test.shape}\")"
      ],
      "metadata": {
        "id": "oz5yzeO92Pjk"
      },
      "execution_count": null,
      "outputs": []
    },
    {
      "cell_type": "code",
      "source": [
        "# # TensorFlow and tf.keras\n",
        "# import tensorflow as tf\n",
        "\n",
        "# # Helper libraries\n",
        "# import numpy as np\n",
        "# import matplotlib.pyplot as plt\n",
        "\n",
        "# print(tf.__version__)"
      ],
      "metadata": {
        "id": "0MrDk24EvtGP"
      },
      "execution_count": null,
      "outputs": []
    },
    {
      "cell_type": "code",
      "source": [
        "# from tensorflow.keras.datasets import fashion_mnist\n",
        "\n",
        "# (X_train, y_train), (X_test, y_test) = fashion_mnist.load_data()\n"
      ],
      "metadata": {
        "id": "acqrwWpJvz21"
      },
      "execution_count": null,
      "outputs": []
    },
    {
      "cell_type": "code",
      "source": [
        "# X_train.shape"
      ],
      "metadata": {
        "id": "0xKKHb_ov1Ru"
      },
      "execution_count": null,
      "outputs": []
    },
    {
      "cell_type": "code",
      "source": [
        "# X_train = X_train.reshape((X_train.shape[0], 28, 28, 1))\n",
        "# X_test = X_test.reshape((X_test.shape[0], 28, 28, 1))"
      ],
      "metadata": {
        "id": "m02_PLbZwhMY"
      },
      "execution_count": null,
      "outputs": []
    },
    {
      "cell_type": "code",
      "source": [
        "# X_train.shape"
      ],
      "metadata": {
        "id": "Pcs93eJTwhkm"
      },
      "execution_count": null,
      "outputs": []
    },
    {
      "cell_type": "code",
      "source": [
        "\n",
        "# Duplicate the existing channel three times\n",
        "# X_train = np.repeat(X_train, 3, axis=3)\n",
        "# X_test = np.repeat(X_test, 3, axis=3)"
      ],
      "metadata": {
        "id": "DbSUd3ikxGCb"
      },
      "execution_count": null,
      "outputs": []
    },
    {
      "cell_type": "code",
      "source": [
        "# X_train.shape"
      ],
      "metadata": {
        "id": "TS1M0JYqxLte"
      },
      "execution_count": null,
      "outputs": []
    },
    {
      "cell_type": "code",
      "source": [
        "# import cv2"
      ],
      "metadata": {
        "id": "bKC5HVBIx4cQ"
      },
      "execution_count": null,
      "outputs": []
    },
    {
      "cell_type": "code",
      "source": [
        "# X_train = cv2.resize(X_train, (224,224))"
      ],
      "metadata": {
        "id": "kBugKszux6Fn"
      },
      "execution_count": null,
      "outputs": []
    },
    {
      "cell_type": "markdown",
      "source": [],
      "metadata": {
        "id": "BeSgOnd9sP9d"
      }
    },
    {
      "cell_type": "code",
      "source": [
        "# !pip install deeplake"
      ],
      "metadata": {
        "id": "DtCSgygqsTVE"
      },
      "execution_count": null,
      "outputs": []
    },
    {
      "cell_type": "code",
      "source": [
        "# import deeplake\n",
        "\n",
        "# ds_train = deeplake.load(\"hub://activeloop/gtsrb-train\")\n",
        "\n",
        "# ds_test = deeplake.load(\"hub://activeloop/gtsrb-test\")"
      ],
      "metadata": {
        "id": "NTHV8Jb3sRbL"
      },
      "execution_count": null,
      "outputs": []
    },
    {
      "cell_type": "markdown",
      "source": [
        "Train a model on the GTSRB dataset with TensorFlow in Python"
      ],
      "metadata": {
        "id": "lLEDgHw0tec2"
      }
    },
    {
      "cell_type": "code",
      "source": [
        "# dataloader_train = ds_train.tensorflow()\n",
        "\n",
        "# dataloader_test = ds_test.tensorflow()"
      ],
      "metadata": {
        "id": "SNfY9D9Is5_0"
      },
      "execution_count": null,
      "outputs": []
    },
    {
      "cell_type": "code",
      "source": [],
      "metadata": {
        "id": "TgzGWRKdtlIt"
      },
      "execution_count": null,
      "outputs": []
    },
    {
      "cell_type": "markdown",
      "source": [
        "### Import the necessary libraries to work with models"
      ],
      "metadata": {
        "id": "P6_qUamu15Gh"
      }
    },
    {
      "cell_type": "code",
      "source": [
        "from keras.models import Model\n",
        "\n",
        "from keras.layers import Input, Add, Dense, Activation,BatchNormalization, Flatten, Conv2D, Dropout, AveragePooling2D, MaxPooling2D, GlobalMaxPooling2D\n",
        "\n",
        "from keras import Sequential"
      ],
      "metadata": {
        "id": "C8wrsNWW1_Vn"
      },
      "execution_count": null,
      "outputs": []
    },
    {
      "cell_type": "markdown",
      "source": [
        "## Different small dataset"
      ],
      "metadata": {
        "id": "yj24zFHhqujO"
      }
    },
    {
      "cell_type": "markdown",
      "source": [
        "When your dataset is small and very different from the original dataset used to train the pre-trained model, one of the key approaches to employ transfer learning is to use the pre-trained model as a feature extractor."
      ],
      "metadata": {
        "id": "zNNtc96WY8Lp"
      }
    },
    {
      "cell_type": "markdown",
      "source": [
        "### Import VGG16 class"
      ],
      "metadata": {
        "id": "miY_nE2J2SNx"
      }
    },
    {
      "cell_type": "markdown",
      "source": [
        "### Use VGG16 as our pre-trained model"
      ],
      "metadata": {
        "id": "fBtPWzKQsPus"
      }
    },
    {
      "cell_type": "code",
      "source": [
        "# VGG16_base = VGG16(weights='imagenet', include_top=False, input_shape=(224, 224, 3))\n"
      ],
      "metadata": {
        "id": "8GAuUYnBsOsF"
      },
      "execution_count": null,
      "outputs": []
    },
    {
      "cell_type": "markdown",
      "source": [
        "### About ImageNet dataset\n",
        "* Contains over 14 million high-resolution images\n",
        "* Images are categorized into more than 20,000 different classes (nouns in WordNet hierarchy)"
      ],
      "metadata": {
        "id": "nEWckGous8lB"
      }
    },
    {
      "cell_type": "markdown",
      "source": [
        "### Import the small and different dataset of German Traffic Signs Dataset (GTSRB)"
      ],
      "metadata": {
        "id": "ZDSrBT-kscgs"
      }
    },
    {
      "cell_type": "markdown",
      "source": [
        "This dataset contains around 50,000 images of German traffic signs across 43 different classes. It's a good choice for tasks related to traffic sign recognition in autonomous vehicles or driver assistance systems."
      ],
      "metadata": {
        "id": "caM2DFLxsrYv"
      }
    },
    {
      "cell_type": "code",
      "source": [
        "# from sklearn.datasets import fetch_openml\n",
        "\n",
        "# # Fetch the GTSRB dataset using the OpenML data ID for GTSRB\n",
        "# # Data ID , which corresponds to the GTSRB dataset\n",
        "# # gtsrb = fetch_openml(data_id=41988)\n",
        "\n",
        "# # Access data (features/images) and target labels (classes)\n",
        "# X = gtsrb.data  # Features (images)\n",
        "# y = gtsrb.target  # Target labels (traffic sign classes)\n",
        "\n",
        "# # Print some data points and labels (optional)\n",
        "# print(X[:5])\n",
        "# print(y[:5])\n",
        "# # import tensorflow_datasets as tfds\n",
        "\n",
        "# # Load the EuroSAT dataset\n",
        "# X_train, y_train, info = tfds.load('eurosat', split='train', with_info=True)\n",
        "# X_validation, y_validation, info = tfds.load('eurosat', split='validation', with_info=True)\n",
        "# X_test, y_test, info = tfds.load('eurosat', split='test', with_info=True)\n",
        "\n",
        "# Display the dataset info\n",
        "# print(info)\n",
        "\n",
        "# Display a sample data point\n",
        "# for example in dataset.take(1):\n",
        "#     image, label = example['image'], example['label']\n",
        "#     print(\"Image shape:\", image.shape)\n",
        "#     print(\"Label:\", label)\n"
      ],
      "metadata": {
        "id": "TLlJ510IsbwB"
      },
      "execution_count": null,
      "outputs": []
    },
    {
      "cell_type": "code",
      "source": [
        "# import tensorflow as tf\n",
        "# from tensorflow.keras.datasets import cifar100\n",
        "# from tensorflow.keras.applications import ResNet50\n",
        "# from tensorflow.keras.models import Sequential\n",
        "# from tensorflow.keras.layers import Dense, Flatten, Dropout, BatchNormalization\n",
        "# from tensorflow.keras.utils import to_categorical\n",
        "# from sklearn.model_selection import train_test_split\n",
        "\n",
        "# # Load the CIFAR-100 dataset\n",
        "# (X_train, y_train), (X_test, y_test) = cifar100.load_data()\n",
        "\n",
        "# # Normalize the images to the range [0, 1]\n",
        "# X_train, X_test = X_train / 255.0, X_test / 255.0\n",
        "\n",
        "# # One-hot encode the labels\n",
        "# num_classes = 100\n",
        "# y_train = to_categorical(y_train, num_classes)\n",
        "# y_test = to_categorical(y_test, num_classes)\n",
        "\n",
        "# # Split training data into training and validation sets\n",
        "# X_train, X_valid, y_train, y_valid = train_test_split(X_train, y_train, test_size=0.2, random_state=42)\n",
        "\n",
        "# # Load pre-trained ResNet50 model without top layers\n",
        "# base_model = ResNet50(include_top=False, input_shape=(32, 32, 3), weights='imagenet')\n",
        "# base_model.trainble = False\n",
        "# # Add custom layers\n",
        "# model = Sequential([\n",
        "#     base_model,\n",
        "#     Flatten(),\n",
        "#     Dense(128, activation='relu'),\n",
        "#     BatchNormalization(),\n",
        "#     Dropout(0.7),\n",
        "#     Dense(256, activation='relu'),\n",
        "#     BatchNormalization(),\n",
        "#     Dropout(0.7),\n",
        "#     Dense(256, activation='relu'),\n",
        "#     BatchNormalization(),\n",
        "#     Dropout(0.7),\n",
        "#     Dense(256, activation='relu'),\n",
        "#     BatchNormalization(),\n",
        "#     Dropout(0.7),\n",
        "#     Dense(num_classes, activation='softmax')\n",
        "# ])\n",
        "\n",
        "# # Compile the model\n",
        "# model.compile(optimizer='adam', loss='categorical_crossentropy', metrics=['accuracy'])\n",
        "\n",
        "# # Train the model\n",
        "# model.fit(X_train, y_train, validation_data=(X_valid, y_valid), epochs=10, batch_size=1024)\n",
        "\n",
        "# # Evaluate the model on the test set\n",
        "# test_loss, test_accuracy = model.evaluate(X_test, y_test)\n",
        "# print(f\"Test loss: {test_loss:.4f}, Test accuracy: {test_accuracy:.4f}\")\n"
      ],
      "metadata": {
        "id": "0yv57JO4yczv"
      },
      "execution_count": null,
      "outputs": []
    },
    {
      "cell_type": "code",
      "source": [
        "# from tensorflow.keras.datasets import cifar100\n",
        "\n",
        "# # Load the CIFAR-100 dataset\n",
        "# (X_train, y_train), (X_test, y_test) = cifar100.load_data()\n",
        "\n",
        "# # Convert labels to categorical\n",
        "# y_train = tf.keras.utils.to_categorical(y_train, num_classes=100)\n",
        "# y_test = tf.keras.utils.to_categorical(y_test, num_classes=100)\n",
        "\n",
        "# # Split training data into training and validation sets\n",
        "# from sklearn.model_selection import train_test_split\n",
        "# X_train, X_valid, y_train, y_valid = train_test_split(X_train, y_train, test_size=0.2, random_state=42)\n",
        "\n",
        "# # Print shapes of the data and target arrays\n",
        "# print(f\"X_train shape: {X_train.shape}, y_train shape: {y_train.shape}\")\n",
        "# print(f\"X_valid shape: {X_valid.shape}, y_valid shape: {y_valid.shape}\")\n",
        "# print(f\"X_test shape: {X_test.shape}, y_test shape: {y_test.shape}\")\n"
      ],
      "metadata": {
        "id": "_SRVENgoraPQ"
      },
      "execution_count": null,
      "outputs": []
    },
    {
      "cell_type": "code",
      "source": [
        "# import tensorflow as tf\n",
        "# # Convert labels to one-hot encoding\n",
        "# y_train = tf.keras.utils.to_categorical(y, num_classes=100)\n",
        "# y_valid = tf.keras.utils.to_categorical(y, num_classes=100)\n",
        "# y_test = tf.keras.utils.to_categorical(y, num_classes=100)"
      ],
      "metadata": {
        "id": "CfVNVuSstpZN"
      },
      "execution_count": null,
      "outputs": []
    },
    {
      "cell_type": "code",
      "source": [],
      "metadata": {
        "id": "Z_tfRJLetqth"
      },
      "execution_count": null,
      "outputs": []
    },
    {
      "cell_type": "code",
      "source": [
        "from tensorflow.keras.applications.vgg16 import VGG16"
      ],
      "metadata": {
        "id": "2sB2v3l92Q1T"
      },
      "execution_count": null,
      "outputs": []
    },
    {
      "cell_type": "code",
      "source": [
        "VGG16_base = VGG16(include_top=False, input_shape=(32, 32, 3), weights='imagenet')"
      ],
      "metadata": {
        "id": "MClepdcot5cM"
      },
      "execution_count": null,
      "outputs": []
    },
    {
      "cell_type": "markdown",
      "source": [
        "### Split the data"
      ],
      "metadata": {
        "id": "rxsUya4jzbls"
      }
    },
    {
      "cell_type": "code",
      "source": [
        "# from sklearn.model_selection import train_test_split\n",
        "\n",
        "# X_train, X_val, y_train, y_val = train_test_split(X, y, test_size=0.5, random_state=42)\n",
        "# X_val, X_test, y_val, y_test = train_test_split(X_val, y_val, test_size=0.2, random_state=42)"
      ],
      "metadata": {
        "id": "Rn2vxrGczdP6"
      },
      "execution_count": null,
      "outputs": []
    },
    {
      "cell_type": "code",
      "source": [
        "# print(X_train.shape)\n",
        "# print(X_val.shape)\n",
        "# print(X_test.shape)\n",
        "# print(y_train.shape)\n",
        "# print(y_val.shape)\n",
        "# print(y_test.shape)"
      ],
      "metadata": {
        "id": "1hHYQB2Nz5Mf"
      },
      "execution_count": null,
      "outputs": []
    },
    {
      "cell_type": "markdown",
      "source": [
        "### Freeze Base Layers"
      ],
      "metadata": {
        "id": "UzS5pZQVtj6e"
      }
    },
    {
      "cell_type": "markdown",
      "source": [
        "* Freeze the initial layers (often convolutional layers) of the pre-trained model. These layers extract low-level features like edges and textures, which are generally transferable across different tasks. Freezing prevents these layers from being re-trained on your small dataset, potentially leading to overfitting."
      ],
      "metadata": {
        "id": "-cIjOTRqtNBF"
      }
    },
    {
      "cell_type": "code",
      "source": [
        "# Freeze the first 15 layers of VGG16 base model\n",
        "# for layer in VGG16_base.layers[:10]:\n",
        "#   layer.trainable = False\n",
        "\n",
        "# VGG16_base.trainable = False"
      ],
      "metadata": {
        "id": "iN9moycdtMi5"
      },
      "execution_count": null,
      "outputs": []
    },
    {
      "cell_type": "code",
      "source": [
        "print(len(VGG16_base.layers))"
      ],
      "metadata": {
        "id": "GxHEvZRBu_jx"
      },
      "execution_count": null,
      "outputs": []
    },
    {
      "cell_type": "markdown",
      "source": [
        "### Train the Top Layers"
      ],
      "metadata": {
        "id": "X_bRHBZ9tlWm"
      }
    },
    {
      "cell_type": "markdown",
      "source": [
        "* Add new layers on top of the frozen pre-trained model. These new layers will be specific to your classification task and learn from your small dataset."
      ],
      "metadata": {
        "id": "YUGp1LYitsDB"
      }
    },
    {
      "cell_type": "code",
      "source": [
        "x = VGG16_base.output\n",
        "x = Flatten()(x)\n",
        "\n",
        "# Add Batch Normalization after flattening\n",
        "x = BatchNormalization()(x)\n",
        "\n",
        "# Add Dense layer with ReLU activation and Dropout\n",
        "x = Dense(1024, activation='relu')(x)\n",
        "x = Dropout(0.5)(x)  # Adjust dropout rate as needed\n",
        "\n",
        "# Add another Dense layer with ReLU activation and Dropout\n",
        "x = Dense(512, activation='relu')(x)\n",
        "x = Dropout(0.5)(x)  # Adjust dropout rate as needed\n",
        "\n",
        "num_classes = images_train.shape[1]\n",
        "predictions = Dense(units = num_classes, activation='softmax')(x)\n",
        "\n",
        "VGG16_model1 = Model(inputs=VGG16_base.input, outputs=predictions)"
      ],
      "metadata": {
        "id": "2R6_HSNltoKk"
      },
      "execution_count": null,
      "outputs": []
    },
    {
      "cell_type": "code",
      "source": [
        "print(len(VGG16_model1.layers))"
      ],
      "metadata": {
        "id": "bgYmCqE4veLK"
      },
      "execution_count": null,
      "outputs": []
    },
    {
      "cell_type": "markdown",
      "source": [
        "### Compile our model"
      ],
      "metadata": {
        "id": "Es8U_9B7x5lG"
      }
    },
    {
      "cell_type": "markdown",
      "source": [
        "Compile the entire model (frozen layers + new layers) with a very low learning rate."
      ],
      "metadata": {
        "id": "eGRoG3rx5ShK"
      }
    },
    {
      "cell_type": "code",
      "source": [
        "from tensorflow.keras.optimizers import Adam\n",
        "\n",
        "VGG16_model1.compile(optimizer=Adam(learning_rate=1e-4), loss='sparse_categorical_crossentropy', metrics=['accuracy'])"
      ],
      "metadata": {
        "id": "5pnVVPV1x771"
      },
      "execution_count": null,
      "outputs": []
    },
    {
      "cell_type": "markdown",
      "source": [
        "### Data Augmentation\n",
        "\n",
        "* Artificially increases the size and diversity of your training data, potentially reducing overfitting."
      ],
      "metadata": {
        "id": "jrA_UKfLvr0T"
      }
    },
    {
      "cell_type": "markdown",
      "source": [
        "### Import necessary class to do data augmentation"
      ],
      "metadata": {
        "id": "hk1vp6oi6SCA"
      }
    },
    {
      "cell_type": "code",
      "source": [
        "# from tensorflow.keras.preprocessing.image import ImageDataGenerator"
      ],
      "metadata": {
        "id": "ETNqJ9036SCB"
      },
      "execution_count": null,
      "outputs": []
    },
    {
      "cell_type": "code",
      "source": [
        "# data_generator = ImageDataGenerator(rescale = 1.0/255,\n",
        "#                                     shear_range=0.2,\n",
        "#                                     zoom_range=0.2,\n",
        "#                                     rotation_range=20,\n",
        "#                                     width_shift_range= 0.1,\n",
        "#                                     height_shift_range = 0.1,\n",
        "#                                     horizontal_flip = True,\n",
        "#                                     vertical_flip = True,\n",
        "#                                     brightness_range=[-0.2, 0.2],\n",
        "#                                     # contrast_range=[0.8, 1.2],\n",
        "#                                     # saturation_range=[0.8, 1.2],\n",
        "#                                     # hue_range=[-0.1, 0.1]\n",
        "#                                     )"
      ],
      "metadata": {
        "id": "CkA7yRD_xZcA"
      },
      "execution_count": null,
      "outputs": []
    },
    {
      "cell_type": "code",
      "source": [
        "# train_generator = data_generator.flow(X_train, y_train, batch_size = 32)"
      ],
      "metadata": {
        "id": "0_b6EYApxZcA"
      },
      "execution_count": null,
      "outputs": []
    },
    {
      "cell_type": "code",
      "source": [
        "# steps_per_epoch = X_train.shape[0]"
      ],
      "metadata": {
        "id": "_HbsCmOpxZcB"
      },
      "execution_count": null,
      "outputs": []
    },
    {
      "cell_type": "markdown",
      "source": [
        "### Train the model on your GTSRB data"
      ],
      "metadata": {
        "id": "b4hOZxGv3wZt"
      }
    },
    {
      "cell_type": "code",
      "source": [
        "history1 = VGG16_model1.fit(images_train, labels_train, batch_size = 128, epochs = 10, verbose=1, validation_data=(images_test, labels_test))"
      ],
      "metadata": {
        "id": "msSNvOWM3Yxr"
      },
      "execution_count": null,
      "outputs": []
    },
    {
      "cell_type": "code",
      "source": [
        "import matplotlib.pyplot as plt"
      ],
      "metadata": {
        "id": "NJ-qRkdw6RRH"
      },
      "execution_count": null,
      "outputs": []
    },
    {
      "cell_type": "code",
      "source": [
        "def display_accuracy(history):\n",
        "  plt.plot(history.history['accuracy'])\n",
        "  plt.plot(history.history['val_accuracy'])\n",
        "  plt.title('model accuracy')\n",
        "  plt.ylabel('accuracy')\n",
        "  plt.xlabel('epoch')\n",
        "  plt.legend(['Train accuracy', 'Validation accuracy','Train loss'], loc='upper right')\n",
        "  # plt.ylim(ymax=2, ymin=0)\n",
        "  plt.show()"
      ],
      "metadata": {
        "id": "iWyxqjkh6RbK"
      },
      "execution_count": null,
      "outputs": []
    },
    {
      "cell_type": "code",
      "source": [
        "def display_loss(history):\n",
        "  plt.plot(history.history['loss'])\n",
        "  plt.plot(history.history['val_loss'])\n",
        "  plt.title('model loss')\n",
        "  plt.ylabel('loss')\n",
        "  plt.xlabel('epoch')\n",
        "  plt.legend(['Train loss', 'Validation loss'], loc='upper left')\n",
        "  # plt.ylim(ymax=3, ymin=0)\n",
        "  plt.show()\n"
      ],
      "metadata": {
        "id": "E4eChz5M6RbL"
      },
      "execution_count": null,
      "outputs": []
    },
    {
      "cell_type": "markdown",
      "source": [
        "### Evaluate and show the results"
      ],
      "metadata": {
        "id": "d4aDECnN5d03"
      }
    },
    {
      "cell_type": "code",
      "source": [
        "loss1, accuracy1 = VGG16_model1.evaluate(images_test, labels_test)"
      ],
      "metadata": {
        "id": "N-oIUB3U4tCv"
      },
      "execution_count": null,
      "outputs": []
    },
    {
      "cell_type": "code",
      "source": [
        "display_accuracy(history1)"
      ],
      "metadata": {
        "id": "FFN2Cm5P5a2X"
      },
      "execution_count": null,
      "outputs": []
    },
    {
      "cell_type": "code",
      "source": [
        "display_loss(history1)"
      ],
      "metadata": {
        "id": "pMILMinL5a2k"
      },
      "execution_count": null,
      "outputs": []
    },
    {
      "cell_type": "markdown",
      "source": [
        "### results"
      ],
      "metadata": {
        "id": "E044qYBP5bmB"
      }
    },
    {
      "cell_type": "markdown",
      "source": [
        "train-test, batch_size = 32, epochs = 10, verbose=1, learning_rate=1e-5, trainable = false\n",
        "\n",
        "814/814 [==============================] - 7s 9ms/step - loss: 1.5038 - accuracy: 0.5029\n",
        "\n",
        "train-test, batch_size = 128, epochs = 10, verbose=1, learning_rate=1e-4, 10 layers frozen\n",
        "\n",
        "\n",
        "814/814 [==============================] - 7s 8ms/step - loss: 0.3224 - accuracy: 0.9264\n",
        "\n",
        "\n",
        "train-test, batch_size = 128, epochs = 10, verbose=1, learning_rate=1e-4, trainable = true\n",
        "\n",
        "\n",
        "\n",
        "814/814 [==============================] - 9s 10ms/step - loss: 0.1978 - accuracy: 0.9524"
      ],
      "metadata": {
        "id": "O7Vzlb025dig"
      }
    },
    {
      "cell_type": "markdown",
      "source": [
        "## Simillar small dataset"
      ],
      "metadata": {
        "id": "SxuCs22M-FdR"
      }
    },
    {
      "cell_type": "code",
      "source": [
        "VGG16_base = VGG16(weights='imagenet', include_top=False, input_shape=(224, 224, 3))"
      ],
      "metadata": {
        "id": "sTYl6lck-FDz"
      },
      "execution_count": null,
      "outputs": []
    },
    {
      "cell_type": "markdown",
      "source": [
        "Since Tiny ImageNet shares more similarities with ImageNet, we can fine-tune a larger portion of the VGG16 base model (e.g., freeze only the first 10 layers)."
      ],
      "metadata": {
        "id": "Hefe8EvoBiOj"
      }
    },
    {
      "cell_type": "code",
      "source": [
        "# Freeze the first 10 layers of VGG16 base model\n",
        "for layer in VGG16_base.layers[:10]:\n",
        "  layer.trainable = False"
      ],
      "metadata": {
        "id": "iOM2llHyBP4K"
      },
      "execution_count": null,
      "outputs": []
    },
    {
      "cell_type": "markdown",
      "source": [
        "### import 'cifar10' dataset which is similar to imagenet"
      ],
      "metadata": {
        "id": "fSsUy2adBkpI"
      }
    },
    {
      "cell_type": "code",
      "source": [
        "from tensorflow.keras.datasets import cifar10\n",
        "\n",
        "(X_train, y_train), (X_val, y_val) = cifar10.load_data()\n"
      ],
      "metadata": {
        "id": "P8XY6w3bBj35"
      },
      "execution_count": null,
      "outputs": []
    },
    {
      "cell_type": "code",
      "source": [
        "from sklearn.model_selection import train_test_split\n",
        "\n",
        "X_train, X_test, y_train, y_test = train_test_split(X_train, y_train, test_size=0.1, random_state=42)"
      ],
      "metadata": {
        "id": "Aks3mcd4ELge"
      },
      "execution_count": null,
      "outputs": []
    },
    {
      "cell_type": "code",
      "source": [
        "print(X_train.shape)\n",
        "print(X_val.shape)\n",
        "print(X_test.shape)\n",
        "print(y_train.shape)\n",
        "print(y_val.shape)\n",
        "print(y_test.shape)"
      ],
      "metadata": {
        "id": "z0bPsFAbECcC"
      },
      "execution_count": null,
      "outputs": []
    },
    {
      "cell_type": "code",
      "source": [
        "x = VGG16_base.output\n",
        "x = Flatten()(x)\n",
        "\n",
        "# Add Batch Normalization after flattening\n",
        "x = BatchNormalization()(x)\n",
        "\n",
        "# Add Dense layer with ReLU activation and Dropout\n",
        "x = Dense(1024, activation='relu')(x)\n",
        "x = Dropout(0.5)(x)  # Adjust dropout rate as needed\n",
        "\n",
        "# Add another Dense layer with ReLU activation and Dropout\n",
        "x = Dense(512, activation='relu')(x)\n",
        "x = Dropout(0.5)(x)  # Adjust dropout rate as needed\n",
        "\n",
        "num_classes = X_train.shape[1]\n",
        "predictions = Dense(units = num_classes, activation='softmax')(x)\n",
        "\n",
        "VGG16_model2 = Model(inputs=VGG16_base.input, outputs=predictions)"
      ],
      "metadata": {
        "id": "3qFTMOy2Em_B"
      },
      "execution_count": null,
      "outputs": []
    },
    {
      "cell_type": "code",
      "source": [
        "from tensorflow.keras.optimizers import Adam\n",
        "\n",
        "VGG16_model2.compile(optimizer=Adam(learning_rate=1e-5), loss='categorical_crossentropy', metrics=['accuracy'])"
      ],
      "metadata": {
        "id": "UAsQCukMFGUK"
      },
      "execution_count": null,
      "outputs": []
    },
    {
      "cell_type": "markdown",
      "source": [
        "While data augmentation remains an option, it might be less crucial for Tiny ImageNet because it's already more similar to the pre-trained data (ImageNet)."
      ],
      "metadata": {
        "id": "CfWkNohaF6az"
      }
    },
    {
      "cell_type": "code",
      "source": [
        "history2 = VGG16_model2.fit_generator(X_train, y_train, epochs = 10, batch_size = 32, verbose=1, validation_data=(X_val, y_val))"
      ],
      "metadata": {
        "id": "EAEibIT8FGUU"
      },
      "execution_count": null,
      "outputs": []
    },
    {
      "cell_type": "code",
      "source": [
        "loss2, accuracy2 = VGG16_model2.evaluate(X_test, y_test)"
      ],
      "metadata": {
        "id": "hOhvQ6teGNE4"
      },
      "execution_count": null,
      "outputs": []
    },
    {
      "cell_type": "code",
      "source": [
        "display_accuracy(history2)"
      ],
      "metadata": {
        "id": "JZa0eOVhGNE5"
      },
      "execution_count": null,
      "outputs": []
    },
    {
      "cell_type": "code",
      "source": [
        "display_loss(history2)"
      ],
      "metadata": {
        "id": "wghuv1qRGNE5"
      },
      "execution_count": null,
      "outputs": []
    },
    {
      "cell_type": "code",
      "source": [
        "compute_confusion_matrix_and_classification_report(VGG16_model2)"
      ],
      "metadata": {
        "id": "933N4OlWGNE5"
      },
      "execution_count": null,
      "outputs": []
    },
    {
      "cell_type": "markdown",
      "source": [
        "## Overall\n",
        "\n",
        "### **Fine-tuning Strategy:**\n",
        "\n",
        "* Part 1 (GTSRB): We froze a significant portion of the VGG16 base model layers (e.g., 15 layers) due to the small size and significant difference between the GTSRB dataset and ImageNet (the original training data for VGG16). This aimed to minimize overfitting by adapting fewer pre-trained weights.\n",
        "* Part 2 (Tiny ImageNet): Since Tiny ImageNet shares more similarities with ImageNet, we can fine-tune a larger portion of the VGG16 base model (e.g., freeze only the first 10 layers). This leverages the pre-trained features that are more relevant to the traffic sign recognition task in Tiny ImageNet.\n",
        "\n",
        "\n",
        "### **Data Augmentation:**\n",
        "\n",
        "* Part 1 (GTSRB): Data augmentation was highly recommended due to the limited size of the GTSRB dataset. It helps artificially increase the data size and diversity, potentially improving model performance on unseen traffic signs.\n",
        "* Part 2 (Tiny ImageNet): While data augmentation remains an option, it might be less crucial for Tiny ImageNet because it's already more similar to the pre-trained data (ImageNet). However, you can still experiment with it to see if it further improves the model's performance."
      ],
      "metadata": {
        "id": "Jdmyx64OAcHL"
      }
    },
    {
      "cell_type": "markdown",
      "source": [
        "**the more you want to inherit features from a pre-trained model, the more you have to freeze layers**"
      ],
      "metadata": {
        "id": "KyK-z9cqS9nQ"
      }
    },
    {
      "cell_type": "markdown",
      "source": [
        "**which layers we need to freeze?!**\n",
        "\n",
        "\n",
        "Now, one may ask how to determine which layers we need to freeze, and which layers need to train. The answer is simple, the more you want to inherit features from a pre-trained model, the more you have to freeze layers. For instance, if the pre-trained model detects some flower species and we need to detect some new species. In such a case, a new dataset with new species contains a lot of features similar to the pre-trained model. Thus, we freeze less number of layers so that we can use most of its knowledge in a new model. Now, consider another case, if there is a pre-trained model which detects humans in images, and we want to use that knowledge to detect cars, in such a case where the dataset is entirely different, it is not good to freeze lots of layers because freezing a large number of layers will not only give low level features but also give high-level features like nose, eyes, etc which are useless for new dataset (car detection). Thus, we only copy low-level features from the base network and train the entire network on a new dataset.\n",
        "\n",
        "\n",
        "https://www.geeksforgeeks.org/ml-introduction-to-transfer-learning/\n"
      ],
      "metadata": {
        "id": "TXbZEZZsTjNf"
      }
    },
    {
      "cell_type": "markdown",
      "source": [
        "**The target dataset is small and similar to the base network dataset:**\n",
        "\n",
        "* Since the target dataset is small, that means we can fine-tune the pre-trained network with the target dataset. But this may lead to a problem of overfitting. Also, there may be some changes in the number of classes in the target task. So, in such a case we remove the fully connected layers from the end, maybe one or two, and add a new fully connected layer satisfying the number of new classes. Now, we freeze the rest of the model and only train newly added layers.\n",
        "\n",
        "**The target dataset is small and different from the base network dataset:**\n",
        "\n",
        "* Since the target dataset is different, using high-level features of the pre-trained model will not be useful. In such a case, remove most of the layers from the end in a pre-trained model, and add new layers a satisfying number of classes in a new dataset. This way we can use low-level features from the pre-trained model and train the rest of the layers to fit a new dataset. Sometimes, it is beneficial to train the entire network after adding a new layer at the end.\n",
        "\n",
        "https://liacs.leidenuniv.nl/~plaata1/papers/ida2016_camera_ready.pdf\n",
        "\n",
        "https://emerginginvestigators.org/articles/20-130/pdf\n"
      ],
      "metadata": {
        "id": "qSTkvT2HTzMI"
      }
    }
  ]
}