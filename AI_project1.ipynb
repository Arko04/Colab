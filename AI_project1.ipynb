{
  "nbformat": 4,
  "nbformat_minor": 0,
  "metadata": {
    "colab": {
      "provenance": [],
      "gpuType": "T4",
      "authorship_tag": "ABX9TyNefMmXcEs23N3+K0gg/Bi0",
      "include_colab_link": true
    },
    "kernelspec": {
      "name": "python3",
      "display_name": "Python 3"
    },
    "language_info": {
      "name": "python"
    },
    "accelerator": "GPU"
  },
  "cells": [
    {
      "cell_type": "markdown",
      "metadata": {
        "id": "view-in-github",
        "colab_type": "text"
      },
      "source": [
        "<a href=\"https://colab.research.google.com/github/Arko04/Colab/blob/main/AI_project1.ipynb\" target=\"_parent\"><img src=\"https://colab.research.google.com/assets/colab-badge.svg\" alt=\"Open In Colab\"/></a>"
      ]
    },
    {
      "cell_type": "markdown",
      "source": [
        "<div style=\"display:block;width:100%;margin:auto;\" direction=rtl align=center><br><br>\n",
        "    <div  style=\"width:100%;margin:100;display:block;background-color:#fff0;\"  display=block align=center>\n",
        "        <table style=\"border-style:hidden;border-collapse:collapse;\">\n",
        "            <tr>\n",
        "                <td  style=\"border: none!important;\">\n",
        "        <img width=230 align=right src=\"https://i.ibb.co/yXKQmtZ/logo1.png\" style=\"margin:0;\" />\n",
        "                </td>\n",
        "                <td style=\"text-align:center;border: none!important;\">\n",
        "                <h1 align=center><font size=5 color=\"#045F5F\"> <b>Project 1</b><br><br>Alireza Karimi</i></font></h1>\n",
        "                </td>\n",
        "                <td style=\"border: none!important;\">\n",
        "        <img width=300 align=left  src=\"https://i.ibb.co/wLjqFkw/logo2.png\" style=\"margin:0;\" />\n",
        "                </td>\n",
        "            </tr>\n",
        "        </table>\n",
        "\n"
      ],
      "metadata": {
        "id": "j91ntS4__yar"
      }
    },
    {
      "cell_type": "markdown",
      "source": [
        "# <b><font color='green'>Part $I$:</font></b>"
      ],
      "metadata": {
        "id": "DGFXL0UYAD4H"
      }
    },
    {
      "cell_type": "markdown",
      "source": [
        "### Mount my google drive"
      ],
      "metadata": {
        "id": "AaH-IbVyAqFf"
      }
    },
    {
      "cell_type": "code",
      "source": [
        "from google.colab import drive\n",
        "drive.mount('/content/grive')"
      ],
      "metadata": {
        "colab": {
          "base_uri": "https://localhost:8080/"
        },
        "id": "_vQ8Nl-fA1Vw",
        "outputId": "727e6f4e-ebe0-48c4-a717-dc05f5a99825"
      },
      "execution_count": 45,
      "outputs": [
        {
          "output_type": "stream",
          "name": "stdout",
          "text": [
            "Drive already mounted at /content/grive; to attempt to forcibly remount, call drive.mount(\"/content/grive\", force_remount=True).\n"
          ]
        }
      ]
    },
    {
      "cell_type": "markdown",
      "source": [
        "###find the datapath of our dataset"
      ],
      "metadata": {
        "id": "da-yJQL4AZ3K"
      }
    },
    {
      "cell_type": "code",
      "execution_count": 46,
      "metadata": {
        "id": "32EQw-Wj-thQ"
      },
      "outputs": [],
      "source": [
        "dataset_path = \"/content/grive/MyDrive/AI_Project1/Dataset\""
      ]
    },
    {
      "cell_type": "markdown",
      "source": [
        "### 'Image' module for displaying the images"
      ],
      "metadata": {
        "id": "Ud8Npzk_D8_P"
      }
    },
    {
      "cell_type": "code",
      "source": [
        "# from IPython.display import Image"
      ],
      "metadata": {
        "id": "EMV21ewEVE1z"
      },
      "execution_count": 47,
      "outputs": []
    },
    {
      "cell_type": "markdown",
      "source": [
        "### Show some example images"
      ],
      "metadata": {
        "id": "ilqfWasIa1--"
      }
    },
    {
      "cell_type": "code",
      "source": [
        "# Image(filename=Nevus_DIR + \"ISIC_0000055.jpg\", width = 250,height= 200)"
      ],
      "metadata": {
        "id": "HpS7snUWU-AV"
      },
      "execution_count": 48,
      "outputs": []
    },
    {
      "cell_type": "markdown",
      "source": [
        "### Import necessary library for working with files"
      ],
      "metadata": {
        "id": "9wpxnprSdAMg"
      }
    },
    {
      "cell_type": "code",
      "source": [
        "import os"
      ],
      "metadata": {
        "id": "zQJC7riwdEPE"
      },
      "execution_count": 49,
      "outputs": []
    },
    {
      "cell_type": "markdown",
      "source": [
        "### Print the 3 types of diseases"
      ],
      "metadata": {
        "id": "sfAwV3BbpbyE"
      }
    },
    {
      "cell_type": "markdown",
      "source": [
        "### To list the names of files and directories within a specified directory path, we use 'os.listdir(dataset_path)"
      ],
      "metadata": {
        "id": "k1Xs54CixR5E"
      }
    },
    {
      "cell_type": "code",
      "source": [
        "different_skin_conditions = os.listdir(dataset_path)\n",
        "print (different_skin_conditions)"
      ],
      "metadata": {
        "colab": {
          "base_uri": "https://localhost:8080/"
        },
        "id": "gH17k7x7pT-3",
        "outputId": "d156fa6d-82e5-4acc-c8c8-5485f0bd3814"
      },
      "execution_count": 50,
      "outputs": [
        {
          "output_type": "stream",
          "name": "stdout",
          "text": [
            "['Carcinoma', 'Melanoma', 'Nevus']\n"
          ]
        }
      ]
    },
    {
      "cell_type": "markdown",
      "source": [
        "### Make alist to restore all different image file's paths"
      ],
      "metadata": {
        "id": "sNua_gdw0K5A"
      }
    },
    {
      "cell_type": "code",
      "source": [
        "conditions = []"
      ],
      "metadata": {
        "id": "ugcqVhD_vxc8"
      },
      "execution_count": 51,
      "outputs": []
    },
    {
      "cell_type": "markdown",
      "source": [
        "### Add the image file's names to its condition item"
      ],
      "metadata": {
        "id": "BTjH5a3r0P4x"
      }
    },
    {
      "cell_type": "code",
      "source": [
        "for condition in different_skin_conditions:\n",
        "\n",
        "  condition_path = dataset_path + '/' + condition\n",
        "  pictures_of_condition = os.listdir(condition_path)\n",
        "\n",
        "  for picture in pictures_of_condition:\n",
        "    conditions.append((condition, condition_path + '/' + picture))\n",
        "\n",
        "conditions"
      ],
      "metadata": {
        "colab": {
          "base_uri": "https://localhost:8080/"
        },
        "id": "HLfAqntBtkFJ",
        "outputId": "0875bc9d-e027-41a5-eaa5-55b773f89cff"
      },
      "execution_count": 52,
      "outputs": [
        {
          "output_type": "execute_result",
          "data": {
            "text/plain": [
              "[('Carcinoma',\n",
              "  '/content/grive/MyDrive/AI_Project1/Dataset/Carcinoma/ISIC_0028570.jpg'),\n",
              " ('Carcinoma',\n",
              "  '/content/grive/MyDrive/AI_Project1/Dataset/Carcinoma/ISIC_0028747.jpg'),\n",
              " ('Carcinoma',\n",
              "  '/content/grive/MyDrive/AI_Project1/Dataset/Carcinoma/ISIC_0028677.jpg'),\n",
              " ('Carcinoma',\n",
              "  '/content/grive/MyDrive/AI_Project1/Dataset/Carcinoma/ISIC_0028928.jpg'),\n",
              " ('Carcinoma',\n",
              "  '/content/grive/MyDrive/AI_Project1/Dataset/Carcinoma/ISIC_0029082.jpg'),\n",
              " ('Carcinoma',\n",
              "  '/content/grive/MyDrive/AI_Project1/Dataset/Carcinoma/ISIC_0028815.jpg'),\n",
              " ('Carcinoma',\n",
              "  '/content/grive/MyDrive/AI_Project1/Dataset/Carcinoma/ISIC_0028653.jpg'),\n",
              " ('Carcinoma',\n",
              "  '/content/grive/MyDrive/AI_Project1/Dataset/Carcinoma/ISIC_0029034.jpg'),\n",
              " ('Carcinoma',\n",
              "  '/content/grive/MyDrive/AI_Project1/Dataset/Carcinoma/ISIC_0028814.jpg'),\n",
              " ('Carcinoma',\n",
              "  '/content/grive/MyDrive/AI_Project1/Dataset/Carcinoma/ISIC_0028994.jpg'),\n",
              " ('Carcinoma',\n",
              "  '/content/grive/MyDrive/AI_Project1/Dataset/Carcinoma/ISIC_0028542.jpg'),\n",
              " ('Carcinoma',\n",
              "  '/content/grive/MyDrive/AI_Project1/Dataset/Carcinoma/ISIC_0028652.jpg'),\n",
              " ('Carcinoma',\n",
              "  '/content/grive/MyDrive/AI_Project1/Dataset/Carcinoma/ISIC_0028719.jpg'),\n",
              " ('Carcinoma',\n",
              "  '/content/grive/MyDrive/AI_Project1/Dataset/Carcinoma/ISIC_0028818.jpg'),\n",
              " ('Carcinoma',\n",
              "  '/content/grive/MyDrive/AI_Project1/Dataset/Carcinoma/ISIC_0028807.jpg'),\n",
              " ('Carcinoma',\n",
              "  '/content/grive/MyDrive/AI_Project1/Dataset/Carcinoma/ISIC_0029129.jpg'),\n",
              " ('Carcinoma',\n",
              "  '/content/grive/MyDrive/AI_Project1/Dataset/Carcinoma/ISIC_0028495.jpg'),\n",
              " ('Carcinoma',\n",
              "  '/content/grive/MyDrive/AI_Project1/Dataset/Carcinoma/ISIC_0029053.jpg'),\n",
              " ('Carcinoma',\n",
              "  '/content/grive/MyDrive/AI_Project1/Dataset/Carcinoma/ISIC_0028871.jpg'),\n",
              " ('Carcinoma',\n",
              "  '/content/grive/MyDrive/AI_Project1/Dataset/Carcinoma/ISIC_0028687.jpg'),\n",
              " ('Carcinoma',\n",
              "  '/content/grive/MyDrive/AI_Project1/Dataset/Carcinoma/ISIC_0028556.jpg'),\n",
              " ('Carcinoma',\n",
              "  '/content/grive/MyDrive/AI_Project1/Dataset/Carcinoma/ISIC_0028568.jpg'),\n",
              " ('Carcinoma',\n",
              "  '/content/grive/MyDrive/AI_Project1/Dataset/Carcinoma/ISIC_0028583.jpg'),\n",
              " ('Carcinoma',\n",
              "  '/content/grive/MyDrive/AI_Project1/Dataset/Carcinoma/ISIC_0028765.jpg'),\n",
              " ('Carcinoma',\n",
              "  '/content/grive/MyDrive/AI_Project1/Dataset/Carcinoma/ISIC_0028877.jpg'),\n",
              " ('Carcinoma',\n",
              "  '/content/grive/MyDrive/AI_Project1/Dataset/Carcinoma/ISIC_0028980.jpg'),\n",
              " ('Carcinoma',\n",
              "  '/content/grive/MyDrive/AI_Project1/Dataset/Carcinoma/ISIC_0028693.jpg'),\n",
              " ('Carcinoma',\n",
              "  '/content/grive/MyDrive/AI_Project1/Dataset/Carcinoma/ISIC_0028739.jpg'),\n",
              " ('Carcinoma',\n",
              "  '/content/grive/MyDrive/AI_Project1/Dataset/Carcinoma/ISIC_0028964.jpg'),\n",
              " ('Carcinoma',\n",
              "  '/content/grive/MyDrive/AI_Project1/Dataset/Carcinoma/ISIC_0028937.jpg'),\n",
              " ('Carcinoma',\n",
              "  '/content/grive/MyDrive/AI_Project1/Dataset/Carcinoma/ISIC_0028858.jpg'),\n",
              " ('Carcinoma',\n",
              "  '/content/grive/MyDrive/AI_Project1/Dataset/Carcinoma/ISIC_0028688.jpg'),\n",
              " ('Carcinoma',\n",
              "  '/content/grive/MyDrive/AI_Project1/Dataset/Carcinoma/ISIC_0028989.jpg'),\n",
              " ('Carcinoma',\n",
              "  '/content/grive/MyDrive/AI_Project1/Dataset/Carcinoma/ISIC_0028728.jpg'),\n",
              " ('Carcinoma',\n",
              "  '/content/grive/MyDrive/AI_Project1/Dataset/Carcinoma/ISIC_0028670.jpg'),\n",
              " ('Carcinoma',\n",
              "  '/content/grive/MyDrive/AI_Project1/Dataset/Carcinoma/ISIC_0028978.jpg'),\n",
              " ('Carcinoma',\n",
              "  '/content/grive/MyDrive/AI_Project1/Dataset/Carcinoma/ISIC_0029020.jpg'),\n",
              " ('Carcinoma',\n",
              "  '/content/grive/MyDrive/AI_Project1/Dataset/Carcinoma/ISIC_0029035.jpg'),\n",
              " ('Carcinoma',\n",
              "  '/content/grive/MyDrive/AI_Project1/Dataset/Carcinoma/ISIC_0028577.jpg'),\n",
              " ('Carcinoma',\n",
              "  '/content/grive/MyDrive/AI_Project1/Dataset/Carcinoma/ISIC_0025383.jpg'),\n",
              " ('Carcinoma',\n",
              "  '/content/grive/MyDrive/AI_Project1/Dataset/Carcinoma/ISIC_0029083.jpg'),\n",
              " ('Carcinoma',\n",
              "  '/content/grive/MyDrive/AI_Project1/Dataset/Carcinoma/ISIC_0025301.jpg'),\n",
              " ('Carcinoma',\n",
              "  '/content/grive/MyDrive/AI_Project1/Dataset/Carcinoma/ISIC_0025285.jpg'),\n",
              " ('Carcinoma',\n",
              "  '/content/grive/MyDrive/AI_Project1/Dataset/Carcinoma/ISIC_0025322.jpg'),\n",
              " ('Carcinoma',\n",
              "  '/content/grive/MyDrive/AI_Project1/Dataset/Carcinoma/ISIC_0028973.jpg'),\n",
              " ('Carcinoma',\n",
              "  '/content/grive/MyDrive/AI_Project1/Dataset/Carcinoma/ISIC_0029123.jpg'),\n",
              " ('Carcinoma',\n",
              "  '/content/grive/MyDrive/AI_Project1/Dataset/Carcinoma/ISIC_0025299.jpg'),\n",
              " ('Carcinoma',\n",
              "  '/content/grive/MyDrive/AI_Project1/Dataset/Carcinoma/ISIC_0025362.jpg'),\n",
              " ('Carcinoma',\n",
              "  '/content/grive/MyDrive/AI_Project1/Dataset/Carcinoma/ISIC_0028671.jpg'),\n",
              " ('Carcinoma',\n",
              "  '/content/grive/MyDrive/AI_Project1/Dataset/Carcinoma/ISIC_0028890.jpg'),\n",
              " ('Melanoma',\n",
              "  '/content/grive/MyDrive/AI_Project1/Dataset/Melanoma/ISIC_0000466.jpg'),\n",
              " ('Melanoma',\n",
              "  '/content/grive/MyDrive/AI_Project1/Dataset/Melanoma/ISIC_0000547.jpg'),\n",
              " ('Melanoma',\n",
              "  '/content/grive/MyDrive/AI_Project1/Dataset/Melanoma/ISIC_0000487 - Copy.jpg'),\n",
              " ('Melanoma',\n",
              "  '/content/grive/MyDrive/AI_Project1/Dataset/Melanoma/ISIC_0000517 - Copy.jpg'),\n",
              " ('Melanoma',\n",
              "  '/content/grive/MyDrive/AI_Project1/Dataset/Melanoma/ISIC_0000513 - Copy.jpg'),\n",
              " ('Melanoma',\n",
              "  '/content/grive/MyDrive/AI_Project1/Dataset/Melanoma/ISIC_0000445.jpg'),\n",
              " ('Melanoma',\n",
              "  '/content/grive/MyDrive/AI_Project1/Dataset/Melanoma/ISIC_0000502 - Copy.jpg'),\n",
              " ('Melanoma',\n",
              "  '/content/grive/MyDrive/AI_Project1/Dataset/Melanoma/ISIC_0000513.jpg'),\n",
              " ('Melanoma',\n",
              "  '/content/grive/MyDrive/AI_Project1/Dataset/Melanoma/ISIC_0000517.jpg'),\n",
              " ('Melanoma',\n",
              "  '/content/grive/MyDrive/AI_Project1/Dataset/Melanoma/ISIC_0000516.jpg'),\n",
              " ('Melanoma',\n",
              "  '/content/grive/MyDrive/AI_Project1/Dataset/Melanoma/ISIC_0000516 - Copy.jpg'),\n",
              " ('Melanoma',\n",
              "  '/content/grive/MyDrive/AI_Project1/Dataset/Melanoma/ISIC_0000511 - Copy.jpg'),\n",
              " ('Melanoma',\n",
              "  '/content/grive/MyDrive/AI_Project1/Dataset/Melanoma/ISIC_0000466 - Copy.jpg'),\n",
              " ('Melanoma',\n",
              "  '/content/grive/MyDrive/AI_Project1/Dataset/Melanoma/ISIC_0000526.jpg'),\n",
              " ('Melanoma',\n",
              "  '/content/grive/MyDrive/AI_Project1/Dataset/Melanoma/ISIC_0000445 - Copy.jpg'),\n",
              " ('Melanoma',\n",
              "  '/content/grive/MyDrive/AI_Project1/Dataset/Melanoma/ISIC_0000502.jpg'),\n",
              " ('Melanoma',\n",
              "  '/content/grive/MyDrive/AI_Project1/Dataset/Melanoma/ISIC_0000482 - Copy.jpg'),\n",
              " ('Melanoma',\n",
              "  '/content/grive/MyDrive/AI_Project1/Dataset/Melanoma/ISIC_0000518 - Copy.jpg'),\n",
              " ('Melanoma',\n",
              "  '/content/grive/MyDrive/AI_Project1/Dataset/Melanoma/ISIC_0000520 - Copy.jpg'),\n",
              " ('Melanoma',\n",
              "  '/content/grive/MyDrive/AI_Project1/Dataset/Melanoma/ISIC_0000520.jpg'),\n",
              " ('Melanoma',\n",
              "  '/content/grive/MyDrive/AI_Project1/Dataset/Melanoma/ISIC_0000519.jpg'),\n",
              " ('Melanoma',\n",
              "  '/content/grive/MyDrive/AI_Project1/Dataset/Melanoma/ISIC_0000548.jpg'),\n",
              " ('Melanoma',\n",
              "  '/content/grive/MyDrive/AI_Project1/Dataset/Melanoma/ISIC_0000518.jpg'),\n",
              " ('Melanoma',\n",
              "  '/content/grive/MyDrive/AI_Project1/Dataset/Melanoma/ISIC_0000521 - Copy.jpg'),\n",
              " ('Melanoma',\n",
              "  '/content/grive/MyDrive/AI_Project1/Dataset/Melanoma/ISIC_0000462.jpg'),\n",
              " ('Melanoma',\n",
              "  '/content/grive/MyDrive/AI_Project1/Dataset/Melanoma/ISIC_0000519 - Copy.jpg'),\n",
              " ('Melanoma',\n",
              "  '/content/grive/MyDrive/AI_Project1/Dataset/Melanoma/ISIC_0000487.jpg'),\n",
              " ('Melanoma',\n",
              "  '/content/grive/MyDrive/AI_Project1/Dataset/Melanoma/ISIC_0000459.jpg'),\n",
              " ('Melanoma',\n",
              "  '/content/grive/MyDrive/AI_Project1/Dataset/Melanoma/ISIC_0000521.jpg'),\n",
              " ('Melanoma',\n",
              "  '/content/grive/MyDrive/AI_Project1/Dataset/Melanoma/ISIC_0000522.jpg'),\n",
              " ('Melanoma',\n",
              "  '/content/grive/MyDrive/AI_Project1/Dataset/Melanoma/ISIC_0000161.jpg'),\n",
              " ('Melanoma',\n",
              "  '/content/grive/MyDrive/AI_Project1/Dataset/Melanoma/ISIC_0000469 - Copy.jpg'),\n",
              " ('Melanoma',\n",
              "  '/content/grive/MyDrive/AI_Project1/Dataset/Melanoma/ISIC_0000484 - Copy.jpg'),\n",
              " ('Melanoma',\n",
              "  '/content/grive/MyDrive/AI_Project1/Dataset/Melanoma/ISIC_0000434 - Copy.jpg'),\n",
              " ('Melanoma',\n",
              "  '/content/grive/MyDrive/AI_Project1/Dataset/Melanoma/ISIC_0000158.jpg'),\n",
              " ('Melanoma',\n",
              "  '/content/grive/MyDrive/AI_Project1/Dataset/Melanoma/ISIC_0000444.jpg'),\n",
              " ('Melanoma',\n",
              "  '/content/grive/MyDrive/AI_Project1/Dataset/Melanoma/ISIC_0000463 - Copy.jpg'),\n",
              " ('Melanoma',\n",
              "  '/content/grive/MyDrive/AI_Project1/Dataset/Melanoma/ISIC_0000459 - Copy.jpg'),\n",
              " ('Melanoma',\n",
              "  '/content/grive/MyDrive/AI_Project1/Dataset/Melanoma/ISIC_0000162.jpg'),\n",
              " ('Melanoma',\n",
              "  '/content/grive/MyDrive/AI_Project1/Dataset/Melanoma/ISIC_0000469.jpg'),\n",
              " ('Melanoma',\n",
              "  '/content/grive/MyDrive/AI_Project1/Dataset/Melanoma/ISIC_0000159.jpg'),\n",
              " ('Melanoma',\n",
              "  '/content/grive/MyDrive/AI_Project1/Dataset/Melanoma/ISIC_0000462 - Copy.jpg'),\n",
              " ('Melanoma',\n",
              "  '/content/grive/MyDrive/AI_Project1/Dataset/Melanoma/ISIC_0000522 - Copy.jpg'),\n",
              " ('Melanoma',\n",
              "  '/content/grive/MyDrive/AI_Project1/Dataset/Melanoma/ISIC_0000446 - Copy.jpg'),\n",
              " ('Melanoma',\n",
              "  '/content/grive/MyDrive/AI_Project1/Dataset/Melanoma/ISIC_0000157.jpg'),\n",
              " ('Melanoma',\n",
              "  '/content/grive/MyDrive/AI_Project1/Dataset/Melanoma/ISIC_0000450 - Copy.jpg'),\n",
              " ('Melanoma',\n",
              "  '/content/grive/MyDrive/AI_Project1/Dataset/Melanoma/ISIC_0000441 - Copy.jpg'),\n",
              " ('Melanoma',\n",
              "  '/content/grive/MyDrive/AI_Project1/Dataset/Melanoma/ISIC_0000153 - Copy.jpg'),\n",
              " ('Melanoma',\n",
              "  '/content/grive/MyDrive/AI_Project1/Dataset/Melanoma/ISIC_0000533.jpg'),\n",
              " ('Melanoma',\n",
              "  '/content/grive/MyDrive/AI_Project1/Dataset/Melanoma/ISIC_0000153.jpg'),\n",
              " ('Melanoma',\n",
              "  '/content/grive/MyDrive/AI_Project1/Dataset/Melanoma/ISIC_0000440.jpg'),\n",
              " ('Melanoma',\n",
              "  '/content/grive/MyDrive/AI_Project1/Dataset/Melanoma/ISIC_0000155.jpg'),\n",
              " ('Melanoma',\n",
              "  '/content/grive/MyDrive/AI_Project1/Dataset/Melanoma/ISIC_0000160.jpg'),\n",
              " ('Melanoma',\n",
              "  '/content/grive/MyDrive/AI_Project1/Dataset/Melanoma/ISIC_0000463.jpg'),\n",
              " ('Melanoma',\n",
              "  '/content/grive/MyDrive/AI_Project1/Dataset/Melanoma/ISIC_0000155 - Copy.jpg'),\n",
              " ('Melanoma',\n",
              "  '/content/grive/MyDrive/AI_Project1/Dataset/Melanoma/ISIC_0000156 - Copy.jpg'),\n",
              " ('Melanoma',\n",
              "  '/content/grive/MyDrive/AI_Project1/Dataset/Melanoma/ISIC_0000154.jpg'),\n",
              " ('Melanoma',\n",
              "  '/content/grive/MyDrive/AI_Project1/Dataset/Melanoma/ISIC_0000156.jpg'),\n",
              " ('Melanoma',\n",
              "  '/content/grive/MyDrive/AI_Project1/Dataset/Melanoma/ISIC_0000444 - Copy.jpg'),\n",
              " ('Melanoma',\n",
              "  '/content/grive/MyDrive/AI_Project1/Dataset/Melanoma/ISIC_0000152 - Copy.jpg'),\n",
              " ('Melanoma',\n",
              "  '/content/grive/MyDrive/AI_Project1/Dataset/Melanoma/ISIC_0000440 - Copy.jpg'),\n",
              " ('Melanoma',\n",
              "  '/content/grive/MyDrive/AI_Project1/Dataset/Melanoma/ISIC_0000151.jpg'),\n",
              " ('Melanoma',\n",
              "  '/content/grive/MyDrive/AI_Project1/Dataset/Melanoma/ISIC_0000152.jpg'),\n",
              " ('Melanoma',\n",
              "  '/content/grive/MyDrive/AI_Project1/Dataset/Melanoma/ISIC_0000154 - Copy.jpg'),\n",
              " ('Nevus',\n",
              "  '/content/grive/MyDrive/AI_Project1/Dataset/Nevus/ISIC_0000433.jpg'),\n",
              " ('Nevus',\n",
              "  '/content/grive/MyDrive/AI_Project1/Dataset/Nevus/ISIC_0000427.jpg'),\n",
              " ('Nevus',\n",
              "  '/content/grive/MyDrive/AI_Project1/Dataset/Nevus/ISIC_0000425.jpg'),\n",
              " ('Nevus',\n",
              "  '/content/grive/MyDrive/AI_Project1/Dataset/Nevus/ISIC_0000422.jpg'),\n",
              " ('Nevus',\n",
              "  '/content/grive/MyDrive/AI_Project1/Dataset/Nevus/ISIC_0000421.jpg'),\n",
              " ('Nevus',\n",
              "  '/content/grive/MyDrive/AI_Project1/Dataset/Nevus/ISIC_0000397.jpg'),\n",
              " ('Nevus',\n",
              "  '/content/grive/MyDrive/AI_Project1/Dataset/Nevus/ISIC_0000422(1).jpg'),\n",
              " ('Nevus',\n",
              "  '/content/grive/MyDrive/AI_Project1/Dataset/Nevus/ISIC_0000431.jpg'),\n",
              " ('Nevus',\n",
              "  '/content/grive/MyDrive/AI_Project1/Dataset/Nevus/ISIC_0000423.jpg'),\n",
              " ('Nevus',\n",
              "  '/content/grive/MyDrive/AI_Project1/Dataset/Nevus/ISIC_0000424.jpg'),\n",
              " ('Nevus',\n",
              "  '/content/grive/MyDrive/AI_Project1/Dataset/Nevus/ISIC_0000419(1)(1).jpg'),\n",
              " ('Nevus',\n",
              "  '/content/grive/MyDrive/AI_Project1/Dataset/Nevus/ISIC_0000419.jpg'),\n",
              " ('Nevus',\n",
              "  '/content/grive/MyDrive/AI_Project1/Dataset/Nevus/ISIC_0000407(1).jpg'),\n",
              " ('Nevus',\n",
              "  '/content/grive/MyDrive/AI_Project1/Dataset/Nevus/ISIC_0000391.jpg'),\n",
              " ('Nevus',\n",
              "  '/content/grive/MyDrive/AI_Project1/Dataset/Nevus/ISIC_0000426.jpg'),\n",
              " ('Nevus',\n",
              "  '/content/grive/MyDrive/AI_Project1/Dataset/Nevus/ISIC_0000416.jpg'),\n",
              " ('Nevus',\n",
              "  '/content/grive/MyDrive/AI_Project1/Dataset/Nevus/ISIC_0000409.jpg'),\n",
              " ('Nevus',\n",
              "  '/content/grive/MyDrive/AI_Project1/Dataset/Nevus/ISIC_0000409(1).jpg'),\n",
              " ('Nevus',\n",
              "  '/content/grive/MyDrive/AI_Project1/Dataset/Nevus/ISIC_0000418(1).jpg'),\n",
              " ('Nevus',\n",
              "  '/content/grive/MyDrive/AI_Project1/Dataset/Nevus/ISIC_0000419(1).jpg'),\n",
              " ('Nevus',\n",
              "  '/content/grive/MyDrive/AI_Project1/Dataset/Nevus/ISIC_0000430.jpg'),\n",
              " ('Nevus',\n",
              "  '/content/grive/MyDrive/AI_Project1/Dataset/Nevus/ISIC_0000419(2).jpg'),\n",
              " ('Nevus',\n",
              "  '/content/grive/MyDrive/AI_Project1/Dataset/Nevus/ISIC_0000392.jpg'),\n",
              " ('Nevus',\n",
              "  '/content/grive/MyDrive/AI_Project1/Dataset/Nevus/ISIC_0000407.jpg'),\n",
              " ('Nevus',\n",
              "  '/content/grive/MyDrive/AI_Project1/Dataset/Nevus/ISIC_0000388.jpg'),\n",
              " ('Nevus',\n",
              "  '/content/grive/MyDrive/AI_Project1/Dataset/Nevus/ISIC_0000403.jpg'),\n",
              " ('Nevus',\n",
              "  '/content/grive/MyDrive/AI_Project1/Dataset/Nevus/ISIC_0000386.jpg'),\n",
              " ('Nevus',\n",
              "  '/content/grive/MyDrive/AI_Project1/Dataset/Nevus/ISIC_0000384.jpg'),\n",
              " ('Nevus',\n",
              "  '/content/grive/MyDrive/AI_Project1/Dataset/Nevus/ISIC_0000082.jpg'),\n",
              " ('Nevus',\n",
              "  '/content/grive/MyDrive/AI_Project1/Dataset/Nevus/ISIC_0000387.jpg'),\n",
              " ('Nevus',\n",
              "  '/content/grive/MyDrive/AI_Project1/Dataset/Nevus/ISIC_0000389.jpg'),\n",
              " ('Nevus',\n",
              "  '/content/grive/MyDrive/AI_Project1/Dataset/Nevus/ISIC_0000383.jpg'),\n",
              " ('Nevus',\n",
              "  '/content/grive/MyDrive/AI_Project1/Dataset/Nevus/ISIC_0000396.jpg'),\n",
              " ('Nevus',\n",
              "  '/content/grive/MyDrive/AI_Project1/Dataset/Nevus/ISIC_0000237 - Copy.jpg'),\n",
              " ('Nevus',\n",
              "  '/content/grive/MyDrive/AI_Project1/Dataset/Nevus/ISIC_0000238 - Copy.jpg'),\n",
              " ('Nevus',\n",
              "  '/content/grive/MyDrive/AI_Project1/Dataset/Nevus/ISIC_0000065.jpg'),\n",
              " ('Nevus',\n",
              "  '/content/grive/MyDrive/AI_Project1/Dataset/Nevus/ISIC_0000319 - Copy.jpg'),\n",
              " ('Nevus',\n",
              "  '/content/grive/MyDrive/AI_Project1/Dataset/Nevus/ISIC_0000385.jpg'),\n",
              " ('Nevus',\n",
              "  '/content/grive/MyDrive/AI_Project1/Dataset/Nevus/ISIC_0000080.jpg'),\n",
              " ('Nevus',\n",
              "  '/content/grive/MyDrive/AI_Project1/Dataset/Nevus/ISIC_0000067.jpg'),\n",
              " ('Nevus',\n",
              "  '/content/grive/MyDrive/AI_Project1/Dataset/Nevus/ISIC_0000068.jpg'),\n",
              " ('Nevus',\n",
              "  '/content/grive/MyDrive/AI_Project1/Dataset/Nevus/ISIC_0000418.jpg'),\n",
              " ('Nevus',\n",
              "  '/content/grive/MyDrive/AI_Project1/Dataset/Nevus/ISIC_0000240 - Copy.jpg'),\n",
              " ('Nevus',\n",
              "  '/content/grive/MyDrive/AI_Project1/Dataset/Nevus/ISIC_0000408.jpg'),\n",
              " ('Nevus',\n",
              "  '/content/grive/MyDrive/AI_Project1/Dataset/Nevus/ISIC_0000403(1).jpg'),\n",
              " ('Nevus',\n",
              "  '/content/grive/MyDrive/AI_Project1/Dataset/Nevus/ISIC_0000057.jpg'),\n",
              " ('Nevus',\n",
              "  '/content/grive/MyDrive/AI_Project1/Dataset/Nevus/ISIC_0000066.jpg'),\n",
              " ('Nevus',\n",
              "  '/content/grive/MyDrive/AI_Project1/Dataset/Nevus/ISIC_0000073.jpg'),\n",
              " ('Nevus',\n",
              "  '/content/grive/MyDrive/AI_Project1/Dataset/Nevus/ISIC_0000239 - Copy.jpg'),\n",
              " ('Nevus',\n",
              "  '/content/grive/MyDrive/AI_Project1/Dataset/Nevus/ISIC_0000062.jpg'),\n",
              " ('Nevus',\n",
              "  '/content/grive/MyDrive/AI_Project1/Dataset/Nevus/ISIC_0000079.jpg'),\n",
              " ('Nevus',\n",
              "  '/content/grive/MyDrive/AI_Project1/Dataset/Nevus/ISIC_0000081.jpg'),\n",
              " ('Nevus',\n",
              "  '/content/grive/MyDrive/AI_Project1/Dataset/Nevus/ISIC_0000061.jpg'),\n",
              " ('Nevus',\n",
              "  '/content/grive/MyDrive/AI_Project1/Dataset/Nevus/ISIC_0000063.jpg'),\n",
              " ('Nevus',\n",
              "  '/content/grive/MyDrive/AI_Project1/Dataset/Nevus/ISIC_0000060.jpg'),\n",
              " ('Nevus',\n",
              "  '/content/grive/MyDrive/AI_Project1/Dataset/Nevus/ISIC_0000055.jpg'),\n",
              " ('Nevus',\n",
              "  '/content/grive/MyDrive/AI_Project1/Dataset/Nevus/ISIC_0000058.jpg'),\n",
              " ('Nevus',\n",
              "  '/content/grive/MyDrive/AI_Project1/Dataset/Nevus/ISIC_0000059.jpg'),\n",
              " ('Nevus',\n",
              "  '/content/grive/MyDrive/AI_Project1/Dataset/Nevus/ISIC_0000064.jpg')]"
            ]
          },
          "metadata": {},
          "execution_count": 52
        }
      ]
    },
    {
      "cell_type": "markdown",
      "source": [
        "### Add essential libaries to work with dataframes and arrays"
      ],
      "metadata": {
        "id": "MBKry6jX2rCT"
      }
    },
    {
      "cell_type": "code",
      "source": [
        "import pandas as pd\n",
        "import numpy as np"
      ],
      "metadata": {
        "id": "eCVZtXvG18QS"
      },
      "execution_count": 53,
      "outputs": []
    },
    {
      "cell_type": "code",
      "source": [
        "conditions_df = pd.DataFrame(data=conditions, columns=['condition_type', 'image_name'])\n",
        "print(conditions_df.head())\n",
        "print(conditions_df.tail())"
      ],
      "metadata": {
        "colab": {
          "base_uri": "https://localhost:8080/"
        },
        "id": "-77lVOrv1zOp",
        "outputId": "7654bace-667a-4f17-fe5e-d322f219cb8f"
      },
      "execution_count": 54,
      "outputs": [
        {
          "output_type": "stream",
          "name": "stdout",
          "text": [
            "  condition_type                                         image_name\n",
            "0      Carcinoma  /content/grive/MyDrive/AI_Project1/Dataset/Car...\n",
            "1      Carcinoma  /content/grive/MyDrive/AI_Project1/Dataset/Car...\n",
            "2      Carcinoma  /content/grive/MyDrive/AI_Project1/Dataset/Car...\n",
            "3      Carcinoma  /content/grive/MyDrive/AI_Project1/Dataset/Car...\n",
            "4      Carcinoma  /content/grive/MyDrive/AI_Project1/Dataset/Car...\n",
            "    condition_type                                         image_name\n",
            "168          Nevus  /content/grive/MyDrive/AI_Project1/Dataset/Nev...\n",
            "169          Nevus  /content/grive/MyDrive/AI_Project1/Dataset/Nev...\n",
            "170          Nevus  /content/grive/MyDrive/AI_Project1/Dataset/Nev...\n",
            "171          Nevus  /content/grive/MyDrive/AI_Project1/Dataset/Nev...\n",
            "172          Nevus  /content/grive/MyDrive/AI_Project1/Dataset/Nev...\n"
          ]
        }
      ]
    },
    {
      "cell_type": "markdown",
      "source": [
        "### Count the number of pictures of all conditions"
      ],
      "metadata": {
        "id": "I-b3eumDCdGj"
      }
    },
    {
      "cell_type": "code",
      "source": [
        "print(\"Total number of conditions' pictures in the dataset: \", len(conditions_df))"
      ],
      "metadata": {
        "id": "cuSERlAU2x_H",
        "colab": {
          "base_uri": "https://localhost:8080/"
        },
        "outputId": "9d04ac51-7683-4afa-c2b1-fac03a110c61"
      },
      "execution_count": 55,
      "outputs": [
        {
          "output_type": "stream",
          "name": "stdout",
          "text": [
            "Total number of conditions' pictures in the dataset:  173\n"
          ]
        }
      ]
    },
    {
      "cell_type": "markdown",
      "source": [
        "### Count the number of condition's pictures in each category of conditions"
      ],
      "metadata": {
        "id": "wU0-mPJDCxPo"
      }
    },
    {
      "cell_type": "code",
      "source": [
        "condition_count = conditions_df['condition_type'].value_counts()\n",
        "\n",
        "print(\"condition's pictures in each category: \")\n",
        "print(condition_count)"
      ],
      "metadata": {
        "colab": {
          "base_uri": "https://localhost:8080/"
        },
        "id": "aBHoGgL1Cxmy",
        "outputId": "e100a8a7-979c-4b12-bc79-73c033ca5505"
      },
      "execution_count": 56,
      "outputs": [
        {
          "output_type": "stream",
          "name": "stdout",
          "text": [
            "condition's pictures in each category: \n",
            "condition_type\n",
            "Melanoma     64\n",
            "Nevus        59\n",
            "Carcinoma    50\n",
            "Name: count, dtype: int64\n"
          ]
        }
      ]
    },
    {
      "cell_type": "code",
      "source": [
        "import cv2\n",
        "im_size = 224\n",
        "\n",
        "images = []\n",
        "labels = []\n",
        "count = 0\n",
        "flag = True\n",
        "sample = 0\n",
        "for condition in different_skin_conditions:\n",
        "    condition_data_path = dataset_path + '/' + condition\n",
        "    filenames = [i for i in os.listdir(condition_data_path) ]\n",
        "\n",
        "    for filename in filenames:\n",
        "        flag = True\n",
        "        img = cv2.imread(condition_data_path + '/' + filename)\n",
        "        img = cv2.resize(img, (im_size, im_size))\n",
        "\n",
        "        # Check if it is a copy\n",
        "        for i in images:\n",
        "          diff = cv2.absdiff(img, i)\n",
        "          sample = diff\n",
        "          mean_diff = np.mean(diff)\n",
        "          if mean_diff == 0:\n",
        "            if flag:\n",
        "               count+=1\n",
        "            flag = False\n",
        "        if(flag):\n",
        "          images.append(img)\n",
        "          labels.append(condition)\n",
        "\n",
        "print(len(labels))\n",
        "print(len(images))\n",
        "print(sample)\n",
        "count\n"
      ],
      "metadata": {
        "colab": {
          "base_uri": "https://localhost:8080/"
        },
        "id": "4rgYbmj0Cyxv",
        "outputId": "4c98ca5f-d347-46b9-d07c-bc1b19d9c9bd"
      },
      "execution_count": 57,
      "outputs": [
        {
          "output_type": "stream",
          "name": "stdout",
          "text": [
            "142\n",
            "142\n",
            "[[[ 1  3  3]\n",
            "  [ 3  0  1]\n",
            "  [ 1  0  1]\n",
            "  ...\n",
            "  [ 1  3  2]\n",
            "  [ 2  1  1]\n",
            "  [ 0  4  4]]\n",
            "\n",
            " [[ 8  2  5]\n",
            "  [12  0  3]\n",
            "  [ 8  5  7]\n",
            "  ...\n",
            "  [ 2  2  2]\n",
            "  [ 3  5  5]\n",
            "  [ 3  3  3]]\n",
            "\n",
            " [[ 2  3  3]\n",
            "  [ 2  4  3]\n",
            "  [ 4  2  4]\n",
            "  ...\n",
            "  [ 4  4  4]\n",
            "  [11  8  8]\n",
            "  [ 7  4  4]]\n",
            "\n",
            " ...\n",
            "\n",
            " [[ 0  3  1]\n",
            "  [ 5  4  2]\n",
            "  [ 5  0  5]\n",
            "  ...\n",
            "  [ 0  1  1]\n",
            "  [ 1  2  2]\n",
            "  [ 2  2  2]]\n",
            "\n",
            " [[ 9  1  8]\n",
            "  [10  2  9]\n",
            "  [ 5  3  4]\n",
            "  ...\n",
            "  [ 2  1  5]\n",
            "  [ 5  5  5]\n",
            "  [ 0  0  0]]\n",
            "\n",
            " [[ 6  0  5]\n",
            "  [ 4  0  2]\n",
            "  [ 4  0  2]\n",
            "  ...\n",
            "  [ 0  1  1]\n",
            "  [ 2  2  2]\n",
            "  [ 0  0  0]]]\n"
          ]
        },
        {
          "output_type": "execute_result",
          "data": {
            "text/plain": [
              "31"
            ]
          },
          "metadata": {},
          "execution_count": 57
        }
      ]
    },
    {
      "cell_type": "markdown",
      "source": [
        "### Transform the image into a numpy array"
      ],
      "metadata": {
        "id": "ye9UScF7EU-N"
      }
    },
    {
      "cell_type": "code",
      "source": [
        "images = np.array(images)\n",
        "images.shape"
      ],
      "metadata": {
        "colab": {
          "base_uri": "https://localhost:8080/"
        },
        "id": "-A2qP57hET4s",
        "outputId": "f7fcb8b8-cec7-4183-d90c-d77354e327b2"
      },
      "execution_count": 58,
      "outputs": [
        {
          "output_type": "execute_result",
          "data": {
            "text/plain": [
              "(142, 224, 224, 3)"
            ]
          },
          "metadata": {},
          "execution_count": 58
        }
      ]
    },
    {
      "cell_type": "markdown",
      "source": [
        "### Scale and normalize our data"
      ],
      "metadata": {
        "id": "2nt_8FGLEvxX"
      }
    },
    {
      "cell_type": "code",
      "source": [
        "images = images / 255.0"
      ],
      "metadata": {
        "id": "hddpd1whEvXD"
      },
      "execution_count": 59,
      "outputs": []
    },
    {
      "cell_type": "markdown",
      "source": [
        "### Import necessary classes and library to do some preprocessing like label encoding and one-hot encoding"
      ],
      "metadata": {
        "id": "IQWxm1a3FGoI"
      }
    },
    {
      "cell_type": "code",
      "source": [
        "from sklearn.preprocessing import LabelEncoder , OneHotEncoder"
      ],
      "metadata": {
        "id": "D3Y3VKg6FGO4"
      },
      "execution_count": 60,
      "outputs": []
    },
    {
      "cell_type": "markdown",
      "source": [
        "### Achieve conditions of each picture in our dataframe"
      ],
      "metadata": {
        "id": "PpGOmeyyGlG2"
      }
    },
    {
      "cell_type": "code",
      "source": [
        "# y=conditions_df[\"condition_type\"].values\n",
        "y = np.array(labels)\n",
        "y"
      ],
      "metadata": {
        "colab": {
          "base_uri": "https://localhost:8080/"
        },
        "id": "0cKLoSlbF1mt",
        "outputId": "8cc3e45f-3579-4923-d619-5aa6669f3120"
      },
      "execution_count": 61,
      "outputs": [
        {
          "output_type": "execute_result",
          "data": {
            "text/plain": [
              "array(['Carcinoma', 'Carcinoma', 'Carcinoma', 'Carcinoma', 'Carcinoma',\n",
              "       'Carcinoma', 'Carcinoma', 'Carcinoma', 'Carcinoma', 'Carcinoma',\n",
              "       'Carcinoma', 'Carcinoma', 'Carcinoma', 'Carcinoma', 'Carcinoma',\n",
              "       'Carcinoma', 'Carcinoma', 'Carcinoma', 'Carcinoma', 'Carcinoma',\n",
              "       'Carcinoma', 'Carcinoma', 'Carcinoma', 'Carcinoma', 'Carcinoma',\n",
              "       'Carcinoma', 'Carcinoma', 'Carcinoma', 'Carcinoma', 'Carcinoma',\n",
              "       'Carcinoma', 'Carcinoma', 'Carcinoma', 'Carcinoma', 'Carcinoma',\n",
              "       'Carcinoma', 'Carcinoma', 'Carcinoma', 'Carcinoma', 'Carcinoma',\n",
              "       'Carcinoma', 'Carcinoma', 'Carcinoma', 'Carcinoma', 'Carcinoma',\n",
              "       'Carcinoma', 'Carcinoma', 'Carcinoma', 'Carcinoma', 'Carcinoma',\n",
              "       'Melanoma', 'Melanoma', 'Melanoma', 'Melanoma', 'Melanoma',\n",
              "       'Melanoma', 'Melanoma', 'Melanoma', 'Melanoma', 'Melanoma',\n",
              "       'Melanoma', 'Melanoma', 'Melanoma', 'Melanoma', 'Melanoma',\n",
              "       'Melanoma', 'Melanoma', 'Melanoma', 'Melanoma', 'Melanoma',\n",
              "       'Melanoma', 'Melanoma', 'Melanoma', 'Melanoma', 'Melanoma',\n",
              "       'Melanoma', 'Melanoma', 'Melanoma', 'Melanoma', 'Melanoma',\n",
              "       'Melanoma', 'Melanoma', 'Melanoma', 'Melanoma', 'Melanoma',\n",
              "       'Melanoma', 'Melanoma', 'Melanoma', 'Melanoma', 'Melanoma',\n",
              "       'Melanoma', 'Nevus', 'Nevus', 'Nevus', 'Nevus', 'Nevus', 'Nevus',\n",
              "       'Nevus', 'Nevus', 'Nevus', 'Nevus', 'Nevus', 'Nevus', 'Nevus',\n",
              "       'Nevus', 'Nevus', 'Nevus', 'Nevus', 'Nevus', 'Nevus', 'Nevus',\n",
              "       'Nevus', 'Nevus', 'Nevus', 'Nevus', 'Nevus', 'Nevus', 'Nevus',\n",
              "       'Nevus', 'Nevus', 'Nevus', 'Nevus', 'Nevus', 'Nevus', 'Nevus',\n",
              "       'Nevus', 'Nevus', 'Nevus', 'Nevus', 'Nevus', 'Nevus', 'Nevus',\n",
              "       'Nevus', 'Nevus', 'Nevus', 'Nevus', 'Nevus', 'Nevus', 'Nevus',\n",
              "       'Nevus', 'Nevus', 'Nevus'], dtype='<U9')"
            ]
          },
          "metadata": {},
          "execution_count": 61
        }
      ]
    },
    {
      "cell_type": "markdown",
      "source": [
        "* #### Label encoding"
      ],
      "metadata": {
        "id": "P_UAg6RnFX7-"
      }
    },
    {
      "cell_type": "markdown",
      "source": [
        "Used to convert categorical data (data with distinct labels or categories) into numerical form."
      ],
      "metadata": {
        "id": "gnETnzWTMUdm"
      }
    },
    {
      "cell_type": "markdown",
      "source": [
        "**fit_transform method:**\n",
        "\n",
        "* **Fitting:** It learns the unique categories in the 'y' data. For example, if 'y' contains categories like ['Nevus', 'Carcinoma', 'Melanoma'], the fit step assigns the integer labels 0, 1, and 2 to these categories, respectively.\n",
        "\n",
        "* **Transforming:** After learning the unique categories, it replaces each category in the 'y' data with its corresponding numerical label. So, if 'y' originally contained values like ['Nevus', 'Carcinoma', 'Melanoma'], after the transformation, 'y' will contain the numerical labels assigned in the fitting step."
      ],
      "metadata": {
        "id": "kD7VpITjH_kw"
      }
    },
    {
      "cell_type": "code",
      "source": [
        "# Instantiate from the LabelEncoder class to work with\n",
        "y_labelencoder = LabelEncoder ()\n",
        "# Perform label encoding on the y data\n",
        "y = y_labelencoder.fit_transform (y)\n",
        "y"
      ],
      "metadata": {
        "colab": {
          "base_uri": "https://localhost:8080/"
        },
        "id": "1YcbyhMoIjb1",
        "outputId": "8b3fbf99-1b44-4392-a379-8dbc05895bb7"
      },
      "execution_count": 62,
      "outputs": [
        {
          "output_type": "execute_result",
          "data": {
            "text/plain": [
              "array([0, 0, 0, 0, 0, 0, 0, 0, 0, 0, 0, 0, 0, 0, 0, 0, 0, 0, 0, 0, 0, 0,\n",
              "       0, 0, 0, 0, 0, 0, 0, 0, 0, 0, 0, 0, 0, 0, 0, 0, 0, 0, 0, 0, 0, 0,\n",
              "       0, 0, 0, 0, 0, 0, 1, 1, 1, 1, 1, 1, 1, 1, 1, 1, 1, 1, 1, 1, 1, 1,\n",
              "       1, 1, 1, 1, 1, 1, 1, 1, 1, 1, 1, 1, 1, 1, 1, 1, 1, 1, 1, 1, 1, 1,\n",
              "       1, 1, 1, 2, 2, 2, 2, 2, 2, 2, 2, 2, 2, 2, 2, 2, 2, 2, 2, 2, 2, 2,\n",
              "       2, 2, 2, 2, 2, 2, 2, 2, 2, 2, 2, 2, 2, 2, 2, 2, 2, 2, 2, 2, 2, 2,\n",
              "       2, 2, 2, 2, 2, 2, 2, 2, 2, 2])"
            ]
          },
          "metadata": {},
          "execution_count": 62
        }
      ]
    },
    {
      "cell_type": "markdown",
      "source": [
        "* #### One-hot encoding"
      ],
      "metadata": {
        "id": "lCJzjvBbFdyf"
      }
    },
    {
      "cell_type": "markdown",
      "source": [
        "In one-hot encoding, each category is represented by a separate binary column (either 0 or 1). If there are 'n' categories, 'n' new binary columns are created. When a data point belongs to a particular category, the corresponding binary column for that category will have a value of 1, and all other columns will have a value of 0."
      ],
      "metadata": {
        "id": "2NrZbwCzMnFR"
      }
    },
    {
      "cell_type": "markdown",
      "source": [
        "### At first we need to reshape the y data"
      ],
      "metadata": {
        "id": "EvPN1uWTOPXH"
      }
    },
    {
      "cell_type": "markdown",
      "source": [
        "#### **reshape(-1,1)**\n",
        "\n",
        "* **first arqument:** the number of rows\n",
        "\n",
        "* **second argument**: the number of columns\n",
        "\n",
        "In Python, using \"-1\" in a specific context, like the reshape() function, means you are specifying the number of elements in that dimension of the array. This feature allows you to maintain the total number of elements in the array while changing its shape or dimensions."
      ],
      "metadata": {
        "id": "gHg8lBXFJMzi"
      }
    },
    {
      "cell_type": "code",
      "source": [
        "y=y.reshape(-1,1)\n",
        "y"
      ],
      "metadata": {
        "colab": {
          "base_uri": "https://localhost:8080/"
        },
        "id": "LmAC4iD5I0BC",
        "outputId": "d618bb65-20a8-4d65-d2b6-15690a768eed"
      },
      "execution_count": 63,
      "outputs": [
        {
          "output_type": "execute_result",
          "data": {
            "text/plain": [
              "array([[0],\n",
              "       [0],\n",
              "       [0],\n",
              "       [0],\n",
              "       [0],\n",
              "       [0],\n",
              "       [0],\n",
              "       [0],\n",
              "       [0],\n",
              "       [0],\n",
              "       [0],\n",
              "       [0],\n",
              "       [0],\n",
              "       [0],\n",
              "       [0],\n",
              "       [0],\n",
              "       [0],\n",
              "       [0],\n",
              "       [0],\n",
              "       [0],\n",
              "       [0],\n",
              "       [0],\n",
              "       [0],\n",
              "       [0],\n",
              "       [0],\n",
              "       [0],\n",
              "       [0],\n",
              "       [0],\n",
              "       [0],\n",
              "       [0],\n",
              "       [0],\n",
              "       [0],\n",
              "       [0],\n",
              "       [0],\n",
              "       [0],\n",
              "       [0],\n",
              "       [0],\n",
              "       [0],\n",
              "       [0],\n",
              "       [0],\n",
              "       [0],\n",
              "       [0],\n",
              "       [0],\n",
              "       [0],\n",
              "       [0],\n",
              "       [0],\n",
              "       [0],\n",
              "       [0],\n",
              "       [0],\n",
              "       [0],\n",
              "       [1],\n",
              "       [1],\n",
              "       [1],\n",
              "       [1],\n",
              "       [1],\n",
              "       [1],\n",
              "       [1],\n",
              "       [1],\n",
              "       [1],\n",
              "       [1],\n",
              "       [1],\n",
              "       [1],\n",
              "       [1],\n",
              "       [1],\n",
              "       [1],\n",
              "       [1],\n",
              "       [1],\n",
              "       [1],\n",
              "       [1],\n",
              "       [1],\n",
              "       [1],\n",
              "       [1],\n",
              "       [1],\n",
              "       [1],\n",
              "       [1],\n",
              "       [1],\n",
              "       [1],\n",
              "       [1],\n",
              "       [1],\n",
              "       [1],\n",
              "       [1],\n",
              "       [1],\n",
              "       [1],\n",
              "       [1],\n",
              "       [1],\n",
              "       [1],\n",
              "       [1],\n",
              "       [1],\n",
              "       [1],\n",
              "       [1],\n",
              "       [1],\n",
              "       [2],\n",
              "       [2],\n",
              "       [2],\n",
              "       [2],\n",
              "       [2],\n",
              "       [2],\n",
              "       [2],\n",
              "       [2],\n",
              "       [2],\n",
              "       [2],\n",
              "       [2],\n",
              "       [2],\n",
              "       [2],\n",
              "       [2],\n",
              "       [2],\n",
              "       [2],\n",
              "       [2],\n",
              "       [2],\n",
              "       [2],\n",
              "       [2],\n",
              "       [2],\n",
              "       [2],\n",
              "       [2],\n",
              "       [2],\n",
              "       [2],\n",
              "       [2],\n",
              "       [2],\n",
              "       [2],\n",
              "       [2],\n",
              "       [2],\n",
              "       [2],\n",
              "       [2],\n",
              "       [2],\n",
              "       [2],\n",
              "       [2],\n",
              "       [2],\n",
              "       [2],\n",
              "       [2],\n",
              "       [2],\n",
              "       [2],\n",
              "       [2],\n",
              "       [2],\n",
              "       [2],\n",
              "       [2],\n",
              "       [2],\n",
              "       [2],\n",
              "       [2],\n",
              "       [2],\n",
              "       [2],\n",
              "       [2],\n",
              "       [2]])"
            ]
          },
          "metadata": {},
          "execution_count": 63
        }
      ]
    },
    {
      "cell_type": "markdown",
      "source": [
        "#### **OneHotEncoder(categories='auto', sparse=False)**\n",
        "* **categories='auto':** This argument tells the OneHotEncoder function to automatically find the categories in the data.\n",
        "\n",
        "* **sparse=False:** This argument specifies the output format. When you set sparse=False, the function will return the one-hot encoded output in a dense format, like below output."
      ],
      "metadata": {
        "id": "IJ8Bo10LXwn2"
      }
    },
    {
      "cell_type": "code",
      "source": [
        "# Instantiate an object from the OneHotEncoder class to work with\n",
        "onehotencoder=OneHotEncoder(categories='auto', sparse=False)\n",
        "# Apply the one-hot encoding to the data\n",
        "Y= onehotencoder.fit_transform(y)\n",
        "\n",
        "print(f\"The dimentions before one-hot encoding: {y.shape}\")\n",
        "\n",
        "print(f\"The dimentions after one-hot encoding: {Y.shape}\")\n",
        "\n",
        "Y"
      ],
      "metadata": {
        "colab": {
          "base_uri": "https://localhost:8080/"
        },
        "id": "bfemRKbXE1nW",
        "outputId": "49f0c54a-d829-42d7-dc02-63d750425e5f"
      },
      "execution_count": 64,
      "outputs": [
        {
          "output_type": "stream",
          "name": "stdout",
          "text": [
            "The dimentions before one-hot encoding: (142, 1)\n",
            "The dimentions after one-hot encoding: (142, 3)\n"
          ]
        },
        {
          "output_type": "stream",
          "name": "stderr",
          "text": [
            "/usr/local/lib/python3.10/dist-packages/sklearn/preprocessing/_encoders.py:868: FutureWarning: `sparse` was renamed to `sparse_output` in version 1.2 and will be removed in 1.4. `sparse_output` is ignored unless you leave `sparse` to its default value.\n",
            "  warnings.warn(\n"
          ]
        },
        {
          "output_type": "execute_result",
          "data": {
            "text/plain": [
              "array([[1., 0., 0.],\n",
              "       [1., 0., 0.],\n",
              "       [1., 0., 0.],\n",
              "       [1., 0., 0.],\n",
              "       [1., 0., 0.],\n",
              "       [1., 0., 0.],\n",
              "       [1., 0., 0.],\n",
              "       [1., 0., 0.],\n",
              "       [1., 0., 0.],\n",
              "       [1., 0., 0.],\n",
              "       [1., 0., 0.],\n",
              "       [1., 0., 0.],\n",
              "       [1., 0., 0.],\n",
              "       [1., 0., 0.],\n",
              "       [1., 0., 0.],\n",
              "       [1., 0., 0.],\n",
              "       [1., 0., 0.],\n",
              "       [1., 0., 0.],\n",
              "       [1., 0., 0.],\n",
              "       [1., 0., 0.],\n",
              "       [1., 0., 0.],\n",
              "       [1., 0., 0.],\n",
              "       [1., 0., 0.],\n",
              "       [1., 0., 0.],\n",
              "       [1., 0., 0.],\n",
              "       [1., 0., 0.],\n",
              "       [1., 0., 0.],\n",
              "       [1., 0., 0.],\n",
              "       [1., 0., 0.],\n",
              "       [1., 0., 0.],\n",
              "       [1., 0., 0.],\n",
              "       [1., 0., 0.],\n",
              "       [1., 0., 0.],\n",
              "       [1., 0., 0.],\n",
              "       [1., 0., 0.],\n",
              "       [1., 0., 0.],\n",
              "       [1., 0., 0.],\n",
              "       [1., 0., 0.],\n",
              "       [1., 0., 0.],\n",
              "       [1., 0., 0.],\n",
              "       [1., 0., 0.],\n",
              "       [1., 0., 0.],\n",
              "       [1., 0., 0.],\n",
              "       [1., 0., 0.],\n",
              "       [1., 0., 0.],\n",
              "       [1., 0., 0.],\n",
              "       [1., 0., 0.],\n",
              "       [1., 0., 0.],\n",
              "       [1., 0., 0.],\n",
              "       [1., 0., 0.],\n",
              "       [0., 1., 0.],\n",
              "       [0., 1., 0.],\n",
              "       [0., 1., 0.],\n",
              "       [0., 1., 0.],\n",
              "       [0., 1., 0.],\n",
              "       [0., 1., 0.],\n",
              "       [0., 1., 0.],\n",
              "       [0., 1., 0.],\n",
              "       [0., 1., 0.],\n",
              "       [0., 1., 0.],\n",
              "       [0., 1., 0.],\n",
              "       [0., 1., 0.],\n",
              "       [0., 1., 0.],\n",
              "       [0., 1., 0.],\n",
              "       [0., 1., 0.],\n",
              "       [0., 1., 0.],\n",
              "       [0., 1., 0.],\n",
              "       [0., 1., 0.],\n",
              "       [0., 1., 0.],\n",
              "       [0., 1., 0.],\n",
              "       [0., 1., 0.],\n",
              "       [0., 1., 0.],\n",
              "       [0., 1., 0.],\n",
              "       [0., 1., 0.],\n",
              "       [0., 1., 0.],\n",
              "       [0., 1., 0.],\n",
              "       [0., 1., 0.],\n",
              "       [0., 1., 0.],\n",
              "       [0., 1., 0.],\n",
              "       [0., 1., 0.],\n",
              "       [0., 1., 0.],\n",
              "       [0., 1., 0.],\n",
              "       [0., 1., 0.],\n",
              "       [0., 1., 0.],\n",
              "       [0., 1., 0.],\n",
              "       [0., 1., 0.],\n",
              "       [0., 1., 0.],\n",
              "       [0., 1., 0.],\n",
              "       [0., 1., 0.],\n",
              "       [0., 1., 0.],\n",
              "       [0., 1., 0.],\n",
              "       [0., 0., 1.],\n",
              "       [0., 0., 1.],\n",
              "       [0., 0., 1.],\n",
              "       [0., 0., 1.],\n",
              "       [0., 0., 1.],\n",
              "       [0., 0., 1.],\n",
              "       [0., 0., 1.],\n",
              "       [0., 0., 1.],\n",
              "       [0., 0., 1.],\n",
              "       [0., 0., 1.],\n",
              "       [0., 0., 1.],\n",
              "       [0., 0., 1.],\n",
              "       [0., 0., 1.],\n",
              "       [0., 0., 1.],\n",
              "       [0., 0., 1.],\n",
              "       [0., 0., 1.],\n",
              "       [0., 0., 1.],\n",
              "       [0., 0., 1.],\n",
              "       [0., 0., 1.],\n",
              "       [0., 0., 1.],\n",
              "       [0., 0., 1.],\n",
              "       [0., 0., 1.],\n",
              "       [0., 0., 1.],\n",
              "       [0., 0., 1.],\n",
              "       [0., 0., 1.],\n",
              "       [0., 0., 1.],\n",
              "       [0., 0., 1.],\n",
              "       [0., 0., 1.],\n",
              "       [0., 0., 1.],\n",
              "       [0., 0., 1.],\n",
              "       [0., 0., 1.],\n",
              "       [0., 0., 1.],\n",
              "       [0., 0., 1.],\n",
              "       [0., 0., 1.],\n",
              "       [0., 0., 1.],\n",
              "       [0., 0., 1.],\n",
              "       [0., 0., 1.],\n",
              "       [0., 0., 1.],\n",
              "       [0., 0., 1.],\n",
              "       [0., 0., 1.],\n",
              "       [0., 0., 1.],\n",
              "       [0., 0., 1.],\n",
              "       [0., 0., 1.],\n",
              "       [0., 0., 1.],\n",
              "       [0., 0., 1.],\n",
              "       [0., 0., 1.],\n",
              "       [0., 0., 1.],\n",
              "       [0., 0., 1.],\n",
              "       [0., 0., 1.],\n",
              "       [0., 0., 1.],\n",
              "       [0., 0., 1.]])"
            ]
          },
          "metadata": {},
          "execution_count": 64
        }
      ]
    },
    {
      "cell_type": "markdown",
      "source": [
        "**random_state=1:** The purpose of random_state is to ensure reproducibility of the shuffling results. As long as you use the same random_state value across different runs of your code, you will get the same shuffled order.\n",
        "\n",
        "When you set random_state to a specific value, you are effectively setting a seed for the random number generator. This seed ensures that the same sequence of random numbers will be generated every time the code is executed"
      ],
      "metadata": {
        "id": "iPlsLL9smRUM"
      }
    },
    {
      "cell_type": "code",
      "source": [
        "from sklearn.utils import shuffle\n",
        "\n",
        "images, Y = shuffle(images, Y, random_state=1)\n",
        "\n",
        "Y"
      ],
      "metadata": {
        "colab": {
          "base_uri": "https://localhost:8080/"
        },
        "id": "_MUW10jXlv6Y",
        "outputId": "0ee50e82-32f9-443a-b4f7-56c175bf5b6c"
      },
      "execution_count": 65,
      "outputs": [
        {
          "output_type": "execute_result",
          "data": {
            "text/plain": [
              "array([[0., 1., 0.],\n",
              "       [0., 0., 1.],\n",
              "       [1., 0., 0.],\n",
              "       [1., 0., 0.],\n",
              "       [0., 0., 1.],\n",
              "       [1., 0., 0.],\n",
              "       [1., 0., 0.],\n",
              "       [1., 0., 0.],\n",
              "       [0., 1., 0.],\n",
              "       [0., 1., 0.],\n",
              "       [0., 0., 1.],\n",
              "       [0., 1., 0.],\n",
              "       [0., 1., 0.],\n",
              "       [0., 0., 1.],\n",
              "       [1., 0., 0.],\n",
              "       [1., 0., 0.],\n",
              "       [1., 0., 0.],\n",
              "       [0., 1., 0.],\n",
              "       [0., 1., 0.],\n",
              "       [1., 0., 0.],\n",
              "       [1., 0., 0.],\n",
              "       [0., 0., 1.],\n",
              "       [0., 0., 1.],\n",
              "       [0., 0., 1.],\n",
              "       [0., 1., 0.],\n",
              "       [1., 0., 0.],\n",
              "       [1., 0., 0.],\n",
              "       [0., 0., 1.],\n",
              "       [0., 1., 0.],\n",
              "       [0., 0., 1.],\n",
              "       [1., 0., 0.],\n",
              "       [1., 0., 0.],\n",
              "       [0., 1., 0.],\n",
              "       [0., 0., 1.],\n",
              "       [0., 0., 1.],\n",
              "       [0., 1., 0.],\n",
              "       [1., 0., 0.],\n",
              "       [1., 0., 0.],\n",
              "       [0., 0., 1.],\n",
              "       [1., 0., 0.],\n",
              "       [1., 0., 0.],\n",
              "       [0., 0., 1.],\n",
              "       [0., 0., 1.],\n",
              "       [0., 1., 0.],\n",
              "       [1., 0., 0.],\n",
              "       [0., 1., 0.],\n",
              "       [0., 1., 0.],\n",
              "       [0., 0., 1.],\n",
              "       [1., 0., 0.],\n",
              "       [0., 1., 0.],\n",
              "       [0., 0., 1.],\n",
              "       [1., 0., 0.],\n",
              "       [1., 0., 0.],\n",
              "       [0., 1., 0.],\n",
              "       [0., 0., 1.],\n",
              "       [0., 0., 1.],\n",
              "       [1., 0., 0.],\n",
              "       [0., 0., 1.],\n",
              "       [0., 1., 0.],\n",
              "       [0., 0., 1.],\n",
              "       [0., 0., 1.],\n",
              "       [0., 0., 1.],\n",
              "       [0., 0., 1.],\n",
              "       [0., 0., 1.],\n",
              "       [0., 1., 0.],\n",
              "       [0., 0., 1.],\n",
              "       [0., 1., 0.],\n",
              "       [1., 0., 0.],\n",
              "       [0., 1., 0.],\n",
              "       [0., 1., 0.],\n",
              "       [0., 0., 1.],\n",
              "       [0., 0., 1.],\n",
              "       [1., 0., 0.],\n",
              "       [1., 0., 0.],\n",
              "       [1., 0., 0.],\n",
              "       [0., 0., 1.],\n",
              "       [1., 0., 0.],\n",
              "       [0., 0., 1.],\n",
              "       [0., 0., 1.],\n",
              "       [1., 0., 0.],\n",
              "       [1., 0., 0.],\n",
              "       [0., 1., 0.],\n",
              "       [0., 0., 1.],\n",
              "       [0., 0., 1.],\n",
              "       [0., 0., 1.],\n",
              "       [0., 0., 1.],\n",
              "       [0., 0., 1.],\n",
              "       [0., 1., 0.],\n",
              "       [0., 0., 1.],\n",
              "       [0., 0., 1.],\n",
              "       [0., 1., 0.],\n",
              "       [1., 0., 0.],\n",
              "       [0., 1., 0.],\n",
              "       [1., 0., 0.],\n",
              "       [0., 1., 0.],\n",
              "       [0., 1., 0.],\n",
              "       [1., 0., 0.],\n",
              "       [0., 1., 0.],\n",
              "       [1., 0., 0.],\n",
              "       [1., 0., 0.],\n",
              "       [0., 0., 1.],\n",
              "       [0., 0., 1.],\n",
              "       [0., 0., 1.],\n",
              "       [1., 0., 0.],\n",
              "       [1., 0., 0.],\n",
              "       [0., 1., 0.],\n",
              "       [1., 0., 0.],\n",
              "       [0., 0., 1.],\n",
              "       [1., 0., 0.],\n",
              "       [0., 0., 1.],\n",
              "       [0., 0., 1.],\n",
              "       [1., 0., 0.],\n",
              "       [0., 0., 1.],\n",
              "       [0., 1., 0.],\n",
              "       [1., 0., 0.],\n",
              "       [0., 1., 0.],\n",
              "       [0., 1., 0.],\n",
              "       [1., 0., 0.],\n",
              "       [1., 0., 0.],\n",
              "       [0., 1., 0.],\n",
              "       [1., 0., 0.],\n",
              "       [0., 1., 0.],\n",
              "       [0., 1., 0.],\n",
              "       [1., 0., 0.],\n",
              "       [1., 0., 0.],\n",
              "       [0., 0., 1.],\n",
              "       [1., 0., 0.],\n",
              "       [0., 1., 0.],\n",
              "       [0., 0., 1.],\n",
              "       [0., 1., 0.],\n",
              "       [0., 1., 0.],\n",
              "       [0., 0., 1.],\n",
              "       [1., 0., 0.],\n",
              "       [1., 0., 0.],\n",
              "       [0., 1., 0.],\n",
              "       [0., 0., 1.],\n",
              "       [0., 1., 0.],\n",
              "       [0., 0., 1.],\n",
              "       [0., 0., 1.],\n",
              "       [0., 1., 0.],\n",
              "       [0., 0., 1.],\n",
              "       [1., 0., 0.]])"
            ]
          },
          "metadata": {},
          "execution_count": 65
        }
      ]
    },
    {
      "cell_type": "code",
      "source": [
        "from sklearn.model_selection import train_test_split\n",
        "\n",
        "X_train, X_valid, y_train, y_valid = train_test_split(images, Y, test_size=0.30, random_state=42)\n",
        "\n",
        "print(X_train.shape)\n",
        "print(y_train.shape)\n",
        "print(X_valid.shape)\n",
        "print(y_valid.shape)"
      ],
      "metadata": {
        "colab": {
          "base_uri": "https://localhost:8080/"
        },
        "id": "iVHx2cs3mX7I",
        "outputId": "d106b67c-275c-45f5-f893-020247ec546b"
      },
      "execution_count": 66,
      "outputs": [
        {
          "output_type": "stream",
          "name": "stdout",
          "text": [
            "(99, 224, 224, 3)\n",
            "(99, 3)\n",
            "(43, 224, 224, 3)\n",
            "(43, 3)\n"
          ]
        }
      ]
    },
    {
      "cell_type": "markdown",
      "source": [
        "### Necessary libraries and modules and classes to work with neural network models"
      ],
      "metadata": {
        "id": "o9YGSdAfm65Z"
      }
    },
    {
      "cell_type": "code",
      "source": [
        "from keras.models import Model\n",
        "\n",
        "from keras.layers import Input, Add, Dense, Activation,BatchNormalization, Flatten, Conv2D, Dropout, AveragePooling2D, MaxPooling2D, GlobalMaxPooling2D\n",
        "\n",
        "from keras import Sequential"
      ],
      "metadata": {
        "id": "8EeAnkAnsdEn"
      },
      "execution_count": 83,
      "outputs": []
    },
    {
      "cell_type": "markdown",
      "source": [
        "### Import the library to initialize our parameters (weights and biases)"
      ],
      "metadata": {
        "id": "-KhNofXt1RW4"
      }
    },
    {
      "cell_type": "code",
      "source": [
        "from keras.initializers import glorot_uniform, he_normal"
      ],
      "metadata": {
        "id": "Vk45LZDG1Q7g"
      },
      "execution_count": 68,
      "outputs": []
    },
    {
      "cell_type": "markdown",
      "source": [
        "### Import the library to plot the results"
      ],
      "metadata": {
        "id": "NEgl2YHE1byU"
      }
    },
    {
      "cell_type": "code",
      "source": [
        "import matplotlib.pyplot as plt"
      ],
      "metadata": {
        "id": "TiXRoMUnuQvV"
      },
      "execution_count": 69,
      "outputs": []
    },
    {
      "cell_type": "markdown",
      "source": [
        "### Function to show the accuracy of the model in each epoch"
      ],
      "metadata": {
        "id": "Om71hlOL19Ly"
      }
    },
    {
      "cell_type": "code",
      "source": [
        "def display_accuracy(history):\n",
        "  plt.plot(history.history['accuracy'])\n",
        "  plt.plot(history.history['val_accuracy'])\n",
        "  plt.title('model accuracy')\n",
        "  plt.ylabel('accuracy')\n",
        "  plt.xlabel('epoch')\n",
        "  plt.legend(['Train accuracy', 'Validation accuracy','Train loss'], loc='upper right')\n",
        "  # plt.ylim(ymax=2, ymin=0)\n",
        "  plt.show()"
      ],
      "metadata": {
        "id": "gaIWBnUtuCQb"
      },
      "execution_count": 70,
      "outputs": []
    },
    {
      "cell_type": "markdown",
      "source": [
        "### Function to show the loss of the model in each epoch"
      ],
      "metadata": {
        "id": "GWLa_7Mo2EcV"
      }
    },
    {
      "cell_type": "code",
      "source": [
        "def display_loss(history):\n",
        "  plt.plot(history.history['loss'])\n",
        "  plt.plot(history.history['val_loss'])\n",
        "  plt.title('model loss')\n",
        "  plt.ylabel('loss')\n",
        "  plt.xlabel('epoch')\n",
        "  plt.legend(['Train loss', 'Validation loss'], loc='upper left')\n",
        "  # plt.ylim(ymax=3, ymin=0)\n",
        "  plt.show()\n"
      ],
      "metadata": {
        "id": "77Vb5v_IuIwD"
      },
      "execution_count": 71,
      "outputs": []
    },
    {
      "cell_type": "markdown",
      "source": [
        "### Compute the confusion matrix and classification report"
      ],
      "metadata": {
        "id": "NdOflvww17T-"
      }
    },
    {
      "cell_type": "code",
      "source": [
        "import sklearn.metrics as metrics\n",
        "from sklearn.metrics import confusion_matrix\n",
        "from sklearn.metrics import classification_report\n",
        "\n",
        "def compute_confusion_matrix_and_classification_report(model):\n",
        "  Y_pred = model.predict(X_valid)\n",
        "  y_pred = np.argmax(Y_pred, axis=1)\n",
        "  y_val1=np.argmax(y_valid,axis=1)\n",
        "  print('\\nConfusion Matrix')\n",
        "  cm=confusion_matrix(y_val1, y_pred)\n",
        "  print(cm)\n",
        "\n",
        "  print('\\nClassification Report')\n",
        "  class_labels = different_skin_conditions\n",
        "\n",
        "  report = classification_report(y_val1, y_pred, target_names=class_labels)\n",
        "  print(report)"
      ],
      "metadata": {
        "id": "ULIw8MwODoVt"
      },
      "execution_count": 72,
      "outputs": []
    },
    {
      "cell_type": "markdown",
      "source": [
        "### Necessary blocks and models for ResNet50"
      ],
      "metadata": {
        "id": "jy5yhXEvnF3N"
      }
    },
    {
      "cell_type": "markdown",
      "source": [
        "#### Identity block"
      ],
      "metadata": {
        "id": "V3MTuQbDnK2_"
      }
    },
    {
      "cell_type": "code",
      "source": [
        "def identity_block(X, f, filters, stage, block):\n",
        "\n",
        "\n",
        "\n",
        "    conv_name_base = 'res' + str(stage) + block + '_branch'\n",
        "    bn_name_base = 'bn' + str(stage) + block + '_branch'\n",
        "\n",
        "\n",
        "    F1, F2, F3 = filters\n",
        "\n",
        "\n",
        "    X_shortcut = X\n",
        "\n",
        "\n",
        "    X = Conv2D(filters = F1, kernel_size = (1, 1), strides = (1,1), padding = 'valid', name = conv_name_base + '2a')(X)\n",
        "    X = BatchNormalization(axis = 3, name = bn_name_base + '2a')(X)\n",
        "    X = Activation('relu')(X)\n",
        "\n",
        "\n",
        "    X = Conv2D(filters = F2, kernel_size = (f, f), strides = (1,1), padding = 'same', name = conv_name_base + '2b')(X)\n",
        "    X = BatchNormalization(axis = 3, name = bn_name_base + '2b')(X)\n",
        "    X = Activation('relu')(X)\n",
        "\n",
        "\n",
        "    X = Conv2D(filters = F3, kernel_size = (1, 1), strides = (1,1), padding = 'valid', name = conv_name_base + '2c')(X)\n",
        "    X = BatchNormalization(axis = 3, name = bn_name_base + '2c')(X)\n",
        "\n",
        "\n",
        "    X = Add()([X, X_shortcut])\n",
        "    X = Activation('relu')(X)\n",
        "\n",
        "\n",
        "    return X"
      ],
      "metadata": {
        "id": "8N7fwFTIsOU-"
      },
      "execution_count": 73,
      "outputs": []
    },
    {
      "cell_type": "markdown",
      "source": [
        "#### Convolutional block"
      ],
      "metadata": {
        "id": "FsujMqvLnPfW"
      }
    },
    {
      "cell_type": "code",
      "source": [
        "def convolutional_block(X, f, filters, stage, block, s = 2):\n",
        "\n",
        "\n",
        "    conv_name_base = 'res' + str(stage) + block + '_branch'\n",
        "    bn_name_base = 'bn' + str(stage) + block + '_branch'\n",
        "\n",
        "\n",
        "    F1, F2, F3 = filters\n",
        "\n",
        "\n",
        "    X_shortcut = X\n",
        "\n",
        "\n",
        "\n",
        "    X = Conv2D(F1, (1, 1), strides = (s,s), name = conv_name_base + '2a')(X)\n",
        "    X = BatchNormalization(axis = 3, name = bn_name_base + '2a')(X)\n",
        "    X = Activation('relu')(X)\n",
        "\n",
        "\n",
        "\n",
        "    X = Conv2D(filters = F2, kernel_size = (f, f), strides = (1,1), padding = 'same', name = conv_name_base + '2b')(X)\n",
        "    X = BatchNormalization(axis = 3, name = bn_name_base + '2b')(X)\n",
        "    X = Activation('relu')(X)\n",
        "\n",
        "\n",
        "\n",
        "    X = Conv2D(filters = F3, kernel_size = (1, 1), strides = (1,1), padding = 'valid', name = conv_name_base + '2c')(X)\n",
        "    X = BatchNormalization(axis = 3, name = bn_name_base + '2c')(X)\n",
        "\n",
        "\n",
        "\n",
        "    X_shortcut = Conv2D(filters = F3, kernel_size = (1, 1), strides = (s,s), padding = 'valid', name = conv_name_base + '1')(X_shortcut)\n",
        "    X_shortcut = BatchNormalization(axis = 3, name = bn_name_base + '1')(X_shortcut)\n",
        "\n",
        "\n",
        "    X = Add()([X, X_shortcut])\n",
        "    X = Activation('relu')(X)\n",
        "\n",
        "\n",
        "    return X"
      ],
      "metadata": {
        "id": "KE5u0QqQsT2O"
      },
      "execution_count": 74,
      "outputs": []
    },
    {
      "cell_type": "markdown",
      "source": [
        "#### The main ResNet50 model"
      ],
      "metadata": {
        "id": "cZmLU61tnTyG"
      }
    },
    {
      "cell_type": "code",
      "source": [
        "def ResNet50_from_scratch(input_shape=(224, 224, 3), classes=3):\n",
        "\n",
        "\n",
        "\n",
        "    X_input = Input(input_shape)\n",
        "\n",
        "\n",
        "    X = ZeroPadding2D((3, 3))(X_input)\n",
        "\n",
        "\n",
        "    X = Conv2D(64, (7, 7), strides=(2, 2), name='conv1')(X)\n",
        "    X = BatchNormalization(axis=3, name='bn_conv1')(X)\n",
        "    X = Activation('relu')(X)\n",
        "    X = MaxPooling2D((3, 3), strides=(2, 2))(X)\n",
        "\n",
        "\n",
        "    X = convolutional_block(X, f=3, filters=[64, 64, 256], stage=2, block='a', s=1)\n",
        "\n",
        "\n",
        "\n",
        "    X = identity_block(X, 3, [64, 64, 256], stage=2, block='b')\n",
        "\n",
        "\n",
        "\n",
        "\n",
        "    X = identity_block(X, 3, [64, 64, 256], stage=2, block='c')\n",
        "\n",
        "\n",
        "\n",
        "# --------------------------------------------------------------------------------------------------------------\n",
        "\n",
        "\n",
        "\n",
        "    X = convolutional_block(X, f = 3, filters = [128, 128, 512], stage = 3, block='a', s = 2)\n",
        "    X = identity_block(X, 3, [128, 128, 512], stage=3, block='b')\n",
        "    X = identity_block(X, 3, [128, 128, 512], stage=3, block='c')\n",
        "    X = identity_block(X, 3, [128, 128, 512], stage=3, block='d')\n",
        "\n",
        "\n",
        "    X = convolutional_block(X, f = 3, filters = [256, 256, 1024], stage = 4, block='a', s = 2)\n",
        "    X = identity_block(X, 3, [256, 256, 1024], stage=4, block='b')\n",
        "    X = identity_block(X, 3, [256, 256, 1024], stage=4, block='c')\n",
        "    X = identity_block(X, 3, [256, 256, 1024], stage=4, block='d')\n",
        "    X = identity_block(X, 3, [256, 256, 1024], stage=4, block='e')\n",
        "    X = identity_block(X, 3, [256, 256, 1024], stage=4, block='f')\n",
        "\n",
        "\n",
        "    X = convolutional_block(X, f = 3, filters = [512, 512, 2048], stage = 5, block='a', s = 2)\n",
        "    X = identity_block(X, 3, [512, 512, 2048], stage=5, block='b')\n",
        "    X = identity_block(X, 3, [512, 512, 2048], stage=5, block='c')\n",
        "\n",
        "\n",
        "    X = AveragePooling2D((2,2), name=\"avg_pool\")(X)\n",
        "\n",
        "\n",
        "\n",
        "\n",
        "    X = Flatten()(X)\n",
        "    X = Dense(classes, activation='softmax', name='fc' + str(classes), kernel_initializer = glorot_uniform(seed=0))(X)\n",
        "\n",
        "\n",
        "\n",
        "    model = Model(inputs = X_input, outputs = X, name='ResNet50')\n",
        "\n",
        "    return model\n"
      ],
      "metadata": {
        "id": "QrMz6Vg6rRGw"
      },
      "execution_count": 75,
      "outputs": []
    },
    {
      "cell_type": "markdown",
      "source": [
        "#**Note:**\n",
        "Train the entire model (frozen layers + new layers) with a very low learning rate\n",
        "\n",
        "A common starting point for the learning rate in transfer learning is between 1e-4 (0.0001) and 1e-5 (0.00001). This lower range helps in fine-tuning the pre-trained weights without making significant changes, allowing the new layers to learn from your small dataset.\n",
        "\n",
        "Pre-trained Model Strength: If the pre-trained model is already very strong on a similar task, you might use an even lower learning rate (e.g., 1e-6) to avoid disturbing the well-learned weights."
      ],
      "metadata": {
        "id": "eiCWM4OMrOHz"
      }
    },
    {
      "cell_type": "markdown",
      "source": [
        "### Make ResNet50 model from scratch"
      ],
      "metadata": {
        "id": "NTQ-QGF7nqMM"
      }
    },
    {
      "cell_type": "code",
      "source": [
        "# model = ResNet50_from_scratch(input_shape = (224, 224, 3), classes = 3)"
      ],
      "metadata": {
        "id": "Zv5HADWZrs4J"
      },
      "execution_count": 76,
      "outputs": []
    },
    {
      "cell_type": "markdown",
      "source": [
        "### OR Make ResNet50 model by using built-in functions and methods of tensorflow"
      ],
      "metadata": {
        "id": "5eU37rjYnuLK"
      }
    },
    {
      "cell_type": "markdown",
      "source": [
        "#### import the built in class for ResNet50 model"
      ],
      "metadata": {
        "id": "3EkhXBaE1Kn8"
      }
    },
    {
      "cell_type": "code",
      "source": [
        "from tensorflow.keras.applications import ResNet50"
      ],
      "metadata": {
        "id": "lZunSOwq1Ilh"
      },
      "execution_count": 77,
      "outputs": []
    },
    {
      "cell_type": "markdown",
      "source": [
        "#### Instantiate from the ResNet50 class as our base model"
      ],
      "metadata": {
        "id": "MCYEn0PS1ULY"
      }
    },
    {
      "cell_type": "code",
      "source": [
        "ResNet50_base = ResNet50(weights='imagenet', include_top=False, input_shape=(224, 224, 3))"
      ],
      "metadata": {
        "id": "xKBzzz_Y1TrI"
      },
      "execution_count": 78,
      "outputs": []
    },
    {
      "cell_type": "markdown",
      "source": [
        "#### Make the layers of ResNet50 base model untrainable"
      ],
      "metadata": {
        "id": "1utnlv8S1vfF"
      }
    },
    {
      "cell_type": "code",
      "source": [
        "for layer in ResNet50_base.layers:\n",
        "    layer.trainable = False"
      ],
      "metadata": {
        "id": "I9x3Ig3614bd"
      },
      "execution_count": 79,
      "outputs": []
    },
    {
      "cell_type": "markdown",
      "source": [
        "#### Make our own model by adding some layers"
      ],
      "metadata": {
        "id": "FXF7BK5b1lMg"
      }
    },
    {
      "cell_type": "code",
      "source": [
        "ResNet50_model = Sequential([\n",
        "    ResNet50_base,\n",
        "    Flatten(),\n",
        "    BatchNormalization(),\n",
        "    Dense(512, activation='relu', kernel_initializer = 'he_normal'),\n",
        "    BatchNormalization(),\n",
        "    Dropout(0.5),\n",
        "    Dense(512, activation='relu', kernel_initializer = 'he_normal'),\n",
        "    BatchNormalization(),\n",
        "    Dropout(0.5),\n",
        "    Dense(512, activation='relu', kernel_initializer = 'he_normal'),\n",
        "    BatchNormalization(),\n",
        "    Dropout(0.5),\n",
        "    Dense(512, activation='relu', kernel_initializer = 'he_normal'),\n",
        "    BatchNormalization(),\n",
        "    Dropout(0.5),\n",
        "    Dense(3, activation='softmax')\n",
        "])"
      ],
      "metadata": {
        "id": "80OWlj-InmYB"
      },
      "execution_count": 90,
      "outputs": []
    },
    {
      "cell_type": "markdown",
      "source": [
        "### Compile the model with adam optimizer and for multiclass classification, we have categorical_crossentropy loss function and we calculate the accuracy of our model"
      ],
      "metadata": {
        "id": "d8_lksHkoB0g"
      }
    },
    {
      "cell_type": "code",
      "source": [
        "ResNet50_model.compile(optimizer='adam', loss='categorical_crossentropy', metrics=['accuracy'])"
      ],
      "metadata": {
        "id": "tX0wJJiLrumS"
      },
      "execution_count": 91,
      "outputs": []
    },
    {
      "cell_type": "markdown",
      "source": [
        "### Review the structure of model"
      ],
      "metadata": {
        "id": "VJ65LjdvoXFM"
      }
    },
    {
      "cell_type": "code",
      "source": [
        "ResNet50_model.summary()"
      ],
      "metadata": {
        "colab": {
          "base_uri": "https://localhost:8080/"
        },
        "id": "zNyRYn4PrwsX",
        "outputId": "b8dbb0cb-b43b-434f-ee0e-fbceca182984"
      },
      "execution_count": 92,
      "outputs": [
        {
          "output_type": "stream",
          "name": "stdout",
          "text": [
            "Model: \"ResNet50\"\n",
            "__________________________________________________________________________________________________\n",
            " Layer (type)                Output Shape                 Param #   Connected to                  \n",
            "==================================================================================================\n",
            " input_5 (InputLayer)        [(None, 224, 224, 3)]        0         []                            \n",
            "                                                                                                  \n",
            " zero_padding2d_2 (ZeroPadd  (None, 230, 230, 3)          0         ['input_5[0][0]']             \n",
            " ing2D)                                                                                           \n",
            "                                                                                                  \n",
            " conv1 (Conv2D)              (None, 112, 112, 64)         9472      ['zero_padding2d_2[0][0]']    \n",
            "                                                                                                  \n",
            " bn_conv1 (BatchNormalizati  (None, 112, 112, 64)         256       ['conv1[0][0]']               \n",
            " on)                                                                                              \n",
            "                                                                                                  \n",
            " activation_98 (Activation)  (None, 112, 112, 64)         0         ['bn_conv1[0][0]']            \n",
            "                                                                                                  \n",
            " max_pooling2d_2 (MaxPoolin  (None, 55, 55, 64)           0         ['activation_98[0][0]']       \n",
            " g2D)                                                                                             \n",
            "                                                                                                  \n",
            " res2a_branch2a (Conv2D)     (None, 55, 55, 64)           4160      ['max_pooling2d_2[0][0]']     \n",
            "                                                                                                  \n",
            " bn2a_branch2a (BatchNormal  (None, 55, 55, 64)           256       ['res2a_branch2a[0][0]']      \n",
            " ization)                                                                                         \n",
            "                                                                                                  \n",
            " activation_99 (Activation)  (None, 55, 55, 64)           0         ['bn2a_branch2a[0][0]']       \n",
            "                                                                                                  \n",
            " res2a_branch2b (Conv2D)     (None, 55, 55, 64)           36928     ['activation_99[0][0]']       \n",
            "                                                                                                  \n",
            " bn2a_branch2b (BatchNormal  (None, 55, 55, 64)           256       ['res2a_branch2b[0][0]']      \n",
            " ization)                                                                                         \n",
            "                                                                                                  \n",
            " activation_100 (Activation  (None, 55, 55, 64)           0         ['bn2a_branch2b[0][0]']       \n",
            " )                                                                                                \n",
            "                                                                                                  \n",
            " res2a_branch2c (Conv2D)     (None, 55, 55, 256)          16640     ['activation_100[0][0]']      \n",
            "                                                                                                  \n",
            " res2a_branch1 (Conv2D)      (None, 55, 55, 256)          16640     ['max_pooling2d_2[0][0]']     \n",
            "                                                                                                  \n",
            " bn2a_branch2c (BatchNormal  (None, 55, 55, 256)          1024      ['res2a_branch2c[0][0]']      \n",
            " ization)                                                                                         \n",
            "                                                                                                  \n",
            " bn2a_branch1 (BatchNormali  (None, 55, 55, 256)          1024      ['res2a_branch1[0][0]']       \n",
            " zation)                                                                                          \n",
            "                                                                                                  \n",
            " add_32 (Add)                (None, 55, 55, 256)          0         ['bn2a_branch2c[0][0]',       \n",
            "                                                                     'bn2a_branch1[0][0]']        \n",
            "                                                                                                  \n",
            " activation_101 (Activation  (None, 55, 55, 256)          0         ['add_32[0][0]']              \n",
            " )                                                                                                \n",
            "                                                                                                  \n",
            " res2b_branch2a (Conv2D)     (None, 55, 55, 64)           16448     ['activation_101[0][0]']      \n",
            "                                                                                                  \n",
            " bn2b_branch2a (BatchNormal  (None, 55, 55, 64)           256       ['res2b_branch2a[0][0]']      \n",
            " ization)                                                                                         \n",
            "                                                                                                  \n",
            " activation_102 (Activation  (None, 55, 55, 64)           0         ['bn2b_branch2a[0][0]']       \n",
            " )                                                                                                \n",
            "                                                                                                  \n",
            " res2b_branch2b (Conv2D)     (None, 55, 55, 64)           36928     ['activation_102[0][0]']      \n",
            "                                                                                                  \n",
            " bn2b_branch2b (BatchNormal  (None, 55, 55, 64)           256       ['res2b_branch2b[0][0]']      \n",
            " ization)                                                                                         \n",
            "                                                                                                  \n",
            " activation_103 (Activation  (None, 55, 55, 64)           0         ['bn2b_branch2b[0][0]']       \n",
            " )                                                                                                \n",
            "                                                                                                  \n",
            " res2b_branch2c (Conv2D)     (None, 55, 55, 256)          16640     ['activation_103[0][0]']      \n",
            "                                                                                                  \n",
            " bn2b_branch2c (BatchNormal  (None, 55, 55, 256)          1024      ['res2b_branch2c[0][0]']      \n",
            " ization)                                                                                         \n",
            "                                                                                                  \n",
            " add_33 (Add)                (None, 55, 55, 256)          0         ['bn2b_branch2c[0][0]',       \n",
            "                                                                     'activation_101[0][0]']      \n",
            "                                                                                                  \n",
            " activation_104 (Activation  (None, 55, 55, 256)          0         ['add_33[0][0]']              \n",
            " )                                                                                                \n",
            "                                                                                                  \n",
            " res2c_branch2a (Conv2D)     (None, 55, 55, 64)           16448     ['activation_104[0][0]']      \n",
            "                                                                                                  \n",
            " bn2c_branch2a (BatchNormal  (None, 55, 55, 64)           256       ['res2c_branch2a[0][0]']      \n",
            " ization)                                                                                         \n",
            "                                                                                                  \n",
            " activation_105 (Activation  (None, 55, 55, 64)           0         ['bn2c_branch2a[0][0]']       \n",
            " )                                                                                                \n",
            "                                                                                                  \n",
            " res2c_branch2b (Conv2D)     (None, 55, 55, 64)           36928     ['activation_105[0][0]']      \n",
            "                                                                                                  \n",
            " bn2c_branch2b (BatchNormal  (None, 55, 55, 64)           256       ['res2c_branch2b[0][0]']      \n",
            " ization)                                                                                         \n",
            "                                                                                                  \n",
            " activation_106 (Activation  (None, 55, 55, 64)           0         ['bn2c_branch2b[0][0]']       \n",
            " )                                                                                                \n",
            "                                                                                                  \n",
            " res2c_branch2c (Conv2D)     (None, 55, 55, 256)          16640     ['activation_106[0][0]']      \n",
            "                                                                                                  \n",
            " bn2c_branch2c (BatchNormal  (None, 55, 55, 256)          1024      ['res2c_branch2c[0][0]']      \n",
            " ization)                                                                                         \n",
            "                                                                                                  \n",
            " add_34 (Add)                (None, 55, 55, 256)          0         ['bn2c_branch2c[0][0]',       \n",
            "                                                                     'activation_104[0][0]']      \n",
            "                                                                                                  \n",
            " activation_107 (Activation  (None, 55, 55, 256)          0         ['add_34[0][0]']              \n",
            " )                                                                                                \n",
            "                                                                                                  \n",
            " res3a_branch2a (Conv2D)     (None, 28, 28, 128)          32896     ['activation_107[0][0]']      \n",
            "                                                                                                  \n",
            " bn3a_branch2a (BatchNormal  (None, 28, 28, 128)          512       ['res3a_branch2a[0][0]']      \n",
            " ization)                                                                                         \n",
            "                                                                                                  \n",
            " activation_108 (Activation  (None, 28, 28, 128)          0         ['bn3a_branch2a[0][0]']       \n",
            " )                                                                                                \n",
            "                                                                                                  \n",
            " res3a_branch2b (Conv2D)     (None, 28, 28, 128)          147584    ['activation_108[0][0]']      \n",
            "                                                                                                  \n",
            " bn3a_branch2b (BatchNormal  (None, 28, 28, 128)          512       ['res3a_branch2b[0][0]']      \n",
            " ization)                                                                                         \n",
            "                                                                                                  \n",
            " activation_109 (Activation  (None, 28, 28, 128)          0         ['bn3a_branch2b[0][0]']       \n",
            " )                                                                                                \n",
            "                                                                                                  \n",
            " res3a_branch2c (Conv2D)     (None, 28, 28, 512)          66048     ['activation_109[0][0]']      \n",
            "                                                                                                  \n",
            " res3a_branch1 (Conv2D)      (None, 28, 28, 512)          131584    ['activation_107[0][0]']      \n",
            "                                                                                                  \n",
            " bn3a_branch2c (BatchNormal  (None, 28, 28, 512)          2048      ['res3a_branch2c[0][0]']      \n",
            " ization)                                                                                         \n",
            "                                                                                                  \n",
            " bn3a_branch1 (BatchNormali  (None, 28, 28, 512)          2048      ['res3a_branch1[0][0]']       \n",
            " zation)                                                                                          \n",
            "                                                                                                  \n",
            " add_35 (Add)                (None, 28, 28, 512)          0         ['bn3a_branch2c[0][0]',       \n",
            "                                                                     'bn3a_branch1[0][0]']        \n",
            "                                                                                                  \n",
            " activation_110 (Activation  (None, 28, 28, 512)          0         ['add_35[0][0]']              \n",
            " )                                                                                                \n",
            "                                                                                                  \n",
            " res3b_branch2a (Conv2D)     (None, 28, 28, 128)          65664     ['activation_110[0][0]']      \n",
            "                                                                                                  \n",
            " bn3b_branch2a (BatchNormal  (None, 28, 28, 128)          512       ['res3b_branch2a[0][0]']      \n",
            " ization)                                                                                         \n",
            "                                                                                                  \n",
            " activation_111 (Activation  (None, 28, 28, 128)          0         ['bn3b_branch2a[0][0]']       \n",
            " )                                                                                                \n",
            "                                                                                                  \n",
            " res3b_branch2b (Conv2D)     (None, 28, 28, 128)          147584    ['activation_111[0][0]']      \n",
            "                                                                                                  \n",
            " bn3b_branch2b (BatchNormal  (None, 28, 28, 128)          512       ['res3b_branch2b[0][0]']      \n",
            " ization)                                                                                         \n",
            "                                                                                                  \n",
            " activation_112 (Activation  (None, 28, 28, 128)          0         ['bn3b_branch2b[0][0]']       \n",
            " )                                                                                                \n",
            "                                                                                                  \n",
            " res3b_branch2c (Conv2D)     (None, 28, 28, 512)          66048     ['activation_112[0][0]']      \n",
            "                                                                                                  \n",
            " bn3b_branch2c (BatchNormal  (None, 28, 28, 512)          2048      ['res3b_branch2c[0][0]']      \n",
            " ization)                                                                                         \n",
            "                                                                                                  \n",
            " add_36 (Add)                (None, 28, 28, 512)          0         ['bn3b_branch2c[0][0]',       \n",
            "                                                                     'activation_110[0][0]']      \n",
            "                                                                                                  \n",
            " activation_113 (Activation  (None, 28, 28, 512)          0         ['add_36[0][0]']              \n",
            " )                                                                                                \n",
            "                                                                                                  \n",
            " res3c_branch2a (Conv2D)     (None, 28, 28, 128)          65664     ['activation_113[0][0]']      \n",
            "                                                                                                  \n",
            " bn3c_branch2a (BatchNormal  (None, 28, 28, 128)          512       ['res3c_branch2a[0][0]']      \n",
            " ization)                                                                                         \n",
            "                                                                                                  \n",
            " activation_114 (Activation  (None, 28, 28, 128)          0         ['bn3c_branch2a[0][0]']       \n",
            " )                                                                                                \n",
            "                                                                                                  \n",
            " res3c_branch2b (Conv2D)     (None, 28, 28, 128)          147584    ['activation_114[0][0]']      \n",
            "                                                                                                  \n",
            " bn3c_branch2b (BatchNormal  (None, 28, 28, 128)          512       ['res3c_branch2b[0][0]']      \n",
            " ization)                                                                                         \n",
            "                                                                                                  \n",
            " activation_115 (Activation  (None, 28, 28, 128)          0         ['bn3c_branch2b[0][0]']       \n",
            " )                                                                                                \n",
            "                                                                                                  \n",
            " res3c_branch2c (Conv2D)     (None, 28, 28, 512)          66048     ['activation_115[0][0]']      \n",
            "                                                                                                  \n",
            " bn3c_branch2c (BatchNormal  (None, 28, 28, 512)          2048      ['res3c_branch2c[0][0]']      \n",
            " ization)                                                                                         \n",
            "                                                                                                  \n",
            " add_37 (Add)                (None, 28, 28, 512)          0         ['bn3c_branch2c[0][0]',       \n",
            "                                                                     'activation_113[0][0]']      \n",
            "                                                                                                  \n",
            " activation_116 (Activation  (None, 28, 28, 512)          0         ['add_37[0][0]']              \n",
            " )                                                                                                \n",
            "                                                                                                  \n",
            " res3d_branch2a (Conv2D)     (None, 28, 28, 128)          65664     ['activation_116[0][0]']      \n",
            "                                                                                                  \n",
            " bn3d_branch2a (BatchNormal  (None, 28, 28, 128)          512       ['res3d_branch2a[0][0]']      \n",
            " ization)                                                                                         \n",
            "                                                                                                  \n",
            " activation_117 (Activation  (None, 28, 28, 128)          0         ['bn3d_branch2a[0][0]']       \n",
            " )                                                                                                \n",
            "                                                                                                  \n",
            " res3d_branch2b (Conv2D)     (None, 28, 28, 128)          147584    ['activation_117[0][0]']      \n",
            "                                                                                                  \n",
            " bn3d_branch2b (BatchNormal  (None, 28, 28, 128)          512       ['res3d_branch2b[0][0]']      \n",
            " ization)                                                                                         \n",
            "                                                                                                  \n",
            " activation_118 (Activation  (None, 28, 28, 128)          0         ['bn3d_branch2b[0][0]']       \n",
            " )                                                                                                \n",
            "                                                                                                  \n",
            " res3d_branch2c (Conv2D)     (None, 28, 28, 512)          66048     ['activation_118[0][0]']      \n",
            "                                                                                                  \n",
            " bn3d_branch2c (BatchNormal  (None, 28, 28, 512)          2048      ['res3d_branch2c[0][0]']      \n",
            " ization)                                                                                         \n",
            "                                                                                                  \n",
            " add_38 (Add)                (None, 28, 28, 512)          0         ['bn3d_branch2c[0][0]',       \n",
            "                                                                     'activation_116[0][0]']      \n",
            "                                                                                                  \n",
            " activation_119 (Activation  (None, 28, 28, 512)          0         ['add_38[0][0]']              \n",
            " )                                                                                                \n",
            "                                                                                                  \n",
            " res4a_branch2a (Conv2D)     (None, 14, 14, 256)          131328    ['activation_119[0][0]']      \n",
            "                                                                                                  \n",
            " bn4a_branch2a (BatchNormal  (None, 14, 14, 256)          1024      ['res4a_branch2a[0][0]']      \n",
            " ization)                                                                                         \n",
            "                                                                                                  \n",
            " activation_120 (Activation  (None, 14, 14, 256)          0         ['bn4a_branch2a[0][0]']       \n",
            " )                                                                                                \n",
            "                                                                                                  \n",
            " res4a_branch2b (Conv2D)     (None, 14, 14, 256)          590080    ['activation_120[0][0]']      \n",
            "                                                                                                  \n",
            " bn4a_branch2b (BatchNormal  (None, 14, 14, 256)          1024      ['res4a_branch2b[0][0]']      \n",
            " ization)                                                                                         \n",
            "                                                                                                  \n",
            " activation_121 (Activation  (None, 14, 14, 256)          0         ['bn4a_branch2b[0][0]']       \n",
            " )                                                                                                \n",
            "                                                                                                  \n",
            " res4a_branch2c (Conv2D)     (None, 14, 14, 1024)         263168    ['activation_121[0][0]']      \n",
            "                                                                                                  \n",
            " res4a_branch1 (Conv2D)      (None, 14, 14, 1024)         525312    ['activation_119[0][0]']      \n",
            "                                                                                                  \n",
            " bn4a_branch2c (BatchNormal  (None, 14, 14, 1024)         4096      ['res4a_branch2c[0][0]']      \n",
            " ization)                                                                                         \n",
            "                                                                                                  \n",
            " bn4a_branch1 (BatchNormali  (None, 14, 14, 1024)         4096      ['res4a_branch1[0][0]']       \n",
            " zation)                                                                                          \n",
            "                                                                                                  \n",
            " add_39 (Add)                (None, 14, 14, 1024)         0         ['bn4a_branch2c[0][0]',       \n",
            "                                                                     'bn4a_branch1[0][0]']        \n",
            "                                                                                                  \n",
            " activation_122 (Activation  (None, 14, 14, 1024)         0         ['add_39[0][0]']              \n",
            " )                                                                                                \n",
            "                                                                                                  \n",
            " res4b_branch2a (Conv2D)     (None, 14, 14, 256)          262400    ['activation_122[0][0]']      \n",
            "                                                                                                  \n",
            " bn4b_branch2a (BatchNormal  (None, 14, 14, 256)          1024      ['res4b_branch2a[0][0]']      \n",
            " ization)                                                                                         \n",
            "                                                                                                  \n",
            " activation_123 (Activation  (None, 14, 14, 256)          0         ['bn4b_branch2a[0][0]']       \n",
            " )                                                                                                \n",
            "                                                                                                  \n",
            " res4b_branch2b (Conv2D)     (None, 14, 14, 256)          590080    ['activation_123[0][0]']      \n",
            "                                                                                                  \n",
            " bn4b_branch2b (BatchNormal  (None, 14, 14, 256)          1024      ['res4b_branch2b[0][0]']      \n",
            " ization)                                                                                         \n",
            "                                                                                                  \n",
            " activation_124 (Activation  (None, 14, 14, 256)          0         ['bn4b_branch2b[0][0]']       \n",
            " )                                                                                                \n",
            "                                                                                                  \n",
            " res4b_branch2c (Conv2D)     (None, 14, 14, 1024)         263168    ['activation_124[0][0]']      \n",
            "                                                                                                  \n",
            " bn4b_branch2c (BatchNormal  (None, 14, 14, 1024)         4096      ['res4b_branch2c[0][0]']      \n",
            " ization)                                                                                         \n",
            "                                                                                                  \n",
            " add_40 (Add)                (None, 14, 14, 1024)         0         ['bn4b_branch2c[0][0]',       \n",
            "                                                                     'activation_122[0][0]']      \n",
            "                                                                                                  \n",
            " activation_125 (Activation  (None, 14, 14, 1024)         0         ['add_40[0][0]']              \n",
            " )                                                                                                \n",
            "                                                                                                  \n",
            " res4c_branch2a (Conv2D)     (None, 14, 14, 256)          262400    ['activation_125[0][0]']      \n",
            "                                                                                                  \n",
            " bn4c_branch2a (BatchNormal  (None, 14, 14, 256)          1024      ['res4c_branch2a[0][0]']      \n",
            " ization)                                                                                         \n",
            "                                                                                                  \n",
            " activation_126 (Activation  (None, 14, 14, 256)          0         ['bn4c_branch2a[0][0]']       \n",
            " )                                                                                                \n",
            "                                                                                                  \n",
            " res4c_branch2b (Conv2D)     (None, 14, 14, 256)          590080    ['activation_126[0][0]']      \n",
            "                                                                                                  \n",
            " bn4c_branch2b (BatchNormal  (None, 14, 14, 256)          1024      ['res4c_branch2b[0][0]']      \n",
            " ization)                                                                                         \n",
            "                                                                                                  \n",
            " activation_127 (Activation  (None, 14, 14, 256)          0         ['bn4c_branch2b[0][0]']       \n",
            " )                                                                                                \n",
            "                                                                                                  \n",
            " res4c_branch2c (Conv2D)     (None, 14, 14, 1024)         263168    ['activation_127[0][0]']      \n",
            "                                                                                                  \n",
            " bn4c_branch2c (BatchNormal  (None, 14, 14, 1024)         4096      ['res4c_branch2c[0][0]']      \n",
            " ization)                                                                                         \n",
            "                                                                                                  \n",
            " add_41 (Add)                (None, 14, 14, 1024)         0         ['bn4c_branch2c[0][0]',       \n",
            "                                                                     'activation_125[0][0]']      \n",
            "                                                                                                  \n",
            " activation_128 (Activation  (None, 14, 14, 1024)         0         ['add_41[0][0]']              \n",
            " )                                                                                                \n",
            "                                                                                                  \n",
            " res4d_branch2a (Conv2D)     (None, 14, 14, 256)          262400    ['activation_128[0][0]']      \n",
            "                                                                                                  \n",
            " bn4d_branch2a (BatchNormal  (None, 14, 14, 256)          1024      ['res4d_branch2a[0][0]']      \n",
            " ization)                                                                                         \n",
            "                                                                                                  \n",
            " activation_129 (Activation  (None, 14, 14, 256)          0         ['bn4d_branch2a[0][0]']       \n",
            " )                                                                                                \n",
            "                                                                                                  \n",
            " res4d_branch2b (Conv2D)     (None, 14, 14, 256)          590080    ['activation_129[0][0]']      \n",
            "                                                                                                  \n",
            " bn4d_branch2b (BatchNormal  (None, 14, 14, 256)          1024      ['res4d_branch2b[0][0]']      \n",
            " ization)                                                                                         \n",
            "                                                                                                  \n",
            " activation_130 (Activation  (None, 14, 14, 256)          0         ['bn4d_branch2b[0][0]']       \n",
            " )                                                                                                \n",
            "                                                                                                  \n",
            " res4d_branch2c (Conv2D)     (None, 14, 14, 1024)         263168    ['activation_130[0][0]']      \n",
            "                                                                                                  \n",
            " bn4d_branch2c (BatchNormal  (None, 14, 14, 1024)         4096      ['res4d_branch2c[0][0]']      \n",
            " ization)                                                                                         \n",
            "                                                                                                  \n",
            " add_42 (Add)                (None, 14, 14, 1024)         0         ['bn4d_branch2c[0][0]',       \n",
            "                                                                     'activation_128[0][0]']      \n",
            "                                                                                                  \n",
            " activation_131 (Activation  (None, 14, 14, 1024)         0         ['add_42[0][0]']              \n",
            " )                                                                                                \n",
            "                                                                                                  \n",
            " res4e_branch2a (Conv2D)     (None, 14, 14, 256)          262400    ['activation_131[0][0]']      \n",
            "                                                                                                  \n",
            " bn4e_branch2a (BatchNormal  (None, 14, 14, 256)          1024      ['res4e_branch2a[0][0]']      \n",
            " ization)                                                                                         \n",
            "                                                                                                  \n",
            " activation_132 (Activation  (None, 14, 14, 256)          0         ['bn4e_branch2a[0][0]']       \n",
            " )                                                                                                \n",
            "                                                                                                  \n",
            " res4e_branch2b (Conv2D)     (None, 14, 14, 256)          590080    ['activation_132[0][0]']      \n",
            "                                                                                                  \n",
            " bn4e_branch2b (BatchNormal  (None, 14, 14, 256)          1024      ['res4e_branch2b[0][0]']      \n",
            " ization)                                                                                         \n",
            "                                                                                                  \n",
            " activation_133 (Activation  (None, 14, 14, 256)          0         ['bn4e_branch2b[0][0]']       \n",
            " )                                                                                                \n",
            "                                                                                                  \n",
            " res4e_branch2c (Conv2D)     (None, 14, 14, 1024)         263168    ['activation_133[0][0]']      \n",
            "                                                                                                  \n",
            " bn4e_branch2c (BatchNormal  (None, 14, 14, 1024)         4096      ['res4e_branch2c[0][0]']      \n",
            " ization)                                                                                         \n",
            "                                                                                                  \n",
            " add_43 (Add)                (None, 14, 14, 1024)         0         ['bn4e_branch2c[0][0]',       \n",
            "                                                                     'activation_131[0][0]']      \n",
            "                                                                                                  \n",
            " activation_134 (Activation  (None, 14, 14, 1024)         0         ['add_43[0][0]']              \n",
            " )                                                                                                \n",
            "                                                                                                  \n",
            " res4f_branch2a (Conv2D)     (None, 14, 14, 256)          262400    ['activation_134[0][0]']      \n",
            "                                                                                                  \n",
            " bn4f_branch2a (BatchNormal  (None, 14, 14, 256)          1024      ['res4f_branch2a[0][0]']      \n",
            " ization)                                                                                         \n",
            "                                                                                                  \n",
            " activation_135 (Activation  (None, 14, 14, 256)          0         ['bn4f_branch2a[0][0]']       \n",
            " )                                                                                                \n",
            "                                                                                                  \n",
            " res4f_branch2b (Conv2D)     (None, 14, 14, 256)          590080    ['activation_135[0][0]']      \n",
            "                                                                                                  \n",
            " bn4f_branch2b (BatchNormal  (None, 14, 14, 256)          1024      ['res4f_branch2b[0][0]']      \n",
            " ization)                                                                                         \n",
            "                                                                                                  \n",
            " activation_136 (Activation  (None, 14, 14, 256)          0         ['bn4f_branch2b[0][0]']       \n",
            " )                                                                                                \n",
            "                                                                                                  \n",
            " res4f_branch2c (Conv2D)     (None, 14, 14, 1024)         263168    ['activation_136[0][0]']      \n",
            "                                                                                                  \n",
            " bn4f_branch2c (BatchNormal  (None, 14, 14, 1024)         4096      ['res4f_branch2c[0][0]']      \n",
            " ization)                                                                                         \n",
            "                                                                                                  \n",
            " add_44 (Add)                (None, 14, 14, 1024)         0         ['bn4f_branch2c[0][0]',       \n",
            "                                                                     'activation_134[0][0]']      \n",
            "                                                                                                  \n",
            " activation_137 (Activation  (None, 14, 14, 1024)         0         ['add_44[0][0]']              \n",
            " )                                                                                                \n",
            "                                                                                                  \n",
            " res5a_branch2a (Conv2D)     (None, 7, 7, 512)            524800    ['activation_137[0][0]']      \n",
            "                                                                                                  \n",
            " bn5a_branch2a (BatchNormal  (None, 7, 7, 512)            2048      ['res5a_branch2a[0][0]']      \n",
            " ization)                                                                                         \n",
            "                                                                                                  \n",
            " activation_138 (Activation  (None, 7, 7, 512)            0         ['bn5a_branch2a[0][0]']       \n",
            " )                                                                                                \n",
            "                                                                                                  \n",
            " res5a_branch2b (Conv2D)     (None, 7, 7, 512)            2359808   ['activation_138[0][0]']      \n",
            "                                                                                                  \n",
            " bn5a_branch2b (BatchNormal  (None, 7, 7, 512)            2048      ['res5a_branch2b[0][0]']      \n",
            " ization)                                                                                         \n",
            "                                                                                                  \n",
            " activation_139 (Activation  (None, 7, 7, 512)            0         ['bn5a_branch2b[0][0]']       \n",
            " )                                                                                                \n",
            "                                                                                                  \n",
            " res5a_branch2c (Conv2D)     (None, 7, 7, 2048)           1050624   ['activation_139[0][0]']      \n",
            "                                                                                                  \n",
            " res5a_branch1 (Conv2D)      (None, 7, 7, 2048)           2099200   ['activation_137[0][0]']      \n",
            "                                                                                                  \n",
            " bn5a_branch2c (BatchNormal  (None, 7, 7, 2048)           8192      ['res5a_branch2c[0][0]']      \n",
            " ization)                                                                                         \n",
            "                                                                                                  \n",
            " bn5a_branch1 (BatchNormali  (None, 7, 7, 2048)           8192      ['res5a_branch1[0][0]']       \n",
            " zation)                                                                                          \n",
            "                                                                                                  \n",
            " add_45 (Add)                (None, 7, 7, 2048)           0         ['bn5a_branch2c[0][0]',       \n",
            "                                                                     'bn5a_branch1[0][0]']        \n",
            "                                                                                                  \n",
            " activation_140 (Activation  (None, 7, 7, 2048)           0         ['add_45[0][0]']              \n",
            " )                                                                                                \n",
            "                                                                                                  \n",
            " res5b_branch2a (Conv2D)     (None, 7, 7, 512)            1049088   ['activation_140[0][0]']      \n",
            "                                                                                                  \n",
            " bn5b_branch2a (BatchNormal  (None, 7, 7, 512)            2048      ['res5b_branch2a[0][0]']      \n",
            " ization)                                                                                         \n",
            "                                                                                                  \n",
            " activation_141 (Activation  (None, 7, 7, 512)            0         ['bn5b_branch2a[0][0]']       \n",
            " )                                                                                                \n",
            "                                                                                                  \n",
            " res5b_branch2b (Conv2D)     (None, 7, 7, 512)            2359808   ['activation_141[0][0]']      \n",
            "                                                                                                  \n",
            " bn5b_branch2b (BatchNormal  (None, 7, 7, 512)            2048      ['res5b_branch2b[0][0]']      \n",
            " ization)                                                                                         \n",
            "                                                                                                  \n",
            " activation_142 (Activation  (None, 7, 7, 512)            0         ['bn5b_branch2b[0][0]']       \n",
            " )                                                                                                \n",
            "                                                                                                  \n",
            " res5b_branch2c (Conv2D)     (None, 7, 7, 2048)           1050624   ['activation_142[0][0]']      \n",
            "                                                                                                  \n",
            " bn5b_branch2c (BatchNormal  (None, 7, 7, 2048)           8192      ['res5b_branch2c[0][0]']      \n",
            " ization)                                                                                         \n",
            "                                                                                                  \n",
            " add_46 (Add)                (None, 7, 7, 2048)           0         ['bn5b_branch2c[0][0]',       \n",
            "                                                                     'activation_140[0][0]']      \n",
            "                                                                                                  \n",
            " activation_143 (Activation  (None, 7, 7, 2048)           0         ['add_46[0][0]']              \n",
            " )                                                                                                \n",
            "                                                                                                  \n",
            " res5c_branch2a (Conv2D)     (None, 7, 7, 512)            1049088   ['activation_143[0][0]']      \n",
            "                                                                                                  \n",
            " bn5c_branch2a (BatchNormal  (None, 7, 7, 512)            2048      ['res5c_branch2a[0][0]']      \n",
            " ization)                                                                                         \n",
            "                                                                                                  \n",
            " activation_144 (Activation  (None, 7, 7, 512)            0         ['bn5c_branch2a[0][0]']       \n",
            " )                                                                                                \n",
            "                                                                                                  \n",
            " res5c_branch2b (Conv2D)     (None, 7, 7, 512)            2359808   ['activation_144[0][0]']      \n",
            "                                                                                                  \n",
            " bn5c_branch2b (BatchNormal  (None, 7, 7, 512)            2048      ['res5c_branch2b[0][0]']      \n",
            " ization)                                                                                         \n",
            "                                                                                                  \n",
            " activation_145 (Activation  (None, 7, 7, 512)            0         ['bn5c_branch2b[0][0]']       \n",
            " )                                                                                                \n",
            "                                                                                                  \n",
            " res5c_branch2c (Conv2D)     (None, 7, 7, 2048)           1050624   ['activation_145[0][0]']      \n",
            "                                                                                                  \n",
            " bn5c_branch2c (BatchNormal  (None, 7, 7, 2048)           8192      ['res5c_branch2c[0][0]']      \n",
            " ization)                                                                                         \n",
            "                                                                                                  \n",
            " add_47 (Add)                (None, 7, 7, 2048)           0         ['bn5c_branch2c[0][0]',       \n",
            "                                                                     'activation_143[0][0]']      \n",
            "                                                                                                  \n",
            " activation_146 (Activation  (None, 7, 7, 2048)           0         ['add_47[0][0]']              \n",
            " )                                                                                                \n",
            "                                                                                                  \n",
            " avg_pool (AveragePooling2D  (None, 3, 3, 2048)           0         ['activation_146[0][0]']      \n",
            " )                                                                                                \n",
            "                                                                                                  \n",
            " flatten_2 (Flatten)         (None, 18432)                0         ['avg_pool[0][0]']            \n",
            "                                                                                                  \n",
            " fc3 (Dense)                 (None, 3)                    55299     ['flatten_2[0][0]']           \n",
            "                                                                                                  \n",
            "==================================================================================================\n",
            "Total params: 23643011 (90.19 MB)\n",
            "Trainable params: 23589891 (89.99 MB)\n",
            "Non-trainable params: 53120 (207.50 KB)\n",
            "__________________________________________________________________________________________________\n"
          ]
        }
      ]
    },
    {
      "cell_type": "markdown",
      "source": [
        "### Find the number of layers used in our ResNet50 model"
      ],
      "metadata": {
        "id": "xu_xI7wYode0"
      }
    },
    {
      "cell_type": "code",
      "source": [
        "print(len(ResNet50_base.layers))\n",
        "print(len(ResNet50_model.layers))"
      ],
      "metadata": {
        "colab": {
          "base_uri": "https://localhost:8080/"
        },
        "id": "NCuBcqZNGTJG",
        "outputId": "18be17e3-66ac-45b2-d081-bdbfa038769d"
      },
      "execution_count": 93,
      "outputs": [
        {
          "output_type": "stream",
          "name": "stdout",
          "text": [
            "175\n",
            "16\n"
          ]
        }
      ]
    },
    {
      "cell_type": "code",
      "source": [
        "history=ResNet50_model.fit(X_train, y_train, batch_size=7, epochs=1, verbose=1, validation_data=(X_valid, y_valid))"
      ],
      "metadata": {
        "colab": {
          "base_uri": "https://localhost:8080/"
        },
        "id": "JAYqbVuyrxEl",
        "outputId": "732f7c42-af9d-418a-e785-fd720983237b"
      },
      "execution_count": 94,
      "outputs": [
        {
          "output_type": "stream",
          "name": "stdout",
          "text": [
            "Epoch 1/40\n",
            "15/15 [==============================] - 43s 304ms/step - loss: 9.5004 - accuracy: 0.4040 - val_loss: 1.1765 - val_accuracy: 0.3256\n",
            "Epoch 2/40\n",
            "15/15 [==============================] - 2s 101ms/step - loss: 5.2911 - accuracy: 0.4646 - val_loss: 1.3124 - val_accuracy: 0.3488\n",
            "Epoch 3/40\n",
            "15/15 [==============================] - 2s 101ms/step - loss: 2.6381 - accuracy: 0.4949 - val_loss: 2.4839 - val_accuracy: 0.3488\n",
            "Epoch 4/40\n",
            "15/15 [==============================] - 2s 101ms/step - loss: 2.9361 - accuracy: 0.4747 - val_loss: 1.8908 - val_accuracy: 0.3488\n",
            "Epoch 5/40\n",
            "15/15 [==============================] - 2s 107ms/step - loss: 3.4749 - accuracy: 0.5354 - val_loss: 2.6339 - val_accuracy: 0.3488\n",
            "Epoch 6/40\n",
            "15/15 [==============================] - 2s 118ms/step - loss: 2.9272 - accuracy: 0.5657 - val_loss: 11.3683 - val_accuracy: 0.3488\n",
            "Epoch 7/40\n",
            "15/15 [==============================] - 2s 112ms/step - loss: 2.7027 - accuracy: 0.5960 - val_loss: 4.1007 - val_accuracy: 0.3488\n",
            "Epoch 8/40\n",
            "15/15 [==============================] - 2s 112ms/step - loss: 2.1535 - accuracy: 0.6566 - val_loss: 4.4855 - val_accuracy: 0.3488\n",
            "Epoch 9/40\n",
            "15/15 [==============================] - 2s 102ms/step - loss: 1.5440 - accuracy: 0.6566 - val_loss: 4.5676 - val_accuracy: 0.3488\n",
            "Epoch 10/40\n",
            "15/15 [==============================] - 2s 101ms/step - loss: 1.0043 - accuracy: 0.6263 - val_loss: 2.3214 - val_accuracy: 0.3488\n",
            "Epoch 11/40\n",
            "15/15 [==============================] - 2s 102ms/step - loss: 1.5118 - accuracy: 0.5960 - val_loss: 8.0032 - val_accuracy: 0.3488\n",
            "Epoch 12/40\n",
            "15/15 [==============================] - 2s 112ms/step - loss: 1.2520 - accuracy: 0.7576 - val_loss: 8.4378 - val_accuracy: 0.3488\n",
            "Epoch 13/40\n",
            "15/15 [==============================] - 2s 115ms/step - loss: 2.8824 - accuracy: 0.6061 - val_loss: 7.0452 - val_accuracy: 0.3488\n",
            "Epoch 14/40\n",
            "15/15 [==============================] - 2s 119ms/step - loss: 1.0228 - accuracy: 0.6768 - val_loss: 8.3108 - val_accuracy: 0.3256\n",
            "Epoch 15/40\n",
            "15/15 [==============================] - 2s 113ms/step - loss: 1.5159 - accuracy: 0.5455 - val_loss: 42.1078 - val_accuracy: 0.3488\n",
            "Epoch 16/40\n",
            "15/15 [==============================] - 2s 126ms/step - loss: 2.3035 - accuracy: 0.5657 - val_loss: 314.2080 - val_accuracy: 0.3023\n",
            "Epoch 17/40\n",
            "15/15 [==============================] - 2s 107ms/step - loss: 1.0388 - accuracy: 0.6263 - val_loss: 87.0044 - val_accuracy: 0.4186\n",
            "Epoch 18/40\n",
            "15/15 [==============================] - 2s 111ms/step - loss: 1.1422 - accuracy: 0.6162 - val_loss: 7.0637 - val_accuracy: 0.4651\n",
            "Epoch 19/40\n",
            "15/15 [==============================] - 2s 102ms/step - loss: 1.1854 - accuracy: 0.7475 - val_loss: 0.9737 - val_accuracy: 0.6047\n",
            "Epoch 20/40\n",
            "15/15 [==============================] - 2s 112ms/step - loss: 1.7215 - accuracy: 0.6970 - val_loss: 1.7795 - val_accuracy: 0.5814\n",
            "Epoch 21/40\n",
            "15/15 [==============================] - 2s 119ms/step - loss: 1.1761 - accuracy: 0.6465 - val_loss: 2.8047 - val_accuracy: 0.4186\n",
            "Epoch 22/40\n",
            "15/15 [==============================] - 2s 118ms/step - loss: 0.7703 - accuracy: 0.7273 - val_loss: 1.8643 - val_accuracy: 0.5814\n",
            "Epoch 23/40\n",
            "15/15 [==============================] - 2s 112ms/step - loss: 1.0770 - accuracy: 0.6263 - val_loss: 1.8148 - val_accuracy: 0.3256\n",
            "Epoch 24/40\n",
            "15/15 [==============================] - 2s 112ms/step - loss: 0.6755 - accuracy: 0.7475 - val_loss: 1.0410 - val_accuracy: 0.6047\n",
            "Epoch 25/40\n",
            "15/15 [==============================] - 2s 112ms/step - loss: 0.8415 - accuracy: 0.7576 - val_loss: 0.7509 - val_accuracy: 0.6047\n",
            "Epoch 26/40\n",
            "15/15 [==============================] - 2s 102ms/step - loss: 0.4854 - accuracy: 0.7980 - val_loss: 0.5792 - val_accuracy: 0.6744\n",
            "Epoch 27/40\n",
            "15/15 [==============================] - 2s 102ms/step - loss: 0.6128 - accuracy: 0.8384 - val_loss: 0.7519 - val_accuracy: 0.6744\n",
            "Epoch 28/40\n",
            "15/15 [==============================] - 2s 112ms/step - loss: 0.5471 - accuracy: 0.7879 - val_loss: 1.2068 - val_accuracy: 0.6279\n",
            "Epoch 29/40\n",
            "15/15 [==============================] - 2s 110ms/step - loss: 0.8830 - accuracy: 0.7778 - val_loss: 1.1670 - val_accuracy: 0.6279\n",
            "Epoch 30/40\n",
            "15/15 [==============================] - 2s 111ms/step - loss: 2.1870 - accuracy: 0.6162 - val_loss: 1.2318 - val_accuracy: 0.5581\n",
            "Epoch 31/40\n",
            "15/15 [==============================] - 2s 102ms/step - loss: 0.8842 - accuracy: 0.7071 - val_loss: 2.5222 - val_accuracy: 0.5349\n",
            "Epoch 32/40\n",
            "15/15 [==============================] - 2s 103ms/step - loss: 1.4287 - accuracy: 0.6162 - val_loss: 2.1819 - val_accuracy: 0.4651\n",
            "Epoch 33/40\n",
            "15/15 [==============================] - 2s 102ms/step - loss: 1.0104 - accuracy: 0.6768 - val_loss: 2.9453 - val_accuracy: 0.5581\n",
            "Epoch 34/40\n",
            "15/15 [==============================] - 2s 112ms/step - loss: 1.1239 - accuracy: 0.6768 - val_loss: 11.2885 - val_accuracy: 0.5349\n",
            "Epoch 35/40\n",
            "15/15 [==============================] - 2s 102ms/step - loss: 1.3978 - accuracy: 0.7071 - val_loss: 2.0119 - val_accuracy: 0.6512\n",
            "Epoch 36/40\n",
            "15/15 [==============================] - 2s 114ms/step - loss: 0.7448 - accuracy: 0.6667 - val_loss: 10.2538 - val_accuracy: 0.6512\n",
            "Epoch 37/40\n",
            "15/15 [==============================] - 2s 117ms/step - loss: 0.7850 - accuracy: 0.7475 - val_loss: 98.3247 - val_accuracy: 0.5581\n",
            "Epoch 38/40\n",
            "15/15 [==============================] - 2s 112ms/step - loss: 0.5875 - accuracy: 0.7778 - val_loss: 37.8122 - val_accuracy: 0.5349\n",
            "Epoch 39/40\n",
            "15/15 [==============================] - 2s 104ms/step - loss: 0.6551 - accuracy: 0.7576 - val_loss: 37.1169 - val_accuracy: 0.6279\n",
            "Epoch 40/40\n",
            "15/15 [==============================] - 2s 113ms/step - loss: 0.9630 - accuracy: 0.7677 - val_loss: 2.6852 - val_accuracy: 0.5814\n"
          ]
        }
      ]
    },
    {
      "cell_type": "markdown",
      "source": [
        "### Evaluate the model"
      ],
      "metadata": {
        "id": "zzbD3-Ao03hS"
      }
    },
    {
      "cell_type": "code",
      "source": [
        "loss, accuracy = ResNet50_model.evaluate(X_valid, y_valid)"
      ],
      "metadata": {
        "colab": {
          "base_uri": "https://localhost:8080/"
        },
        "id": "BkOf6d3M5qGD",
        "outputId": "8a2a0529-4451-4814-f4d6-efb03387875d"
      },
      "execution_count": 95,
      "outputs": [
        {
          "output_type": "stream",
          "name": "stdout",
          "text": [
            "2/2 [==============================] - 3s 1s/step - loss: 2.6853 - accuracy: 0.5814\n"
          ]
        }
      ]
    },
    {
      "cell_type": "code",
      "source": [
        "display_accuracy(history)"
      ],
      "metadata": {
        "colab": {
          "base_uri": "https://localhost:8080/",
          "height": 472
        },
        "id": "oOKxxWgz3pUv",
        "outputId": "b3726ed0-5dcd-4190-8bab-8d99a5e8501d"
      },
      "execution_count": 96,
      "outputs": [
        {
          "output_type": "display_data",
          "data": {
            "text/plain": [
              "<Figure size 640x480 with 1 Axes>"
            ],
            "image/png": "[encoded data removed]"
          },
          "metadata": {}
        }
      ]
    },
    {
      "cell_type": "code",
      "source": [
        "display_loss(history)"
      ],
      "metadata": {
        "colab": {
          "base_uri": "https://localhost:8080/",
          "height": 472
        },
        "id": "VfNbbNpO3snq",
        "outputId": "8bbc8ef9-3650-4711-8c0c-06401af6ba0a"
      },
      "execution_count": 97,
      "outputs": [
        {
          "output_type": "display_data",
          "data": {
            "text/plain": [
              "<Figure size 640x480 with 1 Axes>"
            ],
            "image/png": "[encoded data removed]"
          },
          "metadata": {}
        }
      ]
    },
    {
      "cell_type": "code",
      "source": [
        "compute_confusion_matrix_and_classification_report(ResNet50_model)"
      ],
      "metadata": {
        "colab": {
          "base_uri": "https://localhost:8080/"
        },
        "id": "A4x6d7LO31oB",
        "outputId": "61078028-17f9-47fd-da12-a4aa33655953"
      },
      "execution_count": 98,
      "outputs": [
        {
          "output_type": "stream",
          "name": "stdout",
          "text": [
            "2/2 [==============================] - 1s 117ms/step\n",
            "\n",
            "Confusion Matrix\n",
            "[[14  0  1]\n",
            " [ 8  1  5]\n",
            " [ 4  0 10]]\n",
            "\n",
            "Classification Report\n",
            "              precision    recall  f1-score   support\n",
            "\n",
            "   Carcinoma       0.54      0.93      0.68        15\n",
            "    Melanoma       1.00      0.07      0.13        14\n",
            "       Nevus       0.62      0.71      0.67        14\n",
            "\n",
            "    accuracy                           0.58        43\n",
            "   macro avg       0.72      0.57      0.49        43\n",
            "weighted avg       0.72      0.58      0.50        43\n",
            "\n"
          ]
        }
      ]
    },
    {
      "cell_type": "markdown",
      "source": [
        "### The previous results:"
      ],
      "metadata": {
        "id": "Ooim6CwPmM2k"
      }
    },
    {
      "cell_type": "markdown",
      "source": [
        "\n",
        "The result with built-in ResNet50 and some layers added in the end to be trained with batch-size = 7: (epochs = 40) (4 relu, 512 units, he-normal, dropout = 0.5 and batch-normalization)\n",
        "\n",
        "2/2 [==============================] - 3s 1s/step - loss: 2.6853 - accuracy: 0.5814\n",
        "\n",
        "The result with built-in ResNet50 and some layers added in the end to be trained: (epochs = 40)\n",
        "\n",
        "2/2 [==============================] - 1s 1s/step - loss: 5.5320 - accuracy: 0.4651\n",
        "\n",
        "The result with ResNet50 built from scratch with batch-size = 11: (epochs = 40)\n",
        "\n",
        "2/2 [==============================] - 0s 64ms/step - loss: 0.8474 - accuracy: 0.6744\n",
        "\n",
        "The result with ResNet50 built from scratch with batch-size = 9: (epochs = 40)\n",
        "\n",
        "2/2 [==============================] - 0s 57ms/step - loss: 2.1891 - accuracy: 0.6047\n",
        "\n",
        "The result with ResNet50 built from scratch with batch-size = 7: (epochs = 40)\n",
        "\n",
        "* first time:\n",
        "\n",
        "2/2 [==============================] - 0s 62ms/step - loss: 0.5690 - accuracy: 0.7674\n",
        "\n",
        "* second time:\n",
        "\n",
        "2/2 [==============================] - 3s 1s/step - loss: 8.0230 - accuracy: 0.3488\n",
        "\n",
        "The result with ResNet50 built from scratch with batch-size = 5: (epochs = 40)\n",
        "\n",
        "2/2 [==============================] - 0s 63ms/step - loss: 0.8860 - accuracy: 0.7209\n",
        "\n",
        "The result with ResNet50 built from scratch with batch-size = 3: (epochs = 40)\n",
        "\n",
        "2/2 [==============================] - 0s 69ms/step - loss: 1.8947 - accuracy: 0.3953\n",
        "\n",
        "The result with ResNet50 built from scratch with batch-size = 1: (epochs = 40)\n",
        "\n",
        "2/2 [==============================] - 2s 59ms/step - loss: 7.4493 - accuracy: 0.4186\n",
        "\n",
        "The result with ResNet50 built from scratch with batch-size = 7: (epochs = 100)\n",
        "\n",
        "* first time:\n",
        "\n",
        "2/2 [==============================] - 0s 51ms/step - loss: 1.7429 - accuracy: 0.4651\n",
        "\n",
        "* second time:\n",
        "\n",
        "2/2 [==============================] - 0s 49ms/step - loss: 0.7368 - accuracy: 0.7674"
      ],
      "metadata": {
        "id": "9iqDfXawKBga"
      }
    },
    {
      "cell_type": "markdown",
      "source": [
        "## With  Data Augmentation"
      ],
      "metadata": {
        "id": "ktU9n6tN4t9M"
      }
    },
    {
      "cell_type": "markdown",
      "source": [
        "### Import necessary class to do data augmentation"
      ],
      "metadata": {
        "id": "HK6k0A1u46P3"
      }
    },
    {
      "cell_type": "code",
      "source": [
        "from tensorflow.keras.preprocessing.image import ImageDataGenerator"
      ],
      "metadata": {
        "id": "nvf3L6mi5BgN"
      },
      "execution_count": 100,
      "outputs": []
    },
    {
      "cell_type": "markdown",
      "source": [
        "#### Instantiate from the ImageDataGenerator class\n",
        "**Trainslation**\n",
        "* Width Shift Range (float): This defines the maximum fraction by which the image can be shifted horizontally.\n",
        "\n",
        "Shift image up to 10% horizontally\n",
        "\n",
        "* Height Shift Range (float): This defines the maximum fraction by which the image can be shifted vertically.\n",
        "\n",
        "Shift image up to 10% vertically\n",
        "\n",
        "**rotation**\n",
        "\n",
        "rotation_range=20: Random rotation between -20 and 20 degrees\n",
        "\n",
        "**horizontal_flip**\n",
        "\n",
        " * This parameter enables random horizontal flipping of the images, which can help the model learn to be invariant to the orientation of objects in the images.\n",
        "\n",
        "**rescale**\n",
        "\n",
        " This parameter scales pixel values from their original range (typically 0-255 for images) to a new range. Here, it's set to 1./255, which scales all pixel values between 0 and 1. This helps normalize the data and improve model performance, especially for deep convolutional neural networks.\n",
        "\n",
        " rescale=1./255,  # Rescale pixel values to [0, 1]\n",
        "\n",
        "\n",
        "shear_range: This parameter introduces random shearing transformations to the image. A value between 0 and 1 specifies the maximum shear angle in degrees.\n",
        "\n",
        "\n",
        "shear_range=0.2,  # Randomly shear images\n",
        "\n",
        "For example, shear_range=0.2 would introduce random horizontal or vertical shears with angles between -20 degrees and +20 degrees.\n",
        "\n",
        "\n",
        "zoom_range=0.2,  # Randomly zoom in/out"
      ],
      "metadata": {
        "id": "1aT4_H3PRDHf"
      }
    },
    {
      "cell_type": "code",
      "source": [
        "data_generator = ImageDataGenerator(rescale = 1.0/255,\n",
        "                                    shear_range=0.2,\n",
        "                                    zoom_range=0.2,\n",
        "                                    rotation_range=20,\n",
        "                                    width_shift_range= 0.1,\n",
        "                                    height_shift_range = 0.1,\n",
        "                                    horizontal_flip = True,\n",
        "                                    vertical_flip = True,\n",
        "                                    # for Color perturbation:\n",
        "                                    brightness_range=[-0.2, 0.2],  # Adjust brightness randomly\n",
        "                                    contrast_range=[0.8, 1.2],   # Adjust contrast randomly\n",
        "                                    saturation_range=[0.8, 1.2],  # Adjust saturation randomly\n",
        "                                    hue_range=[-0.1, 0.1]        # Adjust hue randomly\n",
        "                                    )"
      ],
      "metadata": {
        "id": "RqU1Ip7L4tom"
      },
      "execution_count": 103,
      "outputs": []
    },
    {
      "cell_type": "code",
      "source": [
        "train_generator = data_generator.flow (X_train, y_train, batch_size = 7)"
      ],
      "metadata": {
        "id": "v915sq2w6Flg"
      },
      "execution_count": 106,
      "outputs": []
    },
    {
      "cell_type": "code",
      "source": [
        "steps_per_epoch = X_train.shape[0]"
      ],
      "metadata": {
        "id": "yK3gOQqk6b42"
      },
      "execution_count": 107,
      "outputs": []
    },
    {
      "cell_type": "markdown",
      "source": [
        "#### Make the ResNet50 model with data augmentation"
      ],
      "metadata": {
        "id": "ioXW-szfn5gB"
      }
    },
    {
      "cell_type": "code",
      "source": [
        "ResNet50_model_with_augmentation = Sequential([\n",
        "    ResNet50_base,\n",
        "    Flatten(),\n",
        "    BatchNormalization(),\n",
        "    Dense(512, activation='relu', kernel_initializer = 'he_normal'),\n",
        "    BatchNormalization(),\n",
        "    Dropout(0.5),\n",
        "    Dense(512, activation='relu', kernel_initializer = 'he_normal'),\n",
        "    BatchNormalization(),\n",
        "    Dropout(0.5),\n",
        "    Dense(512, activation='relu', kernel_initializer = 'he_normal'),\n",
        "    BatchNormalization(),\n",
        "    Dropout(0.5),\n",
        "    Dense(512, activation='relu', kernel_initializer = 'he_normal'),\n",
        "    BatchNormalization(),\n",
        "    Dropout(0.5),\n",
        "    Dense(3, activation='softmax')\n",
        "])"
      ],
      "metadata": {
        "id": "BHd7EQ5dQJIV"
      },
      "execution_count": null,
      "outputs": []
    },
    {
      "cell_type": "code",
      "source": [
        "ResNet50_model_with_augmentation.compile(optimizer='adam', loss='categorical_crossentropy', metrics=['accuracy'])"
      ],
      "metadata": {
        "id": "lv73Sno2QYBL"
      },
      "execution_count": null,
      "outputs": []
    },
    {
      "cell_type": "code",
      "source": [
        "R_history_with_augmentation = ResNet50_model_with_augmentation.fit_generator(train_generator, steps_per_epoch = steps_per_epoch, epochs = 1,verbose=1, validation_data=(X_valid, y_valid))"
      ],
      "metadata": {
        "id": "oyXSNMsG6don"
      },
      "execution_count": null,
      "outputs": []
    },
    {
      "cell_type": "code",
      "source": [
        "R_loss_with_augmentation, R_accuracy_with_augmentation = ResNet50_model_with_augmentation.evaluate(X_valid, y_valid)"
      ],
      "metadata": {
        "id": "5GG7oRCvQd8W"
      },
      "execution_count": null,
      "outputs": []
    },
    {
      "cell_type": "code",
      "source": [
        "display_accuracy(R_history_with_augmentation)"
      ],
      "metadata": {
        "id": "E7aeM-B5Qp7A"
      },
      "execution_count": null,
      "outputs": []
    },
    {
      "cell_type": "code",
      "source": [
        "display_loss(R_history_with_augmentation)"
      ],
      "metadata": {
        "id": "m7E05_VOQvBU"
      },
      "execution_count": null,
      "outputs": []
    },
    {
      "cell_type": "code",
      "source": [
        "compute_confusion_matrix_and_classification_report(ResNet50_model_with_augmentation)"
      ],
      "metadata": {
        "id": "umeC3vkLQw55"
      },
      "execution_count": null,
      "outputs": []
    },
    {
      "cell_type": "code",
      "source": [
        "from tensorflow.keras.applications.vgg16 import VGG16"
      ],
      "metadata": {
        "id": "TnGVEz-ty49H"
      },
      "execution_count": null,
      "outputs": []
    },
    {
      "cell_type": "markdown",
      "source": [
        "### Instantiate VGG16 model"
      ],
      "metadata": {
        "id": "hdIFOqoSy515"
      }
    },
    {
      "cell_type": "code",
      "source": [
        "VGG16_base = VGG16(weights='imagenet', include_top=False, input_shape=(224, 224, 3))"
      ],
      "metadata": {
        "id": "NqDZfKG5y-vt"
      },
      "execution_count": null,
      "outputs": []
    },
    {
      "cell_type": "markdown",
      "source": [
        "### Specify that VGG16 layers are not trainable"
      ],
      "metadata": {
        "id": "PgE7NX8szJMu"
      }
    },
    {
      "cell_type": "code",
      "source": [
        "for layer in VGG16_base.layers:\n",
        "    layer.trainable = False"
      ],
      "metadata": {
        "id": "lqY10kcazDvM"
      },
      "execution_count": null,
      "outputs": []
    },
    {
      "cell_type": "markdown",
      "source": [
        "### Add some layers to our base VGG16 model to make it trainable on its new layers"
      ],
      "metadata": {
        "id": "Mz1Bi3QEz3MH"
      }
    },
    {
      "cell_type": "code",
      "source": [
        "VGG16_model = Sequential([\n",
        "    VGG16_base,\n",
        "    Flatten(),\n",
        "    BatchNormalization(),\n",
        "    Dense(512, activation='relu', kernel_initializer = 'he_normal'),\n",
        "    BatchNormalization(),\n",
        "    Dropout(0.5),\n",
        "    Dense(512, activation='relu', kernel_initializer = 'he_normal'),\n",
        "    BatchNormalization(),\n",
        "    Dropout(0.5),\n",
        "    Dense(512, activation='relu', kernel_initializer = 'he_normal'),\n",
        "    BatchNormalization(),\n",
        "    Dropout(0.5),\n",
        "    Dense(512, activation='relu', kernel_initializer = 'he_normal'),\n",
        "    BatchNormalization(),\n",
        "    Dropout(0.5),\n",
        "    Dense(3, activation='softmax')\n",
        "])"
      ],
      "metadata": {
        "id": "GhOXPAjozlwB"
      },
      "execution_count": null,
      "outputs": []
    },
    {
      "cell_type": "markdown",
      "source": [
        "### Compile the VGG16-based model"
      ],
      "metadata": {
        "id": "F5lxyuyB0Rvj"
      }
    },
    {
      "cell_type": "code",
      "source": [
        "VGG16_model.compile(optimizer='adam', loss='categorical_crossentropy', metrics=['accuracy'])"
      ],
      "metadata": {
        "id": "LJgUaqX30ExG"
      },
      "execution_count": null,
      "outputs": []
    },
    {
      "cell_type": "code",
      "source": [
        "history=VGG16_model.fit(X_train, y_train, batch_size=7, epochs=40, verbose=1, validation_data=(X_valid, y_valid))"
      ],
      "metadata": {
        "id": "-ESZX8Fr0Rdp"
      },
      "execution_count": null,
      "outputs": []
    },
    {
      "cell_type": "markdown",
      "source": [
        "### Evalute our model"
      ],
      "metadata": {
        "id": "69r5zroJ0qBL"
      }
    },
    {
      "cell_type": "code",
      "source": [
        "loss, accuracy = VGG16_model.evaluate(X_valid, y_valid)"
      ],
      "metadata": {
        "id": "KbhBE_JR0kU8"
      },
      "execution_count": null,
      "outputs": []
    },
    {
      "cell_type": "code",
      "source": [
        "display_accuracy(history)"
      ],
      "metadata": {
        "id": "Ygipi32m4Gp0"
      },
      "execution_count": null,
      "outputs": []
    },
    {
      "cell_type": "code",
      "source": [
        "display_loss(history)"
      ],
      "metadata": {
        "id": "hAerGKtO4LcA"
      },
      "execution_count": null,
      "outputs": []
    },
    {
      "cell_type": "code",
      "source": [
        "compute_confusion_matrix_and_classification_report(VGG16_model)"
      ],
      "metadata": {
        "id": "9V65bbin4OkQ"
      },
      "execution_count": null,
      "outputs": []
    },
    {
      "cell_type": "markdown",
      "source": [
        "### With Data Augmentation"
      ],
      "metadata": {
        "id": "6-B64_A0pZh4"
      }
    },
    {
      "cell_type": "code",
      "source": [
        "data_generator = ImageDataGenerator(rescale = 1.0/255, rotation_range=20,  width_shift_range= 0.1, height_shift_range = 0.1, horizontal_flip = True)"
      ],
      "metadata": {
        "id": "NNZpgn7Bpmfq"
      },
      "execution_count": null,
      "outputs": []
    },
    {
      "cell_type": "code",
      "source": [
        "train_generator = data_generator.flow (X_train, y_train, batch_size = 7)"
      ],
      "metadata": {
        "id": "5OoRnKarpmf5"
      },
      "execution_count": null,
      "outputs": []
    },
    {
      "cell_type": "code",
      "source": [
        "steps_per_epoch = X_train.shape[0]"
      ],
      "metadata": {
        "id": "nzfNIGG5pmf5"
      },
      "execution_count": null,
      "outputs": []
    },
    {
      "cell_type": "code",
      "source": [
        "  VGG16_model_with_augmentation.compile(optimizer='adam', loss='categorical_crossentropy', metrics=['accuracy'])"
      ],
      "metadata": {
        "id": "iFnE7_abpmf5"
      },
      "execution_count": null,
      "outputs": []
    },
    {
      "cell_type": "code",
      "source": [
        "VGG16_history_with =   VGG16_model_with_augmentation.fit_generator(train_generator, steps_per_epoch = steps_per_epoch, epochs = 1,verbose=1, validation_data=(X_valid, y_valid))"
      ],
      "metadata": {
        "id": "A36iu0Pppmf5"
      },
      "execution_count": null,
      "outputs": []
    },
    {
      "cell_type": "code",
      "source": [
        "VGG16_loss_with, VGG16_accuracy_with = VGG16_model_with_augmentation.evaluate(X_valid, y_valid)"
      ],
      "metadata": {
        "id": "MPcoTmo2pmf5"
      },
      "execution_count": null,
      "outputs": []
    },
    {
      "cell_type": "code",
      "source": [
        "display_accuracy(VGG16_history_with)"
      ],
      "metadata": {
        "id": "MIunLohSpmf5"
      },
      "execution_count": null,
      "outputs": []
    },
    {
      "cell_type": "code",
      "source": [
        "display_loss(VGG16_history_with)"
      ],
      "metadata": {
        "id": "FDzCgtcipmf6"
      },
      "execution_count": null,
      "outputs": []
    },
    {
      "cell_type": "code",
      "source": [
        "compute_confusion_matrix_and_classification_report(VGG16_model_with_augmentation)"
      ],
      "metadata": {
        "id": "1Nhjjc2epmf6"
      },
      "execution_count": null,
      "outputs": []
    },
    {
      "cell_type": "markdown",
      "source": [
        "### Outline\n",
        "\n",
        "To use VGG16 and ResNet50 models for image classification tasks in TensorFlow, it is important to preprocess the input images properly, which includes normalizing the pixel values of the images. Here is a general procedure you can follow to train VGG16 and ResNet50 models on the given image datasets:\n",
        "\n",
        "1. Load and Preprocess the Images:\n",
        "   - Read the images from the folders (nevus, melanoma, noncancerous).\n",
        "   - Resize the images to a common size (e.g., 224x224) to match the input shape of the VGG16 and ResNet50 models.\n",
        "   - Normalize the pixel values of the images to be in the range [0, 1] by dividing the pixel values by 255.0.\n",
        "\n",
        "2. Create Image Data Generators:\n",
        "   - Use TensorFlow's `ImageDataGenerator` to load and preprocess images in batches for training and validation.\n",
        "   - Specify the preprocessing functions including rescaling, data augmentation (optional), and other transformations.\n",
        "\n",
        "3. Define and Compile the Models:\n",
        "   - Import pre-trained VGG16 and ResNet50 models from Keras applications.\n",
        "   - Remove the top layers (include_top=False) to add your custom classifier layer.\n",
        "   - Add a Global Average Pooling layer followed by a Dense layer for classification.\n",
        "   - Compile the models with appropriate loss function, optimizer, and metrics.\n",
        "\n",
        "4. Train the Models:\n",
        "   - Use the Image Data Generators to flow training and validation data to the model.\n",
        "   - Train the models on the datasets using `model.fit` by specifying the number of epochs and batch size.\n",
        "\n",
        "5. Evaluate and Predict:\n",
        "   - Evaluate the performance of the trained models on a test set using `model.evaluate`.\n",
        "   - Make predictions on new images using `model.predict`.\n",
        "\n",
        "By following these steps, you can effectively train VGG16 and ResNet50 models on the given image datasets by properly preprocessing the images, including normalizing the pixel values. This preprocessing step helps in achieving better performance and convergence during model training."
      ],
      "metadata": {
        "id": "hfqtvCHU05zj"
      }
    },
    {
      "cell_type": "markdown",
      "source": [
        "# <b><font color='green'>Part $III$:</font></b>"
      ],
      "metadata": {
        "id": "XMoSbfhyqq1i"
      }
    },
    {
      "cell_type": "markdown",
      "source": [
        "## Different small dataset"
      ],
      "metadata": {
        "id": "yj24zFHhqujO"
      }
    },
    {
      "cell_type": "markdown",
      "source": [
        "### Use VGG16 as our pre-trained model"
      ],
      "metadata": {
        "id": "fBtPWzKQsPus"
      }
    },
    {
      "cell_type": "code",
      "source": [
        "VGG16_base = VGG16(weights='imagenet', include_top=False, input_shape=(224, 224, 3))"
      ],
      "metadata": {
        "id": "8GAuUYnBsOsF"
      },
      "execution_count": null,
      "outputs": []
    },
    {
      "cell_type": "markdown",
      "source": [
        "### About ImageNet dataset\n",
        "* Contains over 14 million high-resolution images\n",
        "* Images are categorized into more than 20,000 different classes (nouns in WordNet hierarchy)"
      ],
      "metadata": {
        "id": "nEWckGous8lB"
      }
    },
    {
      "cell_type": "markdown",
      "source": [
        "### Import the small and different dataset of German Traffic Signs Dataset (GTSRB)"
      ],
      "metadata": {
        "id": "ZDSrBT-kscgs"
      }
    },
    {
      "cell_type": "markdown",
      "source": [
        "This dataset contains around 50,000 images of German traffic signs across 43 different classes. It's a good choice for tasks related to traffic sign recognition in autonomous vehicles or driver assistance systems."
      ],
      "metadata": {
        "id": "caM2DFLxsrYv"
      }
    },
    {
      "cell_type": "code",
      "source": [
        "from sklearn.datasets import fetch_openml\n",
        "\n",
        "# Download and load the dataset\n",
        "gtsrb = fetch_openml('GTSRB', version=1)\n",
        "\n",
        "# Access data and target labels\n",
        "X = gtsrb.data  # Features (images)\n",
        "y = gtsrb.target  # Target labels (traffic sign classes)"
      ],
      "metadata": {
        "id": "TLlJ510IsbwB"
      },
      "execution_count": null,
      "outputs": []
    },
    {
      "cell_type": "markdown",
      "source": [
        "### Split the data"
      ],
      "metadata": {
        "id": "rxsUya4jzbls"
      }
    },
    {
      "cell_type": "code",
      "source": [
        "from sklearn.model_selection import train_test_split\n",
        "\n",
        "X_train, X_val, y_train, y_val = train_test_split(X, y, test_size=0.5, random_state=42)\n",
        "X_val, X_test, y_val, y_test = train_test_split(X_val, y_val, test_size=0.2, random_state=42)"
      ],
      "metadata": {
        "id": "Rn2vxrGczdP6"
      },
      "execution_count": null,
      "outputs": []
    },
    {
      "cell_type": "code",
      "source": [
        "print(X_train.shape)\n",
        "print(X_val.shape)\n",
        "print(X_test.shape)\n",
        "print(y_train.shape)\n",
        "print(y_val.shape)\n",
        "print(y_test.shape)"
      ],
      "metadata": {
        "id": "1hHYQB2Nz5Mf"
      },
      "execution_count": null,
      "outputs": []
    },
    {
      "cell_type": "markdown",
      "source": [
        "### Freeze Base Layers"
      ],
      "metadata": {
        "id": "UzS5pZQVtj6e"
      }
    },
    {
      "cell_type": "markdown",
      "source": [
        "* Freeze the initial layers (often convolutional layers) of the pre-trained model. These layers extract low-level features like edges and textures, which are generally transferable across different tasks. Freezing prevents these layers from being re-trained on your small dataset, potentially leading to overfitting."
      ],
      "metadata": {
        "id": "-cIjOTRqtNBF"
      }
    },
    {
      "cell_type": "code",
      "source": [
        "# Freeze the first 15 layers of VGG16 base model\n",
        "for layer in VGG16_base.layers[:15]:\n",
        "  layer.trainable = False"
      ],
      "metadata": {
        "id": "iN9moycdtMi5"
      },
      "execution_count": null,
      "outputs": []
    },
    {
      "cell_type": "code",
      "source": [
        "print(len(VGG16_base.layers))"
      ],
      "metadata": {
        "id": "GxHEvZRBu_jx"
      },
      "execution_count": null,
      "outputs": []
    },
    {
      "cell_type": "markdown",
      "source": [
        "### Train the Top Layers"
      ],
      "metadata": {
        "id": "X_bRHBZ9tlWm"
      }
    },
    {
      "cell_type": "markdown",
      "source": [
        "* Add new layers on top of the frozen pre-trained model. These new layers will be specific to your classification task and learn from your small dataset."
      ],
      "metadata": {
        "id": "YUGp1LYitsDB"
      }
    },
    {
      "cell_type": "code",
      "source": [
        "x = VGG16_base.output\n",
        "x = Flatten()(x)\n",
        "\n",
        "# Add Batch Normalization after flattening\n",
        "x = BatchNormalization()(x)\n",
        "\n",
        "# Add Dense layer with ReLU activation and Dropout\n",
        "x = Dense(1024, activation='relu')(x)\n",
        "x = Dropout(0.5)(x)  # Adjust dropout rate as needed\n",
        "\n",
        "# Add another Dense layer with ReLU activation and Dropout\n",
        "x = Dense(512, activation='relu')(x)\n",
        "x = Dropout(0.5)(x)  # Adjust dropout rate as needed\n",
        "\n",
        "num_classes = X_train.shape[1]\n",
        "predictions = Dense(units = num_classes, activation='softmax')(x)\n",
        "\n",
        "VGG16_model1 = Model(inputs=VGG16_base.input, outputs=predictions)"
      ],
      "metadata": {
        "id": "2R6_HSNltoKk"
      },
      "execution_count": null,
      "outputs": []
    },
    {
      "cell_type": "code",
      "source": [
        "print(len(VGG16_model.layers))"
      ],
      "metadata": {
        "id": "bgYmCqE4veLK"
      },
      "execution_count": null,
      "outputs": []
    },
    {
      "cell_type": "markdown",
      "source": [
        "### Compile our model"
      ],
      "metadata": {
        "id": "Es8U_9B7x5lG"
      }
    },
    {
      "cell_type": "markdown",
      "source": [
        "Compile the entire model (frozen layers + new layers) with a very low learning rate."
      ],
      "metadata": {
        "id": "eGRoG3rx5ShK"
      }
    },
    {
      "cell_type": "code",
      "source": [
        "from tensorflow.keras.optimizers import Adam\n",
        "\n",
        "VGG16_model1.compile(optimizer=Adam(learning_rate=1e-5), loss='categorical_crossentropy', metrics=['accuracy'])"
      ],
      "metadata": {
        "id": "5pnVVPV1x771"
      },
      "execution_count": null,
      "outputs": []
    },
    {
      "cell_type": "markdown",
      "source": [
        "### Data Augmentation\n",
        "\n",
        "* Artificially increases the size and diversity of your training data, potentially reducing overfitting."
      ],
      "metadata": {
        "id": "jrA_UKfLvr0T"
      }
    },
    {
      "cell_type": "code",
      "source": [
        "data_generator = ImageDataGenerator(rescale = 1.0/255,\n",
        "                                    shear_range=0.2,\n",
        "                                    zoom_range=0.2,\n",
        "                                    rotation_range=20,\n",
        "                                    width_shift_range= 0.1,\n",
        "                                    height_shift_range = 0.1,\n",
        "                                    horizontal_flip = True,\n",
        "                                    vertical_flip = True,\n",
        "                                    brightness_range=[-0.2, 0.2],\n",
        "                                    contrast_range=[0.8, 1.2],\n",
        "                                    saturation_range=[0.8, 1.2],\n",
        "                                    hue_range=[-0.1, 0.1]\n",
        "                                    )"
      ],
      "metadata": {
        "id": "CkA7yRD_xZcA"
      },
      "execution_count": null,
      "outputs": []
    },
    {
      "cell_type": "code",
      "source": [
        "train_generator = data_generator.flow(X_train, y_train, batch_size = 32)"
      ],
      "metadata": {
        "id": "0_b6EYApxZcA"
      },
      "execution_count": null,
      "outputs": []
    },
    {
      "cell_type": "code",
      "source": [
        "steps_per_epoch = X_train.shape[0]"
      ],
      "metadata": {
        "id": "_HbsCmOpxZcB"
      },
      "execution_count": null,
      "outputs": []
    },
    {
      "cell_type": "markdown",
      "source": [
        "### Train the model on your GTSRB data"
      ],
      "metadata": {
        "id": "b4hOZxGv3wZt"
      }
    },
    {
      "cell_type": "code",
      "source": [
        "history1 = VGG16_model1.fit_generator(train_generator, steps_per_epoch = steps_per_epoch, epochs = 10, verbose=1, validation_data=(X_val, y_val))"
      ],
      "metadata": {
        "id": "msSNvOWM3Yxr"
      },
      "execution_count": null,
      "outputs": []
    },
    {
      "cell_type": "markdown",
      "source": [
        "### Evaluate and show the results"
      ],
      "metadata": {
        "id": "d4aDECnN5d03"
      }
    },
    {
      "cell_type": "code",
      "source": [
        "loss1, accuracy1 = VGG16_model1.evaluate(X_test, y_test)"
      ],
      "metadata": {
        "id": "N-oIUB3U4tCv"
      },
      "execution_count": null,
      "outputs": []
    },
    {
      "cell_type": "code",
      "source": [
        "display_accuracy(history1)"
      ],
      "metadata": {
        "id": "FFN2Cm5P5a2X"
      },
      "execution_count": null,
      "outputs": []
    },
    {
      "cell_type": "code",
      "source": [
        "display_loss(history1)"
      ],
      "metadata": {
        "id": "pMILMinL5a2k"
      },
      "execution_count": null,
      "outputs": []
    },
    {
      "cell_type": "code",
      "source": [
        "compute_confusion_matrix_and_classification_report(VGG16_model1)"
      ],
      "metadata": {
        "id": "7ua9cRTK5a2k"
      },
      "execution_count": null,
      "outputs": []
    },
    {
      "cell_type": "markdown",
      "source": [
        "## Simillar small dataset"
      ],
      "metadata": {
        "id": "SxuCs22M-FdR"
      }
    },
    {
      "cell_type": "code",
      "source": [
        "VGG16_base = VGG16(weights='imagenet', include_top=False, input_shape=(224, 224, 3))"
      ],
      "metadata": {
        "id": "sTYl6lck-FDz"
      },
      "execution_count": null,
      "outputs": []
    },
    {
      "cell_type": "markdown",
      "source": [
        "Since Tiny ImageNet shares more similarities with ImageNet, we can fine-tune a larger portion of the VGG16 base model (e.g., freeze only the first 10 layers)."
      ],
      "metadata": {
        "id": "Hefe8EvoBiOj"
      }
    },
    {
      "cell_type": "code",
      "source": [
        "# Freeze the first 10 layers of VGG16 base model\n",
        "for layer in VGG16_base.layers[:10]:\n",
        "  layer.trainable = False"
      ],
      "metadata": {
        "id": "iOM2llHyBP4K"
      },
      "execution_count": null,
      "outputs": []
    },
    {
      "cell_type": "markdown",
      "source": [
        "### import 'cifar10' dataset which is similar to imagenet"
      ],
      "metadata": {
        "id": "fSsUy2adBkpI"
      }
    },
    {
      "cell_type": "code",
      "source": [
        "from tensorflow.keras.datasets import cifar10\n",
        "\n",
        "(X_train, y_train), (X_val, y_val) = cifar10.load_data()\n"
      ],
      "metadata": {
        "id": "P8XY6w3bBj35"
      },
      "execution_count": 17,
      "outputs": []
    },
    {
      "cell_type": "code",
      "source": [
        "from sklearn.model_selection import train_test_split\n",
        "\n",
        "X_train, X_test, y_train, y_test = train_test_split(X_train, y_train, test_size=0.1, random_state=42)"
      ],
      "metadata": {
        "id": "Aks3mcd4ELge"
      },
      "execution_count": 18,
      "outputs": []
    },
    {
      "cell_type": "code",
      "source": [
        "print(X_train.shape)\n",
        "print(X_val.shape)\n",
        "print(X_test.shape)\n",
        "print(y_train.shape)\n",
        "print(y_val.shape)\n",
        "print(y_test.shape)"
      ],
      "metadata": {
        "colab": {
          "base_uri": "https://localhost:8080/"
        },
        "id": "z0bPsFAbECcC",
        "outputId": "55734be3-0f64-46f5-d83b-dd013382bf79"
      },
      "execution_count": 19,
      "outputs": [
        {
          "output_type": "stream",
          "name": "stdout",
          "text": [
            "(45000, 32, 32, 3)\n",
            "(10000, 32, 32, 3)\n",
            "(5000, 32, 32, 3)\n",
            "(45000, 1)\n",
            "(10000, 1)\n",
            "(5000, 1)\n"
          ]
        }
      ]
    },
    {
      "cell_type": "code",
      "source": [
        "x = VGG16_base.output\n",
        "x = Flatten()(x)\n",
        "\n",
        "# Add Batch Normalization after flattening\n",
        "x = BatchNormalization()(x)\n",
        "\n",
        "# Add Dense layer with ReLU activation and Dropout\n",
        "x = Dense(1024, activation='relu')(x)\n",
        "x = Dropout(0.5)(x)  # Adjust dropout rate as needed\n",
        "\n",
        "# Add another Dense layer with ReLU activation and Dropout\n",
        "x = Dense(512, activation='relu')(x)\n",
        "x = Dropout(0.5)(x)  # Adjust dropout rate as needed\n",
        "\n",
        "num_classes = X_train.shape[1]\n",
        "predictions = Dense(units = num_classes, activation='softmax')(x)\n",
        "\n",
        "VGG16_model2 = Model(inputs=VGG16_base.input, outputs=predictions)"
      ],
      "metadata": {
        "id": "3qFTMOy2Em_B"
      },
      "execution_count": null,
      "outputs": []
    },
    {
      "cell_type": "code",
      "source": [
        "from tensorflow.keras.optimizers import Adam\n",
        "\n",
        "VGG16_model2.compile(optimizer=Adam(learning_rate=1e-5), loss='categorical_crossentropy', metrics=['accuracy'])"
      ],
      "metadata": {
        "id": "UAsQCukMFGUK"
      },
      "execution_count": null,
      "outputs": []
    },
    {
      "cell_type": "markdown",
      "source": [
        "While data augmentation remains an option, it might be less crucial for Tiny ImageNet because it's already more similar to the pre-trained data (ImageNet)."
      ],
      "metadata": {
        "id": "CfWkNohaF6az"
      }
    },
    {
      "cell_type": "code",
      "source": [
        "history2 = VGG16_model2.fit_generator(X_train, y_train, epochs = 10, batch_size = 32, verbose=1, validation_data=(X_val, y_val))"
      ],
      "metadata": {
        "id": "EAEibIT8FGUU"
      },
      "execution_count": null,
      "outputs": []
    },
    {
      "cell_type": "code",
      "source": [
        "loss2, accuracy2 = VGG16_model2.evaluate(X_test, y_test)"
      ],
      "metadata": {
        "id": "hOhvQ6teGNE4"
      },
      "execution_count": null,
      "outputs": []
    },
    {
      "cell_type": "code",
      "source": [
        "display_accuracy(history2)"
      ],
      "metadata": {
        "id": "JZa0eOVhGNE5"
      },
      "execution_count": null,
      "outputs": []
    },
    {
      "cell_type": "code",
      "source": [
        "display_loss(history2)"
      ],
      "metadata": {
        "id": "wghuv1qRGNE5"
      },
      "execution_count": null,
      "outputs": []
    },
    {
      "cell_type": "code",
      "source": [
        "compute_confusion_matrix_and_classification_report(VGG16_model2)"
      ],
      "metadata": {
        "id": "933N4OlWGNE5"
      },
      "execution_count": null,
      "outputs": []
    },
    {
      "cell_type": "markdown",
      "source": [
        "## Overall\n",
        "\n",
        "### **Fine-tuning Strategy:**\n",
        "\n",
        "* Part 1 (GTSRB): We froze a significant portion of the VGG16 base model layers (e.g., 15 layers) due to the small size and significant difference between the GTSRB dataset and ImageNet (the original training data for VGG16). This aimed to minimize overfitting by adapting fewer pre-trained weights.\n",
        "* Part 2 (Tiny ImageNet): Since Tiny ImageNet shares more similarities with ImageNet, we can fine-tune a larger portion of the VGG16 base model (e.g., freeze only the first 10 layers). This leverages the pre-trained features that are more relevant to the traffic sign recognition task in Tiny ImageNet.\n",
        "\n",
        "\n",
        "### **Data Augmentation:**\n",
        "\n",
        "* Part 1 (GTSRB): Data augmentation was highly recommended due to the limited size of the GTSRB dataset. It helps artificially increase the data size and diversity, potentially improving model performance on unseen traffic signs.\n",
        "* Part 2 (Tiny ImageNet): While data augmentation remains an option, it might be less crucial for Tiny ImageNet because it's already more similar to the pre-trained data (ImageNet). However, you can still experiment with it to see if it further improves the model's performance."
      ],
      "metadata": {
        "id": "Jdmyx64OAcHL"
      }
    }
  ]
}