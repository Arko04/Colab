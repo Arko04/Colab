{
  "cells": [
    {
      "cell_type": "markdown",
      "metadata": {
        "id": "view-in-github",
        "colab_type": "text"
      },
      "source": [
        "<a href=\"https://colab.research.google.com/github/Arko04/Colab/blob/main/AI_project1.ipynb\" target=\"_parent\"><img src=\"https://colab.research.google.com/assets/colab-badge.svg\" alt=\"Open In Colab\"/></a>"
      ]
    },
    {
      "cell_type": "markdown",
      "metadata": {
        "id": "j91ntS4__yar"
      },
      "source": [
        "<div style=\"display:block;width:100%;margin:auto;\" direction=rtl align=center><br><br>\n",
        "    <div  style=\"width:100%;margin:100;display:block;background-color:#fff0;\"  display=block align=center>\n",
        "        <table style=\"border-style:hidden;border-collapse:collapse;\">\n",
        "            <tr>\n",
        "                <td  style=\"border: none!important;\">\n",
        "        <img width=230 align=right src=\"https://i.ibb.co/yXKQmtZ/logo1.png\" style=\"margin:0;\" />\n",
        "                </td>\n",
        "                <td style=\"text-align:center;border: none!important;\">\n",
        "                <h1 align=center><font size=5 color=\"#045F5F\"> <b>Project 1</b><br><br>Alireza Karimi</i></font></h1>\n",
        "                </td>\n",
        "                <td style=\"border: none!important;\">\n",
        "        <img width=300 align=left  src=\"https://i.ibb.co/wLjqFkw/logo2.png\" style=\"margin:0;\" />\n",
        "                </td>\n",
        "            </tr>\n",
        "        </table>\n",
        "\n"
      ]
    },
    {
      "cell_type": "markdown",
      "metadata": {
        "id": "AaH-IbVyAqFf"
      },
      "source": [
        "### Mount my google drive"
      ]
    },
    {
      "cell_type": "code",
      "execution_count": null,
      "metadata": {
        "colab": {
          "base_uri": "https://localhost:8080/"
        },
        "id": "_vQ8Nl-fA1Vw",
        "outputId": "3a9cd1b3-e550-4bf9-a9aa-11a0c8c86091"
      },
      "outputs": [
        {
          "name": "stdout",
          "output_type": "stream",
          "text": [
            "Mounted at /content/grive\n"
          ]
        }
      ],
      "source": [
        "from google.colab import drive\n",
        "drive.mount('/content/grive')"
      ]
    },
    {
      "cell_type": "markdown",
      "metadata": {
        "id": "mdpPdzpH4uX0"
      },
      "source": [
        "###   Import \"Image\" class to display image"
      ]
    },
    {
      "cell_type": "code",
      "execution_count": null,
      "metadata": {
        "id": "iWtXMVwOkiXG"
      },
      "outputs": [],
      "source": [
        "from IPython.display import Image"
      ]
    },
    {
      "cell_type": "markdown",
      "metadata": {
        "id": "i4vip19Z-uPI"
      },
      "source": [
        "### Import necessary libraries to work with models (use tensorflow)"
      ]
    },
    {
      "cell_type": "code",
      "execution_count": null,
      "metadata": {
        "id": "En2JxV2D-2PD"
      },
      "outputs": [],
      "source": [
        "import tensorflow as tf\n",
        "from tensorflow import keras"
      ]
    },
    {
      "cell_type": "markdown",
      "metadata": {
        "id": "DGFXL0UYAD4H"
      },
      "source": [
        "# <b><font color='green'>Part 1:</font></b>"
      ]
    },
    {
      "cell_type": "markdown",
      "metadata": {
        "id": "gthz5Di_0AXq"
      },
      "source": [
        "## **1_1: VGG16 & ResNet50 Explanation**"
      ]
    },
    {
      "cell_type": "markdown",
      "metadata": {
        "id": "lZyK3Dzp0PRS"
      },
      "source": [
        "### **1_1_1: VGG16**"
      ]
    },
    {
      "cell_type": "markdown",
      "metadata": {
        "id": "FY0k0gIc20MD"
      },
      "source": [
        "#### **1_1_1_1 : Brief Explaination**"
      ]
    },
    {
      "cell_type": "markdown",
      "metadata": {
        "id": "xupGgZrp27TD"
      },
      "source": [
        "A convolutional neural network (CNN) architecture that is widely used for image classification tasks."
      ]
    },
    {
      "cell_type": "markdown",
      "metadata": {
        "id": "zpqJOr8L3B-N"
      },
      "source": [
        "#### **1_1_1_2: Introduced by**"
      ]
    },
    {
      "cell_type": "markdown",
      "metadata": {
        "id": "ZgeZHGLk3lkE"
      },
      "source": [
        "Visual Geometry Group at the University of Oxford"
      ]
    },
    {
      "cell_type": "markdown",
      "metadata": {
        "id": "62olzB2h3Tbb"
      },
      "source": [
        "#### **1_1_1_3: Paper**"
      ]
    },
    {
      "cell_type": "markdown",
      "metadata": {
        "id": "01VT4CqM3SCj"
      },
      "source": [
        "[\"Very Deep Convolutional Networks for Large-Scale Image Recognition\"](https://arxiv.org/abs/1409.1556)"
      ]
    },
    {
      "cell_type": "markdown",
      "metadata": {
        "id": "KU_ZJ91W3ou_"
      },
      "source": [
        "#### **1_1_1_4: Event**"
      ]
    },
    {
      "cell_type": "markdown",
      "metadata": {
        "id": "J0LsSSRv3sGN"
      },
      "source": [
        "ImageNet Large Scale Visual Recognition Challenge (ILSVRC) in 2014."
      ]
    },
    {
      "cell_type": "markdown",
      "metadata": {
        "id": "tFbiydVZ7XXM"
      },
      "source": [
        "#### **1_1_1_5: Dataset**"
      ]
    },
    {
      "cell_type": "markdown",
      "metadata": {
        "id": "wwu9OZ-c7clB"
      },
      "source": [
        "The original VGG16 model was trained on the **ImageNet** dataset.\n",
        "\n",
        "##### **About ImageNet:**\n",
        "\n",
        "ImageNet is a large-scale dataset that contains\n",
        "\n",
        "* over 14 million labeled images\n",
        "\n",
        "* across more than 20,000 categories.\n",
        "\n",
        "For the ImageNet Large Scale Visual Recognition Challenge (ILSVRC), a subset of the dataset is used, which includes\n",
        "\n",
        "* 1.2 million images for training,\n",
        "\n",
        "* 50,000 for validation,\n",
        "\n",
        "* 100,000 for testing,\n",
        "\n",
        "* across 1,000 classes (categories)."
      ]
    },
    {
      "cell_type": "markdown",
      "metadata": {
        "id": "6pwgTiTi35rU"
      },
      "source": [
        "#### **1_1_1_6: Architecture**"
      ]
    },
    {
      "cell_type": "markdown",
      "metadata": {
        "id": "jb9Iwqfx4HfU"
      },
      "source": [
        "It consists of 16 layers, including 13 convolutional layers and 3 fully connected layers.\n",
        "\n",
        "Each convolutional layer is followed by a ReLU activation function,\n",
        "\n",
        "and some convolutional layers are followed by max-pooling layers."
      ]
    },
    {
      "cell_type": "markdown",
      "metadata": {
        "id": "qq1Cr63eBQn6"
      },
      "source": [
        "1. **Input Layer**:\n",
        "    - **Dimensions**: The input layer expects images with a size of **224x224 pixels** and **3 color channels (RGB).**\n",
        "\n",
        "2. **First Convolutional Block (64 filters)**:\n",
        "    * **Layers**: Two convolutional layers, each with **64 filters** and a filter size of **3x3**.\n",
        "    * **Padding**: Same padding is applied to preserve the spatial dimensions of the image.\n",
        "    * **Activation**: **ReLU** activation function is applied after each convolution.\n",
        "\n",
        "3. **First Max Pooling Layer**:\n",
        "    * **Pooling**: Max-pooling layer with a pool size of **2x2** and a stride of **2** to reduce the spatial dimensions.\n",
        "\n",
        "4. **Second Convolutional Block (128 filters)**:\n",
        "    * **Layers**: Two consecutive convolutional layers, each with **128 filters** and a filter size of **3x3**.\n",
        "    * **Padding**: Same padding to maintain spatial dimensions.\n",
        "    * **Activation**: **ReLU** activation function after each convolution.\n",
        "\n",
        "5. **Second Max Pooling Layer**:\n",
        "    * **Pooling**: Max-pooling layer with a pool size of **2x2** and a stride of **2** for spatial reduction.\n",
        "\n",
        "6. **Third Convolutional Block (256 filters)**:\n",
        "    * **Layers**: Three consecutive convolutional layers, each with **256 filters** and a filter size of **3x3**.\n",
        "    * **Padding**: Same padding to retain spatial dimensions.\n",
        "    * **Activation**: **ReLU** activation function follows each convolution.\n",
        "\n",
        "7. **Third Max Pooling Layer**:\n",
        "    * **Pooling**: Max-pooling layer with a pool size of **2x2** and a stride of **2**.\n",
        "\n",
        "8. **Fourth Convolutional Block (512 filters)**:\n",
        "    * **Layers**: Three consecutive convolutional layers, each with **512 filters** and a filter size of **3x3**.\n",
        "    * **Padding**: Same padding for consistent dimensions.\n",
        "    * **Activation**: **ReLU** activation function follows each convolution.\n",
        "\n",
        "9. **Fourth Max Pooling Layer**:\n",
        "    * **Pooling**: Max-pooling layer with a pool size of **2x2** and a stride of **2**.\n",
        "\n",
        "10. **Fifth Convolutional Block (512 filters)**:\n",
        "    * **Layers**: Three consecutive convolutional layers, each with **512 filters** and a filter size of **3x3**.\n",
        "    * **Padding**: Same padding for consistent dimensions.\n",
        "    * **Activation**: **ReLU** activation function follows each convolution.\n",
        "\n",
        "11. **Fifth Max Pooling Layer**:\n",
        "    * **Pooling**: Max-pooling layer with a pool size of **2x2** and a stride of **2**.\n",
        "\n",
        "12. **Flattening**:\n",
        "    * **Process**: The output feature map (**7x7x512**) is flattened into a single vector of length **25,088**.\n",
        "\n",
        "13. **Fully Connected Layers**:\n",
        "    * **First Layer**: Fully connected layer with **4,096 units** and **ReLU** activation.\n",
        "    * **Second Layer**: Another fully connected layer with **4,096 units** and **ReLU** activation.\n",
        "    * **Third Layer**: Fully connected layer with **1,000 units** (representing the **1,000 classes** in the ImageNet dataset) and **softmax** activation for classification.\n"
      ]
    },
    {
      "cell_type": "markdown",
      "metadata": {
        "id": "WGerFoJoLoli"
      },
      "source": [
        "#### **1_1_1_7: Implementation from scratch**"
      ]
    },
    {
      "cell_type": "code",
      "execution_count": null,
      "metadata": {
        "colab": {
          "base_uri": "https://localhost:8080/"
        },
        "id": "gxouru7cHq3e",
        "outputId": "11afca4b-4346-4921-d05e-95125d196773"
      },
      "outputs": [
        {
          "output_type": "stream",
          "name": "stdout",
          "text": [
            "Model: \"model\"\n",
            "_________________________________________________________________\n",
            " Layer (type)                Output Shape              Param #   \n",
            "=================================================================\n",
            " input_2 (InputLayer)        [(None, 224, 224, 3)]     0         \n",
            "                                                                 \n",
            " conv2d (Conv2D)             (None, 224, 224, 64)      1792      \n",
            "                                                                 \n",
            " conv2d_1 (Conv2D)           (None, 224, 224, 64)      36928     \n",
            "                                                                 \n",
            " max_pooling2d (MaxPooling2  (None, 112, 112, 64)      0         \n",
            " D)                                                              \n",
            "                                                                 \n",
            " conv2d_2 (Conv2D)           (None, 112, 112, 128)     73856     \n",
            "                                                                 \n",
            " conv2d_3 (Conv2D)           (None, 112, 112, 128)     147584    \n",
            "                                                                 \n",
            " max_pooling2d_1 (MaxPoolin  (None, 56, 56, 128)       0         \n",
            " g2D)                                                            \n",
            "                                                                 \n",
            " conv2d_4 (Conv2D)           (None, 56, 56, 256)       295168    \n",
            "                                                                 \n",
            " conv2d_5 (Conv2D)           (None, 56, 56, 256)       590080    \n",
            "                                                                 \n",
            " conv2d_6 (Conv2D)           (None, 56, 56, 256)       590080    \n",
            "                                                                 \n",
            " max_pooling2d_2 (MaxPoolin  (None, 28, 28, 256)       0         \n",
            " g2D)                                                            \n",
            "                                                                 \n",
            " conv2d_7 (Conv2D)           (None, 28, 28, 512)       1180160   \n",
            "                                                                 \n",
            " conv2d_8 (Conv2D)           (None, 28, 28, 512)       2359808   \n",
            "                                                                 \n",
            " conv2d_9 (Conv2D)           (None, 28, 28, 512)       2359808   \n",
            "                                                                 \n",
            " max_pooling2d_3 (MaxPoolin  (None, 14, 14, 512)       0         \n",
            " g2D)                                                            \n",
            "                                                                 \n",
            " conv2d_10 (Conv2D)          (None, 14, 14, 512)       2359808   \n",
            "                                                                 \n",
            " conv2d_11 (Conv2D)          (None, 14, 14, 512)       2359808   \n",
            "                                                                 \n",
            " conv2d_12 (Conv2D)          (None, 14, 14, 512)       2359808   \n",
            "                                                                 \n",
            " max_pooling2d_4 (MaxPoolin  (None, 7, 7, 512)         0         \n",
            " g2D)                                                            \n",
            "                                                                 \n",
            " flatten (Flatten)           (None, 25088)             0         \n",
            "                                                                 \n",
            " dense (Dense)               (None, 4096)              102764544 \n",
            "                                                                 \n",
            " dense_1 (Dense)             (None, 4096)              16781312  \n",
            "                                                                 \n",
            " dense_2 (Dense)             (None, 1000)              4097000   \n",
            "                                                                 \n",
            "=================================================================\n",
            "Total params: 138357544 (527.79 MB)\n",
            "Trainable params: 138357544 (527.79 MB)\n",
            "Non-trainable params: 0 (0.00 Byte)\n",
            "_________________________________________________________________\n"
          ]
        }
      ],
      "source": [
        "# import necessary layers\n",
        "from tensorflow.keras.layers import Input, Conv2D\n",
        "from tensorflow.keras.layers import MaxPool2D, Flatten, Dense\n",
        "from tensorflow.keras import Model\n",
        "\n",
        "# input\n",
        "\n",
        "input = Input(shape =(224,224,3))\n",
        "\n",
        "# 1st Conv Block\n",
        "\n",
        "x = Conv2D (filters =64, kernel_size =3, padding ='same', activation='relu')(input)\n",
        "x = Conv2D (filters =64, kernel_size =3, padding ='same', activation='relu')(x)\n",
        "x = MaxPool2D(pool_size =2, strides =2, padding ='same')(x)\n",
        "\n",
        "# 2nd Conv Block\n",
        "\n",
        "x = Conv2D (filters =128, kernel_size =3, padding ='same', activation='relu')(x)\n",
        "x = Conv2D (filters =128, kernel_size =3, padding ='same', activation='relu')(x)\n",
        "x = MaxPool2D(pool_size =2, strides =2, padding ='same')(x)\n",
        "\n",
        "# 3rd Conv block\n",
        "\n",
        "x = Conv2D (filters =256, kernel_size =3, padding ='same', activation='relu')(x)\n",
        "x = Conv2D (filters =256, kernel_size =3, padding ='same', activation='relu')(x)\n",
        "x = Conv2D (filters =256, kernel_size =3, padding ='same', activation='relu')(x)\n",
        "x = MaxPool2D(pool_size =2, strides =2, padding ='same')(x)\n",
        "\n",
        "# 4th Conv block\n",
        "\n",
        "x = Conv2D (filters =512, kernel_size =3, padding ='same', activation='relu')(x)\n",
        "x = Conv2D (filters =512, kernel_size =3, padding ='same', activation='relu')(x)\n",
        "x = Conv2D (filters =512, kernel_size =3, padding ='same', activation='relu')(x)\n",
        "x = MaxPool2D(pool_size =2, strides =2, padding ='same')(x)\n",
        "\n",
        "# 5th Conv block\n",
        "\n",
        "x = Conv2D (filters =512, kernel_size =3, padding ='same', activation='relu')(x)\n",
        "x = Conv2D (filters =512, kernel_size =3, padding ='same', activation='relu')(x)\n",
        "x = Conv2D (filters =512, kernel_size =3, padding ='same', activation='relu')(x)\n",
        "x = MaxPool2D(pool_size =2, strides =2, padding ='same')(x)\n",
        "\n",
        "# Fully connected layers\n",
        "\n",
        "x = Flatten()(x)\n",
        "x = Dense(units = 4096, activation ='relu')(x)\n",
        "x = Dense(units = 4096, activation ='relu')(x)\n",
        "output = Dense(units = 1000, activation ='softmax')(x)\n",
        "\n",
        "# creating the model\n",
        "\n",
        "model_ = Model (inputs=input, outputs =output)\n",
        "model_.summary()"
      ]
    },
    {
      "cell_type": "code",
      "execution_count": null,
      "metadata": {
        "colab": {
          "base_uri": "https://localhost:8080/",
          "height": 517
        },
        "id": "RzLQr44iNM9G",
        "outputId": "52f9e2d6-f673-45c4-ad31-7d7c4a00f6f4"
      },
      "outputs": [
        {
          "data": {
            "image/png": "[encoded data removed]",
            "text/plain": [
              "<IPython.core.display.Image object>"
            ]
          },
          "execution_count": 5,
          "metadata": {
            "image/png": {
              "height": 500,
              "width": 800
            }
          },
          "output_type": "execute_result"
        }
      ],
      "source": [
        "Image(filename='/content/grive/MyDrive/Slides/Project1/vgg16.png', width=800,height=500)"
      ]
    },
    {
      "cell_type": "markdown",
      "metadata": {
        "id": "hLt6m1699-WK"
      },
      "source": [
        "#### **1_1_1_8: Instantiate in code using built-in class**"
      ]
    },
    {
      "cell_type": "markdown",
      "metadata": {
        "id": "X8gIaYub-Ww2"
      },
      "source": [
        "##### **Import necessary library and class**"
      ]
    },
    {
      "cell_type": "code",
      "execution_count": null,
      "metadata": {
        "id": "ZeHZnKvY97hE"
      },
      "outputs": [],
      "source": [
        "from tensorflow.keras.applications.vgg16 import VGG16"
      ]
    },
    {
      "cell_type": "markdown",
      "metadata": {
        "id": "4tRpvpxb-cpY"
      },
      "source": [
        "##### **Instantiate the VGG16 base model**"
      ]
    },
    {
      "cell_type": "code",
      "execution_count": null,
      "metadata": {
        "colab": {
          "base_uri": "https://localhost:8080/"
        },
        "id": "EsNF31Ns-hvs",
        "outputId": "a1b7c531-a0f0-4c2d-dcd3-2ee401f176ae"
      },
      "outputs": [
        {
          "name": "stdout",
          "output_type": "stream",
          "text": [
            "Downloading data from https://storage.googleapis.com/tensorflow/keras-applications/vgg16/vgg16_weights_tf_dim_ordering_tf_kernels.h5\n",
            "553467096/553467096 [==============================] - 6s 0us/step\n"
          ]
        }
      ],
      "source": [
        "A = keras.applications.VGG16(\n",
        "    include_top=True,\n",
        "    weights=\"imagenet\",\n",
        "    input_tensor=None,\n",
        "    input_shape=None,\n",
        "    pooling=None,\n",
        "    classes=1000,\n",
        "    classifier_activation=\"softmax\",\n",
        ")"
      ]
    },
    {
      "cell_type": "markdown",
      "metadata": {
        "id": "JYilVqqH950y"
      },
      "source": [
        "##### **Important Arguments**\n",
        "\n",
        "**include_top:**\n",
        "\n",
        "> Whether to include the 3 fully-connected layers at the top of the network.\n",
        "\n",
        "\n",
        "**weights:**\n",
        "\n",
        "\n",
        "> One of None (random initialization), \"imagenet\" (pre-training on ImageNet), or the path to the weights file to be loaded.\n",
        "\n",
        "**input_shape:**\n",
        "\n",
        "> Optional shape tuple, only to be specified if include_top is False, otherwise the input shape has to be (224, 224, 3) (with channels_last data format) or (3, 224, 224) (with \"channels_first\" data format). It should have exactly 3 input channels, and width and height should be no smaller than 32. E.g. (200, 200, 3) would be one valid value.\n",
        "\n",
        "**classes:**\n",
        "\n",
        "\n",
        "\n",
        "> Optional number of classes to classify images into, only to be specified if include_top is True, and if no weights argument is specified.\n",
        "\n",
        "\n"
      ]
    },
    {
      "cell_type": "markdown",
      "metadata": {
        "id": "WJ1RkPq5Wh08"
      },
      "source": [
        "### **1_1_2: ResNet50**"
      ]
    },
    {
      "cell_type": "markdown",
      "metadata": {
        "id": "AOyV3xKVYdTE"
      },
      "source": [
        "#### **1_1_2_0: Background**"
      ]
    },
    {
      "cell_type": "markdown",
      "metadata": {
        "id": "AaHuW49vYjKQ"
      },
      "source": [
        "**Challenges with Deep Convolutional Architectures**:\n",
        "\n",
        "1. **Loss of Information**:\n",
        "    - As networks become deeper, random initialization of weights and biases can introduce random noise in the layers, resulting in the loss of important signals and information as the data flows forward through the network.\n",
        "\n",
        "2. **Challenges with Backpropagation**:\n",
        "    - When performing backpropagation, the partial derivatives of the random noise are calculated. This can lead to less meaningful gradients and may impede the training process.\n",
        "\n",
        "3. **Vanishing Gradient Problem**:\n",
        "    - The use of the chain rule in deep networks can lead to the vanishing gradient problem, where the gradients become very small after being multiplied across many layers. This can slow down or stall the learning process.\n",
        "\n",
        "The use of **skip connections** in ResNet addresses these issues. By creating shortcuts that allow data to bypass certain layers, skip connections help preserve information and maintain meaningful gradients throughout the network. This innovation enhances the training of very deep networks and improves overall performance."
      ]
    },
    {
      "cell_type": "code",
      "execution_count": null,
      "metadata": {
        "colab": {
          "base_uri": "https://localhost:8080/",
          "height": 517
        },
        "id": "vZRdZYADbVMF",
        "outputId": "6fbc578a-c32d-428c-9288-c5bbacb9562d"
      },
      "outputs": [
        {
          "data": {
            "image/png": "[encoded data removed]",
            "text/plain": [
              "<IPython.core.display.Image object>"
            ]
          },
          "execution_count": 8,
          "metadata": {
            "image/png": {
              "height": 500,
              "width": 300
            }
          },
          "output_type": "execute_result"
        }
      ],
      "source": [
        "Image(filename='/content/grive/MyDrive/Slides/Project1/skip-connections.png', width=300,height=500)"
      ]
    },
    {
      "cell_type": "markdown",
      "metadata": {
        "id": "VyGqBT8kWoPF"
      },
      "source": [
        "#### **1_1_2_1: Brief Explaination**"
      ]
    },
    {
      "cell_type": "markdown",
      "metadata": {
        "id": "5qQlEeQFWuSr"
      },
      "source": [
        "ResNet50, short for Residual Network with 50 layers, is a popular deep convolutional neural network architecture, known for its use of residual connections or skip connections."
      ]
    },
    {
      "cell_type": "markdown",
      "metadata": {
        "id": "uPmet79ZXcZ9"
      },
      "source": [
        "#### **1_1_2_2: Introduced by**"
      ]
    },
    {
      "cell_type": "markdown",
      "metadata": {
        "id": "FyNrFtYUXfGh"
      },
      "source": [
        "Kaiming He, Xiangyu Zhang, Shaoqing Ren, and Jian Sun"
      ]
    },
    {
      "cell_type": "markdown",
      "metadata": {
        "id": "Gq1ZaHh9XcZ9"
      },
      "source": [
        "#### **1_1_2_3: Paper**"
      ]
    },
    {
      "cell_type": "markdown",
      "metadata": {
        "id": "4vO2-SJQXiSh"
      },
      "source": [
        "[\"Deep Residual Learning for Image Recognition\"](https://arxiv.org/abs/1512.03385)"
      ]
    },
    {
      "cell_type": "markdown",
      "metadata": {
        "id": "MOruzY_jXcZ-"
      },
      "source": [
        "#### **1_1_2_4: Dataset**"
      ]
    },
    {
      "cell_type": "markdown",
      "metadata": {
        "id": "VDor6DmRfvHb"
      },
      "source": [
        "The original ResNet50 model was trained on the **ImageNet** dataset."
      ]
    },
    {
      "cell_type": "markdown",
      "metadata": {
        "id": "mEBfYqc6XcZ9"
      },
      "source": [
        "#### **1_1_2_5: Architecture**"
      ]
    },
    {
      "cell_type": "markdown",
      "metadata": {
        "id": "oFo2MiR4YDwV"
      },
      "source": [
        "Architecture:\n",
        "\n",
        "* ResNet50 is composed of 50 layers, including convolutional layers, pooling layers, and fully connected layers.\n",
        "* It contains four stages of convolutional layers, with each stage consisting of several residual blocks.\n",
        "* The architecture uses **residual connections**, which add the input of a block directly to its output. This helps mitigate the problem of vanishing gradients and enables training much deeper networks."
      ]
    },
    {
      "cell_type": "markdown",
      "metadata": {
        "id": "5feJY_XQdbei"
      },
      "source": [
        "1. **Input Layer**:\n",
        "    - **Dimensions**: The input layer expects images with a size of **224x224 pixels** and **3 color channels (RGB)**.\n",
        "\n",
        "2. **Convolutional Blocks**:\n",
        "    - **First Convolutional Block**:\n",
        "        * **Layers**: The first convolutional block consists of several layers, including convolutional layers, batch normalization, and ReLU activation.\n",
        "        * **Convolutional Layers**: The block starts with a 7x7 convolutional layer with 64 filters and a stride of 2.\n",
        "        * **Max Pooling**: After the first convolutional layer, a max-pooling layer with a 3x3 kernel and a stride of 2 is applied to reduce the spatial dimensions.\n",
        "\n",
        "3. **Residual Blocks**:\n",
        "    - **Stage 1**:\n",
        "        - The first stage of ResNet50 contains three identity blocks.\n",
        "    - **Stage 2**:\n",
        "        - The second stage contains a bottleneck block followed by three identity blocks.\n",
        "    - **Stage 3**:\n",
        "        - The third stage contains a bottleneck block followed by five identity blocks.\n",
        "    - **Stage 4**:\n",
        "        - The fourth stage contains a bottleneck block followed by two identity blocks.\n",
        "\n",
        "4. **Global Average Pooling**:\n",
        "    - After the last convolutional stage, global average pooling is applied to reduce the spatial dimensions of the feature maps to a single vector.\n",
        "\n",
        "5. **Fully Connected Layer**:\n",
        "    - Following global average pooling, a fully connected layer with 1000 units is added, representing the output classes of the model (e.g., 1000 classes in the ImageNet dataset).\n",
        "    - The final layer typically employs softmax activation for classification.\n"
      ]
    },
    {
      "cell_type": "code",
      "execution_count": null,
      "metadata": {
        "colab": {
          "base_uri": "https://localhost:8080/",
          "height": 1000
        },
        "id": "yJ0epZZNXiAs",
        "outputId": "49d8d6b6-6a41-4164-e608-6459b79a0e7b"
      },
      "outputs": [
        {
          "data": {
            "image/png": "[encoded data removed]",
            "text/plain": [
              "<IPython.core.display.Image object>"
            ]
          },
          "execution_count": 9,
          "metadata": {
            "image/png": {
              "height": 3000,
              "width": 450
            }
          },
          "output_type": "execute_result"
        }
      ],
      "source": [
        "Image(filename='/content/grive/MyDrive/Slides/Project1/ResNet50_architecture-1.png', width=450,height=3000)"
      ]
    },
    {
      "cell_type": "markdown",
      "metadata": {
        "id": "YwZC0DKQZ_eC"
      },
      "source": [
        "source: https://cv-tricks.com/keras/understand-implement-resnets/"
      ]
    },
    {
      "cell_type": "markdown",
      "metadata": {
        "id": "7oFrvpu7anFw"
      },
      "source": [
        "#### **1_1_2_6: Kinds of Skip Connections**"
      ]
    },
    {
      "cell_type": "markdown",
      "metadata": {
        "id": "qs97LTesax6O"
      },
      "source": [
        "##### **Identity Block:**\n",
        "when:\n",
        "$$ inputSize == outputSize $$\n",
        "\n",
        "##### **Concolutional(bottleneck) Block:**\n",
        "when:\n",
        "$$ inputSize != outputSize $$"
      ]
    },
    {
      "cell_type": "code",
      "execution_count": null,
      "metadata": {
        "colab": {
          "base_uri": "https://localhost:8080/",
          "height": 617
        },
        "id": "cqrtePOqaC_C",
        "outputId": "5ab2e13b-d15c-43a8-a404-b7ec9ca02525"
      },
      "outputs": [
        {
          "data": {
            "image/png": "[encoded data removed]",
            "text/plain": [
              "<IPython.core.display.Image object>"
            ]
          },
          "execution_count": 10,
          "metadata": {
            "image/png": {
              "height": 600,
              "width": 500
            }
          },
          "output_type": "execute_result"
        }
      ],
      "source": [
        "Image(filename='/content/grive/MyDrive/Slides/Project1/ResNet50-Identity-Block-and-Conv-Block.png', width=500,height=600)"
      ]
    },
    {
      "cell_type": "markdown",
      "metadata": {
        "id": "eZiGDl_QZ5qd"
      },
      "source": [
        "source: https://www.researchgate.net/figure/ResNet50-Identity-Block-and-Conv-Block_fig2_363894256"
      ]
    },
    {
      "cell_type": "markdown",
      "metadata": {
        "id": "6Im09Y1LXcZ-"
      },
      "source": [
        "#### **1_1_2_7: Implementation from scratch**"
      ]
    },
    {
      "cell_type": "markdown",
      "metadata": {
        "id": "V3MTuQbDnK2_"
      },
      "source": [
        "##### **Identity block**"
      ]
    },
    {
      "cell_type": "code",
      "execution_count": null,
      "metadata": {
        "id": "8N7fwFTIsOU-"
      },
      "outputs": [],
      "source": [
        "def identity_block(X, f, filters, stage, block):\n",
        "\n",
        "    conv_name_base = 'res' + str(stage) + block + '_branch'\n",
        "    bn_name_base = 'bn' + str(stage) + block + '_branch'\n",
        "\n",
        "    F1, F2, F3 = filters\n",
        "\n",
        "    X_shortcut = X\n",
        "\n",
        "    X = Conv2D(filters = F1, kernel_size = (1, 1), strides = (1,1), padding = 'valid', name = conv_name_base + '2a')(X)\n",
        "    X = BatchNormalization(axis = 3, name = bn_name_base + '2a')(X)\n",
        "    X = Activation('relu')(X)\n",
        "\n",
        "    X = Conv2D(filters = F2, kernel_size = (f, f), strides = (1,1), padding = 'same', name = conv_name_base + '2b')(X)\n",
        "    X = BatchNormalization(axis = 3, name = bn_name_base + '2b')(X)\n",
        "    X = Activation('relu')(X)\n",
        "\n",
        "    X = Conv2D(filters = F3, kernel_size = (1, 1), strides = (1,1), padding = 'valid', name = conv_name_base + '2c')(X)\n",
        "    X = BatchNormalization(axis = 3, name = bn_name_base + '2c')(X)\n",
        "\n",
        "    X = Add()([X, X_shortcut])\n",
        "    X = Activation('relu')(X)\n",
        "\n",
        "    return X"
      ]
    },
    {
      "cell_type": "markdown",
      "metadata": {
        "id": "FsujMqvLnPfW"
      },
      "source": [
        "##### **Convolutional block**"
      ]
    },
    {
      "cell_type": "code",
      "execution_count": null,
      "metadata": {
        "id": "KE5u0QqQsT2O"
      },
      "outputs": [],
      "source": [
        "def convolutional_block(X, f, filters, stage, block, s = 2):\n",
        "\n",
        "    conv_name_base = 'res' + str(stage) + block + '_branch'\n",
        "    bn_name_base = 'bn' + str(stage) + block + '_branch'\n",
        "\n",
        "    F1, F2, F3 = filters\n",
        "\n",
        "    X_shortcut = X\n",
        "\n",
        "    X = Conv2D(F1, (1, 1), strides = (s,s), name = conv_name_base + '2a')(X)\n",
        "    X = BatchNormalization(axis = 3, name = bn_name_base + '2a')(X)\n",
        "    X = Activation('relu')(X)\n",
        "\n",
        "    X = Conv2D(filters = F2, kernel_size = (f, f), strides = (1,1), padding = 'same', name = conv_name_base + '2b')(X)\n",
        "    X = BatchNormalization(axis = 3, name = bn_name_base + '2b')(X)\n",
        "    X = Activation('relu')(X)\n",
        "\n",
        "    X = Conv2D(filters = F3, kernel_size = (1, 1), strides = (1,1), padding = 'valid', name = conv_name_base + '2c')(X)\n",
        "    X = BatchNormalization(axis = 3, name = bn_name_base + '2c')(X)\n",
        "\n",
        "    X_shortcut = Conv2D(filters = F3, kernel_size = (1, 1), strides = (s,s), padding = 'valid', name = conv_name_base + '1')(X_shortcut)\n",
        "    X_shortcut = BatchNormalization(axis = 3, name = bn_name_base + '1')(X_shortcut)\n",
        "\n",
        "    X = Add()([X, X_shortcut])\n",
        "    X = Activation('relu')(X)\n",
        "\n",
        "    return X"
      ]
    },
    {
      "cell_type": "markdown",
      "metadata": {
        "id": "cZmLU61tnTyG"
      },
      "source": [
        "##### **The main ResNet50 model**"
      ]
    },
    {
      "cell_type": "code",
      "execution_count": null,
      "metadata": {
        "id": "QrMz6Vg6rRGw"
      },
      "outputs": [],
      "source": [
        "def ResNet50_(input_shape=(224, 224, 3), classes=3):\n",
        "\n",
        "    X_input = Input(input_shape)\n",
        "\n",
        "    X = ZeroPadding2D((3, 3))(X_input)\n",
        "\n",
        "    X = Conv2D(64, (7, 7), strides=(2, 2), name='conv1')(X)\n",
        "    X = BatchNormalization(axis=3, name='bn_conv1')(X)\n",
        "    X = Activation('relu')(X)\n",
        "    X = MaxPooling2D((3, 3), strides=(2, 2))(X)\n",
        "\n",
        "    X = convolutional_block(X, f=3, filters=[64, 64, 256], stage=2, block='a', s=1)\n",
        "\n",
        "    X = identity_block(X, 3, [64, 64, 256], stage=2, block='b')\n",
        "\n",
        "    X = identity_block(X, 3, [64, 64, 256], stage=2, block='c')\n",
        "\n",
        "# --------------------------------------------------------------------------------------------------------------\n",
        "\n",
        "    X = convolutional_block(X, f = 3, filters = [128, 128, 512], stage = 3, block='a', s = 2)\n",
        "    X = identity_block(X, 3, [128, 128, 512], stage=3, block='b')\n",
        "    X = identity_block(X, 3, [128, 128, 512], stage=3, block='c')\n",
        "    X = identity_block(X, 3, [128, 128, 512], stage=3, block='d')\n",
        "\n",
        "    X = convolutional_block(X, f = 3, filters = [256, 256, 1024], stage = 4, block='a', s = 2)\n",
        "    X = identity_block(X, 3, [256, 256, 1024], stage=4, block='b')\n",
        "    X = identity_block(X, 3, [256, 256, 1024], stage=4, block='c')\n",
        "    X = identity_block(X, 3, [256, 256, 1024], stage=4, block='d')\n",
        "    X = identity_block(X, 3, [256, 256, 1024], stage=4, block='e')\n",
        "    X = identity_block(X, 3, [256, 256, 1024], stage=4, block='f')\n",
        "\n",
        "    X = convolutional_block(X, f = 3, filters = [512, 512, 2048], stage = 5, block='a', s = 2)\n",
        "    X = identity_block(X, 3, [512, 512, 2048], stage=5, block='b')\n",
        "    X = identity_block(X, 3, [512, 512, 2048], stage=5, block='c')\n",
        "\n",
        "    X = AveragePooling2D((2,2), name=\"avg_pool\")(X)\n",
        "\n",
        "    X = Flatten()(X)\n",
        "    X = Dense(classes, activation='softmax', name='fc' + str(classes), kernel_initializer = glorot_uniform(seed=0))(X)\n",
        "\n",
        "    model = Model(inputs = X_input, outputs = X, name='ResNet50')\n",
        "\n",
        "    return model\n"
      ]
    },
    {
      "cell_type": "markdown",
      "metadata": {
        "id": "aLHOIATQXcZ-"
      },
      "source": [
        "#### **1_1_2_8: Instantiate in code using built-in class**"
      ]
    },
    {
      "cell_type": "markdown",
      "metadata": {
        "id": "525v7-EGsgGW"
      },
      "source": [
        "##### **Import necessary class**"
      ]
    },
    {
      "cell_type": "code",
      "execution_count": null,
      "metadata": {
        "id": "J9psEJAWslHO"
      },
      "outputs": [],
      "source": [
        "from tensorflow.keras.applications import ResNet50"
      ]
    },
    {
      "cell_type": "markdown",
      "metadata": {
        "id": "ouTEQ-SdswED"
      },
      "source": [
        "##### **Instantiate ResNet50 base model**"
      ]
    },
    {
      "cell_type": "code",
      "execution_count": null,
      "metadata": {
        "colab": {
          "base_uri": "https://localhost:8080/"
        },
        "id": "MHuoIu-0s3gV",
        "outputId": "10a9bc44-1b42-4265-c6b7-b39b1bc3580f"
      },
      "outputs": [
        {
          "name": "stdout",
          "output_type": "stream",
          "text": [
            "Downloading data from https://storage.googleapis.com/tensorflow/keras-applications/resnet/resnet50_weights_tf_dim_ordering_tf_kernels.h5\n",
            "102967424/102967424 [==============================] - 1s 0us/step\n"
          ]
        },
        {
          "data": {
            "text/plain": [
              "<keras.src.engine.functional.Functional at 0x7b2178a11930>"
            ]
          },
          "execution_count": 15,
          "metadata": {},
          "output_type": "execute_result"
        }
      ],
      "source": [
        "tf.keras.applications.ResNet50(\n",
        "    include_top=True,\n",
        "    weights='imagenet',\n",
        "    input_tensor=None,\n",
        "    input_shape=None,\n",
        "    pooling=None,\n",
        "    classes=1000,\n",
        "    classifier_activation='softmax'\n",
        ")"
      ]
    },
    {
      "cell_type": "markdown",
      "metadata": {
        "id": "45Du4m_FHUeY"
      },
      "source": [
        "###### ***sources:***\n",
        "\n",
        "* https://towardsdatascience.com/creating-vgg-from-scratch-using-tensorflow-a998a5640155\n",
        "\n",
        "* https://datagen.tech/guides/computer-vision/vgg16/\n",
        "\n",
        "* https://keras.io/api/applications/vgg/\n",
        "\n",
        "* https://www.geeksforgeeks.org/vgg-16-cnn-model/\n",
        "\n",
        "* https://medium.com/@mygreatlearning/everything-you-need-to-know-about-vgg16-7315defb5918\n",
        "\n",
        "* https://www.tensorflow.org/api_docs/python/tf/keras/applications/ResNet50"
      ]
    },
    {
      "cell_type": "markdown",
      "metadata": {
        "id": "4SjfrFlXtxMU"
      },
      "source": [
        "## **1_2: Implementation**"
      ]
    },
    {
      "cell_type": "markdown",
      "metadata": {
        "id": "du9OREU0ubOQ"
      },
      "source": [
        "### **1_2_0: Outlook:**"
      ]
    },
    {
      "cell_type": "markdown",
      "metadata": {
        "id": "jmnTQY9puq4I"
      },
      "source": [
        "In this part, we are going to compare the VGG16 and ResNeT50 models for classifying skin conditions with and without **data augmentation**."
      ]
    },
    {
      "cell_type": "markdown",
      "metadata": {
        "id": "fNVFN--eu-LH"
      },
      "source": [
        "### **1_2_1: Data Augmentation:**\n"
      ]
    },
    {
      "cell_type": "markdown",
      "metadata": {
        "id": "0PFRJuNjvE_P"
      },
      "source": [
        " Data augmentation refers to the process of **artificially increasing the size of a dataset** by applying various transformations to the existing data samples. These transformations include, but are not limited to, **rotation**, **translation**, **scaling**, **flipping**, **cropping**, **changing brightness and contrast**, **adding noise**, and other modifications.\n",
        "\n",
        "The primary objective of data augmentation is to **increase the diversity of the training data** without collecting additional labeled samples. By generating new variations of the existing data, data augmentation helps improve the **generalization and robustness** of machine learning models. It enables the model to learn invariant features from different perspectives, thereby enhancing its performance on unseen data and **reducing overfitting**."
      ]
    },
    {
      "cell_type": "markdown",
      "metadata": {
        "id": "3CFH7hpuEbkq"
      },
      "source": [
        "### **1_2_2: Preprocess**"
      ]
    },
    {
      "cell_type": "markdown",
      "metadata": {
        "id": "da-yJQL4AZ3K"
      },
      "source": [
        "#### **1_2_2_1: find the datapath of the dataset**"
      ]
    },
    {
      "cell_type": "code",
      "execution_count": null,
      "metadata": {
        "id": "32EQw-Wj-thQ"
      },
      "outputs": [],
      "source": [
        "dataset_path = \"/content/grive/MyDrive/AI_Project1/Dataset\""
      ]
    },
    {
      "cell_type": "markdown",
      "metadata": {
        "id": "9wpxnprSdAMg"
      },
      "source": [
        "#### **1_2_2_2: Import necessary library to work with files**"
      ]
    },
    {
      "cell_type": "code",
      "execution_count": null,
      "metadata": {
        "id": "zQJC7riwdEPE"
      },
      "outputs": [],
      "source": [
        "import os"
      ]
    },
    {
      "cell_type": "markdown",
      "metadata": {
        "id": "k1Xs54CixR5E"
      },
      "source": [
        "#### **1_2_2_3: To list the names of files and directories within a specified directory path, we use 'os.listdir(dataset_path)'**"
      ]
    },
    {
      "cell_type": "code",
      "execution_count": null,
      "metadata": {
        "colab": {
          "base_uri": "https://localhost:8080/"
        },
        "id": "gH17k7x7pT-3",
        "outputId": "1b0ca4c0-8896-425b-d4d1-59f630432c6e"
      },
      "outputs": [
        {
          "data": {
            "text/plain": [
              "['Carcinoma', 'Melanoma', 'Nevus']"
            ]
          },
          "execution_count": 18,
          "metadata": {},
          "output_type": "execute_result"
        }
      ],
      "source": [
        "different_skin_conditions = os.listdir(dataset_path)\n",
        "\n",
        "different_skin_conditions"
      ]
    },
    {
      "cell_type": "markdown",
      "metadata": {
        "id": "sNua_gdw0K5A"
      },
      "source": [
        "#### **1_2_2_4: Make a list to restore all different image file's paths**"
      ]
    },
    {
      "cell_type": "code",
      "execution_count": null,
      "metadata": {
        "id": "ugcqVhD_vxc8"
      },
      "outputs": [],
      "source": [
        "conditions = []"
      ]
    },
    {
      "cell_type": "markdown",
      "metadata": {
        "id": "BTjH5a3r0P4x"
      },
      "source": [
        "#### **1_2_2_5: Add the image files' names to their condition item**"
      ]
    },
    {
      "cell_type": "code",
      "execution_count": null,
      "metadata": {
        "colab": {
          "base_uri": "https://localhost:8080/"
        },
        "id": "HLfAqntBtkFJ",
        "outputId": "1a158664-103d-47f9-ee6f-cd068c08e913"
      },
      "outputs": [
        {
          "data": {
            "text/plain": [
              "[('Carcinoma',\n",
              "  '/content/grive/MyDrive/AI_Project1/Dataset/Carcinoma/ISIC_0028570.jpg'),\n",
              " ('Carcinoma',\n",
              "  '/content/grive/MyDrive/AI_Project1/Dataset/Carcinoma/ISIC_0028747.jpg'),\n",
              " ('Carcinoma',\n",
              "  '/content/grive/MyDrive/AI_Project1/Dataset/Carcinoma/ISIC_0028677.jpg'),\n",
              " ('Carcinoma',\n",
              "  '/content/grive/MyDrive/AI_Project1/Dataset/Carcinoma/ISIC_0028928.jpg'),\n",
              " ('Carcinoma',\n",
              "  '/content/grive/MyDrive/AI_Project1/Dataset/Carcinoma/ISIC_0029082.jpg'),\n",
              " ('Carcinoma',\n",
              "  '/content/grive/MyDrive/AI_Project1/Dataset/Carcinoma/ISIC_0028815.jpg'),\n",
              " ('Carcinoma',\n",
              "  '/content/grive/MyDrive/AI_Project1/Dataset/Carcinoma/ISIC_0028653.jpg'),\n",
              " ('Carcinoma',\n",
              "  '/content/grive/MyDrive/AI_Project1/Dataset/Carcinoma/ISIC_0029034.jpg'),\n",
              " ('Carcinoma',\n",
              "  '/content/grive/MyDrive/AI_Project1/Dataset/Carcinoma/ISIC_0028814.jpg'),\n",
              " ('Carcinoma',\n",
              "  '/content/grive/MyDrive/AI_Project1/Dataset/Carcinoma/ISIC_0028994.jpg'),\n",
              " ('Carcinoma',\n",
              "  '/content/grive/MyDrive/AI_Project1/Dataset/Carcinoma/ISIC_0028542.jpg'),\n",
              " ('Carcinoma',\n",
              "  '/content/grive/MyDrive/AI_Project1/Dataset/Carcinoma/ISIC_0028652.jpg'),\n",
              " ('Carcinoma',\n",
              "  '/content/grive/MyDrive/AI_Project1/Dataset/Carcinoma/ISIC_0028719.jpg'),\n",
              " ('Carcinoma',\n",
              "  '/content/grive/MyDrive/AI_Project1/Dataset/Carcinoma/ISIC_0028818.jpg'),\n",
              " ('Carcinoma',\n",
              "  '/content/grive/MyDrive/AI_Project1/Dataset/Carcinoma/ISIC_0028807.jpg'),\n",
              " ('Carcinoma',\n",
              "  '/content/grive/MyDrive/AI_Project1/Dataset/Carcinoma/ISIC_0029129.jpg'),\n",
              " ('Carcinoma',\n",
              "  '/content/grive/MyDrive/AI_Project1/Dataset/Carcinoma/ISIC_0028495.jpg'),\n",
              " ('Carcinoma',\n",
              "  '/content/grive/MyDrive/AI_Project1/Dataset/Carcinoma/ISIC_0029053.jpg'),\n",
              " ('Carcinoma',\n",
              "  '/content/grive/MyDrive/AI_Project1/Dataset/Carcinoma/ISIC_0028871.jpg'),\n",
              " ('Carcinoma',\n",
              "  '/content/grive/MyDrive/AI_Project1/Dataset/Carcinoma/ISIC_0028687.jpg'),\n",
              " ('Carcinoma',\n",
              "  '/content/grive/MyDrive/AI_Project1/Dataset/Carcinoma/ISIC_0028556.jpg'),\n",
              " ('Carcinoma',\n",
              "  '/content/grive/MyDrive/AI_Project1/Dataset/Carcinoma/ISIC_0028568.jpg'),\n",
              " ('Carcinoma',\n",
              "  '/content/grive/MyDrive/AI_Project1/Dataset/Carcinoma/ISIC_0028583.jpg'),\n",
              " ('Carcinoma',\n",
              "  '/content/grive/MyDrive/AI_Project1/Dataset/Carcinoma/ISIC_0028765.jpg'),\n",
              " ('Carcinoma',\n",
              "  '/content/grive/MyDrive/AI_Project1/Dataset/Carcinoma/ISIC_0028877.jpg'),\n",
              " ('Carcinoma',\n",
              "  '/content/grive/MyDrive/AI_Project1/Dataset/Carcinoma/ISIC_0028980.jpg'),\n",
              " ('Carcinoma',\n",
              "  '/content/grive/MyDrive/AI_Project1/Dataset/Carcinoma/ISIC_0028693.jpg'),\n",
              " ('Carcinoma',\n",
              "  '/content/grive/MyDrive/AI_Project1/Dataset/Carcinoma/ISIC_0028739.jpg'),\n",
              " ('Carcinoma',\n",
              "  '/content/grive/MyDrive/AI_Project1/Dataset/Carcinoma/ISIC_0028964.jpg'),\n",
              " ('Carcinoma',\n",
              "  '/content/grive/MyDrive/AI_Project1/Dataset/Carcinoma/ISIC_0028937.jpg'),\n",
              " ('Carcinoma',\n",
              "  '/content/grive/MyDrive/AI_Project1/Dataset/Carcinoma/ISIC_0028858.jpg'),\n",
              " ('Carcinoma',\n",
              "  '/content/grive/MyDrive/AI_Project1/Dataset/Carcinoma/ISIC_0028688.jpg'),\n",
              " ('Carcinoma',\n",
              "  '/content/grive/MyDrive/AI_Project1/Dataset/Carcinoma/ISIC_0028989.jpg'),\n",
              " ('Carcinoma',\n",
              "  '/content/grive/MyDrive/AI_Project1/Dataset/Carcinoma/ISIC_0028728.jpg'),\n",
              " ('Carcinoma',\n",
              "  '/content/grive/MyDrive/AI_Project1/Dataset/Carcinoma/ISIC_0028670.jpg'),\n",
              " ('Carcinoma',\n",
              "  '/content/grive/MyDrive/AI_Project1/Dataset/Carcinoma/ISIC_0028978.jpg'),\n",
              " ('Carcinoma',\n",
              "  '/content/grive/MyDrive/AI_Project1/Dataset/Carcinoma/ISIC_0029020.jpg'),\n",
              " ('Carcinoma',\n",
              "  '/content/grive/MyDrive/AI_Project1/Dataset/Carcinoma/ISIC_0029035.jpg'),\n",
              " ('Carcinoma',\n",
              "  '/content/grive/MyDrive/AI_Project1/Dataset/Carcinoma/ISIC_0028577.jpg'),\n",
              " ('Carcinoma',\n",
              "  '/content/grive/MyDrive/AI_Project1/Dataset/Carcinoma/ISIC_0025383.jpg'),\n",
              " ('Carcinoma',\n",
              "  '/content/grive/MyDrive/AI_Project1/Dataset/Carcinoma/ISIC_0029083.jpg'),\n",
              " ('Carcinoma',\n",
              "  '/content/grive/MyDrive/AI_Project1/Dataset/Carcinoma/ISIC_0025301.jpg'),\n",
              " ('Carcinoma',\n",
              "  '/content/grive/MyDrive/AI_Project1/Dataset/Carcinoma/ISIC_0025285.jpg'),\n",
              " ('Carcinoma',\n",
              "  '/content/grive/MyDrive/AI_Project1/Dataset/Carcinoma/ISIC_0025322.jpg'),\n",
              " ('Carcinoma',\n",
              "  '/content/grive/MyDrive/AI_Project1/Dataset/Carcinoma/ISIC_0028973.jpg'),\n",
              " ('Carcinoma',\n",
              "  '/content/grive/MyDrive/AI_Project1/Dataset/Carcinoma/ISIC_0029123.jpg'),\n",
              " ('Carcinoma',\n",
              "  '/content/grive/MyDrive/AI_Project1/Dataset/Carcinoma/ISIC_0025299.jpg'),\n",
              " ('Carcinoma',\n",
              "  '/content/grive/MyDrive/AI_Project1/Dataset/Carcinoma/ISIC_0025362.jpg'),\n",
              " ('Carcinoma',\n",
              "  '/content/grive/MyDrive/AI_Project1/Dataset/Carcinoma/ISIC_0028671.jpg'),\n",
              " ('Carcinoma',\n",
              "  '/content/grive/MyDrive/AI_Project1/Dataset/Carcinoma/ISIC_0028890.jpg'),\n",
              " ('Melanoma',\n",
              "  '/content/grive/MyDrive/AI_Project1/Dataset/Melanoma/ISIC_0000466.jpg'),\n",
              " ('Melanoma',\n",
              "  '/content/grive/MyDrive/AI_Project1/Dataset/Melanoma/ISIC_0000547.jpg'),\n",
              " ('Melanoma',\n",
              "  '/content/grive/MyDrive/AI_Project1/Dataset/Melanoma/ISIC_0000487 - Copy.jpg'),\n",
              " ('Melanoma',\n",
              "  '/content/grive/MyDrive/AI_Project1/Dataset/Melanoma/ISIC_0000517 - Copy.jpg'),\n",
              " ('Melanoma',\n",
              "  '/content/grive/MyDrive/AI_Project1/Dataset/Melanoma/ISIC_0000513 - Copy.jpg'),\n",
              " ('Melanoma',\n",
              "  '/content/grive/MyDrive/AI_Project1/Dataset/Melanoma/ISIC_0000445.jpg'),\n",
              " ('Melanoma',\n",
              "  '/content/grive/MyDrive/AI_Project1/Dataset/Melanoma/ISIC_0000502 - Copy.jpg'),\n",
              " ('Melanoma',\n",
              "  '/content/grive/MyDrive/AI_Project1/Dataset/Melanoma/ISIC_0000513.jpg'),\n",
              " ('Melanoma',\n",
              "  '/content/grive/MyDrive/AI_Project1/Dataset/Melanoma/ISIC_0000517.jpg'),\n",
              " ('Melanoma',\n",
              "  '/content/grive/MyDrive/AI_Project1/Dataset/Melanoma/ISIC_0000516.jpg'),\n",
              " ('Melanoma',\n",
              "  '/content/grive/MyDrive/AI_Project1/Dataset/Melanoma/ISIC_0000516 - Copy.jpg'),\n",
              " ('Melanoma',\n",
              "  '/content/grive/MyDrive/AI_Project1/Dataset/Melanoma/ISIC_0000511 - Copy.jpg'),\n",
              " ('Melanoma',\n",
              "  '/content/grive/MyDrive/AI_Project1/Dataset/Melanoma/ISIC_0000466 - Copy.jpg'),\n",
              " ('Melanoma',\n",
              "  '/content/grive/MyDrive/AI_Project1/Dataset/Melanoma/ISIC_0000526.jpg'),\n",
              " ('Melanoma',\n",
              "  '/content/grive/MyDrive/AI_Project1/Dataset/Melanoma/ISIC_0000445 - Copy.jpg'),\n",
              " ('Melanoma',\n",
              "  '/content/grive/MyDrive/AI_Project1/Dataset/Melanoma/ISIC_0000502.jpg'),\n",
              " ('Melanoma',\n",
              "  '/content/grive/MyDrive/AI_Project1/Dataset/Melanoma/ISIC_0000482 - Copy.jpg'),\n",
              " ('Melanoma',\n",
              "  '/content/grive/MyDrive/AI_Project1/Dataset/Melanoma/ISIC_0000518 - Copy.jpg'),\n",
              " ('Melanoma',\n",
              "  '/content/grive/MyDrive/AI_Project1/Dataset/Melanoma/ISIC_0000520 - Copy.jpg'),\n",
              " ('Melanoma',\n",
              "  '/content/grive/MyDrive/AI_Project1/Dataset/Melanoma/ISIC_0000520.jpg'),\n",
              " ('Melanoma',\n",
              "  '/content/grive/MyDrive/AI_Project1/Dataset/Melanoma/ISIC_0000519.jpg'),\n",
              " ('Melanoma',\n",
              "  '/content/grive/MyDrive/AI_Project1/Dataset/Melanoma/ISIC_0000548.jpg'),\n",
              " ('Melanoma',\n",
              "  '/content/grive/MyDrive/AI_Project1/Dataset/Melanoma/ISIC_0000518.jpg'),\n",
              " ('Melanoma',\n",
              "  '/content/grive/MyDrive/AI_Project1/Dataset/Melanoma/ISIC_0000521 - Copy.jpg'),\n",
              " ('Melanoma',\n",
              "  '/content/grive/MyDrive/AI_Project1/Dataset/Melanoma/ISIC_0000462.jpg'),\n",
              " ('Melanoma',\n",
              "  '/content/grive/MyDrive/AI_Project1/Dataset/Melanoma/ISIC_0000519 - Copy.jpg'),\n",
              " ('Melanoma',\n",
              "  '/content/grive/MyDrive/AI_Project1/Dataset/Melanoma/ISIC_0000487.jpg'),\n",
              " ('Melanoma',\n",
              "  '/content/grive/MyDrive/AI_Project1/Dataset/Melanoma/ISIC_0000459.jpg'),\n",
              " ('Melanoma',\n",
              "  '/content/grive/MyDrive/AI_Project1/Dataset/Melanoma/ISIC_0000521.jpg'),\n",
              " ('Melanoma',\n",
              "  '/content/grive/MyDrive/AI_Project1/Dataset/Melanoma/ISIC_0000522.jpg'),\n",
              " ('Melanoma',\n",
              "  '/content/grive/MyDrive/AI_Project1/Dataset/Melanoma/ISIC_0000161.jpg'),\n",
              " ('Melanoma',\n",
              "  '/content/grive/MyDrive/AI_Project1/Dataset/Melanoma/ISIC_0000469 - Copy.jpg'),\n",
              " ('Melanoma',\n",
              "  '/content/grive/MyDrive/AI_Project1/Dataset/Melanoma/ISIC_0000484 - Copy.jpg'),\n",
              " ('Melanoma',\n",
              "  '/content/grive/MyDrive/AI_Project1/Dataset/Melanoma/ISIC_0000434 - Copy.jpg'),\n",
              " ('Melanoma',\n",
              "  '/content/grive/MyDrive/AI_Project1/Dataset/Melanoma/ISIC_0000158.jpg'),\n",
              " ('Melanoma',\n",
              "  '/content/grive/MyDrive/AI_Project1/Dataset/Melanoma/ISIC_0000444.jpg'),\n",
              " ('Melanoma',\n",
              "  '/content/grive/MyDrive/AI_Project1/Dataset/Melanoma/ISIC_0000463 - Copy.jpg'),\n",
              " ('Melanoma',\n",
              "  '/content/grive/MyDrive/AI_Project1/Dataset/Melanoma/ISIC_0000459 - Copy.jpg'),\n",
              " ('Melanoma',\n",
              "  '/content/grive/MyDrive/AI_Project1/Dataset/Melanoma/ISIC_0000162.jpg'),\n",
              " ('Melanoma',\n",
              "  '/content/grive/MyDrive/AI_Project1/Dataset/Melanoma/ISIC_0000469.jpg'),\n",
              " ('Melanoma',\n",
              "  '/content/grive/MyDrive/AI_Project1/Dataset/Melanoma/ISIC_0000159.jpg'),\n",
              " ('Melanoma',\n",
              "  '/content/grive/MyDrive/AI_Project1/Dataset/Melanoma/ISIC_0000462 - Copy.jpg'),\n",
              " ('Melanoma',\n",
              "  '/content/grive/MyDrive/AI_Project1/Dataset/Melanoma/ISIC_0000522 - Copy.jpg'),\n",
              " ('Melanoma',\n",
              "  '/content/grive/MyDrive/AI_Project1/Dataset/Melanoma/ISIC_0000446 - Copy.jpg'),\n",
              " ('Melanoma',\n",
              "  '/content/grive/MyDrive/AI_Project1/Dataset/Melanoma/ISIC_0000157.jpg'),\n",
              " ('Melanoma',\n",
              "  '/content/grive/MyDrive/AI_Project1/Dataset/Melanoma/ISIC_0000450 - Copy.jpg'),\n",
              " ('Melanoma',\n",
              "  '/content/grive/MyDrive/AI_Project1/Dataset/Melanoma/ISIC_0000441 - Copy.jpg'),\n",
              " ('Melanoma',\n",
              "  '/content/grive/MyDrive/AI_Project1/Dataset/Melanoma/ISIC_0000153 - Copy.jpg'),\n",
              " ('Melanoma',\n",
              "  '/content/grive/MyDrive/AI_Project1/Dataset/Melanoma/ISIC_0000533.jpg'),\n",
              " ('Melanoma',\n",
              "  '/content/grive/MyDrive/AI_Project1/Dataset/Melanoma/ISIC_0000153.jpg'),\n",
              " ('Melanoma',\n",
              "  '/content/grive/MyDrive/AI_Project1/Dataset/Melanoma/ISIC_0000440.jpg'),\n",
              " ('Melanoma',\n",
              "  '/content/grive/MyDrive/AI_Project1/Dataset/Melanoma/ISIC_0000155.jpg'),\n",
              " ('Melanoma',\n",
              "  '/content/grive/MyDrive/AI_Project1/Dataset/Melanoma/ISIC_0000160.jpg'),\n",
              " ('Melanoma',\n",
              "  '/content/grive/MyDrive/AI_Project1/Dataset/Melanoma/ISIC_0000463.jpg'),\n",
              " ('Melanoma',\n",
              "  '/content/grive/MyDrive/AI_Project1/Dataset/Melanoma/ISIC_0000155 - Copy.jpg'),\n",
              " ('Melanoma',\n",
              "  '/content/grive/MyDrive/AI_Project1/Dataset/Melanoma/ISIC_0000156 - Copy.jpg'),\n",
              " ('Melanoma',\n",
              "  '/content/grive/MyDrive/AI_Project1/Dataset/Melanoma/ISIC_0000154.jpg'),\n",
              " ('Melanoma',\n",
              "  '/content/grive/MyDrive/AI_Project1/Dataset/Melanoma/ISIC_0000156.jpg'),\n",
              " ('Melanoma',\n",
              "  '/content/grive/MyDrive/AI_Project1/Dataset/Melanoma/ISIC_0000444 - Copy.jpg'),\n",
              " ('Melanoma',\n",
              "  '/content/grive/MyDrive/AI_Project1/Dataset/Melanoma/ISIC_0000152 - Copy.jpg'),\n",
              " ('Melanoma',\n",
              "  '/content/grive/MyDrive/AI_Project1/Dataset/Melanoma/ISIC_0000440 - Copy.jpg'),\n",
              " ('Melanoma',\n",
              "  '/content/grive/MyDrive/AI_Project1/Dataset/Melanoma/ISIC_0000151.jpg'),\n",
              " ('Melanoma',\n",
              "  '/content/grive/MyDrive/AI_Project1/Dataset/Melanoma/ISIC_0000152.jpg'),\n",
              " ('Melanoma',\n",
              "  '/content/grive/MyDrive/AI_Project1/Dataset/Melanoma/ISIC_0000154 - Copy.jpg'),\n",
              " ('Nevus',\n",
              "  '/content/grive/MyDrive/AI_Project1/Dataset/Nevus/ISIC_0000433.jpg'),\n",
              " ('Nevus',\n",
              "  '/content/grive/MyDrive/AI_Project1/Dataset/Nevus/ISIC_0000427.jpg'),\n",
              " ('Nevus',\n",
              "  '/content/grive/MyDrive/AI_Project1/Dataset/Nevus/ISIC_0000425.jpg'),\n",
              " ('Nevus',\n",
              "  '/content/grive/MyDrive/AI_Project1/Dataset/Nevus/ISIC_0000422.jpg'),\n",
              " ('Nevus',\n",
              "  '/content/grive/MyDrive/AI_Project1/Dataset/Nevus/ISIC_0000421.jpg'),\n",
              " ('Nevus',\n",
              "  '/content/grive/MyDrive/AI_Project1/Dataset/Nevus/ISIC_0000397.jpg'),\n",
              " ('Nevus',\n",
              "  '/content/grive/MyDrive/AI_Project1/Dataset/Nevus/ISIC_0000422(1).jpg'),\n",
              " ('Nevus',\n",
              "  '/content/grive/MyDrive/AI_Project1/Dataset/Nevus/ISIC_0000431.jpg'),\n",
              " ('Nevus',\n",
              "  '/content/grive/MyDrive/AI_Project1/Dataset/Nevus/ISIC_0000423.jpg'),\n",
              " ('Nevus',\n",
              "  '/content/grive/MyDrive/AI_Project1/Dataset/Nevus/ISIC_0000424.jpg'),\n",
              " ('Nevus',\n",
              "  '/content/grive/MyDrive/AI_Project1/Dataset/Nevus/ISIC_0000419(1)(1).jpg'),\n",
              " ('Nevus',\n",
              "  '/content/grive/MyDrive/AI_Project1/Dataset/Nevus/ISIC_0000419.jpg'),\n",
              " ('Nevus',\n",
              "  '/content/grive/MyDrive/AI_Project1/Dataset/Nevus/ISIC_0000407(1).jpg'),\n",
              " ('Nevus',\n",
              "  '/content/grive/MyDrive/AI_Project1/Dataset/Nevus/ISIC_0000391.jpg'),\n",
              " ('Nevus',\n",
              "  '/content/grive/MyDrive/AI_Project1/Dataset/Nevus/ISIC_0000426.jpg'),\n",
              " ('Nevus',\n",
              "  '/content/grive/MyDrive/AI_Project1/Dataset/Nevus/ISIC_0000416.jpg'),\n",
              " ('Nevus',\n",
              "  '/content/grive/MyDrive/AI_Project1/Dataset/Nevus/ISIC_0000409.jpg'),\n",
              " ('Nevus',\n",
              "  '/content/grive/MyDrive/AI_Project1/Dataset/Nevus/ISIC_0000409(1).jpg'),\n",
              " ('Nevus',\n",
              "  '/content/grive/MyDrive/AI_Project1/Dataset/Nevus/ISIC_0000418(1).jpg'),\n",
              " ('Nevus',\n",
              "  '/content/grive/MyDrive/AI_Project1/Dataset/Nevus/ISIC_0000419(1).jpg'),\n",
              " ('Nevus',\n",
              "  '/content/grive/MyDrive/AI_Project1/Dataset/Nevus/ISIC_0000430.jpg'),\n",
              " ('Nevus',\n",
              "  '/content/grive/MyDrive/AI_Project1/Dataset/Nevus/ISIC_0000419(2).jpg'),\n",
              " ('Nevus',\n",
              "  '/content/grive/MyDrive/AI_Project1/Dataset/Nevus/ISIC_0000392.jpg'),\n",
              " ('Nevus',\n",
              "  '/content/grive/MyDrive/AI_Project1/Dataset/Nevus/ISIC_0000407.jpg'),\n",
              " ('Nevus',\n",
              "  '/content/grive/MyDrive/AI_Project1/Dataset/Nevus/ISIC_0000388.jpg'),\n",
              " ('Nevus',\n",
              "  '/content/grive/MyDrive/AI_Project1/Dataset/Nevus/ISIC_0000403.jpg'),\n",
              " ('Nevus',\n",
              "  '/content/grive/MyDrive/AI_Project1/Dataset/Nevus/ISIC_0000386.jpg'),\n",
              " ('Nevus',\n",
              "  '/content/grive/MyDrive/AI_Project1/Dataset/Nevus/ISIC_0000384.jpg'),\n",
              " ('Nevus',\n",
              "  '/content/grive/MyDrive/AI_Project1/Dataset/Nevus/ISIC_0000082.jpg'),\n",
              " ('Nevus',\n",
              "  '/content/grive/MyDrive/AI_Project1/Dataset/Nevus/ISIC_0000387.jpg'),\n",
              " ('Nevus',\n",
              "  '/content/grive/MyDrive/AI_Project1/Dataset/Nevus/ISIC_0000389.jpg'),\n",
              " ('Nevus',\n",
              "  '/content/grive/MyDrive/AI_Project1/Dataset/Nevus/ISIC_0000383.jpg'),\n",
              " ('Nevus',\n",
              "  '/content/grive/MyDrive/AI_Project1/Dataset/Nevus/ISIC_0000396.jpg'),\n",
              " ('Nevus',\n",
              "  '/content/grive/MyDrive/AI_Project1/Dataset/Nevus/ISIC_0000237 - Copy.jpg'),\n",
              " ('Nevus',\n",
              "  '/content/grive/MyDrive/AI_Project1/Dataset/Nevus/ISIC_0000238 - Copy.jpg'),\n",
              " ('Nevus',\n",
              "  '/content/grive/MyDrive/AI_Project1/Dataset/Nevus/ISIC_0000065.jpg'),\n",
              " ('Nevus',\n",
              "  '/content/grive/MyDrive/AI_Project1/Dataset/Nevus/ISIC_0000319 - Copy.jpg'),\n",
              " ('Nevus',\n",
              "  '/content/grive/MyDrive/AI_Project1/Dataset/Nevus/ISIC_0000385.jpg'),\n",
              " ('Nevus',\n",
              "  '/content/grive/MyDrive/AI_Project1/Dataset/Nevus/ISIC_0000080.jpg'),\n",
              " ('Nevus',\n",
              "  '/content/grive/MyDrive/AI_Project1/Dataset/Nevus/ISIC_0000067.jpg'),\n",
              " ('Nevus',\n",
              "  '/content/grive/MyDrive/AI_Project1/Dataset/Nevus/ISIC_0000068.jpg'),\n",
              " ('Nevus',\n",
              "  '/content/grive/MyDrive/AI_Project1/Dataset/Nevus/ISIC_0000418.jpg'),\n",
              " ('Nevus',\n",
              "  '/content/grive/MyDrive/AI_Project1/Dataset/Nevus/ISIC_0000240 - Copy.jpg'),\n",
              " ('Nevus',\n",
              "  '/content/grive/MyDrive/AI_Project1/Dataset/Nevus/ISIC_0000408.jpg'),\n",
              " ('Nevus',\n",
              "  '/content/grive/MyDrive/AI_Project1/Dataset/Nevus/ISIC_0000403(1).jpg'),\n",
              " ('Nevus',\n",
              "  '/content/grive/MyDrive/AI_Project1/Dataset/Nevus/ISIC_0000057.jpg'),\n",
              " ('Nevus',\n",
              "  '/content/grive/MyDrive/AI_Project1/Dataset/Nevus/ISIC_0000066.jpg'),\n",
              " ('Nevus',\n",
              "  '/content/grive/MyDrive/AI_Project1/Dataset/Nevus/ISIC_0000073.jpg'),\n",
              " ('Nevus',\n",
              "  '/content/grive/MyDrive/AI_Project1/Dataset/Nevus/ISIC_0000239 - Copy.jpg'),\n",
              " ('Nevus',\n",
              "  '/content/grive/MyDrive/AI_Project1/Dataset/Nevus/ISIC_0000062.jpg'),\n",
              " ('Nevus',\n",
              "  '/content/grive/MyDrive/AI_Project1/Dataset/Nevus/ISIC_0000079.jpg'),\n",
              " ('Nevus',\n",
              "  '/content/grive/MyDrive/AI_Project1/Dataset/Nevus/ISIC_0000081.jpg'),\n",
              " ('Nevus',\n",
              "  '/content/grive/MyDrive/AI_Project1/Dataset/Nevus/ISIC_0000061.jpg'),\n",
              " ('Nevus',\n",
              "  '/content/grive/MyDrive/AI_Project1/Dataset/Nevus/ISIC_0000063.jpg'),\n",
              " ('Nevus',\n",
              "  '/content/grive/MyDrive/AI_Project1/Dataset/Nevus/ISIC_0000060.jpg'),\n",
              " ('Nevus',\n",
              "  '/content/grive/MyDrive/AI_Project1/Dataset/Nevus/ISIC_0000055.jpg'),\n",
              " ('Nevus',\n",
              "  '/content/grive/MyDrive/AI_Project1/Dataset/Nevus/ISIC_0000058.jpg'),\n",
              " ('Nevus',\n",
              "  '/content/grive/MyDrive/AI_Project1/Dataset/Nevus/ISIC_0000059.jpg'),\n",
              " ('Nevus',\n",
              "  '/content/grive/MyDrive/AI_Project1/Dataset/Nevus/ISIC_0000064.jpg')]"
            ]
          },
          "execution_count": 20,
          "metadata": {},
          "output_type": "execute_result"
        }
      ],
      "source": [
        "for condition in different_skin_conditions:\n",
        "\n",
        "  condition_path = dataset_path + '/' + condition\n",
        "  pictures_of_condition = os.listdir(condition_path)\n",
        "\n",
        "  for picture in pictures_of_condition:\n",
        "    conditions.append((condition, condition_path + '/' + picture))\n",
        "\n",
        "conditions"
      ]
    },
    {
      "cell_type": "markdown",
      "metadata": {
        "id": "MBKry6jX2rCT"
      },
      "source": [
        "#### **1_2_2_6: Add essential libaries to work with dataframes and arrays**"
      ]
    },
    {
      "cell_type": "code",
      "execution_count": null,
      "metadata": {
        "id": "eCVZtXvG18QS"
      },
      "outputs": [],
      "source": [
        "import pandas as pd\n",
        "import numpy as np"
      ]
    },
    {
      "cell_type": "markdown",
      "metadata": {
        "id": "5DJxf6aBzWUY"
      },
      "source": [
        "#### **1_2_2_7: Create dataframe containing image files' names and their condition type**"
      ]
    },
    {
      "cell_type": "code",
      "execution_count": null,
      "metadata": {
        "colab": {
          "base_uri": "https://localhost:8080/"
        },
        "id": "-77lVOrv1zOp",
        "outputId": "635b4638-3438-4c6b-da95-98f91e38d219"
      },
      "outputs": [
        {
          "name": "stdout",
          "output_type": "stream",
          "text": [
            "  condition_type                                         image_name\n",
            "0      Carcinoma  /content/grive/MyDrive/AI_Project1/Dataset/Car...\n",
            "1      Carcinoma  /content/grive/MyDrive/AI_Project1/Dataset/Car...\n",
            "2      Carcinoma  /content/grive/MyDrive/AI_Project1/Dataset/Car...\n",
            "3      Carcinoma  /content/grive/MyDrive/AI_Project1/Dataset/Car...\n",
            "4      Carcinoma  /content/grive/MyDrive/AI_Project1/Dataset/Car...\n",
            "    condition_type                                         image_name\n",
            "168          Nevus  /content/grive/MyDrive/AI_Project1/Dataset/Nev...\n",
            "169          Nevus  /content/grive/MyDrive/AI_Project1/Dataset/Nev...\n",
            "170          Nevus  /content/grive/MyDrive/AI_Project1/Dataset/Nev...\n",
            "171          Nevus  /content/grive/MyDrive/AI_Project1/Dataset/Nev...\n",
            "172          Nevus  /content/grive/MyDrive/AI_Project1/Dataset/Nev...\n"
          ]
        }
      ],
      "source": [
        "conditions_df = pd.DataFrame(data=conditions, columns=['condition_type', 'image_name'])\n",
        "\n",
        "print(conditions_df.head())\n",
        "print(conditions_df.tail())"
      ]
    },
    {
      "cell_type": "markdown",
      "metadata": {
        "id": "I-b3eumDCdGj"
      },
      "source": [
        "#### **1_2_2_8: Count the number of pictures of all conditions**"
      ]
    },
    {
      "cell_type": "code",
      "execution_count": null,
      "metadata": {
        "colab": {
          "base_uri": "https://localhost:8080/"
        },
        "id": "cuSERlAU2x_H",
        "outputId": "8e1f0bf8-e298-48f9-92bc-8a20d1b7981f"
      },
      "outputs": [
        {
          "name": "stdout",
          "output_type": "stream",
          "text": [
            "Total number of skin conditions' pictures in the dataset:  173\n"
          ]
        }
      ],
      "source": [
        "print(\"Total number of skin conditions' pictures in the dataset: \", len(conditions_df))"
      ]
    },
    {
      "cell_type": "markdown",
      "metadata": {
        "id": "wU0-mPJDCxPo"
      },
      "source": [
        "#### **1_2_2_9: Count the number of pictures in each category of conditions**"
      ]
    },
    {
      "cell_type": "code",
      "execution_count": null,
      "metadata": {
        "colab": {
          "base_uri": "https://localhost:8080/"
        },
        "id": "aBHoGgL1Cxmy",
        "outputId": "31dabf5e-d837-4136-8949-8618e13eb33e"
      },
      "outputs": [
        {
          "name": "stdout",
          "output_type": "stream",
          "text": [
            "condition's pictures in each category: \n",
            "condition_type\n",
            "Melanoma     64\n",
            "Nevus        59\n",
            "Carcinoma    50\n",
            "Name: count, dtype: int64\n"
          ]
        }
      ],
      "source": [
        "condition_count = conditions_df['condition_type'].value_counts()\n",
        "\n",
        "print(\"condition's pictures in each category: \")\n",
        "print(condition_count)"
      ]
    },
    {
      "cell_type": "markdown",
      "metadata": {
        "id": "cBCNuvoB0hG1"
      },
      "source": [
        "#### **1_2_2_10: Create our image and label list and remove repetitive pictures**"
      ]
    },
    {
      "cell_type": "code",
      "execution_count": null,
      "metadata": {
        "colab": {
          "background_save": true
        },
        "id": "4rgYbmj0Cyxv",
        "outputId": "90f98615-e8aa-4d08-d04f-61ff8dd2cc36"
      },
      "outputs": [
        {
          "name": "stdout",
          "output_type": "stream",
          "text": [
            "142\n",
            "142\n",
            "31\n",
            "[[[0 0 0]\n",
            "  [0 0 0]\n",
            "  [0 0 0]\n",
            "  ...\n",
            "  [0 0 0]\n",
            "  [0 0 0]\n",
            "  [0 0 0]]\n",
            "\n",
            " [[0 0 0]\n",
            "  [0 0 0]\n",
            "  [0 0 0]\n",
            "  ...\n",
            "  [0 0 0]\n",
            "  [0 0 0]\n",
            "  [0 0 0]]\n",
            "\n",
            " [[0 0 0]\n",
            "  [0 0 0]\n",
            "  [0 0 0]\n",
            "  ...\n",
            "  [0 0 0]\n",
            "  [0 0 0]\n",
            "  [0 0 0]]\n",
            "\n",
            " ...\n",
            "\n",
            " [[0 0 0]\n",
            "  [0 0 0]\n",
            "  [0 0 0]\n",
            "  ...\n",
            "  [0 0 0]\n",
            "  [0 0 0]\n",
            "  [0 0 0]]\n",
            "\n",
            " [[0 0 0]\n",
            "  [0 0 0]\n",
            "  [0 0 0]\n",
            "  ...\n",
            "  [0 0 0]\n",
            "  [0 0 0]\n",
            "  [0 0 0]]\n",
            "\n",
            " [[0 0 0]\n",
            "  [0 0 0]\n",
            "  [0 0 0]\n",
            "  ...\n",
            "  [0 0 0]\n",
            "  [0 0 0]\n",
            "  [0 0 0]]]\n"
          ]
        }
      ],
      "source": [
        "import cv2\n",
        "im_size = 224\n",
        "\n",
        "images = []\n",
        "labels = []\n",
        "sample = 0\n",
        "count = 0\n",
        "flag = True\n",
        "for condition in different_skin_conditions:\n",
        "    condition_data_path = dataset_path + '/' + condition\n",
        "    filenames = [i for i in os.listdir(condition_data_path) ]\n",
        "\n",
        "    for filename in filenames:\n",
        "        flag = True\n",
        "        img = cv2.imread(condition_data_path + '/' + filename)\n",
        "        img = cv2.resize(img, (im_size, im_size))\n",
        "\n",
        "        # Check if it is a copy\n",
        "        for i in images:\n",
        "          diff = cv2.absdiff(img, i)\n",
        "          mean_diff = np.mean(diff)\n",
        "          if mean_diff == 0:\n",
        "            sample = diff\n",
        "            if flag:\n",
        "               count+=1\n",
        "            flag = False\n",
        "        # If it is not a copy, then add it to the list\n",
        "        if(flag):\n",
        "          images.append(img)\n",
        "          labels.append(condition)\n",
        "\n",
        "print(len(labels))\n",
        "print(len(images))\n",
        "print(count)\n",
        "print(sample)\n"
      ]
    },
    {
      "cell_type": "markdown",
      "metadata": {
        "id": "ye9UScF7EU-N"
      },
      "source": [
        "#### **1_2_2_11: Transform the image into a numpy array**"
      ]
    },
    {
      "cell_type": "code",
      "execution_count": null,
      "metadata": {
        "colab": {
          "background_save": true
        },
        "id": "-A2qP57hET4s",
        "outputId": "33f37c0e-ffa2-4976-beb8-8ffdccc11e87"
      },
      "outputs": [
        {
          "data": {
            "text/plain": [
              "(142, 224, 224, 3)"
            ]
          },
          "execution_count": 26,
          "metadata": {},
          "output_type": "execute_result"
        }
      ],
      "source": [
        "images = np.array(images)\n",
        "images.shape"
      ]
    },
    {
      "cell_type": "markdown",
      "metadata": {
        "id": "2nt_8FGLEvxX"
      },
      "source": [
        "#### **1_2_2_12: Scale and normalize our data**"
      ]
    },
    {
      "cell_type": "code",
      "execution_count": null,
      "metadata": {
        "colab": {
          "background_save": true
        },
        "id": "hddpd1whEvXD"
      },
      "outputs": [],
      "source": [
        "images = images / 255.0"
      ]
    },
    {
      "cell_type": "markdown",
      "metadata": {
        "id": "IQWxm1a3FGoI"
      },
      "source": [
        "#### **1_2_2_13: Import necessary classes and library to do some preprocessing like label encoding and one-hot encoding**"
      ]
    },
    {
      "cell_type": "code",
      "execution_count": null,
      "metadata": {
        "colab": {
          "background_save": true
        },
        "id": "D3Y3VKg6FGO4"
      },
      "outputs": [],
      "source": [
        "from sklearn.preprocessing import LabelEncoder , OneHotEncoder"
      ]
    },
    {
      "cell_type": "markdown",
      "metadata": {
        "id": "PpGOmeyyGlG2"
      },
      "source": [
        "#### **1_2_2_14: Achieve conditions of each picture in our dataframe**"
      ]
    },
    {
      "cell_type": "code",
      "execution_count": null,
      "metadata": {
        "colab": {
          "background_save": true
        },
        "id": "0cKLoSlbF1mt",
        "outputId": "54e2cc11-fb53-498c-8ade-9f13fa008b02"
      },
      "outputs": [
        {
          "data": {
            "text/plain": [
              "array(['Carcinoma', 'Carcinoma', 'Carcinoma', 'Carcinoma', 'Carcinoma',\n",
              "       'Carcinoma', 'Carcinoma', 'Carcinoma', 'Carcinoma', 'Carcinoma',\n",
              "       'Carcinoma', 'Carcinoma', 'Carcinoma', 'Carcinoma', 'Carcinoma',\n",
              "       'Carcinoma', 'Carcinoma', 'Carcinoma', 'Carcinoma', 'Carcinoma',\n",
              "       'Carcinoma', 'Carcinoma', 'Carcinoma', 'Carcinoma', 'Carcinoma',\n",
              "       'Carcinoma', 'Carcinoma', 'Carcinoma', 'Carcinoma', 'Carcinoma',\n",
              "       'Carcinoma', 'Carcinoma', 'Carcinoma', 'Carcinoma', 'Carcinoma',\n",
              "       'Carcinoma', 'Carcinoma', 'Carcinoma', 'Carcinoma', 'Carcinoma',\n",
              "       'Carcinoma', 'Carcinoma', 'Carcinoma', 'Carcinoma', 'Carcinoma',\n",
              "       'Carcinoma', 'Carcinoma', 'Carcinoma', 'Carcinoma', 'Carcinoma',\n",
              "       'Melanoma', 'Melanoma', 'Melanoma', 'Melanoma', 'Melanoma',\n",
              "       'Melanoma', 'Melanoma', 'Melanoma', 'Melanoma', 'Melanoma',\n",
              "       'Melanoma', 'Melanoma', 'Melanoma', 'Melanoma', 'Melanoma',\n",
              "       'Melanoma', 'Melanoma', 'Melanoma', 'Melanoma', 'Melanoma',\n",
              "       'Melanoma', 'Melanoma', 'Melanoma', 'Melanoma', 'Melanoma',\n",
              "       'Melanoma', 'Melanoma', 'Melanoma', 'Melanoma', 'Melanoma',\n",
              "       'Melanoma', 'Melanoma', 'Melanoma', 'Melanoma', 'Melanoma',\n",
              "       'Melanoma', 'Melanoma', 'Melanoma', 'Melanoma', 'Melanoma',\n",
              "       'Melanoma', 'Nevus', 'Nevus', 'Nevus', 'Nevus', 'Nevus', 'Nevus',\n",
              "       'Nevus', 'Nevus', 'Nevus', 'Nevus', 'Nevus', 'Nevus', 'Nevus',\n",
              "       'Nevus', 'Nevus', 'Nevus', 'Nevus', 'Nevus', 'Nevus', 'Nevus',\n",
              "       'Nevus', 'Nevus', 'Nevus', 'Nevus', 'Nevus', 'Nevus', 'Nevus',\n",
              "       'Nevus', 'Nevus', 'Nevus', 'Nevus', 'Nevus', 'Nevus', 'Nevus',\n",
              "       'Nevus', 'Nevus', 'Nevus', 'Nevus', 'Nevus', 'Nevus', 'Nevus',\n",
              "       'Nevus', 'Nevus', 'Nevus', 'Nevus', 'Nevus', 'Nevus', 'Nevus',\n",
              "       'Nevus', 'Nevus', 'Nevus'], dtype='<U9')"
            ]
          },
          "execution_count": 29,
          "metadata": {},
          "output_type": "execute_result"
        }
      ],
      "source": [
        "y = np.array(labels)\n",
        "y"
      ]
    },
    {
      "cell_type": "markdown",
      "metadata": {
        "id": "P_UAg6RnFX7-"
      },
      "source": [
        "#### **1_2_2_15: Do Label encoding**"
      ]
    },
    {
      "cell_type": "markdown",
      "metadata": {
        "id": "gnETnzWTMUdm"
      },
      "source": [
        "It is used to convert categorical data (data with distinct labels or categories) into numerical form."
      ]
    },
    {
      "cell_type": "markdown",
      "metadata": {
        "id": "kD7VpITjH_kw"
      },
      "source": [
        "**fit_transform method:**\n",
        "\n",
        "* **Fitting:** It learns the unique categories in the 'y' data. For example, if 'y' contains categories like ['Nevus', 'Carcinoma', 'Melanoma'], the fit step assigns the integer labels 0, 1, and 2 to these categories, respectively.\n",
        "\n",
        "* **Transforming:** After learning the unique categories, it replaces each category in the 'y' data with its corresponding numerical label. So, if 'y' originally contained values like ['Nevus', 'Carcinoma', 'Melanoma'], after the transformation, 'y' will contain the numerical labels assigned in the fitting step."
      ]
    },
    {
      "cell_type": "code",
      "execution_count": null,
      "metadata": {
        "colab": {
          "background_save": true
        },
        "id": "1YcbyhMoIjb1",
        "outputId": "9497c901-611d-4731-d764-3dabc305fdad"
      },
      "outputs": [
        {
          "data": {
            "text/plain": [
              "array([0, 0, 0, 0, 0, 0, 0, 0, 0, 0, 0, 0, 0, 0, 0, 0, 0, 0, 0, 0, 0, 0,\n",
              "       0, 0, 0, 0, 0, 0, 0, 0, 0, 0, 0, 0, 0, 0, 0, 0, 0, 0, 0, 0, 0, 0,\n",
              "       0, 0, 0, 0, 0, 0, 1, 1, 1, 1, 1, 1, 1, 1, 1, 1, 1, 1, 1, 1, 1, 1,\n",
              "       1, 1, 1, 1, 1, 1, 1, 1, 1, 1, 1, 1, 1, 1, 1, 1, 1, 1, 1, 1, 1, 1,\n",
              "       1, 1, 1, 2, 2, 2, 2, 2, 2, 2, 2, 2, 2, 2, 2, 2, 2, 2, 2, 2, 2, 2,\n",
              "       2, 2, 2, 2, 2, 2, 2, 2, 2, 2, 2, 2, 2, 2, 2, 2, 2, 2, 2, 2, 2, 2,\n",
              "       2, 2, 2, 2, 2, 2, 2, 2, 2, 2])"
            ]
          },
          "execution_count": 30,
          "metadata": {},
          "output_type": "execute_result"
        }
      ],
      "source": [
        "# Instantiate from the LabelEncoder class to work with\n",
        "y_labelencoder = LabelEncoder ()\n",
        "# Perform label encoding on the y data\n",
        "y = y_labelencoder.fit_transform (y)\n",
        "y"
      ]
    },
    {
      "cell_type": "markdown",
      "metadata": {
        "id": "lCJzjvBbFdyf"
      },
      "source": [
        "#### **1_2_2_16: Do One-hot encoding**"
      ]
    },
    {
      "cell_type": "markdown",
      "metadata": {
        "id": "2NrZbwCzMnFR"
      },
      "source": [
        "In one-hot encoding, each category is represented by a separate binary column (either 0 or 1). If there are 'n' categories, 'n' new binary columns are created. When a data point belongs to a particular category, the corresponding binary column for that category will have a value of 1, and all other columns will have a value of 0."
      ]
    },
    {
      "cell_type": "markdown",
      "metadata": {
        "id": "EvPN1uWTOPXH"
      },
      "source": [
        "#### **1_2_2_17: reshape the y data**"
      ]
    },
    {
      "cell_type": "markdown",
      "metadata": {
        "id": "gHg8lBXFJMzi"
      },
      "source": [
        "##### **reshape(-1,1)**\n",
        "\n",
        "* **first arqument:** the number of rows\n",
        "\n",
        "* **second argument**: the number of columns\n",
        "\n",
        "In Python, using \"-1\" in a specific context, like the reshape() function, means you are specifying the number of elements in that dimension of the array. This feature allows you to maintain the total number of elements in the array while changing its shape or dimensions."
      ]
    },
    {
      "cell_type": "code",
      "execution_count": null,
      "metadata": {
        "colab": {
          "background_save": true
        },
        "id": "LmAC4iD5I0BC",
        "outputId": "31cb4cf0-2c80-4c9e-ee48-09c9864275f3"
      },
      "outputs": [
        {
          "data": {
            "text/plain": [
              "array([[0],\n",
              "       [0],\n",
              "       [0],\n",
              "       [0],\n",
              "       [0],\n",
              "       [0],\n",
              "       [0],\n",
              "       [0],\n",
              "       [0],\n",
              "       [0],\n",
              "       [0],\n",
              "       [0],\n",
              "       [0],\n",
              "       [0],\n",
              "       [0],\n",
              "       [0],\n",
              "       [0],\n",
              "       [0],\n",
              "       [0],\n",
              "       [0],\n",
              "       [0],\n",
              "       [0],\n",
              "       [0],\n",
              "       [0],\n",
              "       [0],\n",
              "       [0],\n",
              "       [0],\n",
              "       [0],\n",
              "       [0],\n",
              "       [0],\n",
              "       [0],\n",
              "       [0],\n",
              "       [0],\n",
              "       [0],\n",
              "       [0],\n",
              "       [0],\n",
              "       [0],\n",
              "       [0],\n",
              "       [0],\n",
              "       [0],\n",
              "       [0],\n",
              "       [0],\n",
              "       [0],\n",
              "       [0],\n",
              "       [0],\n",
              "       [0],\n",
              "       [0],\n",
              "       [0],\n",
              "       [0],\n",
              "       [0],\n",
              "       [1],\n",
              "       [1],\n",
              "       [1],\n",
              "       [1],\n",
              "       [1],\n",
              "       [1],\n",
              "       [1],\n",
              "       [1],\n",
              "       [1],\n",
              "       [1],\n",
              "       [1],\n",
              "       [1],\n",
              "       [1],\n",
              "       [1],\n",
              "       [1],\n",
              "       [1],\n",
              "       [1],\n",
              "       [1],\n",
              "       [1],\n",
              "       [1],\n",
              "       [1],\n",
              "       [1],\n",
              "       [1],\n",
              "       [1],\n",
              "       [1],\n",
              "       [1],\n",
              "       [1],\n",
              "       [1],\n",
              "       [1],\n",
              "       [1],\n",
              "       [1],\n",
              "       [1],\n",
              "       [1],\n",
              "       [1],\n",
              "       [1],\n",
              "       [1],\n",
              "       [1],\n",
              "       [1],\n",
              "       [1],\n",
              "       [1],\n",
              "       [1],\n",
              "       [2],\n",
              "       [2],\n",
              "       [2],\n",
              "       [2],\n",
              "       [2],\n",
              "       [2],\n",
              "       [2],\n",
              "       [2],\n",
              "       [2],\n",
              "       [2],\n",
              "       [2],\n",
              "       [2],\n",
              "       [2],\n",
              "       [2],\n",
              "       [2],\n",
              "       [2],\n",
              "       [2],\n",
              "       [2],\n",
              "       [2],\n",
              "       [2],\n",
              "       [2],\n",
              "       [2],\n",
              "       [2],\n",
              "       [2],\n",
              "       [2],\n",
              "       [2],\n",
              "       [2],\n",
              "       [2],\n",
              "       [2],\n",
              "       [2],\n",
              "       [2],\n",
              "       [2],\n",
              "       [2],\n",
              "       [2],\n",
              "       [2],\n",
              "       [2],\n",
              "       [2],\n",
              "       [2],\n",
              "       [2],\n",
              "       [2],\n",
              "       [2],\n",
              "       [2],\n",
              "       [2],\n",
              "       [2],\n",
              "       [2],\n",
              "       [2],\n",
              "       [2],\n",
              "       [2],\n",
              "       [2],\n",
              "       [2],\n",
              "       [2]])"
            ]
          },
          "execution_count": 31,
          "metadata": {},
          "output_type": "execute_result"
        }
      ],
      "source": [
        "y=y.reshape(-1,1)\n",
        "y"
      ]
    },
    {
      "cell_type": "markdown",
      "metadata": {
        "id": "IJ8Bo10LXwn2"
      },
      "source": [
        "#### **1_2_2_18: Use OneHotEncoder**\n",
        "* **categories='auto':** This argument tells the OneHotEncoder function to automatically find the categories in the data.\n",
        "\n",
        "* **sparse=False:** This argument specifies the output format. When you set sparse=False, the function will return the one-hot encoded output in a dense format, like below output."
      ]
    },
    {
      "cell_type": "code",
      "execution_count": null,
      "metadata": {
        "colab": {
          "background_save": true
        },
        "id": "bfemRKbXE1nW",
        "outputId": "3535421c-bc6f-4ab3-a007-8ada09a01537"
      },
      "outputs": [
        {
          "name": "stdout",
          "output_type": "stream",
          "text": [
            "The dimentions before one-hot encoding: (142, 1)\n",
            "The dimentions after one-hot encoding: (142, 3)\n"
          ]
        },
        {
          "name": "stderr",
          "output_type": "stream",
          "text": [
            "/usr/local/lib/python3.10/dist-packages/sklearn/preprocessing/_encoders.py:868: FutureWarning: `sparse` was renamed to `sparse_output` in version 1.2 and will be removed in 1.4. `sparse_output` is ignored unless you leave `sparse` to its default value.\n",
            "  warnings.warn(\n"
          ]
        },
        {
          "data": {
            "text/plain": [
              "array([[1., 0., 0.],\n",
              "       [1., 0., 0.],\n",
              "       [1., 0., 0.],\n",
              "       [1., 0., 0.],\n",
              "       [1., 0., 0.],\n",
              "       [1., 0., 0.],\n",
              "       [1., 0., 0.],\n",
              "       [1., 0., 0.],\n",
              "       [1., 0., 0.],\n",
              "       [1., 0., 0.],\n",
              "       [1., 0., 0.],\n",
              "       [1., 0., 0.],\n",
              "       [1., 0., 0.],\n",
              "       [1., 0., 0.],\n",
              "       [1., 0., 0.],\n",
              "       [1., 0., 0.],\n",
              "       [1., 0., 0.],\n",
              "       [1., 0., 0.],\n",
              "       [1., 0., 0.],\n",
              "       [1., 0., 0.],\n",
              "       [1., 0., 0.],\n",
              "       [1., 0., 0.],\n",
              "       [1., 0., 0.],\n",
              "       [1., 0., 0.],\n",
              "       [1., 0., 0.],\n",
              "       [1., 0., 0.],\n",
              "       [1., 0., 0.],\n",
              "       [1., 0., 0.],\n",
              "       [1., 0., 0.],\n",
              "       [1., 0., 0.],\n",
              "       [1., 0., 0.],\n",
              "       [1., 0., 0.],\n",
              "       [1., 0., 0.],\n",
              "       [1., 0., 0.],\n",
              "       [1., 0., 0.],\n",
              "       [1., 0., 0.],\n",
              "       [1., 0., 0.],\n",
              "       [1., 0., 0.],\n",
              "       [1., 0., 0.],\n",
              "       [1., 0., 0.],\n",
              "       [1., 0., 0.],\n",
              "       [1., 0., 0.],\n",
              "       [1., 0., 0.],\n",
              "       [1., 0., 0.],\n",
              "       [1., 0., 0.],\n",
              "       [1., 0., 0.],\n",
              "       [1., 0., 0.],\n",
              "       [1., 0., 0.],\n",
              "       [1., 0., 0.],\n",
              "       [1., 0., 0.],\n",
              "       [0., 1., 0.],\n",
              "       [0., 1., 0.],\n",
              "       [0., 1., 0.],\n",
              "       [0., 1., 0.],\n",
              "       [0., 1., 0.],\n",
              "       [0., 1., 0.],\n",
              "       [0., 1., 0.],\n",
              "       [0., 1., 0.],\n",
              "       [0., 1., 0.],\n",
              "       [0., 1., 0.],\n",
              "       [0., 1., 0.],\n",
              "       [0., 1., 0.],\n",
              "       [0., 1., 0.],\n",
              "       [0., 1., 0.],\n",
              "       [0., 1., 0.],\n",
              "       [0., 1., 0.],\n",
              "       [0., 1., 0.],\n",
              "       [0., 1., 0.],\n",
              "       [0., 1., 0.],\n",
              "       [0., 1., 0.],\n",
              "       [0., 1., 0.],\n",
              "       [0., 1., 0.],\n",
              "       [0., 1., 0.],\n",
              "       [0., 1., 0.],\n",
              "       [0., 1., 0.],\n",
              "       [0., 1., 0.],\n",
              "       [0., 1., 0.],\n",
              "       [0., 1., 0.],\n",
              "       [0., 1., 0.],\n",
              "       [0., 1., 0.],\n",
              "       [0., 1., 0.],\n",
              "       [0., 1., 0.],\n",
              "       [0., 1., 0.],\n",
              "       [0., 1., 0.],\n",
              "       [0., 1., 0.],\n",
              "       [0., 1., 0.],\n",
              "       [0., 1., 0.],\n",
              "       [0., 1., 0.],\n",
              "       [0., 1., 0.],\n",
              "       [0., 1., 0.],\n",
              "       [0., 1., 0.],\n",
              "       [0., 0., 1.],\n",
              "       [0., 0., 1.],\n",
              "       [0., 0., 1.],\n",
              "       [0., 0., 1.],\n",
              "       [0., 0., 1.],\n",
              "       [0., 0., 1.],\n",
              "       [0., 0., 1.],\n",
              "       [0., 0., 1.],\n",
              "       [0., 0., 1.],\n",
              "       [0., 0., 1.],\n",
              "       [0., 0., 1.],\n",
              "       [0., 0., 1.],\n",
              "       [0., 0., 1.],\n",
              "       [0., 0., 1.],\n",
              "       [0., 0., 1.],\n",
              "       [0., 0., 1.],\n",
              "       [0., 0., 1.],\n",
              "       [0., 0., 1.],\n",
              "       [0., 0., 1.],\n",
              "       [0., 0., 1.],\n",
              "       [0., 0., 1.],\n",
              "       [0., 0., 1.],\n",
              "       [0., 0., 1.],\n",
              "       [0., 0., 1.],\n",
              "       [0., 0., 1.],\n",
              "       [0., 0., 1.],\n",
              "       [0., 0., 1.],\n",
              "       [0., 0., 1.],\n",
              "       [0., 0., 1.],\n",
              "       [0., 0., 1.],\n",
              "       [0., 0., 1.],\n",
              "       [0., 0., 1.],\n",
              "       [0., 0., 1.],\n",
              "       [0., 0., 1.],\n",
              "       [0., 0., 1.],\n",
              "       [0., 0., 1.],\n",
              "       [0., 0., 1.],\n",
              "       [0., 0., 1.],\n",
              "       [0., 0., 1.],\n",
              "       [0., 0., 1.],\n",
              "       [0., 0., 1.],\n",
              "       [0., 0., 1.],\n",
              "       [0., 0., 1.],\n",
              "       [0., 0., 1.],\n",
              "       [0., 0., 1.],\n",
              "       [0., 0., 1.],\n",
              "       [0., 0., 1.],\n",
              "       [0., 0., 1.],\n",
              "       [0., 0., 1.],\n",
              "       [0., 0., 1.],\n",
              "       [0., 0., 1.]])"
            ]
          },
          "execution_count": 32,
          "metadata": {},
          "output_type": "execute_result"
        }
      ],
      "source": [
        "# Instantiate an object from the OneHotEncoder class to work with\n",
        "onehotencoder=OneHotEncoder(categories='auto', sparse=False)\n",
        "# Apply the one-hot encoding to the data\n",
        "Y= onehotencoder.fit_transform(y)\n",
        "\n",
        "print(f\"The dimentions before one-hot encoding: {y.shape}\")\n",
        "\n",
        "print(f\"The dimentions after one-hot encoding: {Y.shape}\")\n",
        "\n",
        "Y"
      ]
    },
    {
      "cell_type": "markdown",
      "metadata": {
        "id": "pkeqr0uo2U-h"
      },
      "source": [
        "#### **1_2_2_19: Shuffle images**"
      ]
    },
    {
      "cell_type": "markdown",
      "metadata": {
        "id": "iPlsLL9smRUM"
      },
      "source": [
        "**random_state=1:** The purpose of random_state is to ensure reproducibility of the shuffling results. As long as you use the same random_state value across different runs of your code, you will get the same shuffled order.\n",
        "\n",
        "When you set random_state to a specific value, you are effectively setting a seed for the random number generator. This seed ensures that the same sequence of random numbers will be generated every time the code is executed"
      ]
    },
    {
      "cell_type": "code",
      "execution_count": null,
      "metadata": {
        "colab": {
          "background_save": true
        },
        "id": "_MUW10jXlv6Y",
        "outputId": "a154258d-5bbd-4747-c25f-41fc67cb286e"
      },
      "outputs": [
        {
          "data": {
            "text/plain": [
              "array([[0., 1., 0.],\n",
              "       [0., 0., 1.],\n",
              "       [1., 0., 0.],\n",
              "       [1., 0., 0.],\n",
              "       [0., 0., 1.],\n",
              "       [1., 0., 0.],\n",
              "       [1., 0., 0.],\n",
              "       [1., 0., 0.],\n",
              "       [0., 1., 0.],\n",
              "       [0., 1., 0.],\n",
              "       [0., 0., 1.],\n",
              "       [0., 1., 0.],\n",
              "       [0., 1., 0.],\n",
              "       [0., 0., 1.],\n",
              "       [1., 0., 0.],\n",
              "       [1., 0., 0.],\n",
              "       [1., 0., 0.],\n",
              "       [0., 1., 0.],\n",
              "       [0., 1., 0.],\n",
              "       [1., 0., 0.],\n",
              "       [1., 0., 0.],\n",
              "       [0., 0., 1.],\n",
              "       [0., 0., 1.],\n",
              "       [0., 0., 1.],\n",
              "       [0., 1., 0.],\n",
              "       [1., 0., 0.],\n",
              "       [1., 0., 0.],\n",
              "       [0., 0., 1.],\n",
              "       [0., 1., 0.],\n",
              "       [0., 0., 1.],\n",
              "       [1., 0., 0.],\n",
              "       [1., 0., 0.],\n",
              "       [0., 1., 0.],\n",
              "       [0., 0., 1.],\n",
              "       [0., 0., 1.],\n",
              "       [0., 1., 0.],\n",
              "       [1., 0., 0.],\n",
              "       [1., 0., 0.],\n",
              "       [0., 0., 1.],\n",
              "       [1., 0., 0.],\n",
              "       [1., 0., 0.],\n",
              "       [0., 0., 1.],\n",
              "       [0., 0., 1.],\n",
              "       [0., 1., 0.],\n",
              "       [1., 0., 0.],\n",
              "       [0., 1., 0.],\n",
              "       [0., 1., 0.],\n",
              "       [0., 0., 1.],\n",
              "       [1., 0., 0.],\n",
              "       [0., 1., 0.],\n",
              "       [0., 0., 1.],\n",
              "       [1., 0., 0.],\n",
              "       [1., 0., 0.],\n",
              "       [0., 1., 0.],\n",
              "       [0., 0., 1.],\n",
              "       [0., 0., 1.],\n",
              "       [1., 0., 0.],\n",
              "       [0., 0., 1.],\n",
              "       [0., 1., 0.],\n",
              "       [0., 0., 1.],\n",
              "       [0., 0., 1.],\n",
              "       [0., 0., 1.],\n",
              "       [0., 0., 1.],\n",
              "       [0., 0., 1.],\n",
              "       [0., 1., 0.],\n",
              "       [0., 0., 1.],\n",
              "       [0., 1., 0.],\n",
              "       [1., 0., 0.],\n",
              "       [0., 1., 0.],\n",
              "       [0., 1., 0.],\n",
              "       [0., 0., 1.],\n",
              "       [0., 0., 1.],\n",
              "       [1., 0., 0.],\n",
              "       [1., 0., 0.],\n",
              "       [1., 0., 0.],\n",
              "       [0., 0., 1.],\n",
              "       [1., 0., 0.],\n",
              "       [0., 0., 1.],\n",
              "       [0., 0., 1.],\n",
              "       [1., 0., 0.],\n",
              "       [1., 0., 0.],\n",
              "       [0., 1., 0.],\n",
              "       [0., 0., 1.],\n",
              "       [0., 0., 1.],\n",
              "       [0., 0., 1.],\n",
              "       [0., 0., 1.],\n",
              "       [0., 0., 1.],\n",
              "       [0., 1., 0.],\n",
              "       [0., 0., 1.],\n",
              "       [0., 0., 1.],\n",
              "       [0., 1., 0.],\n",
              "       [1., 0., 0.],\n",
              "       [0., 1., 0.],\n",
              "       [1., 0., 0.],\n",
              "       [0., 1., 0.],\n",
              "       [0., 1., 0.],\n",
              "       [1., 0., 0.],\n",
              "       [0., 1., 0.],\n",
              "       [1., 0., 0.],\n",
              "       [1., 0., 0.],\n",
              "       [0., 0., 1.],\n",
              "       [0., 0., 1.],\n",
              "       [0., 0., 1.],\n",
              "       [1., 0., 0.],\n",
              "       [1., 0., 0.],\n",
              "       [0., 1., 0.],\n",
              "       [1., 0., 0.],\n",
              "       [0., 0., 1.],\n",
              "       [1., 0., 0.],\n",
              "       [0., 0., 1.],\n",
              "       [0., 0., 1.],\n",
              "       [1., 0., 0.],\n",
              "       [0., 0., 1.],\n",
              "       [0., 1., 0.],\n",
              "       [1., 0., 0.],\n",
              "       [0., 1., 0.],\n",
              "       [0., 1., 0.],\n",
              "       [1., 0., 0.],\n",
              "       [1., 0., 0.],\n",
              "       [0., 1., 0.],\n",
              "       [1., 0., 0.],\n",
              "       [0., 1., 0.],\n",
              "       [0., 1., 0.],\n",
              "       [1., 0., 0.],\n",
              "       [1., 0., 0.],\n",
              "       [0., 0., 1.],\n",
              "       [1., 0., 0.],\n",
              "       [0., 1., 0.],\n",
              "       [0., 0., 1.],\n",
              "       [0., 1., 0.],\n",
              "       [0., 1., 0.],\n",
              "       [0., 0., 1.],\n",
              "       [1., 0., 0.],\n",
              "       [1., 0., 0.],\n",
              "       [0., 1., 0.],\n",
              "       [0., 0., 1.],\n",
              "       [0., 1., 0.],\n",
              "       [0., 0., 1.],\n",
              "       [0., 0., 1.],\n",
              "       [0., 1., 0.],\n",
              "       [0., 0., 1.],\n",
              "       [1., 0., 0.]])"
            ]
          },
          "execution_count": 33,
          "metadata": {},
          "output_type": "execute_result"
        }
      ],
      "source": [
        "from sklearn.utils import shuffle\n",
        "\n",
        "images, Y = shuffle(images, Y, random_state=1)\n",
        "\n",
        "Y"
      ]
    },
    {
      "cell_type": "markdown",
      "metadata": {
        "id": "_dHEtWyiF1-x"
      },
      "source": [
        "### **1_2_3: Necessary libraries and functions**"
      ]
    },
    {
      "cell_type": "markdown",
      "metadata": {
        "id": "o9YGSdAfm65Z"
      },
      "source": [
        "#### **1_2_3_1: Necessary libraries, modules and classes to work with neural network models**"
      ]
    },
    {
      "cell_type": "code",
      "execution_count": null,
      "metadata": {
        "id": "8EeAnkAnsdEn"
      },
      "outputs": [],
      "source": [
        "from keras.models import Model\n",
        "\n",
        "from keras.layers import Input, Add, Dense, Activation,BatchNormalization, Flatten, Conv2D, Dropout, AveragePooling2D, MaxPooling2D, GlobalMaxPooling2D, GlobalAveragePooling2D\n",
        "\n",
        "from keras import Sequential"
      ]
    },
    {
      "cell_type": "markdown",
      "metadata": {
        "id": "-KhNofXt1RW4"
      },
      "source": [
        "#### **1_2_3_2: Import the library to initialize our parameters (weights and biases)**"
      ]
    },
    {
      "cell_type": "code",
      "execution_count": null,
      "metadata": {
        "id": "Vk45LZDG1Q7g"
      },
      "outputs": [],
      "source": [
        "from keras.initializers import glorot_uniform, he_normal"
      ]
    },
    {
      "cell_type": "markdown",
      "metadata": {
        "id": "NEgl2YHE1byU"
      },
      "source": [
        "#### **1_2_3_3: Import the library to plot the results**"
      ]
    },
    {
      "cell_type": "code",
      "execution_count": null,
      "metadata": {
        "id": "TiXRoMUnuQvV"
      },
      "outputs": [],
      "source": [
        "import matplotlib.pyplot as plt"
      ]
    },
    {
      "cell_type": "markdown",
      "metadata": {
        "id": "Om71hlOL19Ly"
      },
      "source": [
        "#### **1_2_3_4: Function to show the accuracy of the model in each epoch**"
      ]
    },
    {
      "cell_type": "code",
      "execution_count": null,
      "metadata": {
        "id": "gaIWBnUtuCQb"
      },
      "outputs": [],
      "source": [
        "def display_accuracy(history):\n",
        "  plt.plot(history.history['accuracy'])\n",
        "  plt.plot(history.history['val_accuracy'])\n",
        "  plt.title('model accuracy')\n",
        "  plt.ylabel('accuracy')\n",
        "  plt.xlabel('epoch')\n",
        "  plt.legend(['Train accuracy', 'Validation accuracy','Train loss'], loc='upper right')\n",
        "  # plt.ylim(ymax=2, ymin=0)\n",
        "  plt.show()"
      ]
    },
    {
      "cell_type": "markdown",
      "metadata": {
        "id": "GWLa_7Mo2EcV"
      },
      "source": [
        "#### **1_2_3_5: Function to show the loss of the model in each epoch**"
      ]
    },
    {
      "cell_type": "code",
      "execution_count": null,
      "metadata": {
        "id": "77Vb5v_IuIwD"
      },
      "outputs": [],
      "source": [
        "def display_loss(history):\n",
        "  plt.plot(history.history['loss'])\n",
        "  plt.plot(history.history['val_loss'])\n",
        "  plt.title('model loss')\n",
        "  plt.ylabel('loss')\n",
        "  plt.xlabel('epoch')\n",
        "  plt.legend(['Train loss', 'Validation loss'], loc='upper left')\n",
        "  # plt.ylim(ymax=5, ymin=0)\n",
        "  plt.show()\n"
      ]
    },
    {
      "cell_type": "markdown",
      "metadata": {
        "id": "HIwRfW1kGOpc"
      },
      "source": [
        "#### **1_2_3_6: Module to split the data**"
      ]
    },
    {
      "cell_type": "code",
      "execution_count": null,
      "metadata": {
        "id": "onkQHcI3GN4C"
      },
      "outputs": [],
      "source": [
        "from sklearn.model_selection import train_test_split"
      ]
    },
    {
      "cell_type": "markdown",
      "metadata": {
        "id": "uacVeUZvC6Lv"
      },
      "source": [
        "### **1_2_4: Apply ResNet50 without Data Augmentation**"
      ]
    },
    {
      "cell_type": "markdown",
      "metadata": {
        "id": "ZgvJWpwMApSM"
      },
      "source": [
        "#### **1_2_4_1: split data into train and validation set**"
      ]
    },
    {
      "cell_type": "code",
      "execution_count": null,
      "metadata": {
        "colab": {
          "background_save": true
        },
        "id": "iVHx2cs3mX7I",
        "outputId": "0209fe11-e826-46b3-ef3f-1aa2c7939727"
      },
      "outputs": [
        {
          "name": "stdout",
          "output_type": "stream",
          "text": [
            "(113, 224, 224, 3)\n",
            "(113, 3)\n",
            "(29, 224, 224, 3)\n",
            "(29, 3)\n"
          ]
        }
      ],
      "source": [
        "X_train, X_valid, y_train, y_valid = train_test_split(images, Y, test_size=0.20, random_state=42)\n",
        "\n",
        "print(X_train.shape)\n",
        "print(y_train.shape)\n",
        "print(X_valid.shape)\n",
        "print(y_valid.shape)"
      ]
    },
    {
      "cell_type": "markdown",
      "metadata": {
        "id": "3EkhXBaE1Kn8"
      },
      "source": [
        "#### **1_2_4_2: Import the built in class for ResNet50 model**"
      ]
    },
    {
      "cell_type": "code",
      "execution_count": null,
      "metadata": {
        "id": "lZunSOwq1Ilh"
      },
      "outputs": [],
      "source": [
        "from tensorflow.keras.applications import ResNet50"
      ]
    },
    {
      "cell_type": "markdown",
      "metadata": {
        "id": "MCYEn0PS1ULY"
      },
      "source": [
        "#### **1_2_4_3: Instantiate from the ResNet50 class as our base model**"
      ]
    },
    {
      "cell_type": "code",
      "execution_count": null,
      "metadata": {
        "colab": {
          "background_save": true
        },
        "id": "xKBzzz_Y1TrI",
        "outputId": "2f54c3a9-b4ec-4db7-8cee-cc9b24c3f79c"
      },
      "outputs": [
        {
          "name": "stdout",
          "output_type": "stream",
          "text": [
            "Downloading data from https://storage.googleapis.com/tensorflow/keras-applications/resnet/resnet50_weights_tf_dim_ordering_tf_kernels_notop.h5\n",
            "94765736/94765736 [==============================] - 0s 0us/step\n"
          ]
        }
      ],
      "source": [
        "ResNet50_base = ResNet50(weights='imagenet', include_top=False, input_shape=(224, 224, 3))"
      ]
    },
    {
      "cell_type": "markdown",
      "metadata": {
        "id": "1utnlv8S1vfF"
      },
      "source": [
        "#### **1_2_4_4: Make the layers of ResNet50 base model untrainable**"
      ]
    },
    {
      "cell_type": "code",
      "execution_count": null,
      "metadata": {
        "colab": {
          "background_save": true
        },
        "id": "I9x3Ig3614bd"
      },
      "outputs": [],
      "source": [
        "ResNet50_base.trainable = False"
      ]
    },
    {
      "cell_type": "markdown",
      "metadata": {
        "id": "FXF7BK5b1lMg"
      },
      "source": [
        "#### **1_2_4_5: Make our own model by adding some layers**"
      ]
    },
    {
      "cell_type": "code",
      "execution_count": null,
      "metadata": {
        "colab": {
          "background_save": true
        },
        "id": "80OWlj-InmYB"
      },
      "outputs": [],
      "source": [
        "ResNet50_model = Sequential([\n",
        "    ResNet50_base,\n",
        "    Flatten(),\n",
        "    Dense(1024, activation='relu', kernel_initializer = 'he_normal'),\n",
        "    BatchNormalization(),\n",
        "    Dropout(0.5),\n",
        "    Dense(1024, activation='relu', kernel_initializer = 'he_normal'),\n",
        "    BatchNormalization(),\n",
        "    Dropout(0.5),\n",
        "    Dense(1024, activation='relu', kernel_initializer = 'he_normal'),\n",
        "    BatchNormalization(),\n",
        "    Dropout(0.5),\n",
        "    Dense(3, activation='softmax')\n",
        "])"
      ]
    },
    {
      "cell_type": "markdown",
      "metadata": {
        "id": "d8_lksHkoB0g"
      },
      "source": [
        "#### **1_2_4_6: Compile the model**"
      ]
    },
    {
      "cell_type": "markdown",
      "metadata": {
        "id": "eiCWM4OMrOHz"
      },
      "source": [
        "##### **Note about learning-rate:**\n",
        "Train the entire model (frozen layers + new layers) with a very low learning rate\n",
        "\n",
        "A common starting point for the learning rate in transfer learning is between 1e-4 (0.0001) and 1e-5 (0.00001). This lower range helps in fine-tuning the pre-trained weights without making significant changes, allowing the new layers to learn from your small dataset.\n",
        "\n",
        "Pre-trained Model Strength: If the pre-trained model is already very strong on a similar task, you might use an even lower learning rate (e.g., 1e-6) to avoid disturbing the well-learned weights."
      ]
    },
    {
      "cell_type": "code",
      "execution_count": null,
      "metadata": {
        "colab": {
          "background_save": true
        },
        "id": "tX0wJJiLrumS"
      },
      "outputs": [],
      "source": [
        "from keras.optimizers import Adam\n",
        "\n",
        "ResNet50_model.compile(optimizer=Adam(learning_rate = 1e-5), loss='categorical_crossentropy', metrics=['accuracy'])"
      ]
    },
    {
      "cell_type": "markdown",
      "metadata": {
        "id": "VJ65LjdvoXFM"
      },
      "source": [
        "#### **1_2_4_7: Review the structure of model**"
      ]
    },
    {
      "cell_type": "code",
      "execution_count": null,
      "metadata": {
        "colab": {
          "background_save": true
        },
        "id": "zNyRYn4PrwsX",
        "outputId": "a47ac7ee-8427-432b-ce55-0eef29787fa7"
      },
      "outputs": [
        {
          "name": "stdout",
          "output_type": "stream",
          "text": [
            "Model: \"sequential\"\n",
            "_________________________________________________________________\n",
            " Layer (type)                Output Shape              Param #   \n",
            "=================================================================\n",
            " resnet50 (Functional)       (None, 7, 7, 2048)        23587712  \n",
            "                                                                 \n",
            " flatten_1 (Flatten)         (None, 100352)            0         \n",
            "                                                                 \n",
            " dense_3 (Dense)             (None, 1024)              102761472 \n",
            "                                                                 \n",
            " batch_normalization (Batch  (None, 1024)              4096      \n",
            " Normalization)                                                  \n",
            "                                                                 \n",
            " dropout (Dropout)           (None, 1024)              0         \n",
            "                                                                 \n",
            " dense_4 (Dense)             (None, 1024)              1049600   \n",
            "                                                                 \n",
            " batch_normalization_1 (Bat  (None, 1024)              4096      \n",
            " chNormalization)                                                \n",
            "                                                                 \n",
            " dropout_1 (Dropout)         (None, 1024)              0         \n",
            "                                                                 \n",
            " dense_5 (Dense)             (None, 1024)              1049600   \n",
            "                                                                 \n",
            " batch_normalization_2 (Bat  (None, 1024)              4096      \n",
            " chNormalization)                                                \n",
            "                                                                 \n",
            " dropout_2 (Dropout)         (None, 1024)              0         \n",
            "                                                                 \n",
            " dense_6 (Dense)             (None, 3)                 3075      \n",
            "                                                                 \n",
            "=================================================================\n",
            "Total params: 128463747 (490.05 MB)\n",
            "Trainable params: 104869891 (400.05 MB)\n",
            "Non-trainable params: 23593856 (90.00 MB)\n",
            "_________________________________________________________________\n"
          ]
        }
      ],
      "source": [
        "ResNet50_model.summary()"
      ]
    },
    {
      "cell_type": "markdown",
      "metadata": {
        "id": "xu_xI7wYode0"
      },
      "source": [
        "#### **1_2_4_8: Find the number of layers used in our ResNet50 model**"
      ]
    },
    {
      "cell_type": "code",
      "execution_count": null,
      "metadata": {
        "colab": {
          "background_save": true
        },
        "id": "NCuBcqZNGTJG",
        "outputId": "f66f0105-09c7-4a64-fc15-b91f61064bdd"
      },
      "outputs": [
        {
          "name": "stdout",
          "output_type": "stream",
          "text": [
            "175\n",
            "12\n"
          ]
        }
      ],
      "source": [
        "print(len(ResNet50_base.layers))\n",
        "print(len(ResNet50_model.layers))"
      ]
    },
    {
      "cell_type": "markdown",
      "metadata": {
        "id": "SQypMIdvELHa"
      },
      "source": [
        "#### **1_2_4_9: Train our model**"
      ]
    },
    {
      "cell_type": "markdown",
      "metadata": {
        "id": "3f_oi9ycJh1k"
      },
      "source": [
        "The verbose parameter is used to control the amount of information displayed during the training process.\n",
        "\n",
        "* verbose = 0: Training progress is silent. No information is displayed\n",
        "\n",
        "* verbose = 1: Training progress is shown in progress bars or logs, typically for each epoch.\n",
        "\n",
        "* verbose = 2: Training progress is shown in a more detailed manner."
      ]
    },
    {
      "cell_type": "code",
      "execution_count": null,
      "metadata": {
        "id": "JAYqbVuyrxEl"
      },
      "outputs": [],
      "source": [
        "history1=ResNet50_model.fit(X_train, y_train, batch_size=7, epochs=100 , verbose=1, validation_data=(X_valid, y_valid))"
      ]
    },
    {
      "cell_type": "markdown",
      "metadata": {
        "id": "zzbD3-Ao03hS"
      },
      "source": [
        "#### **1_2_4_10: Evaluate the model**"
      ]
    },
    {
      "cell_type": "code",
      "execution_count": null,
      "metadata": {
        "id": "BkOf6d3M5qGD"
      },
      "outputs": [],
      "source": [
        "loss1, accuracy1 = ResNet50_model.evaluate(X_valid, y_valid)"
      ]
    },
    {
      "cell_type": "code",
      "execution_count": null,
      "metadata": {
        "id": "oOKxxWgz3pUv"
      },
      "outputs": [],
      "source": [
        "display_accuracy(history1)"
      ]
    },
    {
      "cell_type": "code",
      "execution_count": null,
      "metadata": {
        "id": "VfNbbNpO3snq"
      },
      "outputs": [],
      "source": [
        "display_loss(history1)"
      ]
    },
    {
      "cell_type": "markdown",
      "metadata": {
        "id": "Ooim6CwPmM2k"
      },
      "source": [
        "#### **1_2_4_11: Previous results**"
      ]
    },
    {
      "cell_type": "markdown",
      "metadata": {
        "id": "9iqDfXawKBga"
      },
      "source": [
        "\n",
        "The result with built-in ResNet50 and some layers added in the end to be trained with batch-size = 7: (epochs = 40) (4 relu, 512 units, he-normal, dropout = 0.5 and batch-normalization)\n",
        "\n",
        "2/2 [==============================] - 3s 1s/step - loss: 2.6853 - accuracy: 0.5814\n",
        "\n",
        "The result with built-in ResNet50 and some layers added in the end to be trained: (epochs = 40)\n",
        "\n",
        "2/2 [==============================] - 1s 1s/step - loss: 5.5320 - accuracy: 0.4651\n",
        "\n",
        "The result with ResNet50 built from scratch with batch-size = 11: (epochs = 40)\n",
        "\n",
        "2/2 [==============================] - 0s 64ms/step - loss: 0.8474 - accuracy: 0.6744\n",
        "\n",
        "The result with ResNet50 built from scratch with batch-size = 9: (epochs = 40)\n",
        "\n",
        "2/2 [==============================] - 0s 57ms/step - loss: 2.1891 - accuracy: 0.6047\n",
        "\n",
        "The result with ResNet50 built from scratch with batch-size = 7: (epochs = 40)\n",
        "\n",
        "* first time:\n",
        "\n",
        "2/2 [==============================] - 0s 62ms/step - loss: 0.5690 - accuracy: 0.7674\n",
        "\n",
        "* second time:\n",
        "\n",
        "2/2 [==============================] - 3s 1s/step - loss: 8.0230 - accuracy: 0.3488\n",
        "\n",
        "The result with ResNet50 built from scratch with batch-size = 5: (epochs = 40)\n",
        "\n",
        "2/2 [==============================] - 0s 63ms/step - loss: 0.8860 - accuracy: 0.7209\n",
        "\n",
        "The result with ResNet50 built from scratch with batch-size = 3: (epochs = 40)\n",
        "\n",
        "2/2 [==============================] - 0s 69ms/step - loss: 1.8947 - accuracy: 0.3953\n",
        "\n",
        "The result with ResNet50 built from scratch with batch-size = 1: (epochs = 40)\n",
        "\n",
        "2/2 [==============================] - 2s 59ms/step - loss: 7.4493 - accuracy: 0.4186\n",
        "\n",
        "The result with ResNet50 built from scratch with batch-size = 7: (epochs = 100)\n",
        "\n",
        "* first time:\n",
        "\n",
        "2/2 [==============================] - 0s 51ms/step - loss: 1.7429 - accuracy: 0.4651\n",
        "\n",
        "* second time:\n",
        "\n",
        "2/2 [==============================] - 0s 49ms/step - loss: 0.7368 - accuracy: 0.7674\n",
        "\n",
        "100 epoch, lr = 1e-5, batch = 3, 20% split, 4 layers, with drop out 0.5 and batch normalization, 512 units in each\n",
        "\n",
        "1/1 [==============================] - 2s 2s/step - loss: 1.2151 - accuracy: 0.3448\n",
        "\n",
        "100 epoch, lr = 1e-5, batch = 7, 20% split, 4 layers, with drop out 0.5 and batch normalization, 512 units in each\n",
        "\n",
        "\n",
        "1/1 [==============================] - 0s 178ms/step - loss: 1.0774 - accuracy: 0.4483"
      ]
    },
    {
      "cell_type": "markdown",
      "metadata": {
        "id": "ktU9n6tN4t9M"
      },
      "source": [
        "### **1_2_5: Apply ResNet50 With Data Augmentation**"
      ]
    },
    {
      "cell_type": "markdown",
      "metadata": {
        "id": "Z1nKNJ7aJksh"
      },
      "source": [
        "#### **1_2_5_1: Split the data**"
      ]
    },
    {
      "cell_type": "markdown",
      "metadata": {
        "id": "L0pSyPmPJu9C"
      },
      "source": [
        "Validation set will get a bigger portion of our data because we are using data augmentation on training data"
      ]
    },
    {
      "cell_type": "code",
      "execution_count": null,
      "metadata": {
        "id": "afFj1qXBJlJC"
      },
      "outputs": [],
      "source": [
        "X_train, X_valid, y_train, y_valid = train_test_split(images, Y, test_size=0.20, random_state=42)\n",
        "\n",
        "print(X_train.shape)\n",
        "print(y_train.shape)\n",
        "print(X_valid.shape)\n",
        "print(y_valid.shape)"
      ]
    },
    {
      "cell_type": "markdown",
      "metadata": {
        "id": "HK6k0A1u46P3"
      },
      "source": [
        "#### **1_2_5_2: Import necessary class to do data augmentation**"
      ]
    },
    {
      "cell_type": "code",
      "execution_count": null,
      "metadata": {
        "id": "nvf3L6mi5BgN"
      },
      "outputs": [],
      "source": [
        "from tensorflow.keras.preprocessing.image import ImageDataGenerator"
      ]
    },
    {
      "cell_type": "markdown",
      "metadata": {
        "id": "7_6wMEyoKFE5"
      },
      "source": [
        "#### **1_2_5_3: Instantiate from the ImageDataGenerator class**"
      ]
    },
    {
      "cell_type": "markdown",
      "metadata": {
        "id": "1aT4_H3PRDHf"
      },
      "source": [
        "**Trainslation**\n",
        "* Width Shift Range (float): This defines the maximum fraction by which the image can be shifted horizontally.\n",
        "\n",
        "Shift image up to 10% horizontally\n",
        "\n",
        "* Height Shift Range (float): This defines the maximum fraction by which the image can be shifted vertically.\n",
        "\n",
        "Shift image up to 10% vertically\n",
        "\n",
        "**rotation**\n",
        "\n",
        "* rotation_range=20: Random rotation between -20 and 20 degrees\n",
        "\n",
        "**horizontal_flip**\n",
        "\n",
        " * This parameter enables random horizontal flipping of the images, which can help the model learn to be invariant to the orientation of objects in the images.\n",
        "\n",
        "**rescale**\n",
        "\n",
        "* This parameter scales pixel values from their original range (typically 0-255 for images) to a new range. Here, it's set to 1./255, which scales all pixel values between 0 and 1. This helps normalize the data and improve model performance, especially for deep convolutional neural networks.\n",
        "\n",
        "* rescale=1./255,  # Rescale pixel values to [0, 1]\n",
        "\n",
        "\n",
        "**shear_range:**\n",
        "\n",
        "* This parameter introduces random shearing transformations to the image. A value between 0 and 1 specifies the maximum shear angle in degrees.\n",
        "\n",
        "* For example, shear_range=0.2 would introduce random horizontal or vertical shears with angles between -20 degrees and +20 degrees.\n",
        "\n",
        "**zoom_range:**\n",
        "\n",
        "* e.g. zoom_range=0.2 means that the images can be zoomed in or out by up to 20% of their original size in both directions (horizontal and vertical)\n"
      ]
    },
    {
      "cell_type": "code",
      "execution_count": null,
      "metadata": {
        "id": "RqU1Ip7L4tom"
      },
      "outputs": [],
      "source": [
        "data_generator = ImageDataGenerator(\n",
        "                                    rescale = 1.0/255,\n",
        "                                    shear_range=0.2,\n",
        "                                    zoom_range=0.2,\n",
        "                                    rotation_range=20,\n",
        "                                    width_shift_range= 0.1,\n",
        "                                    height_shift_range = 0.1,\n",
        "                                    horizontal_flip = True,\n",
        "                                    # vertical_flip = True,\n",
        "                                    brightness_range=[-0.2, 0.2]\n",
        "                                    )"
      ]
    },
    {
      "cell_type": "markdown",
      "metadata": {
        "id": "WVbkPfNRNc1Q"
      },
      "source": [
        "#### **1_2_5_4: Specify how the data will be generated and batched during training**"
      ]
    },
    {
      "cell_type": "code",
      "execution_count": null,
      "metadata": {
        "id": "v915sq2w6Flg"
      },
      "outputs": [],
      "source": [
        "train_generator = data_generator.flow (X_train, y_train, batch_size = 1)"
      ]
    },
    {
      "cell_type": "markdown",
      "metadata": {
        "id": "fVtTDpMdN7VU"
      },
      "source": [
        "#### **1_2_5_5: Specify the number of steps (batches) to be processed in each epoch during training**"
      ]
    },
    {
      "cell_type": "markdown",
      "metadata": {
        "id": "glWNSpcuTdmL"
      },
      "source": [
        "Setting steps_per_epoch = X_train.shape[0] with a batch size of 7 means that each real sample will be augmented to create additional artificial samples within each batch, ensuring that all real samples are utilized for training in each epoch."
      ]
    },
    {
      "cell_type": "code",
      "execution_count": null,
      "metadata": {
        "id": "yK3gOQqk6b42"
      },
      "outputs": [],
      "source": [
        "steps_per_epoch = X_train.shape[0] / 1"
      ]
    },
    {
      "cell_type": "markdown",
      "metadata": {
        "id": "ioXW-szfn5gB"
      },
      "source": [
        "#### **1_2_5_6: Make the ResNet50 model with data augmentation**"
      ]
    },
    {
      "cell_type": "code",
      "execution_count": null,
      "metadata": {
        "id": "7HAmpLHQIiYt"
      },
      "outputs": [],
      "source": [
        "ResNet50_base = ResNet50(weights='imagenet', include_top=False, input_shape=(224, 224, 3))\n",
        "\n",
        "ResNet50_base.trainable = False"
      ]
    },
    {
      "cell_type": "code",
      "execution_count": null,
      "metadata": {
        "id": "BHd7EQ5dQJIV"
      },
      "outputs": [],
      "source": [
        "ResNet50_model_with_augmentation = Sequential([\n",
        "    ResNet50_base,\n",
        "    Flatten(),\n",
        "    Dense(1024, activation='relu', kernel_initializer = 'he_normal'),\n",
        "    BatchNormalization(),\n",
        "    Dropout(0.5),\n",
        "    Dense(1024, activation='relu', kernel_initializer = 'he_normal'),\n",
        "    BatchNormalization(),\n",
        "    Dropout(0.5),\n",
        "    Dense(1024, activation='relu', kernel_initializer = 'he_normal'),\n",
        "    BatchNormalization(),\n",
        "    Dropout(0.5),\n",
        "    Dense(3, activation='softmax')\n",
        "])"
      ]
    },
    {
      "cell_type": "markdown",
      "metadata": {
        "id": "aQXrPNVgOFWe"
      },
      "source": [
        "#### **1_2_5_7: Compile the model**"
      ]
    },
    {
      "cell_type": "code",
      "execution_count": null,
      "metadata": {
        "id": "lv73Sno2QYBL"
      },
      "outputs": [],
      "source": [
        "ResNet50_model_with_augmentation.compile(optimizer=Adam(learning_rate = 1e-5), loss='categorical_crossentropy', metrics=['accuracy'])"
      ]
    },
    {
      "cell_type": "markdown",
      "metadata": {
        "id": "oVoLsvigOLzB"
      },
      "source": [
        "#### **1_2_5_8: Train the model**"
      ]
    },
    {
      "cell_type": "code",
      "execution_count": null,
      "metadata": {
        "id": "oyXSNMsG6don"
      },
      "outputs": [],
      "source": [
        "history2 = ResNet50_model_with_augmentation.fit_generator(train_generator, steps_per_epoch = steps_per_epoch, epochs = 100 ,verbose=1, validation_data=(X_valid, y_valid))"
      ]
    },
    {
      "cell_type": "markdown",
      "metadata": {
        "id": "PkaAeYdrOQQO"
      },
      "source": [
        "#### **1_2_5_9: Evaluate the model**"
      ]
    },
    {
      "cell_type": "code",
      "execution_count": null,
      "metadata": {
        "id": "5GG7oRCvQd8W"
      },
      "outputs": [],
      "source": [
        "loss2, accuracy2 = ResNet50_model_with_augmentation.evaluate(X_valid, y_valid)"
      ]
    },
    {
      "cell_type": "code",
      "execution_count": null,
      "metadata": {
        "id": "E7aeM-B5Qp7A"
      },
      "outputs": [],
      "source": [
        "display_accuracy(history2)"
      ]
    },
    {
      "cell_type": "code",
      "execution_count": null,
      "metadata": {
        "id": "m7E05_VOQvBU"
      },
      "outputs": [],
      "source": [
        "display_loss(history2)"
      ]
    },
    {
      "cell_type": "markdown",
      "metadata": {
        "id": "3gaqHUWVxROM"
      },
      "source": [
        "batch = 7\n",
        "\n",
        "3/3 [==============================] - 12s 3s/step - loss: 176.3050 - accuracy: 0.1972\n",
        "\n",
        "batch = 2\n",
        "\n",
        "3/3 [==============================] - 13s 4s/step - loss: 1.2324 - accuracy: 0.3380\n",
        "\n",
        "batch = 32\n",
        "\n",
        "1/1 [==============================] - 1s 1s/step - loss: 0.9512 - accuracy: 0.6000\n"
      ]
    },
    {
      "cell_type": "markdown",
      "metadata": {
        "id": "2QNcAarKOrKa"
      },
      "source": [
        "### **1_2_6: VGG16 model without Data Augmentation**"
      ]
    },
    {
      "cell_type": "markdown",
      "metadata": {
        "id": "w31Y8m6SIPTp"
      },
      "source": [
        "#### **1_2_6_0: Import VGG16 class**"
      ]
    },
    {
      "cell_type": "code",
      "execution_count": null,
      "metadata": {
        "id": "TnGVEz-ty49H"
      },
      "outputs": [],
      "source": [
        "from tensorflow.keras.applications.vgg16 import VGG16"
      ]
    },
    {
      "cell_type": "markdown",
      "metadata": {
        "id": "SMOPvDifO3kJ"
      },
      "source": [
        "#### **1_2_6_1: Split the data**"
      ]
    },
    {
      "cell_type": "code",
      "execution_count": null,
      "metadata": {
        "id": "FcWMNH28O6G6"
      },
      "outputs": [],
      "source": [
        "X_train, X_valid, y_train, y_valid = train_test_split(images, Y, test_size=0.20, random_state=42)\n",
        "\n",
        "print(X_train.shape)\n",
        "print(y_train.shape)\n",
        "print(X_valid.shape)\n",
        "print(y_valid.shape)"
      ]
    },
    {
      "cell_type": "markdown",
      "metadata": {
        "id": "hdIFOqoSy515"
      },
      "source": [
        "#### **1_2_6_2: Instantiate VGG16 model**"
      ]
    },
    {
      "cell_type": "code",
      "execution_count": null,
      "metadata": {
        "id": "NqDZfKG5y-vt"
      },
      "outputs": [],
      "source": [
        "VGG16_base = VGG16(weights='imagenet', include_top=False, input_shape=(224, 224, 3))"
      ]
    },
    {
      "cell_type": "markdown",
      "metadata": {
        "id": "PgE7NX8szJMu"
      },
      "source": [
        "#### **1_2_6_3: Specify that VGG16 layers are not trainable**"
      ]
    },
    {
      "cell_type": "code",
      "execution_count": null,
      "metadata": {
        "id": "lqY10kcazDvM"
      },
      "outputs": [],
      "source": [
        "VGG16_base.trainable = False"
      ]
    },
    {
      "cell_type": "markdown",
      "metadata": {
        "id": "Mz1Bi3QEz3MH"
      },
      "source": [
        "#### **1_2_6_4: Add some layers to our base VGG16 model to make it trainable on its new layers**"
      ]
    },
    {
      "cell_type": "code",
      "execution_count": null,
      "metadata": {
        "id": "GhOXPAjozlwB"
      },
      "outputs": [],
      "source": [
        "VGG16_model = Sequential([\n",
        "    VGG16_base,\n",
        "    Flatten(),\n",
        "    Dense(1024, activation='relu', kernel_initializer = 'he_normal'),\n",
        "    BatchNormalization(),\n",
        "    Dropout(0.5),\n",
        "    Dense(1024, activation='relu', kernel_initializer = 'he_normal'),\n",
        "    BatchNormalization(),\n",
        "    Dropout(0.5),\n",
        "    Dense(1024, activation='relu', kernel_initializer = 'he_normal'),\n",
        "    BatchNormalization(),\n",
        "    Dropout(0.5),\n",
        "    Dense(3, activation='softmax')\n",
        "])"
      ]
    },
    {
      "cell_type": "markdown",
      "metadata": {
        "id": "F5lxyuyB0Rvj"
      },
      "source": [
        "#### **1_2_6_5: Compile the VGG16-based model**"
      ]
    },
    {
      "cell_type": "code",
      "execution_count": null,
      "metadata": {
        "id": "LJgUaqX30ExG"
      },
      "outputs": [],
      "source": [
        "VGG16_model.compile(optimizer=Adam(learning_rate = 1e-5), loss='categorical_crossentropy', metrics=['accuracy'])"
      ]
    },
    {
      "cell_type": "markdown",
      "metadata": {
        "id": "lqqfIH2kPbuV"
      },
      "source": [
        "#### **1_2_6_6: Train the model**"
      ]
    },
    {
      "cell_type": "code",
      "execution_count": null,
      "metadata": {
        "id": "-ESZX8Fr0Rdp"
      },
      "outputs": [],
      "source": [
        "history3=VGG16_model.fit(X_train, y_train, batch_size=7, epochs=100, verbose=1, validation_data=(X_valid, y_valid))"
      ]
    },
    {
      "cell_type": "markdown",
      "metadata": {
        "id": "69r5zroJ0qBL"
      },
      "source": [
        "#### **1_2_6_7: Evalute our model**"
      ]
    },
    {
      "cell_type": "code",
      "execution_count": null,
      "metadata": {
        "id": "KbhBE_JR0kU8"
      },
      "outputs": [],
      "source": [
        "loss3, accuracy3 = VGG16_model.evaluate(X_valid, y_valid)"
      ]
    },
    {
      "cell_type": "code",
      "execution_count": null,
      "metadata": {
        "id": "Ygipi32m4Gp0"
      },
      "outputs": [],
      "source": [
        "display_accuracy(history3)"
      ]
    },
    {
      "cell_type": "code",
      "execution_count": null,
      "metadata": {
        "id": "hAerGKtO4LcA"
      },
      "outputs": [],
      "source": [
        "display_loss(history3)"
      ]
    },
    {
      "cell_type": "markdown",
      "metadata": {
        "id": "OKBTziG8XjX3"
      },
      "source": [
        "lr = 1e-4\n",
        "\n",
        "1/1 [==============================] - 17s 17s/step - loss: 1.5457 - accuracy: 0.5862\n",
        "\n",
        "lr = 1e-5, batch = 7, 6 layers\n",
        "\n",
        "1/1 [==============================] - 6s 6s/step - loss: 1.1522 - accuracy: 0.5172"
      ]
    },
    {
      "cell_type": "markdown",
      "metadata": {
        "id": "6-B64_A0pZh4"
      },
      "source": [
        "### **1_2_7: VGG16 model With Data Augmentation**"
      ]
    },
    {
      "cell_type": "markdown",
      "metadata": {
        "id": "zwX11SRzQP3I"
      },
      "source": [
        "#### **1_2_7_1: Split the data**"
      ]
    },
    {
      "cell_type": "code",
      "execution_count": null,
      "metadata": {
        "id": "z34jYxeVQTbk"
      },
      "outputs": [],
      "source": [
        "X_train, X_valid, y_train, y_valid = train_test_split(images, Y, test_size=0.20, random_state=42)\n",
        "\n",
        "print(X_train.shape)\n",
        "print(y_train.shape)\n",
        "print(X_valid.shape)\n",
        "print(y_valid.shape)"
      ]
    },
    {
      "cell_type": "markdown",
      "metadata": {
        "id": "4gYPEV5HG610"
      },
      "source": [
        "#### **1_2_7_2: Instantiate VGG16 model**"
      ]
    },
    {
      "cell_type": "code",
      "execution_count": null,
      "metadata": {
        "id": "S3ZN0lSfG611"
      },
      "outputs": [],
      "source": [
        "VGG16_base = VGG16(weights='imagenet', include_top=False, input_shape=(224, 224, 3))"
      ]
    },
    {
      "cell_type": "markdown",
      "metadata": {
        "id": "yg8FT1ybG611"
      },
      "source": [
        "#### **1_2_7_3: Specify that VGG16 layers are not trainable**"
      ]
    },
    {
      "cell_type": "code",
      "execution_count": null,
      "metadata": {
        "id": "c3mmWLEBG611"
      },
      "outputs": [],
      "source": [
        "VGG16_base.trainable = False"
      ]
    },
    {
      "cell_type": "markdown",
      "metadata": {
        "id": "571pvCEgG611"
      },
      "source": [
        "#### **1_2_7_4: Add some layers to our base VGG16 model to make it trainable on its new layers**"
      ]
    },
    {
      "cell_type": "code",
      "execution_count": null,
      "metadata": {
        "id": "z-nIB4TPG611"
      },
      "outputs": [],
      "source": [
        "VGG16_model_with_augmentation = Sequential([\n",
        "    VGG16_base,\n",
        "    Flatten(),\n",
        "    Dense(1024, activation='relu', kernel_initializer = 'he_normal'),\n",
        "    BatchNormalization(),\n",
        "    Dropout(0.5),\n",
        "    Dense(1024, activation='relu', kernel_initializer = 'he_normal'),\n",
        "    BatchNormalization(),\n",
        "    Dropout(0.5),\n",
        "    Dense(1024, activation='relu', kernel_initializer = 'he_normal'),\n",
        "    BatchNormalization(),\n",
        "    Dropout(0.5),\n",
        "    Dense(3, activation='softmax')\n",
        "])"
      ]
    },
    {
      "cell_type": "markdown",
      "metadata": {
        "id": "4ECvO3XWQZrb"
      },
      "source": [
        "#### **1_2_7_5: Instantiate from the ImageDataGenerator class**"
      ]
    },
    {
      "cell_type": "code",
      "execution_count": null,
      "metadata": {
        "id": "NNZpgn7Bpmfq"
      },
      "outputs": [],
      "source": [
        "data_generator = ImageDataGenerator(rescale = 1.0/255,\n",
        "                                    shear_range=0.2,\n",
        "                                    zoom_range=0.2,\n",
        "                                    rotation_range=20,\n",
        "                                    width_shift_range= 0.1,\n",
        "                                    height_shift_range = 0.1,\n",
        "                                    horizontal_flip = True,\n",
        "                                    # vertical_flip = True,\n",
        "                                    brightness_range=[-0.2, 0.2]\n",
        "                                    )"
      ]
    },
    {
      "cell_type": "markdown",
      "metadata": {
        "id": "F-RvR8loQjdo"
      },
      "source": [
        "#### **1_2_7_6: Specify how data will be generated**"
      ]
    },
    {
      "cell_type": "code",
      "execution_count": null,
      "metadata": {
        "id": "5OoRnKarpmf5"
      },
      "outputs": [],
      "source": [
        "train_generator = data_generator.flow(X_train, y_train, batch_size = 1)"
      ]
    },
    {
      "cell_type": "markdown",
      "metadata": {
        "id": "MetZJBB5QvNs"
      },
      "source": [
        "#### **1_2_7_7: Specify the number of batches in each iteration**"
      ]
    },
    {
      "cell_type": "code",
      "execution_count": null,
      "metadata": {
        "id": "nzfNIGG5pmf5"
      },
      "outputs": [],
      "source": [
        "steps_per_epoch = X_train.shape[0] / 1"
      ]
    },
    {
      "cell_type": "markdown",
      "metadata": {
        "id": "IP73zxQ-Q5Gy"
      },
      "source": [
        "#### **1_2_7_8: Compile the model**"
      ]
    },
    {
      "cell_type": "code",
      "execution_count": null,
      "metadata": {
        "id": "iFnE7_abpmf5"
      },
      "outputs": [],
      "source": [
        "VGG16_model_with_augmentation.compile(optimizer=Adam(learning_rate = 1e-5), loss='categorical_crossentropy', metrics=['accuracy'])"
      ]
    },
    {
      "cell_type": "markdown",
      "metadata": {
        "id": "C6HQXSA5Q9Eh"
      },
      "source": [
        "#### **1_2_7_9: Train the model**"
      ]
    },
    {
      "cell_type": "code",
      "execution_count": null,
      "metadata": {
        "id": "A36iu0Pppmf5"
      },
      "outputs": [],
      "source": [
        "history4 = VGG16_model_with_augmentation.fit_generator(train_generator, steps_per_epoch = steps_per_epoch, epochs = 100,verbose=1, validation_data=(X_valid, y_valid))"
      ]
    },
    {
      "cell_type": "markdown",
      "metadata": {
        "id": "4oPFCPspTidA"
      },
      "source": [
        "#### **1_2_7_10: Evaluate the model**"
      ]
    },
    {
      "cell_type": "code",
      "execution_count": null,
      "metadata": {
        "id": "MPcoTmo2pmf5"
      },
      "outputs": [],
      "source": [
        "loss4, accuracy4 = VGG16_model_with_augmentation.evaluate(X_valid, y_valid)"
      ]
    },
    {
      "cell_type": "code",
      "execution_count": null,
      "metadata": {
        "id": "MIunLohSpmf5"
      },
      "outputs": [],
      "source": [
        "display_accuracy(history4)"
      ]
    },
    {
      "cell_type": "code",
      "execution_count": null,
      "metadata": {
        "id": "FDzCgtcipmf6"
      },
      "outputs": [],
      "source": [
        "display_loss(history4)"
      ]
    },
    {
      "cell_type": "markdown",
      "metadata": {
        "id": "Z8kwTrxFlVk0"
      },
      "source": [
        "overfit, lr = 1e-3, batch = 32, epoch = 100, split = 60, 30, 10\n",
        "\n",
        "1/1 [==============================] - 4s 4s/step - loss: 4.3037 - accuracy: 0.4000"
      ]
    },
    {
      "cell_type": "markdown",
      "metadata": {
        "id": "rRC89YHXHSN4"
      },
      "source": [
        "### **1_2_8: Last Comparison**"
      ]
    },
    {
      "cell_type": "code",
      "execution_count": null,
      "metadata": {
        "id": "E6FM0EHeHW9S"
      },
      "outputs": [],
      "source": [
        "losses = [loss1, loss2, loss3, loss4]\n",
        "accuracies = [accuracy1, accuracy2, accuracy3, accuracy4]\n",
        "\n",
        "# Create two subplots side by side\n",
        "fig, (ax1, ax2) = plt.subplots(1, 2, figsize=(12, 5))\n",
        "\n",
        "# Plot for losses\n",
        "ax1.bar(['ResNet-without', 'ResNet-with', 'VGG-without', 'VGG-with'], losses, color='blue')\n",
        "ax1.set_title('Losses Comparison')\n",
        "ax1.set_ylabel('Loss')\n",
        "ax1.set_xlabel('model')\n",
        "\n",
        "# Plot for accuracies\n",
        "ax2.bar(['ResNet-without', 'ResNet-with', 'VGG-without', 'VGG-with'], accuracies, color='green')\n",
        "ax2.set_title('Accuracies Comparison')\n",
        "ax2.set_ylabel('Accuracy')\n",
        "ax2.set_xlabel('model')\n",
        "\n",
        "plt.tight_layout()\n",
        "plt.show()"
      ]
    },
    {
      "cell_type": "markdown",
      "metadata": {
        "id": "hn8VEjGjQHw6"
      },
      "source": [
        "## **1_3: Pros & Cons of Data Augmentation**"
      ]
    },
    {
      "cell_type": "markdown",
      "metadata": {
        "id": "rf3cdVWNQPCJ"
      },
      "source": [
        "### **1_3_1: Advantages**"
      ]
    },
    {
      "cell_type": "markdown",
      "metadata": {
        "id": "27FEaCVCQfm6"
      },
      "source": [
        "1. **Improved Generalization**:\n",
        "    - By providing the model with a more diverse set of training examples, data augmentation can help improve its ability to generalize to unseen data.\n",
        "    \n",
        "2. **Reduced Overfitting**:\n",
        "    - Data augmentation effectively increases the size of the training dataset, which can help reduce overfitting and improve the model's performance on the validation set.\n",
        "    \n",
        "3. **Robustness to Variations**:\n",
        "    - Models trained with augmented data can become more robust to variations such as rotation, scaling, and other distortions in the input data.\n",
        "    \n",
        "4. **Better Feature Learning**:\n",
        "    - The variations introduced by data augmentation can help the model learn more useful and discriminative features.\n",
        "    \n",
        "5. **Cost-Effective**:\n",
        "    - Data augmentation can be a cost-effective way to improve model performance without the need for additional labeled data.\n"
      ]
    },
    {
      "cell_type": "markdown",
      "metadata": {
        "id": "T3QHZnqXQZMN"
      },
      "source": [
        "### **1_3_2: Disadvantages**"
      ]
    },
    {
      "cell_type": "markdown",
      "metadata": {
        "id": "GPkG83IfQfI9"
      },
      "source": [
        "\n",
        "1. **Increased Training Time**:\n",
        "    - Data augmentation can increase training time as the model has to process more data, including the original and augmented images.\n",
        "    \n",
        "2. **Complexity in Pipeline**:\n",
        "    - Implementing data augmentation can introduce complexity into the data preprocessing pipeline, which may require careful tuning and testing.\n",
        "    \n",
        "3. **Potential for Distortion**:\n",
        "    - If data augmentation is applied too aggressively, it may introduce distortions that do not represent real-world variations, potentially harming model performance.\n",
        "    \n",
        "4. **Challenges in Reproducibility**:\n",
        "    - The stochastic nature of some augmentation techniques can make it difficult to reproduce results consistently across different runs.\n",
        "    \n",
        "5. **Compatibility with Specific Models**:\n",
        "    - Not all data augmentation techniques are compatible with every model architecture, so careful selection and testing are needed to ensure they benefit the model.\n",
        "\n"
      ]
    },
    {
      "cell_type": "markdown",
      "metadata": {
        "id": "CkkmAl9rKg3n"
      },
      "source": [
        "***source:***\n",
        "\n",
        "https://ubiai.tools/what-are-the-advantages-anddisadvantages-of-data-augmentation-2023-update/"
      ]
    },
    {
      "cell_type": "markdown",
      "metadata": {
        "id": "pet_SknhXGx7"
      },
      "source": [
        "# <b><font color='green'>Part $II$:</font></b>"
      ]
    },
    {
      "cell_type": "code",
      "execution_count": null,
      "metadata": {
        "id": "QOLT5TfLXIzc"
      },
      "outputs": [],
      "source": []
    },
    {
      "cell_type": "markdown",
      "metadata": {
        "id": "XMoSbfhyqq1i"
      },
      "source": [
        "# <b><font color='green'>Part $III$:</font></b>"
      ]
    },
    {
      "cell_type": "code",
      "execution_count": null,
      "metadata": {
        "id": "fcNFeVSj0g4S"
      },
      "outputs": [],
      "source": [
        "import requests\n",
        "\n",
        "url = \"http://ufldl.stanford.edu/housenumbers/train_32x32.mat\"  # Download training data\n",
        "filename = \"train_32x32.mat\"\n",
        "\n",
        "response = requests.get(url, stream=True)\n",
        "\n",
        "if response.status_code == 200:\n",
        "  with open(filename, 'wb') as f:\n",
        "    for chunk in response.iter_content(1024):\n",
        "      f.write(chunk)\n",
        "  print(f\"Downloaded {filename}\")\n",
        "else:\n",
        "  print(f\"Failed to download {filename}. Status code: {response.status_code}\")\n",
        "\n",
        "# Repeat for test data (optional)\n",
        "url = \"http://ufldl.stanford.edu/housenumbers/test_32x32.mat\"\n",
        "filename = \"test_32x32.mat\"\n",
        "\n",
        "response = requests.get(url, stream=True)\n",
        "\n",
        "if response.status_code == 200:\n",
        "  with open(filename, 'wb') as f:\n",
        "    for chunk in response.iter_content(1024):\n",
        "      f.write(chunk)\n",
        "  print(f\"Downloaded {filename}\")\n",
        "else:\n",
        "  print(f\"Failed to download {filename}. Status code: {response.status_code}\")\n"
      ]
    },
    {
      "cell_type": "code",
      "execution_count": null,
      "metadata": {
        "id": "GJhPJ7EI1KJ7"
      },
      "outputs": [],
      "source": [
        "import scipy.io as sio\n",
        "\n",
        "# Assuming your downloaded file is named \"train_32x32.mat\"\n",
        "data_train = sio.loadmat(\"train_32x32.mat\")\n",
        "data_test = sio.loadmat(\"test_32x32.mat\")\n",
        "# data_extra = sio.loadmat(\"extra_32x32.mat\")\n",
        "\n",
        "# Access data within the loaded dictionary\n",
        "images_train = data_train[\"X\"]  # Assuming images are stored under the key \"X\"\n",
        "labels_train = data_train[\"y\"]  # Assuming labels are stored under the key \"y\"\n",
        "images_test = data_test[\"X\"]\n",
        "labels_test = data_test[\"y\"]\n",
        "# images_extra = data_extra[\"X\"]\n",
        "# labels_extra = data_extra[\"y\"]\n",
        "\n",
        "print(f\"Images shape: {images_train.shape}\")\n",
        "print(f\"Labels shape: {labels_train.shape}\")\n",
        "print(f\"Images shape: {images_test.shape}\")\n",
        "print(f\"Labels shape: {labels_test.shape}\")\n",
        "# print(f\"Images shape: {images_extra.shape}\")\n",
        "# print(f\"Labels shape: {labels_extra.shape}\")"
      ]
    },
    {
      "cell_type": "code",
      "execution_count": null,
      "metadata": {
        "id": "oz5yzeO92Pjk"
      },
      "outputs": [],
      "source": [
        "import numpy as np\n",
        "\n",
        "# Assuming your loaded images are stored in the variable \"images\"\n",
        "images_train = images_train.transpose((3, 0, 1, 2))  # Transpose the axes\n",
        "images_test = images_test.transpose((3, 0, 1, 2))  # Transpose the axes\n",
        "\n",
        "print(f\"Images shape after transpose: {images_train.shape}\")\n",
        "print(f\"Images shape after transpose: {images_test.shape}\")"
      ]
    },
    {
      "cell_type": "code",
      "execution_count": null,
      "metadata": {
        "id": "0MrDk24EvtGP"
      },
      "outputs": [],
      "source": [
        "# # TensorFlow and tf.keras\n",
        "# import tensorflow as tf\n",
        "\n",
        "# # Helper libraries\n",
        "# import numpy as np\n",
        "# import matplotlib.pyplot as plt\n",
        "\n",
        "# print(tf.__version__)"
      ]
    },
    {
      "cell_type": "code",
      "execution_count": null,
      "metadata": {
        "id": "acqrwWpJvz21"
      },
      "outputs": [],
      "source": [
        "# from tensorflow.keras.datasets import fashion_mnist\n",
        "\n",
        "# (X_train, y_train), (X_test, y_test) = fashion_mnist.load_data()\n"
      ]
    },
    {
      "cell_type": "code",
      "execution_count": null,
      "metadata": {
        "id": "0xKKHb_ov1Ru"
      },
      "outputs": [],
      "source": [
        "# X_train.shape"
      ]
    },
    {
      "cell_type": "code",
      "execution_count": null,
      "metadata": {
        "id": "m02_PLbZwhMY"
      },
      "outputs": [],
      "source": [
        "# X_train = X_train.reshape((X_train.shape[0], 28, 28, 1))\n",
        "# X_test = X_test.reshape((X_test.shape[0], 28, 28, 1))"
      ]
    },
    {
      "cell_type": "code",
      "execution_count": null,
      "metadata": {
        "id": "Pcs93eJTwhkm"
      },
      "outputs": [],
      "source": [
        "# X_train.shape"
      ]
    },
    {
      "cell_type": "code",
      "execution_count": null,
      "metadata": {
        "id": "DbSUd3ikxGCb"
      },
      "outputs": [],
      "source": [
        "\n",
        "# Duplicate the existing channel three times\n",
        "# X_train = np.repeat(X_train, 3, axis=3)\n",
        "# X_test = np.repeat(X_test, 3, axis=3)"
      ]
    },
    {
      "cell_type": "code",
      "execution_count": null,
      "metadata": {
        "id": "TS1M0JYqxLte"
      },
      "outputs": [],
      "source": [
        "# X_train.shape"
      ]
    },
    {
      "cell_type": "code",
      "execution_count": null,
      "metadata": {
        "id": "bKC5HVBIx4cQ"
      },
      "outputs": [],
      "source": [
        "# import cv2"
      ]
    },
    {
      "cell_type": "code",
      "execution_count": null,
      "metadata": {
        "id": "kBugKszux6Fn"
      },
      "outputs": [],
      "source": [
        "# X_train = cv2.resize(X_train, (224,224))"
      ]
    },
    {
      "cell_type": "markdown",
      "metadata": {
        "id": "BeSgOnd9sP9d"
      },
      "source": []
    },
    {
      "cell_type": "code",
      "execution_count": null,
      "metadata": {
        "id": "DtCSgygqsTVE"
      },
      "outputs": [],
      "source": [
        "# !pip install deeplake"
      ]
    },
    {
      "cell_type": "code",
      "execution_count": null,
      "metadata": {
        "id": "NTHV8Jb3sRbL"
      },
      "outputs": [],
      "source": [
        "# import deeplake\n",
        "\n",
        "# ds_train = deeplake.load(\"hub://activeloop/gtsrb-train\")\n",
        "\n",
        "# ds_test = deeplake.load(\"hub://activeloop/gtsrb-test\")"
      ]
    },
    {
      "cell_type": "markdown",
      "metadata": {
        "id": "lLEDgHw0tec2"
      },
      "source": [
        "Train a model on the GTSRB dataset with TensorFlow in Python"
      ]
    },
    {
      "cell_type": "code",
      "execution_count": null,
      "metadata": {
        "id": "SNfY9D9Is5_0"
      },
      "outputs": [],
      "source": [
        "# dataloader_train = ds_train.tensorflow()\n",
        "\n",
        "# dataloader_test = ds_test.tensorflow()"
      ]
    },
    {
      "cell_type": "code",
      "execution_count": null,
      "metadata": {
        "id": "TgzGWRKdtlIt"
      },
      "outputs": [],
      "source": []
    },
    {
      "cell_type": "markdown",
      "metadata": {
        "id": "P6_qUamu15Gh"
      },
      "source": [
        "### Import the necessary libraries to work with models"
      ]
    },
    {
      "cell_type": "code",
      "execution_count": null,
      "metadata": {
        "id": "C8wrsNWW1_Vn"
      },
      "outputs": [],
      "source": [
        "from keras.models import Model\n",
        "\n",
        "from keras.layers import Input, Add, Dense, Activation,BatchNormalization, Flatten, Conv2D, Dropout, AveragePooling2D, MaxPooling2D, GlobalMaxPooling2D\n",
        "\n",
        "from keras import Sequential"
      ]
    },
    {
      "cell_type": "markdown",
      "metadata": {
        "id": "yj24zFHhqujO"
      },
      "source": [
        "## Different small dataset"
      ]
    },
    {
      "cell_type": "markdown",
      "metadata": {
        "id": "zNNtc96WY8Lp"
      },
      "source": [
        "When your dataset is small and very different from the original dataset used to train the pre-trained model, one of the key approaches to employ transfer learning is to use the pre-trained model as a feature extractor."
      ]
    },
    {
      "cell_type": "markdown",
      "metadata": {
        "id": "miY_nE2J2SNx"
      },
      "source": [
        "### Import VGG16 class"
      ]
    },
    {
      "cell_type": "markdown",
      "metadata": {
        "id": "fBtPWzKQsPus"
      },
      "source": [
        "### Use VGG16 as our pre-trained model"
      ]
    },
    {
      "cell_type": "code",
      "execution_count": null,
      "metadata": {
        "id": "8GAuUYnBsOsF"
      },
      "outputs": [],
      "source": [
        "# VGG16_base = VGG16(weights='imagenet', include_top=False, input_shape=(224, 224, 3))\n"
      ]
    },
    {
      "cell_type": "markdown",
      "metadata": {
        "id": "nEWckGous8lB"
      },
      "source": [
        "### About ImageNet dataset\n",
        "* Contains over 14 million high-resolution images\n",
        "* Images are categorized into more than 20,000 different classes (nouns in WordNet hierarchy)"
      ]
    },
    {
      "cell_type": "markdown",
      "metadata": {
        "id": "ZDSrBT-kscgs"
      },
      "source": [
        "### Import the small and different dataset of German Traffic Signs Dataset (GTSRB)"
      ]
    },
    {
      "cell_type": "markdown",
      "metadata": {
        "id": "caM2DFLxsrYv"
      },
      "source": [
        "This dataset contains around 50,000 images of German traffic signs across 43 different classes. It's a good choice for tasks related to traffic sign recognition in autonomous vehicles or driver assistance systems."
      ]
    },
    {
      "cell_type": "code",
      "execution_count": null,
      "metadata": {
        "id": "TLlJ510IsbwB"
      },
      "outputs": [],
      "source": [
        "# from sklearn.datasets import fetch_openml\n",
        "\n",
        "# # Fetch the GTSRB dataset using the OpenML data ID for GTSRB\n",
        "# # Data ID , which corresponds to the GTSRB dataset\n",
        "# # gtsrb = fetch_openml(data_id=41988)\n",
        "\n",
        "# # Access data (features/images) and target labels (classes)\n",
        "# X = gtsrb.data  # Features (images)\n",
        "# y = gtsrb.target  # Target labels (traffic sign classes)\n",
        "\n",
        "# # Print some data points and labels (optional)\n",
        "# print(X[:5])\n",
        "# print(y[:5])\n",
        "# # import tensorflow_datasets as tfds\n",
        "\n",
        "# # Load the EuroSAT dataset\n",
        "# X_train, y_train, info = tfds.load('eurosat', split='train', with_info=True)\n",
        "# X_validation, y_validation, info = tfds.load('eurosat', split='validation', with_info=True)\n",
        "# X_test, y_test, info = tfds.load('eurosat', split='test', with_info=True)\n",
        "\n",
        "# Display the dataset info\n",
        "# print(info)\n",
        "\n",
        "# Display a sample data point\n",
        "# for example in dataset.take(1):\n",
        "#     image, label = example['image'], example['label']\n",
        "#     print(\"Image shape:\", image.shape)\n",
        "#     print(\"Label:\", label)\n"
      ]
    },
    {
      "cell_type": "code",
      "execution_count": null,
      "metadata": {
        "id": "0yv57JO4yczv"
      },
      "outputs": [],
      "source": [
        "# import tensorflow as tf\n",
        "# from tensorflow.keras.datasets import cifar100\n",
        "# from tensorflow.keras.applications import ResNet50\n",
        "# from tensorflow.keras.models import Sequential\n",
        "# from tensorflow.keras.layers import Dense, Flatten, Dropout, BatchNormalization\n",
        "# from tensorflow.keras.utils import to_categorical\n",
        "# from sklearn.model_selection import train_test_split\n",
        "\n",
        "# # Load the CIFAR-100 dataset\n",
        "# (X_train, y_train), (X_test, y_test) = cifar100.load_data()\n",
        "\n",
        "# # Normalize the images to the range [0, 1]\n",
        "# X_train, X_test = X_train / 255.0, X_test / 255.0\n",
        "\n",
        "# # One-hot encode the labels\n",
        "# num_classes = 100\n",
        "# y_train = to_categorical(y_train, num_classes)\n",
        "# y_test = to_categorical(y_test, num_classes)\n",
        "\n",
        "# # Split training data into training and validation sets\n",
        "# X_train, X_valid, y_train, y_valid = train_test_split(X_train, y_train, test_size=0.2, random_state=42)\n",
        "\n",
        "# # Load pre-trained ResNet50 model without top layers\n",
        "# base_model = ResNet50(include_top=False, input_shape=(32, 32, 3), weights='imagenet')\n",
        "# base_model.trainble = False\n",
        "# # Add custom layers\n",
        "# model = Sequential([\n",
        "#     base_model,\n",
        "#     Flatten(),\n",
        "#     Dense(128, activation='relu'),\n",
        "#     BatchNormalization(),\n",
        "#     Dropout(0.7),\n",
        "#     Dense(256, activation='relu'),\n",
        "#     BatchNormalization(),\n",
        "#     Dropout(0.7),\n",
        "#     Dense(256, activation='relu'),\n",
        "#     BatchNormalization(),\n",
        "#     Dropout(0.7),\n",
        "#     Dense(256, activation='relu'),\n",
        "#     BatchNormalization(),\n",
        "#     Dropout(0.7),\n",
        "#     Dense(num_classes, activation='softmax')\n",
        "# ])\n",
        "\n",
        "# # Compile the model\n",
        "# model.compile(optimizer='adam', loss='categorical_crossentropy', metrics=['accuracy'])\n",
        "\n",
        "# # Train the model\n",
        "# model.fit(X_train, y_train, validation_data=(X_valid, y_valid), epochs=10, batch_size=1024)\n",
        "\n",
        "# # Evaluate the model on the test set\n",
        "# test_loss, test_accuracy = model.evaluate(X_test, y_test)\n",
        "# print(f\"Test loss: {test_loss:.4f}, Test accuracy: {test_accuracy:.4f}\")\n"
      ]
    },
    {
      "cell_type": "code",
      "execution_count": null,
      "metadata": {
        "id": "_SRVENgoraPQ"
      },
      "outputs": [],
      "source": [
        "# from tensorflow.keras.datasets import cifar100\n",
        "\n",
        "# # Load the CIFAR-100 dataset\n",
        "# (X_train, y_train), (X_test, y_test) = cifar100.load_data()\n",
        "\n",
        "# # Convert labels to categorical\n",
        "# y_train = tf.keras.utils.to_categorical(y_train, num_classes=100)\n",
        "# y_test = tf.keras.utils.to_categorical(y_test, num_classes=100)\n",
        "\n",
        "# # Split training data into training and validation sets\n",
        "# from sklearn.model_selection import train_test_split\n",
        "# X_train, X_valid, y_train, y_valid = train_test_split(X_train, y_train, test_size=0.2, random_state=42)\n",
        "\n",
        "# # Print shapes of the data and target arrays\n",
        "# print(f\"X_train shape: {X_train.shape}, y_train shape: {y_train.shape}\")\n",
        "# print(f\"X_valid shape: {X_valid.shape}, y_valid shape: {y_valid.shape}\")\n",
        "# print(f\"X_test shape: {X_test.shape}, y_test shape: {y_test.shape}\")\n"
      ]
    },
    {
      "cell_type": "code",
      "execution_count": null,
      "metadata": {
        "id": "CfVNVuSstpZN"
      },
      "outputs": [],
      "source": [
        "# import tensorflow as tf\n",
        "# # Convert labels to one-hot encoding\n",
        "# y_train = tf.keras.utils.to_categorical(y, num_classes=100)\n",
        "# y_valid = tf.keras.utils.to_categorical(y, num_classes=100)\n",
        "# y_test = tf.keras.utils.to_categorical(y, num_classes=100)"
      ]
    },
    {
      "cell_type": "code",
      "execution_count": null,
      "metadata": {
        "id": "Z_tfRJLetqth"
      },
      "outputs": [],
      "source": []
    },
    {
      "cell_type": "code",
      "execution_count": null,
      "metadata": {
        "id": "2sB2v3l92Q1T"
      },
      "outputs": [],
      "source": [
        "from tensorflow.keras.applications.vgg16 import VGG16"
      ]
    },
    {
      "cell_type": "code",
      "execution_count": null,
      "metadata": {
        "id": "MClepdcot5cM"
      },
      "outputs": [],
      "source": [
        "VGG16_base = VGG16(include_top=False, input_shape=(32, 32, 3), weights='imagenet')"
      ]
    },
    {
      "cell_type": "markdown",
      "metadata": {
        "id": "rxsUya4jzbls"
      },
      "source": [
        "### Split the data"
      ]
    },
    {
      "cell_type": "code",
      "execution_count": null,
      "metadata": {
        "id": "Rn2vxrGczdP6"
      },
      "outputs": [],
      "source": [
        "# from sklearn.model_selection import train_test_split\n",
        "\n",
        "# X_train, X_val, y_train, y_val = train_test_split(X, y, test_size=0.5, random_state=42)\n",
        "# X_val, X_test, y_val, y_test = train_test_split(X_val, y_val, test_size=0.2, random_state=42)"
      ]
    },
    {
      "cell_type": "code",
      "execution_count": null,
      "metadata": {
        "id": "1hHYQB2Nz5Mf"
      },
      "outputs": [],
      "source": [
        "# print(X_train.shape)\n",
        "# print(X_val.shape)\n",
        "# print(X_test.shape)\n",
        "# print(y_train.shape)\n",
        "# print(y_val.shape)\n",
        "# print(y_test.shape)"
      ]
    },
    {
      "cell_type": "markdown",
      "metadata": {
        "id": "UzS5pZQVtj6e"
      },
      "source": [
        "### Freeze Base Layers"
      ]
    },
    {
      "cell_type": "markdown",
      "metadata": {
        "id": "-cIjOTRqtNBF"
      },
      "source": [
        "* Freeze the initial layers (often convolutional layers) of the pre-trained model. These layers extract low-level features like edges and textures, which are generally transferable across different tasks. Freezing prevents these layers from being re-trained on your small dataset, potentially leading to overfitting."
      ]
    },
    {
      "cell_type": "code",
      "execution_count": null,
      "metadata": {
        "id": "iN9moycdtMi5"
      },
      "outputs": [],
      "source": [
        "# Freeze the first 15 layers of VGG16 base model\n",
        "# for layer in VGG16_base.layers[:10]:\n",
        "#   layer.trainable = False\n",
        "\n",
        "# VGG16_base.trainable = False"
      ]
    },
    {
      "cell_type": "code",
      "execution_count": null,
      "metadata": {
        "id": "GxHEvZRBu_jx"
      },
      "outputs": [],
      "source": [
        "print(len(VGG16_base.layers))"
      ]
    },
    {
      "cell_type": "markdown",
      "metadata": {
        "id": "X_bRHBZ9tlWm"
      },
      "source": [
        "### Train the Top Layers"
      ]
    },
    {
      "cell_type": "markdown",
      "metadata": {
        "id": "YUGp1LYitsDB"
      },
      "source": [
        "* Add new layers on top of the frozen pre-trained model. These new layers will be specific to your classification task and learn from your small dataset."
      ]
    },
    {
      "cell_type": "code",
      "execution_count": null,
      "metadata": {
        "id": "2R6_HSNltoKk"
      },
      "outputs": [],
      "source": [
        "x = VGG16_base.output\n",
        "x = Flatten()(x)\n",
        "\n",
        "# Add Batch Normalization after flattening\n",
        "x = BatchNormalization()(x)\n",
        "\n",
        "# Add Dense layer with ReLU activation and Dropout\n",
        "x = Dense(1024, activation='relu')(x)\n",
        "x = Dropout(0.5)(x)  # Adjust dropout rate as needed\n",
        "\n",
        "# Add another Dense layer with ReLU activation and Dropout\n",
        "x = Dense(512, activation='relu')(x)\n",
        "x = Dropout(0.5)(x)  # Adjust dropout rate as needed\n",
        "\n",
        "num_classes = images_train.shape[1]\n",
        "predictions = Dense(units = num_classes, activation='softmax')(x)\n",
        "\n",
        "VGG16_model1 = Model(inputs=VGG16_base.input, outputs=predictions)"
      ]
    },
    {
      "cell_type": "code",
      "execution_count": null,
      "metadata": {
        "id": "bgYmCqE4veLK"
      },
      "outputs": [],
      "source": [
        "print(len(VGG16_model1.layers))"
      ]
    },
    {
      "cell_type": "markdown",
      "metadata": {
        "id": "Es8U_9B7x5lG"
      },
      "source": [
        "### Compile our model"
      ]
    },
    {
      "cell_type": "markdown",
      "metadata": {
        "id": "eGRoG3rx5ShK"
      },
      "source": [
        "Compile the entire model (frozen layers + new layers) with a very low learning rate."
      ]
    },
    {
      "cell_type": "code",
      "execution_count": null,
      "metadata": {
        "id": "5pnVVPV1x771"
      },
      "outputs": [],
      "source": [
        "from tensorflow.keras.optimizers import Adam\n",
        "\n",
        "VGG16_model1.compile(optimizer=Adam(learning_rate=1e-4), loss='sparse_categorical_crossentropy', metrics=['accuracy'])"
      ]
    },
    {
      "cell_type": "markdown",
      "metadata": {
        "id": "jrA_UKfLvr0T"
      },
      "source": [
        "### Data Augmentation\n",
        "\n",
        "* Artificially increases the size and diversity of your training data, potentially reducing overfitting."
      ]
    },
    {
      "cell_type": "markdown",
      "metadata": {
        "id": "hk1vp6oi6SCA"
      },
      "source": [
        "### Import necessary class to do data augmentation"
      ]
    },
    {
      "cell_type": "code",
      "execution_count": null,
      "metadata": {
        "id": "ETNqJ9036SCB"
      },
      "outputs": [],
      "source": [
        "# from tensorflow.keras.preprocessing.image import ImageDataGenerator"
      ]
    },
    {
      "cell_type": "code",
      "execution_count": null,
      "metadata": {
        "id": "CkA7yRD_xZcA"
      },
      "outputs": [],
      "source": [
        "# data_generator = ImageDataGenerator(rescale = 1.0/255,\n",
        "#                                     shear_range=0.2,\n",
        "#                                     zoom_range=0.2,\n",
        "#                                     rotation_range=20,\n",
        "#                                     width_shift_range= 0.1,\n",
        "#                                     height_shift_range = 0.1,\n",
        "#                                     horizontal_flip = True,\n",
        "#                                     vertical_flip = True,\n",
        "#                                     brightness_range=[-0.2, 0.2],\n",
        "#                                     # contrast_range=[0.8, 1.2],\n",
        "#                                     # saturation_range=[0.8, 1.2],\n",
        "#                                     # hue_range=[-0.1, 0.1]\n",
        "#                                     )"
      ]
    },
    {
      "cell_type": "code",
      "execution_count": null,
      "metadata": {
        "id": "0_b6EYApxZcA"
      },
      "outputs": [],
      "source": [
        "# train_generator = data_generator.flow(X_train, y_train, batch_size = 32)"
      ]
    },
    {
      "cell_type": "code",
      "execution_count": null,
      "metadata": {
        "id": "_HbsCmOpxZcB"
      },
      "outputs": [],
      "source": [
        "# steps_per_epoch = X_train.shape[0]"
      ]
    },
    {
      "cell_type": "markdown",
      "metadata": {
        "id": "b4hOZxGv3wZt"
      },
      "source": [
        "### Train the model on your GTSRB data"
      ]
    },
    {
      "cell_type": "code",
      "execution_count": null,
      "metadata": {
        "id": "msSNvOWM3Yxr"
      },
      "outputs": [],
      "source": [
        "history1 = VGG16_model1.fit(images_train, labels_train, batch_size = 128, epochs = 10, verbose=1, validation_data=(images_test, labels_test))"
      ]
    },
    {
      "cell_type": "code",
      "execution_count": null,
      "metadata": {
        "id": "NJ-qRkdw6RRH"
      },
      "outputs": [],
      "source": [
        "import matplotlib.pyplot as plt"
      ]
    },
    {
      "cell_type": "code",
      "execution_count": null,
      "metadata": {
        "id": "iWyxqjkh6RbK"
      },
      "outputs": [],
      "source": [
        "def display_accuracy(history):\n",
        "  plt.plot(history.history['accuracy'])\n",
        "  plt.plot(history.history['val_accuracy'])\n",
        "  plt.title('model accuracy')\n",
        "  plt.ylabel('accuracy')\n",
        "  plt.xlabel('epoch')\n",
        "  plt.legend(['Train accuracy', 'Validation accuracy','Train loss'], loc='upper right')\n",
        "  # plt.ylim(ymax=2, ymin=0)\n",
        "  plt.show()"
      ]
    },
    {
      "cell_type": "code",
      "execution_count": null,
      "metadata": {
        "id": "E4eChz5M6RbL"
      },
      "outputs": [],
      "source": [
        "def display_loss(history):\n",
        "  plt.plot(history.history['loss'])\n",
        "  plt.plot(history.history['val_loss'])\n",
        "  plt.title('model loss')\n",
        "  plt.ylabel('loss')\n",
        "  plt.xlabel('epoch')\n",
        "  plt.legend(['Train loss', 'Validation loss'], loc='upper left')\n",
        "  # plt.ylim(ymax=3, ymin=0)\n",
        "  plt.show()\n"
      ]
    },
    {
      "cell_type": "markdown",
      "metadata": {
        "id": "d4aDECnN5d03"
      },
      "source": [
        "### Evaluate and show the results"
      ]
    },
    {
      "cell_type": "code",
      "execution_count": null,
      "metadata": {
        "id": "N-oIUB3U4tCv"
      },
      "outputs": [],
      "source": [
        "loss1, accuracy1 = VGG16_model1.evaluate(images_test, labels_test)"
      ]
    },
    {
      "cell_type": "code",
      "execution_count": null,
      "metadata": {
        "id": "FFN2Cm5P5a2X"
      },
      "outputs": [],
      "source": [
        "display_accuracy(history1)"
      ]
    },
    {
      "cell_type": "code",
      "execution_count": null,
      "metadata": {
        "id": "pMILMinL5a2k"
      },
      "outputs": [],
      "source": [
        "display_loss(history1)"
      ]
    },
    {
      "cell_type": "markdown",
      "metadata": {
        "id": "E044qYBP5bmB"
      },
      "source": [
        "### results"
      ]
    },
    {
      "cell_type": "markdown",
      "metadata": {
        "id": "O7Vzlb025dig"
      },
      "source": [
        "train-test, batch_size = 32, epochs = 10, verbose=1, learning_rate=1e-5, trainable = false\n",
        "\n",
        "814/814 [==============================] - 7s 9ms/step - loss: 1.5038 - accuracy: 0.5029\n",
        "\n",
        "\n",
        "---\n",
        "\n",
        "\n",
        "train-test, batch_size = 128, epochs = 10, verbose=1, learning_rate=1e-4, 10 layers frozen\n",
        "\n",
        "\n",
        "814/814 [==============================] - 7s 8ms/step - loss: 0.3224 - accuracy: 0.9264\n",
        "\n",
        "\n",
        "\n",
        "---\n",
        "\n",
        "\n",
        "train-test, batch_size = 128, epochs = 10, verbose=1, learning_rate=1e-4, trainable = true\n",
        "\n",
        "\n",
        "\n",
        "814/814 [==============================] - 9s 10ms/step - loss: 0.1978 - accuracy: 0.9524"
      ]
    },
    {
      "cell_type": "markdown",
      "metadata": {
        "id": "SxuCs22M-FdR"
      },
      "source": [
        "## Simillar small dataset"
      ]
    },
    {
      "cell_type": "code",
      "execution_count": null,
      "metadata": {
        "id": "sTYl6lck-FDz"
      },
      "outputs": [],
      "source": [
        "VGG16_base = VGG16(weights='imagenet', include_top=False, input_shape=(32, 32, 3))"
      ]
    },
    {
      "cell_type": "markdown",
      "metadata": {
        "id": "Hefe8EvoBiOj"
      },
      "source": [
        "Since Tiny ImageNet shares more similarities with ImageNet, we can fine-tune a larger portion of the VGG16 base model (e.g., freeze only the first 10 layers)."
      ]
    },
    {
      "cell_type": "code",
      "execution_count": null,
      "metadata": {
        "id": "iOM2llHyBP4K"
      },
      "outputs": [],
      "source": [
        "# Freeze the first 10 layers of VGG16 base model\n",
        "for layer in VGG16_base.layers[3:10]:\n",
        "  layer.trainable = False"
      ]
    },
    {
      "cell_type": "markdown",
      "metadata": {
        "id": "fSsUy2adBkpI"
      },
      "source": [
        "### import 'cifar10' dataset which is similar to imagenet"
      ]
    },
    {
      "cell_type": "code",
      "execution_count": null,
      "metadata": {
        "id": "P8XY6w3bBj35"
      },
      "outputs": [],
      "source": [
        "from tensorflow.keras.datasets import cifar10\n",
        "\n",
        "(X_train, y_train), (X_val, y_val) = cifar10.load_data()\n"
      ]
    },
    {
      "cell_type": "code",
      "execution_count": null,
      "metadata": {
        "id": "Aks3mcd4ELge"
      },
      "outputs": [],
      "source": [
        "from sklearn.model_selection import train_test_split\n",
        "\n",
        "X_train, X_test, y_train, y_test = train_test_split(X_train, y_train, test_size=0.1, random_state=42)"
      ]
    },
    {
      "cell_type": "code",
      "execution_count": null,
      "metadata": {
        "id": "z0bPsFAbECcC",
        "colab": {
          "base_uri": "https://localhost:8080/"
        },
        "outputId": "2c04d6e5-2346-4322-98ea-42e357565f3f"
      },
      "outputs": [
        {
          "output_type": "stream",
          "name": "stdout",
          "text": [
            "(45000, 32, 32, 3)\n",
            "(10000, 32, 32, 3)\n",
            "(5000, 32, 32, 3)\n",
            "(45000, 1)\n",
            "(10000, 1)\n",
            "(5000, 1)\n"
          ]
        }
      ],
      "source": [
        "print(X_train.shape)\n",
        "print(X_val.shape)\n",
        "print(X_test.shape)\n",
        "print(y_train.shape)\n",
        "print(y_val.shape)\n",
        "print(y_test.shape)"
      ]
    },
    {
      "cell_type": "code",
      "execution_count": null,
      "metadata": {
        "id": "3qFTMOy2Em_B"
      },
      "outputs": [],
      "source": [
        "x = VGG16_base.output\n",
        "x = Flatten()(x)\n",
        "\n",
        "# Add Batch Normalization after flattening\n",
        "x = BatchNormalization()(x)\n",
        "\n",
        "# Add Dense layer with ReLU activation and Dropout\n",
        "x = Dense(1024, activation='relu')(x)\n",
        "x = Dropout(0.5)(x)  # Adjust dropout rate as needed\n",
        "\n",
        "# Add another Dense layer with ReLU activation and Dropout\n",
        "x = Dense(512, activation='relu')(x)\n",
        "x = Dropout(0.5)(x)  # Adjust dropout rate as needed\n",
        "\n",
        "num_classes = X_train.shape[1]\n",
        "predictions = Dense(units = num_classes, activation='softmax')(x)\n",
        "\n",
        "VGG16_model2 = Model(inputs=VGG16_base.input, outputs=predictions)"
      ]
    },
    {
      "cell_type": "code",
      "execution_count": null,
      "metadata": {
        "id": "UAsQCukMFGUK"
      },
      "outputs": [],
      "source": [
        "from tensorflow.keras.optimizers import Adam\n",
        "\n",
        "VGG16_model2.compile(optimizer=Adam(learning_rate=1e-3), loss='sparse_categorical_crossentropy', metrics=['accuracy'])"
      ]
    },
    {
      "cell_type": "markdown",
      "metadata": {
        "id": "CfWkNohaF6az"
      },
      "source": [
        "While data augmentation remains an option, it might be less crucial for Tiny ImageNet because it's already more similar to the pre-trained data (ImageNet)."
      ]
    },
    {
      "cell_type": "code",
      "execution_count": null,
      "metadata": {
        "id": "EAEibIT8FGUU",
        "colab": {
          "base_uri": "https://localhost:8080/"
        },
        "outputId": "5eb58d46-891a-4ea3-a742-3dc84bce40d4"
      },
      "outputs": [
        {
          "output_type": "stream",
          "name": "stdout",
          "text": [
            "Epoch 1/10\n",
            "1407/1407 [==============================] - 46s 29ms/step - loss: 1.6484 - accuracy: 0.3523 - val_loss: 1.4814 - val_accuracy: 0.4900\n",
            "Epoch 2/10\n",
            "1407/1407 [==============================] - 41s 29ms/step - loss: 1.1052 - accuracy: 0.6092 - val_loss: 18.5553 - val_accuracy: 0.5979\n",
            "Epoch 3/10\n",
            "1407/1407 [==============================] - 41s 29ms/step - loss: 0.8731 - accuracy: 0.7205 - val_loss: 0.8725 - val_accuracy: 0.7246\n",
            "Epoch 4/10\n",
            "1407/1407 [==============================] - 41s 29ms/step - loss: 0.7017 - accuracy: 0.7778 - val_loss: 2.6371 - val_accuracy: 0.7940\n",
            "Epoch 5/10\n",
            "1407/1407 [==============================] - 41s 29ms/step - loss: 0.6256 - accuracy: 0.8058 - val_loss: 0.6392 - val_accuracy: 0.8029\n",
            "Epoch 6/10\n",
            "1407/1407 [==============================] - 41s 29ms/step - loss: 0.5511 - accuracy: 0.8298 - val_loss: 0.6624 - val_accuracy: 0.8048\n",
            "Epoch 7/10\n",
            "1407/1407 [==============================] - 41s 29ms/step - loss: 0.4952 - accuracy: 0.8481 - val_loss: 0.5990 - val_accuracy: 0.8118\n",
            "Epoch 8/10\n",
            "1407/1407 [==============================] - 45s 32ms/step - loss: 0.4444 - accuracy: 0.8632 - val_loss: 3.5018 - val_accuracy: 0.8282\n",
            "Epoch 9/10\n",
            "1407/1407 [==============================] - 41s 29ms/step - loss: 0.3882 - accuracy: 0.8798 - val_loss: 3514.7539 - val_accuracy: 0.8049\n",
            "Epoch 10/10\n",
            "1407/1407 [==============================] - 41s 29ms/step - loss: 0.3524 - accuracy: 0.8904 - val_loss: 0.6724 - val_accuracy: 0.8050\n"
          ]
        }
      ],
      "source": [
        "history2 = VGG16_model2.fit(X_train, y_train, epochs = 10, batch_size = 32, verbose=1, validation_data=(X_val, y_val))"
      ]
    },
    {
      "cell_type": "code",
      "execution_count": null,
      "metadata": {
        "id": "hOhvQ6teGNE4",
        "colab": {
          "base_uri": "https://localhost:8080/"
        },
        "outputId": "bd4513c0-a9dd-4d5a-dfe2-bb014fec2e97"
      },
      "outputs": [
        {
          "output_type": "stream",
          "name": "stdout",
          "text": [
            "157/157 [==============================] - 1s 9ms/step - loss: 0.6178 - accuracy: 0.8088\n"
          ]
        }
      ],
      "source": [
        "loss2, accuracy2 = VGG16_model2.evaluate(X_test, y_test)"
      ]
    },
    {
      "cell_type": "code",
      "execution_count": null,
      "metadata": {
        "id": "JZa0eOVhGNE5",
        "colab": {
          "base_uri": "https://localhost:8080/",
          "height": 472
        },
        "outputId": "81c560f6-fb4a-4947-ff84-03a79c907232"
      },
      "outputs": [
        {
          "output_type": "display_data",
          "data": {
            "text/plain": [
              "<Figure size 640x480 with 1 Axes>"
            ],
            "image/png": "[encoded data removed]"
          },
          "metadata": {}
        }
      ],
      "source": [
        "display_accuracy(history2)"
      ]
    },
    {
      "cell_type": "code",
      "execution_count": null,
      "metadata": {
        "id": "wghuv1qRGNE5",
        "colab": {
          "base_uri": "https://localhost:8080/",
          "height": 472
        },
        "outputId": "10c6caab-9b3a-4730-8998-f2038ac4370f"
      },
      "outputs": [
        {
          "output_type": "display_data",
          "data": {
            "text/plain": [
              "<Figure size 640x480 with 1 Axes>"
            ],
            "image/png": "[encoded data removed]"
          },
          "metadata": {}
        }
      ],
      "source": [
        "display_loss(history2)"
      ]
    },
    {
      "cell_type": "markdown",
      "source": [
        "not overfit, train-valid, batch_size = 128, epochs = 10, verbose=1, learning_rate=1e-5, 10 layers frozen\n",
        "\n",
        "313/313 [==============================] - 3s 11ms/step - loss: 0.6386 - accuracy: 0.7928\n",
        "\n",
        "\n",
        "\n",
        "---\n",
        "\n",
        "\n",
        "not overfit, train-valid-test, batch_size = 128, epochs = 10, verbose=1, learning_rate=1e-4, all layers frozen\n",
        "\n",
        "157/157 [==============================] - 2s 13ms/step - loss: 1.1048 - accuracy: 0.6202\n",
        "\n",
        "\n",
        "---\n",
        "\n",
        "\n",
        "a little bit overfit, train-valid-test, batch_size = 128, epochs = 10, verbose=1, learning_rate=1e-4, none layers frozen\n",
        "\n",
        "157/157 [==============================] - 1s 9ms/step - loss: 0.6569 - accuracy: 0.8580\n",
        "\n",
        "\n",
        "\n",
        "---\n",
        "\n",
        "a little bit noise, train-valid-test, batch_size = 32, epochs = 10, verbose=1, learning_rate=1e-3, layers [3:9] frozen\n",
        "\n",
        "157/157 [==============================] - 1s 9ms/step - loss: 0.6178 - accuracy: 0.8088\n",
        "\n"
      ],
      "metadata": {
        "id": "gsSH-zZt1m3u"
      }
    },
    {
      "cell_type": "markdown",
      "metadata": {
        "id": "KyK-z9cqS9nQ"
      },
      "source": [
        "**the more you want to inherit features from a pre-trained model, the more you have to freeze layers**"
      ]
    },
    {
      "cell_type": "markdown",
      "metadata": {
        "id": "TXbZEZZsTjNf"
      },
      "source": [
        "**which layers we need to freeze?!**\n",
        "\n",
        "\n",
        "Now, one may ask how to determine which layers we need to freeze, and which layers need to train. The answer is simple, the more you want to inherit features from a pre-trained model, the more you have to freeze layers. For instance, if the pre-trained model detects some flower species and we need to detect some new species. In such a case, a new dataset with new species contains a lot of features similar to the pre-trained model. Thus, we freeze less number of layers so that we can use most of its knowledge in a new model. Now, consider another case, if there is a pre-trained model which detects humans in images, and we want to use that knowledge to detect cars, in such a case where the dataset is entirely different, it is not good to freeze lots of layers because freezing a large number of layers will not only give low level features but also give high-level features like nose, eyes, etc which are useless for new dataset (car detection). Thus, we only copy low-level features from the base network and train the entire network on a new dataset.\n",
        "\n",
        "\n",
        "https://www.geeksforgeeks.org/ml-introduction-to-transfer-learning/\n"
      ]
    },
    {
      "cell_type": "markdown",
      "metadata": {
        "id": "qSTkvT2HTzMI"
      },
      "source": [
        "**The target dataset is small and similar to the base network dataset:**\n",
        "\n",
        "* Since the target dataset is small, that means we can fine-tune the pre-trained network with the target dataset. But this may lead to a problem of overfitting. Also, there may be some changes in the number of classes in the target task. So, in such a case we remove the fully connected layers from the end, maybe one or two, and add a new fully connected layer satisfying the number of new classes. Now, we freeze the rest of the model and only train newly added layers.\n",
        "\n",
        "**The target dataset is small and different from the base network dataset:**\n",
        "\n",
        "* Since the target dataset is different, using high-level features of the pre-trained model will not be useful. In such a case, remove most of the layers from the end in a pre-trained model, and add new layers a satisfying number of classes in a new dataset. This way we can use low-level features from the pre-trained model and train the rest of the layers to fit a new dataset. Sometimes, it is beneficial to train the entire network after adding a new layer at the end.\n",
        "\n",
        "https://liacs.leidenuniv.nl/~plaata1/papers/ida2016_camera_ready.pdf\n",
        "\n",
        "https://emerginginvestigators.org/articles/20-130/pdf\n"
      ]
    }
  ],
  "metadata": {
    "colab": {
      "provenance": [],
      "include_colab_link": true
    },
    "kernelspec": {
      "display_name": "Python 3",
      "name": "python3"
    },
    "language_info": {
      "name": "python"
    }
  },
  "nbformat": 4,
  "nbformat_minor": 0
}